{
  "cells": [
    {
      "cell_type": "markdown",
      "metadata": {
        "id": "-RNcCEhtbUGr"
      },
      "source": [
        "# Capstone Project: Create a Customer Segmentation Report for Arvato Financial Services\n",
        "\n",
        "In this project, you will analyze demographics data for customers of a mail-order sales company in Germany, comparing it against demographics information for the general population. You'll use unsupervised learning techniques to perform customer segmentation, identifying the parts of the population that best describe the core customer base of the company. Then, you'll apply what you've learned on a third dataset with demographics information for targets of a marketing campaign for the company, and use a model to predict which individuals are most likely to convert into becoming customers for the company. The data that you will use has been provided by our partners at Bertelsmann Arvato Analytics, and represents a real-life data science task.\n",
        "\n",
        "If you completed the first term of this program, you will be familiar with the first part of this project, from the unsupervised learning project. The versions of those two datasets used in this project will include many more features and has not been pre-cleaned. You are also free to choose whatever approach you'd like to analyzing the data rather than follow pre-determined steps. In your work on this project, make sure that you carefully document your steps and decisions, since your main deliverable for this project will be a blog post reporting your findings."
      ]
    },
    {
      "cell_type": "code",
      "execution_count": 5,
      "metadata": {
        "colab": {
          "base_uri": "https://localhost:8080/"
        },
        "id": "x6GKbUm7gDpR",
        "outputId": "7d3a9d3f-ca5d-4d60-e0e7-cd4a0b79f2a6"
      },
      "outputs": [
        {
          "name": "stdout",
          "output_type": "stream",
          "text": [
            "Drive already mounted at /content/drive; to attempt to forcibly remount, call drive.mount(\"/content/drive\", force_remount=True).\n"
          ]
        }
      ],
      "source": [
        "# When using Google Colab we want to mount the data drive\n",
        "try:\n",
        "    from google.colab import drive\n",
        "    drive.mount('/content/drive')\n",
        "    IN_COLAB = True\n",
        "except:\n",
        "    IN_COLAB = False\n"
      ]
    },
    {
      "cell_type": "code",
      "execution_count": 6,
      "metadata": {
        "colab": {
          "base_uri": "https://localhost:8080/"
        },
        "id": "w_QtG1D6ylTA",
        "outputId": "ffea73c8-6992-485f-ffae-1ebf12a1e4dc"
      },
      "outputs": [
        {
          "name": "stdout",
          "output_type": "stream",
          "text": [
            "'/content/drive/MyDrive/workspace/arvato_data/.kaggle/kaggle.json' -> '/root/.kaggle/kaggle.json'\n"
          ]
        }
      ],
      "source": [
        "# When using Google Colab we want copy the Kaggle API key and check kaggle version\n",
        "if IN_COLAB:\n",
        "    !cp -Rv /content/drive/MyDrive/workspace/arvato_data/.kaggle ~/ && chmod 600 ~/.kaggle/kaggle.json"
      ]
    },
    {
      "cell_type": "code",
      "execution_count": 7,
      "metadata": {
        "colab": {
          "base_uri": "https://localhost:8080/"
        },
        "id": "gg6nW3Z85t7D",
        "outputId": "9f79acb0-9889-4cc4-f28e-bc7c9520270b"
      },
      "outputs": [
        {
          "data": {
            "text/plain": [
              "['1', '5', '12']"
            ]
          },
          "execution_count": 7,
          "metadata": {},
          "output_type": "execute_result"
        }
      ],
      "source": [
        "kg_version = !pip show kaggle | grep Version\n",
        "kg_version = kg_version[0].split()[1].split('.')\n",
        "kg_version"
      ]
    },
    {
      "cell_type": "code",
      "execution_count": 8,
      "metadata": {
        "colab": {
          "base_uri": "https://localhost:8080/"
        },
        "id": "NBWy9JrpbUGv",
        "outputId": "bb2c96aa-68f8-4e49-9565-8c17da73f48e"
      },
      "outputs": [
        {
          "name": "stdout",
          "output_type": "stream",
          "text": [
            "Pandas verion:  1.1.5\n"
          ]
        }
      ],
      "source": [
        "# import libraries here; add more as necessary\n",
        "import numpy as np\n",
        "import pandas as pd\n",
        "from scipy.stats import entropy\n",
        "import matplotlib.pyplot as plt\n",
        "import seaborn as sns\n",
        "from functools import reduce\n",
        "\n",
        "from sklearn.model_selection import train_test_split\n",
        "from sklearn.feature_selection import RFE\n",
        "\n",
        "# modeling \n",
        "import lightgbm as lgb\n",
        "\n",
        "# if kaggle API version greater than 1.5.0 load kaggle API:\n",
        "if int(kg_version[1]) == 5 and int(kg_version[2]) > 0:\n",
        "    from kaggle.api.kaggle_api_extended import KaggleApi\n",
        "    kg_loaded = True\n",
        "else:\n",
        "    kg_loaded = False\n",
        "    print(\"Kaggle module must be upgraded!\")\n",
        "\n",
        "# magic word for producing visualizations in notebook\n",
        "%matplotlib inline\n",
        "\n",
        "# Google Colab environment:\n",
        "if IN_COLAB:\n",
        "    # Get pandas version\n",
        "    print(\"Pandas verion: \", pd.__version__)"
      ]
    },
    {
      "cell_type": "markdown",
      "metadata": {
        "id": "VuCRP43NbUGx"
      },
      "source": [
        "## Part 0: Get to Know the Data\n",
        "\n",
        "There are four data files associated with this project:\n",
        "\n",
        "- `Udacity_AZDIAS_052018.csv`: Demographics data for the general population of Germany; 891 211 persons (rows) x 366 features (columns).\n",
        "- `Udacity_CUSTOMERS_052018.csv`: Demographics data for customers of a mail-order company; 191 652 persons (rows) x 369 features (columns).\n",
        "- `Udacity_MAILOUT_052018_TRAIN.csv`: Demographics data for individuals who were targets of a marketing campaign; 42 982 persons (rows) x 367 (columns).\n",
        "- `Udacity_MAILOUT_052018_TEST.csv`: Demographics data for individuals who were targets of a marketing campaign; 42 833 persons (rows) x 366 (columns).\n",
        "\n",
        "Each row of the demographics files represents a single person, but also includes information outside of individuals, including information about their household, building, and neighborhood. Use the information from the first two files to figure out how customers (\"CUSTOMERS\") are similar to or differ from the general population at large (\"AZDIAS\"), then use your analysis to make predictions on the other two files (\"MAILOUT\"), predicting which recipients are most likely to become a customer for the mail-order company.\n",
        "\n",
        "The \"CUSTOMERS\" file contains three extra columns ('CUSTOMER_GROUP', 'ONLINE_PURCHASE', and 'PRODUCT_GROUP'), which provide broad information about the customers depicted in the file. The original \"MAILOUT\" file included one additional column, \"RESPONSE\", which indicated whether or not each recipient became a customer of the company. For the \"TRAIN\" subset, this column has been retained, but in the \"TEST\" subset it has been removed; it is against that withheld column that your final predictions will be assessed in the Kaggle competition.\n",
        "\n",
        "Otherwise, all of the remaining columns are the same between the three data files. For more information about the columns depicted in the files, you can refer to two Excel spreadsheets provided in the workspace. [One of them](./DIAS Information Levels - Attributes 2017.xlsx) is a top-level list of attributes and descriptions, organized by informational category. [The other](./DIAS Attributes - Values 2017.xlsx) is a detailed mapping of data values for each feature in alphabetical order.\n",
        "\n",
        "In the below cell, we've provided some initial code to load in the first two datasets. Note for all of the `.csv` data files in this project that they're semicolon (`;`) delimited, so an additional argument in the [`read_csv()`](https://pandas.pydata.org/pandas-docs/stable/generated/pandas.read_csv.html) call has been included to read in the data properly. Also, considering the size of the datasets, it may take some time for them to load completely.\n",
        "\n",
        "You'll notice when the data is loaded in that a warning message will immediately pop up. Before you really start digging into the modeling and analysis, you're going to need to perform some cleaning. Take some time to browse the structure of the data and look over the informational spreadsheets to understand the data values. Make some decisions on which features to keep, which features to drop, and if any revisions need to be made on data formats. It'll be a good idea to create a function with pre-processing steps, since you'll need to clean all of the datasets before you work with them."
      ]
    },
    {
      "cell_type": "markdown",
      "metadata": {
        "id": "W3qRTNYjIR3H"
      },
      "source": [
        "## Strategy for exploring the data:\n",
        "\n",
        "* Load datasets. Initially load random samples, finally load the full datasets.\n",
        "* Load excel information files.\n",
        "* Get the attributes from excel files and compare them to the attributes apearing the datasets.\n",
        "* Get the value pools for each known attribute in the excel files and check against the values for each attribute in the datasets.\n",
        "* Replace the values outside the pools with NaNs.\n",
        "* Replace values in the pools representing unknowns, missing, not given, etc. with NaNs.\n",
        "* Explore NaNs, analysing and understanding missing values in the two datasets.\n",
        "* Identify significance of categorical, ordinal attributes."
      ]
    },
    {
      "cell_type": "markdown",
      "metadata": {
        "id": "5MKY46QFSBv4"
      },
      "source": [
        "### Load data and excel files"
      ]
    },
    {
      "cell_type": "code",
      "execution_count": 9,
      "metadata": {
        "id": "3ogvB6EVbUGy"
      },
      "outputs": [],
      "source": [
        "# Assign path names to variables for easier manipulation later on.\n",
        "\n",
        "azdias_file = \"/content/drive/MyDrive/workspace/arvato_data/Udacity_AZDIAS_052018.csv\" if IN_COLAB else \"../../data/Term2/capstone/arvato_data/Udacity_AZDIAS_052018.csv\"\n",
        "customers_file = \"/content/drive/MyDrive/workspace/arvato_data/Udacity_CUSTOMERS_052018.csv\" if IN_COLAB else \"../../data/Term2/capstone/arvato_data/Udacity_CUSTOMERS_052018.csv\"\n",
        "mailout_train_file = \"/content/drive/MyDrive/workspace/arvato_data/Udacity_MAILOUT_052018_TRAIN.csv\" if IN_COLAB else \"../../data/Term2/capstone/arvato_data/Udacity_MAILOUT_052018_TRAIN.csv\"\n",
        "mailout_test_file = \"/content/drive/MyDrive/workspace/arvato_data/Udacity_MAILOUT_052018_TEST.csv\" if IN_COLAB else \"../../data/Term2/capstone/arvato_data/Udacity_MAILOUT_052018_TEST.csv\"\n",
        "\n",
        "# Files with information about the columns depicted in the csv files\n",
        "dias_attrib = \"/content/drive/MyDrive/workspace/arvato_data/DIAS Attributes - Values 2017.xlsx\" if IN_COLAB else \"DIAS Attributes - Values 2017.xlsx\"\n",
        "dias_info = \"/content/drive/MyDrive/workspace/arvato_data/DIAS Information Levels - Attributes 2017.xlsx\" if IN_COLAB else \"DIAS Information Levels - Attributes 2017.xlsx\"\n",
        "\n",
        "# Kaggle submission file\n",
        "kg_submission = \"/content/drive/MyDrive/workspace/arvato_data/\" if IN_COLAB else \"\"\n",
        "# Kaggle competition\n",
        "kg_competition = 'udacity-arvato-identify-customers'"
      ]
    },
    {
      "cell_type": "markdown",
      "metadata": {
        "id": "Z5hxSvIhbUG0"
      },
      "source": [
        "We will create a function to load a sample of the datasets to speed things up during the data exploration phase particularly for the larger azdias dataset. This will reduce the memory used for holding the whole dataset initially, but also greatly improve the speed of calculations when exploring and cleaning the data. We will later use the whole dataset for best results.\n"
      ]
    },
    {
      "cell_type": "code",
      "execution_count": 10,
      "metadata": {
        "id": "VDBER8ePsw3o"
      },
      "outputs": [],
      "source": [
        "def get_df_sample(n_samples, seed=None, *args, **kwargs):\n",
        "    \"\"\"Load a random sample out of an input csv file or the whole file.\n",
        "\n",
        "    Args:\n",
        "        n_samples (int): Size of sample (number of rows) to randomly load from the input file.\n",
        "        args, kwargs: Pass arguments and keword arguments as in pandas `read_csv` method.\n",
        "        Ref: https://pandas.pydata.org/docs/reference/api/pandas.read_csv.html\n",
        "\n",
        "    Returns:\n",
        "        The dataframe loaded from the input file of n_samples rows\n",
        "    \n",
        "    Reference:\n",
        "        Stack Overflow - `Read a small random sample from a big CSV file into a Python data frame`:\n",
        "        https://stackoverflow.com/a/61631765/10074873\n",
        "        Pandas - `Iterating through files chunk by chunk`:\n",
        "        https://pandas.pydata.org/pandas-docs/stable/user_guide/io.html#iterating-through-files-chunk-by-chunk\n",
        "        Numpy - `Random Generator`:\n",
        "        https://numpy.org/doc/stable/reference/random/generator.html#random-generator\n",
        "    \"\"\"\n",
        "    rng = np.random.default_rng(seed=seed)\n",
        "\n",
        "    samples_reader = pd.read_csv(*args, **kwargs)\n",
        "    df = samples_reader.get_chunk(n_samples)\n",
        "\n",
        "    for chunk in samples_reader:\n",
        "        chunk.index = rng.integers(n_samples, size=len(chunk))\n",
        "        df.loc[chunk.index] = chunk\n",
        "    \n",
        "    return df\n"
      ]
    },
    {
      "cell_type": "markdown",
      "metadata": {
        "id": "8kliWVB50HXY"
      },
      "source": [
        "* Read first the attributes as strings, to get the categories and then use that to read them directly as categorical."
      ]
    },
    {
      "cell_type": "code",
      "execution_count": 11,
      "metadata": {
        "id": "PdORfEzW6w8N"
      },
      "outputs": [],
      "source": [
        "# Set the desired sample size\n",
        "sample_size = 200000\n",
        "\n",
        "# Set to `True` to go through all the cells.\n",
        "RUN_ALL = False"
      ]
    },
    {
      "cell_type": "code",
      "execution_count": 12,
      "metadata": {
        "id": "r1YX1l9S6aPb"
      },
      "outputs": [],
      "source": [
        "if RUN_ALL:\n",
        "    # Try loading a sample\n",
        "    azdias_try1 = get_df_sample(sample_size, 42, azdias_file, sep=';', chunksize=256000)\n",
        "\n",
        "    azdias_try1.head()"
      ]
    },
    {
      "cell_type": "code",
      "execution_count": 13,
      "metadata": {
        "id": "Ts54Y4ZyFKDY"
      },
      "outputs": [],
      "source": [
        "if RUN_ALL:\n",
        "    # Check the types of columns\n",
        "    azdias_try1.dtypes.value_counts()"
      ]
    },
    {
      "cell_type": "code",
      "execution_count": 14,
      "metadata": {
        "id": "dKve66KCFS5B"
      },
      "outputs": [],
      "source": [
        "if RUN_ALL:\n",
        "    # Check `object` columns\n",
        "    azdias_try1.select_dtypes(include=object).head()"
      ]
    },
    {
      "cell_type": "markdown",
      "metadata": {
        "id": "HxJkGQjy8dEw"
      },
      "source": [
        "####Check columns 18, 19 that produced warnings when reading csv data"
      ]
    },
    {
      "cell_type": "code",
      "execution_count": 15,
      "metadata": {
        "id": "0mGiZ5Gn8dE3"
      },
      "outputs": [],
      "source": [
        "if RUN_ALL:\n",
        "    # Check the two columns to identify why pandas \"complained\" about mixed types\n",
        "    azdias_try1_1819 = azdias_try1.iloc[:,[18, 19]]\n",
        "\n",
        "    azdias_try1_1819.columns"
      ]
    },
    {
      "cell_type": "markdown",
      "metadata": {
        "id": "8QUsT3by9wSj"
      },
      "source": [
        "The two attributes are `'CAMEO_DEUG_2015', 'CAMEO_INTL_2015'`. We should check their values range to further explore them."
      ]
    },
    {
      "cell_type": "code",
      "execution_count": 16,
      "metadata": {
        "id": "neGj2Cm38dE3"
      },
      "outputs": [],
      "source": [
        "if RUN_ALL:\n",
        "    azdias_try1_1819.CAMEO_DEUG_2015.unique(), azdias_try1_1819.CAMEO_INTL_2015.unique()"
      ]
    },
    {
      "cell_type": "code",
      "execution_count": 17,
      "metadata": {
        "id": "JuWaPndOEppa"
      },
      "outputs": [],
      "source": [
        "if RUN_ALL:\n",
        "    # Clean up\n",
        "    del azdias_try1, azdias_try1_1819"
      ]
    },
    {
      "cell_type": "markdown",
      "metadata": {
        "id": "VLr5AMniCUyy"
      },
      "source": [
        "In these columns there are two values `X` and `XX` respectively that fall outside the range of values for this attributes as seen in `DIAS Attributes - Values 2017.xlsx`.\n",
        "\n",
        "#### Importing values as NaNs at loading with `read_csv`\n",
        "\n",
        "By observing the helper files `DIAS Attributes - Values 2017.xlsx` and `DIAS Information Levels - Attributes 2017.xlsx` we can see that zeros (`0` or `0.0`) and `-1` (`-1` or `-1.0`) values may be converted to NaNs as they offer no information even in the fields that are considered as valid input. `na_values` argument of `read_csv` method will be used for this to do this conversion during data import. This will leave the value `9` that is considered as `unkown` in some variables to be processed later.\n",
        "\n",
        "We will take advantage of the `na_values` argument in `read_csv`method to pass a tuple of values that will:\n",
        "\n",
        "* convert specific values to NaNs\n",
        "* allow auto importing of attributes that were mixed types as specific types (numerical).\n",
        "\n",
        "We will also use `parse_dates` argument to import attribute `EINGEFUEGT_AM` as datetime.\n",
        "\n",
        "There are there more categorical attributes (`'CAMEO_DEU_2015', 'D19_LETZTER_KAUF_BRANCHE', 'OST_WEST_KZ'`) that we can identify which will be converted later on."
      ]
    },
    {
      "cell_type": "code",
      "execution_count": 18,
      "metadata": {
        "id": "QaCzkHiQyQlK"
      },
      "outputs": [],
      "source": [
        "# Specific values to replace as np.NaN while loading the dataframe.\n",
        "na_tupl = (-1, -1.0, 0, 0.0, 'X', 'XX')\n",
        "\n",
        "# read_csv_kwargs = {\n",
        "#     'sep': ';',\n",
        "#     'na_values': na_tupl,\n",
        "#     'chunksize': 256000,\n",
        "#     'parse_dates': ['EINGEFUEGT_AM'],\n",
        "# }\n",
        "\n",
        "# Read a sample from azdias dataset of size sample_size rows, (use parse_dates to convert `EINGEFUEGT_AM` to datetime).\n",
        "azdias = get_df_sample(sample_size, 42, azdias_file, sep=';', na_values=na_tupl, chunksize=256000, parse_dates=['EINGEFUEGT_AM'])\n",
        "custrs = pd.read_csv(customers_file, sep=';', na_values=na_tupl, parse_dates=['EINGEFUEGT_AM'])"
      ]
    },
    {
      "cell_type": "markdown",
      "metadata": {
        "id": "FiZMkNa0bUG2"
      },
      "source": [
        "Let us check the dataframes now:"
      ]
    },
    {
      "cell_type": "code",
      "execution_count": 19,
      "metadata": {
        "colab": {
          "base_uri": "https://localhost:8080/"
        },
        "id": "kKhi531fbUG3",
        "outputId": "8e81a1ed-7c2c-4c56-874b-8217d6a445c9"
      },
      "outputs": [
        {
          "data": {
            "text/plain": [
              "((200000, 366), (191652, 369))"
            ]
          },
          "execution_count": 19,
          "metadata": {},
          "output_type": "execute_result"
        }
      ],
      "source": [
        "azdias.shape, custrs.shape"
      ]
    },
    {
      "cell_type": "code",
      "execution_count": 20,
      "metadata": {
        "colab": {
          "base_uri": "https://localhost:8080/",
          "height": 315
        },
        "id": "eQhf-DIIapyF",
        "outputId": "78f6a081-293c-489b-e58c-a1c9929f94b3"
      },
      "outputs": [
        {
          "data": {
            "text/html": [
              "<div>\n",
              "<style scoped>\n",
              "    .dataframe tbody tr th:only-of-type {\n",
              "        vertical-align: middle;\n",
              "    }\n",
              "\n",
              "    .dataframe tbody tr th {\n",
              "        vertical-align: top;\n",
              "    }\n",
              "\n",
              "    .dataframe thead th {\n",
              "        text-align: right;\n",
              "    }\n",
              "</style>\n",
              "<table border=\"1\" class=\"dataframe\">\n",
              "  <thead>\n",
              "    <tr style=\"text-align: right;\">\n",
              "      <th></th>\n",
              "      <th>LNR</th>\n",
              "      <th>AGER_TYP</th>\n",
              "      <th>AKT_DAT_KL</th>\n",
              "      <th>ALTER_HH</th>\n",
              "      <th>ALTER_KIND1</th>\n",
              "      <th>ALTER_KIND2</th>\n",
              "      <th>ALTER_KIND3</th>\n",
              "      <th>ALTER_KIND4</th>\n",
              "      <th>ALTERSKATEGORIE_FEIN</th>\n",
              "      <th>ANZ_HAUSHALTE_AKTIV</th>\n",
              "      <th>ANZ_HH_TITEL</th>\n",
              "      <th>ANZ_KINDER</th>\n",
              "      <th>ANZ_PERSONEN</th>\n",
              "      <th>ANZ_STATISTISCHE_HAUSHALTE</th>\n",
              "      <th>ANZ_TITEL</th>\n",
              "      <th>ARBEIT</th>\n",
              "      <th>BALLRAUM</th>\n",
              "      <th>CAMEO_DEU_2015</th>\n",
              "      <th>CAMEO_DEUG_2015</th>\n",
              "      <th>CAMEO_INTL_2015</th>\n",
              "      <th>CJT_GESAMTTYP</th>\n",
              "      <th>CJT_KATALOGNUTZER</th>\n",
              "      <th>CJT_TYP_1</th>\n",
              "      <th>CJT_TYP_2</th>\n",
              "      <th>CJT_TYP_3</th>\n",
              "      <th>CJT_TYP_4</th>\n",
              "      <th>CJT_TYP_5</th>\n",
              "      <th>CJT_TYP_6</th>\n",
              "      <th>D19_BANKEN_ANZ_12</th>\n",
              "      <th>D19_BANKEN_ANZ_24</th>\n",
              "      <th>D19_BANKEN_DATUM</th>\n",
              "      <th>D19_BANKEN_DIREKT</th>\n",
              "      <th>D19_BANKEN_GROSS</th>\n",
              "      <th>D19_BANKEN_LOKAL</th>\n",
              "      <th>D19_BANKEN_OFFLINE_DATUM</th>\n",
              "      <th>D19_BANKEN_ONLINE_DATUM</th>\n",
              "      <th>D19_BANKEN_ONLINE_QUOTE_12</th>\n",
              "      <th>D19_BANKEN_REST</th>\n",
              "      <th>D19_BEKLEIDUNG_GEH</th>\n",
              "      <th>D19_BEKLEIDUNG_REST</th>\n",
              "      <th>...</th>\n",
              "      <th>REGIOTYP</th>\n",
              "      <th>RELAT_AB</th>\n",
              "      <th>RETOURTYP_BK_S</th>\n",
              "      <th>RT_KEIN_ANREIZ</th>\n",
              "      <th>RT_SCHNAEPPCHEN</th>\n",
              "      <th>RT_UEBERGROESSE</th>\n",
              "      <th>SEMIO_DOM</th>\n",
              "      <th>SEMIO_ERL</th>\n",
              "      <th>SEMIO_FAM</th>\n",
              "      <th>SEMIO_KAEM</th>\n",
              "      <th>SEMIO_KRIT</th>\n",
              "      <th>SEMIO_KULT</th>\n",
              "      <th>SEMIO_LUST</th>\n",
              "      <th>SEMIO_MAT</th>\n",
              "      <th>SEMIO_PFLICHT</th>\n",
              "      <th>SEMIO_RAT</th>\n",
              "      <th>SEMIO_REL</th>\n",
              "      <th>SEMIO_SOZ</th>\n",
              "      <th>SEMIO_TRADV</th>\n",
              "      <th>SEMIO_VERT</th>\n",
              "      <th>SHOPPER_TYP</th>\n",
              "      <th>SOHO_KZ</th>\n",
              "      <th>STRUKTURTYP</th>\n",
              "      <th>TITEL_KZ</th>\n",
              "      <th>UMFELD_ALT</th>\n",
              "      <th>UMFELD_JUNG</th>\n",
              "      <th>UNGLEICHENN_FLAG</th>\n",
              "      <th>VERDICHTUNGSRAUM</th>\n",
              "      <th>VERS_TYP</th>\n",
              "      <th>VHA</th>\n",
              "      <th>VHN</th>\n",
              "      <th>VK_DHT4A</th>\n",
              "      <th>VK_DISTANZ</th>\n",
              "      <th>VK_ZG11</th>\n",
              "      <th>W_KEIT_KIND_HH</th>\n",
              "      <th>WOHNDAUER_2008</th>\n",
              "      <th>WOHNLAGE</th>\n",
              "      <th>ZABEOTYP</th>\n",
              "      <th>ANREDE_KZ</th>\n",
              "      <th>ALTERSKATEGORIE_GROB</th>\n",
              "    </tr>\n",
              "  </thead>\n",
              "  <tbody>\n",
              "    <tr>\n",
              "      <th>88484</th>\n",
              "      <td>588808</td>\n",
              "      <td>1.0</td>\n",
              "      <td>1.0</td>\n",
              "      <td>NaN</td>\n",
              "      <td>NaN</td>\n",
              "      <td>NaN</td>\n",
              "      <td>NaN</td>\n",
              "      <td>NaN</td>\n",
              "      <td>11.0</td>\n",
              "      <td>2.0</td>\n",
              "      <td>NaN</td>\n",
              "      <td>NaN</td>\n",
              "      <td>2.0</td>\n",
              "      <td>1.0</td>\n",
              "      <td>NaN</td>\n",
              "      <td>2.0</td>\n",
              "      <td>6.0</td>\n",
              "      <td>2D</td>\n",
              "      <td>2.0</td>\n",
              "      <td>14.0</td>\n",
              "      <td>2.0</td>\n",
              "      <td>5.0</td>\n",
              "      <td>1.0</td>\n",
              "      <td>1.0</td>\n",
              "      <td>5.0</td>\n",
              "      <td>5.0</td>\n",
              "      <td>5.0</td>\n",
              "      <td>5.0</td>\n",
              "      <td>NaN</td>\n",
              "      <td>NaN</td>\n",
              "      <td>10</td>\n",
              "      <td>NaN</td>\n",
              "      <td>NaN</td>\n",
              "      <td>NaN</td>\n",
              "      <td>10</td>\n",
              "      <td>10</td>\n",
              "      <td>NaN</td>\n",
              "      <td>NaN</td>\n",
              "      <td>6.0</td>\n",
              "      <td>NaN</td>\n",
              "      <td>...</td>\n",
              "      <td>2.0</td>\n",
              "      <td>1.0</td>\n",
              "      <td>3.0</td>\n",
              "      <td>2.0</td>\n",
              "      <td>5.0</td>\n",
              "      <td>3.0</td>\n",
              "      <td>1</td>\n",
              "      <td>3</td>\n",
              "      <td>5</td>\n",
              "      <td>1</td>\n",
              "      <td>3</td>\n",
              "      <td>6</td>\n",
              "      <td>7</td>\n",
              "      <td>6</td>\n",
              "      <td>2</td>\n",
              "      <td>1</td>\n",
              "      <td>5</td>\n",
              "      <td>4</td>\n",
              "      <td>4</td>\n",
              "      <td>6</td>\n",
              "      <td>NaN</td>\n",
              "      <td>NaN</td>\n",
              "      <td>1.0</td>\n",
              "      <td>NaN</td>\n",
              "      <td>5.0</td>\n",
              "      <td>5.0</td>\n",
              "      <td>NaN</td>\n",
              "      <td>NaN</td>\n",
              "      <td>1.0</td>\n",
              "      <td>NaN</td>\n",
              "      <td>2.0</td>\n",
              "      <td>8.0</td>\n",
              "      <td>8.0</td>\n",
              "      <td>5.0</td>\n",
              "      <td>6.0</td>\n",
              "      <td>9.0</td>\n",
              "      <td>7.0</td>\n",
              "      <td>1</td>\n",
              "      <td>1</td>\n",
              "      <td>4</td>\n",
              "    </tr>\n",
              "    <tr>\n",
              "      <th>172145</th>\n",
              "      <td>1054543</td>\n",
              "      <td>NaN</td>\n",
              "      <td>5.0</td>\n",
              "      <td>21.0</td>\n",
              "      <td>NaN</td>\n",
              "      <td>NaN</td>\n",
              "      <td>NaN</td>\n",
              "      <td>NaN</td>\n",
              "      <td>21.0</td>\n",
              "      <td>1.0</td>\n",
              "      <td>NaN</td>\n",
              "      <td>NaN</td>\n",
              "      <td>4.0</td>\n",
              "      <td>1.0</td>\n",
              "      <td>NaN</td>\n",
              "      <td>3.0</td>\n",
              "      <td>6.0</td>\n",
              "      <td>4C</td>\n",
              "      <td>4.0</td>\n",
              "      <td>24.0</td>\n",
              "      <td>6.0</td>\n",
              "      <td>1.0</td>\n",
              "      <td>5.0</td>\n",
              "      <td>4.0</td>\n",
              "      <td>2.0</td>\n",
              "      <td>2.0</td>\n",
              "      <td>3.0</td>\n",
              "      <td>1.0</td>\n",
              "      <td>NaN</td>\n",
              "      <td>2.0</td>\n",
              "      <td>7</td>\n",
              "      <td>4.0</td>\n",
              "      <td>5.0</td>\n",
              "      <td>NaN</td>\n",
              "      <td>10</td>\n",
              "      <td>7</td>\n",
              "      <td>NaN</td>\n",
              "      <td>NaN</td>\n",
              "      <td>NaN</td>\n",
              "      <td>7.0</td>\n",
              "      <td>...</td>\n",
              "      <td>5.0</td>\n",
              "      <td>2.0</td>\n",
              "      <td>2.0</td>\n",
              "      <td>3.0</td>\n",
              "      <td>3.0</td>\n",
              "      <td>5.0</td>\n",
              "      <td>4</td>\n",
              "      <td>4</td>\n",
              "      <td>2</td>\n",
              "      <td>4</td>\n",
              "      <td>7</td>\n",
              "      <td>6</td>\n",
              "      <td>2</td>\n",
              "      <td>3</td>\n",
              "      <td>7</td>\n",
              "      <td>7</td>\n",
              "      <td>7</td>\n",
              "      <td>5</td>\n",
              "      <td>6</td>\n",
              "      <td>3</td>\n",
              "      <td>3.0</td>\n",
              "      <td>NaN</td>\n",
              "      <td>1.0</td>\n",
              "      <td>NaN</td>\n",
              "      <td>4.0</td>\n",
              "      <td>4.0</td>\n",
              "      <td>NaN</td>\n",
              "      <td>NaN</td>\n",
              "      <td>2.0</td>\n",
              "      <td>3.0</td>\n",
              "      <td>2.0</td>\n",
              "      <td>2.0</td>\n",
              "      <td>3.0</td>\n",
              "      <td>4.0</td>\n",
              "      <td>2.0</td>\n",
              "      <td>9.0</td>\n",
              "      <td>7.0</td>\n",
              "      <td>4</td>\n",
              "      <td>2</td>\n",
              "      <td>1</td>\n",
              "    </tr>\n",
              "    <tr>\n",
              "      <th>35518</th>\n",
              "      <td>382892</td>\n",
              "      <td>NaN</td>\n",
              "      <td>1.0</td>\n",
              "      <td>19.0</td>\n",
              "      <td>NaN</td>\n",
              "      <td>NaN</td>\n",
              "      <td>NaN</td>\n",
              "      <td>NaN</td>\n",
              "      <td>19.0</td>\n",
              "      <td>1.0</td>\n",
              "      <td>NaN</td>\n",
              "      <td>NaN</td>\n",
              "      <td>5.0</td>\n",
              "      <td>1.0</td>\n",
              "      <td>NaN</td>\n",
              "      <td>2.0</td>\n",
              "      <td>4.0</td>\n",
              "      <td>5C</td>\n",
              "      <td>5.0</td>\n",
              "      <td>33.0</td>\n",
              "      <td>5.0</td>\n",
              "      <td>1.0</td>\n",
              "      <td>4.0</td>\n",
              "      <td>4.0</td>\n",
              "      <td>2.0</td>\n",
              "      <td>1.0</td>\n",
              "      <td>4.0</td>\n",
              "      <td>2.0</td>\n",
              "      <td>NaN</td>\n",
              "      <td>2.0</td>\n",
              "      <td>7</td>\n",
              "      <td>6.0</td>\n",
              "      <td>4.0</td>\n",
              "      <td>NaN</td>\n",
              "      <td>10</td>\n",
              "      <td>7</td>\n",
              "      <td>NaN</td>\n",
              "      <td>NaN</td>\n",
              "      <td>6.0</td>\n",
              "      <td>3.0</td>\n",
              "      <td>...</td>\n",
              "      <td>5.0</td>\n",
              "      <td>1.0</td>\n",
              "      <td>2.0</td>\n",
              "      <td>3.0</td>\n",
              "      <td>1.0</td>\n",
              "      <td>5.0</td>\n",
              "      <td>4</td>\n",
              "      <td>6</td>\n",
              "      <td>3</td>\n",
              "      <td>5</td>\n",
              "      <td>4</td>\n",
              "      <td>1</td>\n",
              "      <td>4</td>\n",
              "      <td>5</td>\n",
              "      <td>4</td>\n",
              "      <td>4</td>\n",
              "      <td>3</td>\n",
              "      <td>5</td>\n",
              "      <td>2</td>\n",
              "      <td>3</td>\n",
              "      <td>1.0</td>\n",
              "      <td>NaN</td>\n",
              "      <td>2.0</td>\n",
              "      <td>NaN</td>\n",
              "      <td>5.0</td>\n",
              "      <td>2.0</td>\n",
              "      <td>NaN</td>\n",
              "      <td>NaN</td>\n",
              "      <td>1.0</td>\n",
              "      <td>1.0</td>\n",
              "      <td>2.0</td>\n",
              "      <td>1.0</td>\n",
              "      <td>2.0</td>\n",
              "      <td>3.0</td>\n",
              "      <td>2.0</td>\n",
              "      <td>9.0</td>\n",
              "      <td>7.0</td>\n",
              "      <td>4</td>\n",
              "      <td>2</td>\n",
              "      <td>3</td>\n",
              "    </tr>\n",
              "    <tr>\n",
              "      <th>5812</th>\n",
              "      <td>794763</td>\n",
              "      <td>1.0</td>\n",
              "      <td>1.0</td>\n",
              "      <td>10.0</td>\n",
              "      <td>NaN</td>\n",
              "      <td>NaN</td>\n",
              "      <td>NaN</td>\n",
              "      <td>NaN</td>\n",
              "      <td>10.0</td>\n",
              "      <td>8.0</td>\n",
              "      <td>NaN</td>\n",
              "      <td>NaN</td>\n",
              "      <td>2.0</td>\n",
              "      <td>6.0</td>\n",
              "      <td>NaN</td>\n",
              "      <td>2.0</td>\n",
              "      <td>2.0</td>\n",
              "      <td>8D</td>\n",
              "      <td>8.0</td>\n",
              "      <td>55.0</td>\n",
              "      <td>2.0</td>\n",
              "      <td>5.0</td>\n",
              "      <td>2.0</td>\n",
              "      <td>2.0</td>\n",
              "      <td>5.0</td>\n",
              "      <td>5.0</td>\n",
              "      <td>5.0</td>\n",
              "      <td>4.0</td>\n",
              "      <td>NaN</td>\n",
              "      <td>NaN</td>\n",
              "      <td>10</td>\n",
              "      <td>NaN</td>\n",
              "      <td>NaN</td>\n",
              "      <td>7.0</td>\n",
              "      <td>10</td>\n",
              "      <td>10</td>\n",
              "      <td>NaN</td>\n",
              "      <td>NaN</td>\n",
              "      <td>NaN</td>\n",
              "      <td>NaN</td>\n",
              "      <td>...</td>\n",
              "      <td>5.0</td>\n",
              "      <td>3.0</td>\n",
              "      <td>5.0</td>\n",
              "      <td>2.0</td>\n",
              "      <td>4.0</td>\n",
              "      <td>2.0</td>\n",
              "      <td>5</td>\n",
              "      <td>7</td>\n",
              "      <td>3</td>\n",
              "      <td>6</td>\n",
              "      <td>6</td>\n",
              "      <td>2</td>\n",
              "      <td>7</td>\n",
              "      <td>1</td>\n",
              "      <td>2</td>\n",
              "      <td>3</td>\n",
              "      <td>1</td>\n",
              "      <td>5</td>\n",
              "      <td>1</td>\n",
              "      <td>2</td>\n",
              "      <td>3.0</td>\n",
              "      <td>NaN</td>\n",
              "      <td>3.0</td>\n",
              "      <td>NaN</td>\n",
              "      <td>3.0</td>\n",
              "      <td>3.0</td>\n",
              "      <td>NaN</td>\n",
              "      <td>8.0</td>\n",
              "      <td>1.0</td>\n",
              "      <td>NaN</td>\n",
              "      <td>2.0</td>\n",
              "      <td>8.0</td>\n",
              "      <td>9.0</td>\n",
              "      <td>6.0</td>\n",
              "      <td>6.0</td>\n",
              "      <td>9.0</td>\n",
              "      <td>4.0</td>\n",
              "      <td>3</td>\n",
              "      <td>2</td>\n",
              "      <td>4</td>\n",
              "    </tr>\n",
              "    <tr>\n",
              "      <th>1349</th>\n",
              "      <td>420135</td>\n",
              "      <td>NaN</td>\n",
              "      <td>1.0</td>\n",
              "      <td>16.0</td>\n",
              "      <td>NaN</td>\n",
              "      <td>NaN</td>\n",
              "      <td>NaN</td>\n",
              "      <td>NaN</td>\n",
              "      <td>NaN</td>\n",
              "      <td>2.0</td>\n",
              "      <td>NaN</td>\n",
              "      <td>NaN</td>\n",
              "      <td>NaN</td>\n",
              "      <td>3.0</td>\n",
              "      <td>NaN</td>\n",
              "      <td>4.0</td>\n",
              "      <td>3.0</td>\n",
              "      <td>7A</td>\n",
              "      <td>7.0</td>\n",
              "      <td>41.0</td>\n",
              "      <td>4.0</td>\n",
              "      <td>3.0</td>\n",
              "      <td>5.0</td>\n",
              "      <td>5.0</td>\n",
              "      <td>1.0</td>\n",
              "      <td>1.0</td>\n",
              "      <td>2.0</td>\n",
              "      <td>2.0</td>\n",
              "      <td>NaN</td>\n",
              "      <td>NaN</td>\n",
              "      <td>10</td>\n",
              "      <td>NaN</td>\n",
              "      <td>NaN</td>\n",
              "      <td>NaN</td>\n",
              "      <td>10</td>\n",
              "      <td>10</td>\n",
              "      <td>NaN</td>\n",
              "      <td>NaN</td>\n",
              "      <td>NaN</td>\n",
              "      <td>NaN</td>\n",
              "      <td>...</td>\n",
              "      <td>5.0</td>\n",
              "      <td>3.0</td>\n",
              "      <td>5.0</td>\n",
              "      <td>5.0</td>\n",
              "      <td>4.0</td>\n",
              "      <td>4.0</td>\n",
              "      <td>7</td>\n",
              "      <td>6</td>\n",
              "      <td>2</td>\n",
              "      <td>7</td>\n",
              "      <td>7</td>\n",
              "      <td>3</td>\n",
              "      <td>1</td>\n",
              "      <td>5</td>\n",
              "      <td>3</td>\n",
              "      <td>4</td>\n",
              "      <td>1</td>\n",
              "      <td>4</td>\n",
              "      <td>3</td>\n",
              "      <td>5</td>\n",
              "      <td>2.0</td>\n",
              "      <td>NaN</td>\n",
              "      <td>3.0</td>\n",
              "      <td>NaN</td>\n",
              "      <td>4.0</td>\n",
              "      <td>3.0</td>\n",
              "      <td>NaN</td>\n",
              "      <td>1.0</td>\n",
              "      <td>2.0</td>\n",
              "      <td>NaN</td>\n",
              "      <td>2.0</td>\n",
              "      <td>7.0</td>\n",
              "      <td>10.0</td>\n",
              "      <td>10.0</td>\n",
              "      <td>NaN</td>\n",
              "      <td>9.0</td>\n",
              "      <td>4.0</td>\n",
              "      <td>3</td>\n",
              "      <td>2</td>\n",
              "      <td>3</td>\n",
              "    </tr>\n",
              "    <tr>\n",
              "      <th>186426</th>\n",
              "      <td>1032058</td>\n",
              "      <td>2.0</td>\n",
              "      <td>1.0</td>\n",
              "      <td>13.0</td>\n",
              "      <td>NaN</td>\n",
              "      <td>NaN</td>\n",
              "      <td>NaN</td>\n",
              "      <td>NaN</td>\n",
              "      <td>13.0</td>\n",
              "      <td>1.0</td>\n",
              "      <td>NaN</td>\n",
              "      <td>NaN</td>\n",
              "      <td>1.0</td>\n",
              "      <td>1.0</td>\n",
              "      <td>NaN</td>\n",
              "      <td>3.0</td>\n",
              "      <td>6.0</td>\n",
              "      <td>4A</td>\n",
              "      <td>4.0</td>\n",
              "      <td>22.0</td>\n",
              "      <td>3.0</td>\n",
              "      <td>4.0</td>\n",
              "      <td>2.0</td>\n",
              "      <td>1.0</td>\n",
              "      <td>4.0</td>\n",
              "      <td>4.0</td>\n",
              "      <td>5.0</td>\n",
              "      <td>5.0</td>\n",
              "      <td>NaN</td>\n",
              "      <td>NaN</td>\n",
              "      <td>10</td>\n",
              "      <td>NaN</td>\n",
              "      <td>NaN</td>\n",
              "      <td>NaN</td>\n",
              "      <td>10</td>\n",
              "      <td>10</td>\n",
              "      <td>NaN</td>\n",
              "      <td>NaN</td>\n",
              "      <td>NaN</td>\n",
              "      <td>NaN</td>\n",
              "      <td>...</td>\n",
              "      <td>5.0</td>\n",
              "      <td>4.0</td>\n",
              "      <td>5.0</td>\n",
              "      <td>1.0</td>\n",
              "      <td>5.0</td>\n",
              "      <td>5.0</td>\n",
              "      <td>3</td>\n",
              "      <td>7</td>\n",
              "      <td>4</td>\n",
              "      <td>3</td>\n",
              "      <td>3</td>\n",
              "      <td>4</td>\n",
              "      <td>7</td>\n",
              "      <td>1</td>\n",
              "      <td>1</td>\n",
              "      <td>1</td>\n",
              "      <td>3</td>\n",
              "      <td>6</td>\n",
              "      <td>2</td>\n",
              "      <td>7</td>\n",
              "      <td>3.0</td>\n",
              "      <td>NaN</td>\n",
              "      <td>3.0</td>\n",
              "      <td>NaN</td>\n",
              "      <td>2.0</td>\n",
              "      <td>5.0</td>\n",
              "      <td>NaN</td>\n",
              "      <td>NaN</td>\n",
              "      <td>1.0</td>\n",
              "      <td>NaN</td>\n",
              "      <td>1.0</td>\n",
              "      <td>8.0</td>\n",
              "      <td>9.0</td>\n",
              "      <td>6.0</td>\n",
              "      <td>4.0</td>\n",
              "      <td>9.0</td>\n",
              "      <td>3.0</td>\n",
              "      <td>3</td>\n",
              "      <td>1</td>\n",
              "      <td>4</td>\n",
              "    </tr>\n",
              "    <tr>\n",
              "      <th>62631</th>\n",
              "      <td>275173</td>\n",
              "      <td>NaN</td>\n",
              "      <td>5.0</td>\n",
              "      <td>21.0</td>\n",
              "      <td>NaN</td>\n",
              "      <td>NaN</td>\n",
              "      <td>NaN</td>\n",
              "      <td>NaN</td>\n",
              "      <td>15.0</td>\n",
              "      <td>1.0</td>\n",
              "      <td>NaN</td>\n",
              "      <td>NaN</td>\n",
              "      <td>3.0</td>\n",
              "      <td>1.0</td>\n",
              "      <td>NaN</td>\n",
              "      <td>2.0</td>\n",
              "      <td>2.0</td>\n",
              "      <td>6B</td>\n",
              "      <td>6.0</td>\n",
              "      <td>43.0</td>\n",
              "      <td>2.0</td>\n",
              "      <td>2.0</td>\n",
              "      <td>3.0</td>\n",
              "      <td>3.0</td>\n",
              "      <td>3.0</td>\n",
              "      <td>4.0</td>\n",
              "      <td>5.0</td>\n",
              "      <td>3.0</td>\n",
              "      <td>NaN</td>\n",
              "      <td>NaN</td>\n",
              "      <td>9</td>\n",
              "      <td>6.0</td>\n",
              "      <td>NaN</td>\n",
              "      <td>NaN</td>\n",
              "      <td>10</td>\n",
              "      <td>9</td>\n",
              "      <td>NaN</td>\n",
              "      <td>NaN</td>\n",
              "      <td>NaN</td>\n",
              "      <td>NaN</td>\n",
              "      <td>...</td>\n",
              "      <td>3.0</td>\n",
              "      <td>1.0</td>\n",
              "      <td>5.0</td>\n",
              "      <td>1.0</td>\n",
              "      <td>3.0</td>\n",
              "      <td>4.0</td>\n",
              "      <td>7</td>\n",
              "      <td>6</td>\n",
              "      <td>1</td>\n",
              "      <td>7</td>\n",
              "      <td>7</td>\n",
              "      <td>1</td>\n",
              "      <td>6</td>\n",
              "      <td>4</td>\n",
              "      <td>4</td>\n",
              "      <td>4</td>\n",
              "      <td>1</td>\n",
              "      <td>5</td>\n",
              "      <td>2</td>\n",
              "      <td>2</td>\n",
              "      <td>3.0</td>\n",
              "      <td>NaN</td>\n",
              "      <td>3.0</td>\n",
              "      <td>NaN</td>\n",
              "      <td>3.0</td>\n",
              "      <td>3.0</td>\n",
              "      <td>NaN</td>\n",
              "      <td>2.0</td>\n",
              "      <td>1.0</td>\n",
              "      <td>NaN</td>\n",
              "      <td>3.0</td>\n",
              "      <td>3.0</td>\n",
              "      <td>6.0</td>\n",
              "      <td>5.0</td>\n",
              "      <td>2.0</td>\n",
              "      <td>6.0</td>\n",
              "      <td>3.0</td>\n",
              "      <td>1</td>\n",
              "      <td>2</td>\n",
              "      <td>3</td>\n",
              "    </tr>\n",
              "  </tbody>\n",
              "</table>\n",
              "<p>7 rows × 366 columns</p>\n",
              "</div>"
            ],
            "text/plain": [
              "            LNR  AGER_TYP  ...  ANREDE_KZ  ALTERSKATEGORIE_GROB\n",
              "88484    588808       1.0  ...          1                     4\n",
              "172145  1054543       NaN  ...          2                     1\n",
              "35518    382892       NaN  ...          2                     3\n",
              "5812     794763       1.0  ...          2                     4\n",
              "1349     420135       NaN  ...          2                     3\n",
              "186426  1032058       2.0  ...          1                     4\n",
              "62631    275173       NaN  ...          2                     3\n",
              "\n",
              "[7 rows x 366 columns]"
            ]
          },
          "execution_count": 20,
          "metadata": {},
          "output_type": "execute_result"
        }
      ],
      "source": [
        "azdias.sample(7)"
      ]
    },
    {
      "cell_type": "code",
      "execution_count": 21,
      "metadata": {
        "colab": {
          "base_uri": "https://localhost:8080/"
        },
        "id": "MxqF--BtKQFg",
        "outputId": "eefeca69-3758-4539-8521-860891c75600"
      },
      "outputs": [
        {
          "name": "stdout",
          "output_type": "stream",
          "text": [
            "<class 'pandas.core.frame.DataFrame'>\n",
            "RangeIndex: 200000 entries, 0 to 199999\n",
            "Columns: 366 entries, LNR to ALTERSKATEGORIE_GROB\n",
            "dtypes: datetime64[ns](1), float64(320), int64(42), object(3)\n",
            "memory usage: 558.5+ MB\n"
          ]
        }
      ],
      "source": [
        "azdias.info()"
      ]
    },
    {
      "cell_type": "code",
      "execution_count": 22,
      "metadata": {
        "colab": {
          "base_uri": "https://localhost:8080/",
          "height": 315
        },
        "id": "gcoK-sQDc7fV",
        "outputId": "a4b3cac9-8b55-4af9-af93-0f24756e05f6"
      },
      "outputs": [
        {
          "data": {
            "text/html": [
              "<div>\n",
              "<style scoped>\n",
              "    .dataframe tbody tr th:only-of-type {\n",
              "        vertical-align: middle;\n",
              "    }\n",
              "\n",
              "    .dataframe tbody tr th {\n",
              "        vertical-align: top;\n",
              "    }\n",
              "\n",
              "    .dataframe thead th {\n",
              "        text-align: right;\n",
              "    }\n",
              "</style>\n",
              "<table border=\"1\" class=\"dataframe\">\n",
              "  <thead>\n",
              "    <tr style=\"text-align: right;\">\n",
              "      <th></th>\n",
              "      <th>LNR</th>\n",
              "      <th>AGER_TYP</th>\n",
              "      <th>AKT_DAT_KL</th>\n",
              "      <th>ALTER_HH</th>\n",
              "      <th>ALTER_KIND1</th>\n",
              "      <th>ALTER_KIND2</th>\n",
              "      <th>ALTER_KIND3</th>\n",
              "      <th>ALTER_KIND4</th>\n",
              "      <th>ALTERSKATEGORIE_FEIN</th>\n",
              "      <th>ANZ_HAUSHALTE_AKTIV</th>\n",
              "      <th>ANZ_HH_TITEL</th>\n",
              "      <th>ANZ_KINDER</th>\n",
              "      <th>ANZ_PERSONEN</th>\n",
              "      <th>ANZ_STATISTISCHE_HAUSHALTE</th>\n",
              "      <th>ANZ_TITEL</th>\n",
              "      <th>ARBEIT</th>\n",
              "      <th>BALLRAUM</th>\n",
              "      <th>CAMEO_DEU_2015</th>\n",
              "      <th>CAMEO_DEUG_2015</th>\n",
              "      <th>CAMEO_INTL_2015</th>\n",
              "      <th>CJT_GESAMTTYP</th>\n",
              "      <th>CJT_KATALOGNUTZER</th>\n",
              "      <th>CJT_TYP_1</th>\n",
              "      <th>CJT_TYP_2</th>\n",
              "      <th>CJT_TYP_3</th>\n",
              "      <th>CJT_TYP_4</th>\n",
              "      <th>CJT_TYP_5</th>\n",
              "      <th>CJT_TYP_6</th>\n",
              "      <th>D19_BANKEN_ANZ_12</th>\n",
              "      <th>D19_BANKEN_ANZ_24</th>\n",
              "      <th>D19_BANKEN_DATUM</th>\n",
              "      <th>D19_BANKEN_DIREKT</th>\n",
              "      <th>D19_BANKEN_GROSS</th>\n",
              "      <th>D19_BANKEN_LOKAL</th>\n",
              "      <th>D19_BANKEN_OFFLINE_DATUM</th>\n",
              "      <th>D19_BANKEN_ONLINE_DATUM</th>\n",
              "      <th>D19_BANKEN_ONLINE_QUOTE_12</th>\n",
              "      <th>D19_BANKEN_REST</th>\n",
              "      <th>D19_BEKLEIDUNG_GEH</th>\n",
              "      <th>D19_BEKLEIDUNG_REST</th>\n",
              "      <th>...</th>\n",
              "      <th>RT_KEIN_ANREIZ</th>\n",
              "      <th>RT_SCHNAEPPCHEN</th>\n",
              "      <th>RT_UEBERGROESSE</th>\n",
              "      <th>SEMIO_DOM</th>\n",
              "      <th>SEMIO_ERL</th>\n",
              "      <th>SEMIO_FAM</th>\n",
              "      <th>SEMIO_KAEM</th>\n",
              "      <th>SEMIO_KRIT</th>\n",
              "      <th>SEMIO_KULT</th>\n",
              "      <th>SEMIO_LUST</th>\n",
              "      <th>SEMIO_MAT</th>\n",
              "      <th>SEMIO_PFLICHT</th>\n",
              "      <th>SEMIO_RAT</th>\n",
              "      <th>SEMIO_REL</th>\n",
              "      <th>SEMIO_SOZ</th>\n",
              "      <th>SEMIO_TRADV</th>\n",
              "      <th>SEMIO_VERT</th>\n",
              "      <th>SHOPPER_TYP</th>\n",
              "      <th>SOHO_KZ</th>\n",
              "      <th>STRUKTURTYP</th>\n",
              "      <th>TITEL_KZ</th>\n",
              "      <th>UMFELD_ALT</th>\n",
              "      <th>UMFELD_JUNG</th>\n",
              "      <th>UNGLEICHENN_FLAG</th>\n",
              "      <th>VERDICHTUNGSRAUM</th>\n",
              "      <th>VERS_TYP</th>\n",
              "      <th>VHA</th>\n",
              "      <th>VHN</th>\n",
              "      <th>VK_DHT4A</th>\n",
              "      <th>VK_DISTANZ</th>\n",
              "      <th>VK_ZG11</th>\n",
              "      <th>W_KEIT_KIND_HH</th>\n",
              "      <th>WOHNDAUER_2008</th>\n",
              "      <th>WOHNLAGE</th>\n",
              "      <th>ZABEOTYP</th>\n",
              "      <th>PRODUCT_GROUP</th>\n",
              "      <th>CUSTOMER_GROUP</th>\n",
              "      <th>ONLINE_PURCHASE</th>\n",
              "      <th>ANREDE_KZ</th>\n",
              "      <th>ALTERSKATEGORIE_GROB</th>\n",
              "    </tr>\n",
              "  </thead>\n",
              "  <tbody>\n",
              "    <tr>\n",
              "      <th>9335</th>\n",
              "      <td>81232</td>\n",
              "      <td>NaN</td>\n",
              "      <td>NaN</td>\n",
              "      <td>NaN</td>\n",
              "      <td>NaN</td>\n",
              "      <td>NaN</td>\n",
              "      <td>NaN</td>\n",
              "      <td>NaN</td>\n",
              "      <td>NaN</td>\n",
              "      <td>NaN</td>\n",
              "      <td>NaN</td>\n",
              "      <td>NaN</td>\n",
              "      <td>NaN</td>\n",
              "      <td>NaN</td>\n",
              "      <td>NaN</td>\n",
              "      <td>NaN</td>\n",
              "      <td>NaN</td>\n",
              "      <td>NaN</td>\n",
              "      <td>NaN</td>\n",
              "      <td>NaN</td>\n",
              "      <td>6.0</td>\n",
              "      <td>5.0</td>\n",
              "      <td>5.0</td>\n",
              "      <td>5.0</td>\n",
              "      <td>5.0</td>\n",
              "      <td>5.0</td>\n",
              "      <td>5.0</td>\n",
              "      <td>5.0</td>\n",
              "      <td>NaN</td>\n",
              "      <td>NaN</td>\n",
              "      <td>10</td>\n",
              "      <td>NaN</td>\n",
              "      <td>NaN</td>\n",
              "      <td>NaN</td>\n",
              "      <td>10</td>\n",
              "      <td>10</td>\n",
              "      <td>NaN</td>\n",
              "      <td>NaN</td>\n",
              "      <td>NaN</td>\n",
              "      <td>NaN</td>\n",
              "      <td>...</td>\n",
              "      <td>4.0</td>\n",
              "      <td>5.0</td>\n",
              "      <td>NaN</td>\n",
              "      <td>6</td>\n",
              "      <td>3</td>\n",
              "      <td>6</td>\n",
              "      <td>6</td>\n",
              "      <td>7</td>\n",
              "      <td>3</td>\n",
              "      <td>5</td>\n",
              "      <td>5</td>\n",
              "      <td>5</td>\n",
              "      <td>4</td>\n",
              "      <td>7</td>\n",
              "      <td>2</td>\n",
              "      <td>3</td>\n",
              "      <td>1</td>\n",
              "      <td>NaN</td>\n",
              "      <td>NaN</td>\n",
              "      <td>NaN</td>\n",
              "      <td>NaN</td>\n",
              "      <td>NaN</td>\n",
              "      <td>NaN</td>\n",
              "      <td>NaN</td>\n",
              "      <td>NaN</td>\n",
              "      <td>NaN</td>\n",
              "      <td>NaN</td>\n",
              "      <td>NaN</td>\n",
              "      <td>NaN</td>\n",
              "      <td>NaN</td>\n",
              "      <td>NaN</td>\n",
              "      <td>NaN</td>\n",
              "      <td>NaN</td>\n",
              "      <td>NaN</td>\n",
              "      <td>3</td>\n",
              "      <td>FOOD</td>\n",
              "      <td>SINGLE_BUYER</td>\n",
              "      <td>NaN</td>\n",
              "      <td>2</td>\n",
              "      <td>2</td>\n",
              "    </tr>\n",
              "    <tr>\n",
              "      <th>117356</th>\n",
              "      <td>78639</td>\n",
              "      <td>2.0</td>\n",
              "      <td>1.0</td>\n",
              "      <td>20.0</td>\n",
              "      <td>NaN</td>\n",
              "      <td>NaN</td>\n",
              "      <td>NaN</td>\n",
              "      <td>NaN</td>\n",
              "      <td>13.0</td>\n",
              "      <td>1.0</td>\n",
              "      <td>NaN</td>\n",
              "      <td>NaN</td>\n",
              "      <td>3.0</td>\n",
              "      <td>1.0</td>\n",
              "      <td>NaN</td>\n",
              "      <td>3.0</td>\n",
              "      <td>4.0</td>\n",
              "      <td>4A</td>\n",
              "      <td>4.0</td>\n",
              "      <td>22.0</td>\n",
              "      <td>4.0</td>\n",
              "      <td>1.0</td>\n",
              "      <td>3.0</td>\n",
              "      <td>3.0</td>\n",
              "      <td>3.0</td>\n",
              "      <td>4.0</td>\n",
              "      <td>5.0</td>\n",
              "      <td>4.0</td>\n",
              "      <td>NaN</td>\n",
              "      <td>NaN</td>\n",
              "      <td>10</td>\n",
              "      <td>NaN</td>\n",
              "      <td>NaN</td>\n",
              "      <td>7.0</td>\n",
              "      <td>10</td>\n",
              "      <td>10</td>\n",
              "      <td>NaN</td>\n",
              "      <td>NaN</td>\n",
              "      <td>6.0</td>\n",
              "      <td>NaN</td>\n",
              "      <td>...</td>\n",
              "      <td>1.0</td>\n",
              "      <td>5.0</td>\n",
              "      <td>3.0</td>\n",
              "      <td>6</td>\n",
              "      <td>6</td>\n",
              "      <td>1</td>\n",
              "      <td>7</td>\n",
              "      <td>7</td>\n",
              "      <td>1</td>\n",
              "      <td>4</td>\n",
              "      <td>2</td>\n",
              "      <td>4</td>\n",
              "      <td>4</td>\n",
              "      <td>1</td>\n",
              "      <td>4</td>\n",
              "      <td>3</td>\n",
              "      <td>4</td>\n",
              "      <td>3.0</td>\n",
              "      <td>NaN</td>\n",
              "      <td>3.0</td>\n",
              "      <td>NaN</td>\n",
              "      <td>2.0</td>\n",
              "      <td>5.0</td>\n",
              "      <td>NaN</td>\n",
              "      <td>4.0</td>\n",
              "      <td>1.0</td>\n",
              "      <td>5.0</td>\n",
              "      <td>NaN</td>\n",
              "      <td>2.0</td>\n",
              "      <td>4.0</td>\n",
              "      <td>2.0</td>\n",
              "      <td>3.0</td>\n",
              "      <td>9.0</td>\n",
              "      <td>4.0</td>\n",
              "      <td>3</td>\n",
              "      <td>COSMETIC</td>\n",
              "      <td>SINGLE_BUYER</td>\n",
              "      <td>NaN</td>\n",
              "      <td>2</td>\n",
              "      <td>3</td>\n",
              "    </tr>\n",
              "    <tr>\n",
              "      <th>106663</th>\n",
              "      <td>89504</td>\n",
              "      <td>NaN</td>\n",
              "      <td>NaN</td>\n",
              "      <td>NaN</td>\n",
              "      <td>NaN</td>\n",
              "      <td>NaN</td>\n",
              "      <td>NaN</td>\n",
              "      <td>NaN</td>\n",
              "      <td>NaN</td>\n",
              "      <td>NaN</td>\n",
              "      <td>NaN</td>\n",
              "      <td>NaN</td>\n",
              "      <td>NaN</td>\n",
              "      <td>NaN</td>\n",
              "      <td>NaN</td>\n",
              "      <td>NaN</td>\n",
              "      <td>NaN</td>\n",
              "      <td>NaN</td>\n",
              "      <td>NaN</td>\n",
              "      <td>NaN</td>\n",
              "      <td>6.0</td>\n",
              "      <td>5.0</td>\n",
              "      <td>5.0</td>\n",
              "      <td>5.0</td>\n",
              "      <td>5.0</td>\n",
              "      <td>5.0</td>\n",
              "      <td>5.0</td>\n",
              "      <td>5.0</td>\n",
              "      <td>NaN</td>\n",
              "      <td>NaN</td>\n",
              "      <td>10</td>\n",
              "      <td>NaN</td>\n",
              "      <td>NaN</td>\n",
              "      <td>NaN</td>\n",
              "      <td>10</td>\n",
              "      <td>10</td>\n",
              "      <td>NaN</td>\n",
              "      <td>NaN</td>\n",
              "      <td>NaN</td>\n",
              "      <td>NaN</td>\n",
              "      <td>...</td>\n",
              "      <td>4.0</td>\n",
              "      <td>5.0</td>\n",
              "      <td>NaN</td>\n",
              "      <td>6</td>\n",
              "      <td>3</td>\n",
              "      <td>6</td>\n",
              "      <td>6</td>\n",
              "      <td>7</td>\n",
              "      <td>3</td>\n",
              "      <td>5</td>\n",
              "      <td>5</td>\n",
              "      <td>5</td>\n",
              "      <td>4</td>\n",
              "      <td>7</td>\n",
              "      <td>2</td>\n",
              "      <td>3</td>\n",
              "      <td>1</td>\n",
              "      <td>NaN</td>\n",
              "      <td>NaN</td>\n",
              "      <td>NaN</td>\n",
              "      <td>NaN</td>\n",
              "      <td>NaN</td>\n",
              "      <td>NaN</td>\n",
              "      <td>NaN</td>\n",
              "      <td>NaN</td>\n",
              "      <td>NaN</td>\n",
              "      <td>NaN</td>\n",
              "      <td>NaN</td>\n",
              "      <td>NaN</td>\n",
              "      <td>NaN</td>\n",
              "      <td>NaN</td>\n",
              "      <td>NaN</td>\n",
              "      <td>NaN</td>\n",
              "      <td>NaN</td>\n",
              "      <td>3</td>\n",
              "      <td>FOOD</td>\n",
              "      <td>SINGLE_BUYER</td>\n",
              "      <td>NaN</td>\n",
              "      <td>1</td>\n",
              "      <td>1</td>\n",
              "    </tr>\n",
              "    <tr>\n",
              "      <th>42632</th>\n",
              "      <td>92280</td>\n",
              "      <td>NaN</td>\n",
              "      <td>3.0</td>\n",
              "      <td>17.0</td>\n",
              "      <td>12.0</td>\n",
              "      <td>14.0</td>\n",
              "      <td>NaN</td>\n",
              "      <td>NaN</td>\n",
              "      <td>17.0</td>\n",
              "      <td>8.0</td>\n",
              "      <td>NaN</td>\n",
              "      <td>2.0</td>\n",
              "      <td>1.0</td>\n",
              "      <td>9.0</td>\n",
              "      <td>NaN</td>\n",
              "      <td>3.0</td>\n",
              "      <td>2.0</td>\n",
              "      <td>7A</td>\n",
              "      <td>7.0</td>\n",
              "      <td>41.0</td>\n",
              "      <td>4.0</td>\n",
              "      <td>3.0</td>\n",
              "      <td>4.0</td>\n",
              "      <td>4.0</td>\n",
              "      <td>2.0</td>\n",
              "      <td>1.0</td>\n",
              "      <td>3.0</td>\n",
              "      <td>5.0</td>\n",
              "      <td>4.0</td>\n",
              "      <td>4.0</td>\n",
              "      <td>1</td>\n",
              "      <td>3.0</td>\n",
              "      <td>1.0</td>\n",
              "      <td>NaN</td>\n",
              "      <td>10</td>\n",
              "      <td>1</td>\n",
              "      <td>10.0</td>\n",
              "      <td>3.0</td>\n",
              "      <td>NaN</td>\n",
              "      <td>NaN</td>\n",
              "      <td>...</td>\n",
              "      <td>4.0</td>\n",
              "      <td>4.0</td>\n",
              "      <td>2.0</td>\n",
              "      <td>3</td>\n",
              "      <td>7</td>\n",
              "      <td>6</td>\n",
              "      <td>2</td>\n",
              "      <td>3</td>\n",
              "      <td>4</td>\n",
              "      <td>5</td>\n",
              "      <td>4</td>\n",
              "      <td>2</td>\n",
              "      <td>3</td>\n",
              "      <td>3</td>\n",
              "      <td>4</td>\n",
              "      <td>2</td>\n",
              "      <td>6</td>\n",
              "      <td>2.0</td>\n",
              "      <td>NaN</td>\n",
              "      <td>3.0</td>\n",
              "      <td>NaN</td>\n",
              "      <td>4.0</td>\n",
              "      <td>3.0</td>\n",
              "      <td>1.0</td>\n",
              "      <td>1.0</td>\n",
              "      <td>1.0</td>\n",
              "      <td>NaN</td>\n",
              "      <td>1.0</td>\n",
              "      <td>4.0</td>\n",
              "      <td>7.0</td>\n",
              "      <td>5.0</td>\n",
              "      <td>1.0</td>\n",
              "      <td>4.0</td>\n",
              "      <td>4.0</td>\n",
              "      <td>4</td>\n",
              "      <td>FOOD</td>\n",
              "      <td>SINGLE_BUYER</td>\n",
              "      <td>NaN</td>\n",
              "      <td>1</td>\n",
              "      <td>4</td>\n",
              "    </tr>\n",
              "    <tr>\n",
              "      <th>109613</th>\n",
              "      <td>13809</td>\n",
              "      <td>NaN</td>\n",
              "      <td>NaN</td>\n",
              "      <td>NaN</td>\n",
              "      <td>NaN</td>\n",
              "      <td>NaN</td>\n",
              "      <td>NaN</td>\n",
              "      <td>NaN</td>\n",
              "      <td>NaN</td>\n",
              "      <td>NaN</td>\n",
              "      <td>NaN</td>\n",
              "      <td>NaN</td>\n",
              "      <td>NaN</td>\n",
              "      <td>NaN</td>\n",
              "      <td>NaN</td>\n",
              "      <td>NaN</td>\n",
              "      <td>NaN</td>\n",
              "      <td>NaN</td>\n",
              "      <td>NaN</td>\n",
              "      <td>NaN</td>\n",
              "      <td>6.0</td>\n",
              "      <td>5.0</td>\n",
              "      <td>5.0</td>\n",
              "      <td>5.0</td>\n",
              "      <td>5.0</td>\n",
              "      <td>5.0</td>\n",
              "      <td>5.0</td>\n",
              "      <td>5.0</td>\n",
              "      <td>NaN</td>\n",
              "      <td>NaN</td>\n",
              "      <td>10</td>\n",
              "      <td>NaN</td>\n",
              "      <td>NaN</td>\n",
              "      <td>NaN</td>\n",
              "      <td>10</td>\n",
              "      <td>10</td>\n",
              "      <td>NaN</td>\n",
              "      <td>NaN</td>\n",
              "      <td>NaN</td>\n",
              "      <td>NaN</td>\n",
              "      <td>...</td>\n",
              "      <td>4.0</td>\n",
              "      <td>5.0</td>\n",
              "      <td>NaN</td>\n",
              "      <td>6</td>\n",
              "      <td>3</td>\n",
              "      <td>6</td>\n",
              "      <td>6</td>\n",
              "      <td>7</td>\n",
              "      <td>3</td>\n",
              "      <td>5</td>\n",
              "      <td>5</td>\n",
              "      <td>5</td>\n",
              "      <td>4</td>\n",
              "      <td>7</td>\n",
              "      <td>2</td>\n",
              "      <td>3</td>\n",
              "      <td>1</td>\n",
              "      <td>NaN</td>\n",
              "      <td>NaN</td>\n",
              "      <td>NaN</td>\n",
              "      <td>NaN</td>\n",
              "      <td>NaN</td>\n",
              "      <td>NaN</td>\n",
              "      <td>NaN</td>\n",
              "      <td>NaN</td>\n",
              "      <td>NaN</td>\n",
              "      <td>NaN</td>\n",
              "      <td>NaN</td>\n",
              "      <td>NaN</td>\n",
              "      <td>NaN</td>\n",
              "      <td>NaN</td>\n",
              "      <td>NaN</td>\n",
              "      <td>NaN</td>\n",
              "      <td>NaN</td>\n",
              "      <td>3</td>\n",
              "      <td>FOOD</td>\n",
              "      <td>SINGLE_BUYER</td>\n",
              "      <td>NaN</td>\n",
              "      <td>2</td>\n",
              "      <td>2</td>\n",
              "    </tr>\n",
              "    <tr>\n",
              "      <th>161806</th>\n",
              "      <td>77734</td>\n",
              "      <td>1.0</td>\n",
              "      <td>1.0</td>\n",
              "      <td>11.0</td>\n",
              "      <td>NaN</td>\n",
              "      <td>NaN</td>\n",
              "      <td>NaN</td>\n",
              "      <td>NaN</td>\n",
              "      <td>11.0</td>\n",
              "      <td>1.0</td>\n",
              "      <td>NaN</td>\n",
              "      <td>NaN</td>\n",
              "      <td>3.0</td>\n",
              "      <td>1.0</td>\n",
              "      <td>NaN</td>\n",
              "      <td>3.0</td>\n",
              "      <td>6.0</td>\n",
              "      <td>4A</td>\n",
              "      <td>4.0</td>\n",
              "      <td>22.0</td>\n",
              "      <td>3.0</td>\n",
              "      <td>3.0</td>\n",
              "      <td>2.0</td>\n",
              "      <td>1.0</td>\n",
              "      <td>5.0</td>\n",
              "      <td>5.0</td>\n",
              "      <td>5.0</td>\n",
              "      <td>5.0</td>\n",
              "      <td>NaN</td>\n",
              "      <td>NaN</td>\n",
              "      <td>10</td>\n",
              "      <td>NaN</td>\n",
              "      <td>NaN</td>\n",
              "      <td>NaN</td>\n",
              "      <td>10</td>\n",
              "      <td>10</td>\n",
              "      <td>NaN</td>\n",
              "      <td>NaN</td>\n",
              "      <td>6.0</td>\n",
              "      <td>7.0</td>\n",
              "      <td>...</td>\n",
              "      <td>4.0</td>\n",
              "      <td>4.0</td>\n",
              "      <td>2.0</td>\n",
              "      <td>3</td>\n",
              "      <td>3</td>\n",
              "      <td>4</td>\n",
              "      <td>1</td>\n",
              "      <td>3</td>\n",
              "      <td>4</td>\n",
              "      <td>7</td>\n",
              "      <td>6</td>\n",
              "      <td>3</td>\n",
              "      <td>3</td>\n",
              "      <td>5</td>\n",
              "      <td>6</td>\n",
              "      <td>4</td>\n",
              "      <td>6</td>\n",
              "      <td>NaN</td>\n",
              "      <td>NaN</td>\n",
              "      <td>2.0</td>\n",
              "      <td>NaN</td>\n",
              "      <td>4.0</td>\n",
              "      <td>5.0</td>\n",
              "      <td>NaN</td>\n",
              "      <td>NaN</td>\n",
              "      <td>1.0</td>\n",
              "      <td>1.0</td>\n",
              "      <td>1.0</td>\n",
              "      <td>2.0</td>\n",
              "      <td>4.0</td>\n",
              "      <td>2.0</td>\n",
              "      <td>2.0</td>\n",
              "      <td>9.0</td>\n",
              "      <td>4.0</td>\n",
              "      <td>1</td>\n",
              "      <td>COSMETIC_AND_FOOD</td>\n",
              "      <td>MULTI_BUYER</td>\n",
              "      <td>NaN</td>\n",
              "      <td>1</td>\n",
              "      <td>4</td>\n",
              "    </tr>\n",
              "    <tr>\n",
              "      <th>164190</th>\n",
              "      <td>44500</td>\n",
              "      <td>NaN</td>\n",
              "      <td>NaN</td>\n",
              "      <td>NaN</td>\n",
              "      <td>NaN</td>\n",
              "      <td>NaN</td>\n",
              "      <td>NaN</td>\n",
              "      <td>NaN</td>\n",
              "      <td>NaN</td>\n",
              "      <td>NaN</td>\n",
              "      <td>NaN</td>\n",
              "      <td>NaN</td>\n",
              "      <td>NaN</td>\n",
              "      <td>NaN</td>\n",
              "      <td>NaN</td>\n",
              "      <td>NaN</td>\n",
              "      <td>NaN</td>\n",
              "      <td>NaN</td>\n",
              "      <td>NaN</td>\n",
              "      <td>NaN</td>\n",
              "      <td>6.0</td>\n",
              "      <td>5.0</td>\n",
              "      <td>5.0</td>\n",
              "      <td>5.0</td>\n",
              "      <td>5.0</td>\n",
              "      <td>5.0</td>\n",
              "      <td>5.0</td>\n",
              "      <td>5.0</td>\n",
              "      <td>NaN</td>\n",
              "      <td>NaN</td>\n",
              "      <td>10</td>\n",
              "      <td>NaN</td>\n",
              "      <td>NaN</td>\n",
              "      <td>NaN</td>\n",
              "      <td>10</td>\n",
              "      <td>10</td>\n",
              "      <td>NaN</td>\n",
              "      <td>NaN</td>\n",
              "      <td>NaN</td>\n",
              "      <td>NaN</td>\n",
              "      <td>...</td>\n",
              "      <td>4.0</td>\n",
              "      <td>5.0</td>\n",
              "      <td>NaN</td>\n",
              "      <td>6</td>\n",
              "      <td>3</td>\n",
              "      <td>6</td>\n",
              "      <td>6</td>\n",
              "      <td>7</td>\n",
              "      <td>3</td>\n",
              "      <td>5</td>\n",
              "      <td>5</td>\n",
              "      <td>5</td>\n",
              "      <td>4</td>\n",
              "      <td>7</td>\n",
              "      <td>2</td>\n",
              "      <td>3</td>\n",
              "      <td>1</td>\n",
              "      <td>NaN</td>\n",
              "      <td>NaN</td>\n",
              "      <td>NaN</td>\n",
              "      <td>NaN</td>\n",
              "      <td>NaN</td>\n",
              "      <td>NaN</td>\n",
              "      <td>NaN</td>\n",
              "      <td>NaN</td>\n",
              "      <td>NaN</td>\n",
              "      <td>NaN</td>\n",
              "      <td>NaN</td>\n",
              "      <td>NaN</td>\n",
              "      <td>NaN</td>\n",
              "      <td>NaN</td>\n",
              "      <td>NaN</td>\n",
              "      <td>NaN</td>\n",
              "      <td>NaN</td>\n",
              "      <td>3</td>\n",
              "      <td>COSMETIC_AND_FOOD</td>\n",
              "      <td>MULTI_BUYER</td>\n",
              "      <td>NaN</td>\n",
              "      <td>2</td>\n",
              "      <td>1</td>\n",
              "    </tr>\n",
              "  </tbody>\n",
              "</table>\n",
              "<p>7 rows × 369 columns</p>\n",
              "</div>"
            ],
            "text/plain": [
              "          LNR  AGER_TYP  ...  ANREDE_KZ  ALTERSKATEGORIE_GROB\n",
              "9335    81232       NaN  ...          2                     2\n",
              "117356  78639       2.0  ...          2                     3\n",
              "106663  89504       NaN  ...          1                     1\n",
              "42632   92280       NaN  ...          1                     4\n",
              "109613  13809       NaN  ...          2                     2\n",
              "161806  77734       1.0  ...          1                     4\n",
              "164190  44500       NaN  ...          2                     1\n",
              "\n",
              "[7 rows x 369 columns]"
            ]
          },
          "execution_count": 22,
          "metadata": {},
          "output_type": "execute_result"
        }
      ],
      "source": [
        "custrs.sample(7)"
      ]
    },
    {
      "cell_type": "code",
      "execution_count": 23,
      "metadata": {
        "colab": {
          "base_uri": "https://localhost:8080/"
        },
        "id": "dKI90x7crBOI",
        "outputId": "5f3c13d0-153b-4429-a44e-cc9b2fb406cd"
      },
      "outputs": [
        {
          "name": "stdout",
          "output_type": "stream",
          "text": [
            "<class 'pandas.core.frame.DataFrame'>\n",
            "RangeIndex: 191652 entries, 0 to 191651\n",
            "Columns: 369 entries, LNR to ALTERSKATEGORIE_GROB\n",
            "dtypes: datetime64[ns](1), float64(321), int64(42), object(5)\n",
            "memory usage: 539.5+ MB\n"
          ]
        }
      ],
      "source": [
        "custrs.info()"
      ]
    },
    {
      "cell_type": "code",
      "execution_count": 24,
      "metadata": {
        "colab": {
          "base_uri": "https://localhost:8080/"
        },
        "id": "hlyDYdvNRjhM",
        "outputId": "91e7a0f1-8b46-4e57-ff84-973c0c66a412"
      },
      "outputs": [
        {
          "data": {
            "text/plain": [
              "float64           320\n",
              "int64              42\n",
              "object              3\n",
              "datetime64[ns]      1\n",
              "dtype: int64"
            ]
          },
          "execution_count": 24,
          "metadata": {},
          "output_type": "execute_result"
        }
      ],
      "source": [
        "# Check the types of columns\n",
        "azdias.dtypes.value_counts()"
      ]
    },
    {
      "cell_type": "code",
      "execution_count": 25,
      "metadata": {
        "colab": {
          "base_uri": "https://localhost:8080/"
        },
        "id": "g5hKufbmPf9g",
        "outputId": "18d86e86-b6d0-45f4-c909-a6ecbdfe0986"
      },
      "outputs": [
        {
          "data": {
            "text/plain": [
              "float64           321\n",
              "int64              42\n",
              "object              5\n",
              "datetime64[ns]      1\n",
              "dtype: int64"
            ]
          },
          "execution_count": 25,
          "metadata": {},
          "output_type": "execute_result"
        }
      ],
      "source": [
        "custrs.dtypes.value_counts()"
      ]
    },
    {
      "cell_type": "markdown",
      "metadata": {
        "id": "bD8MlEsyPuEh"
      },
      "source": [
        "So, in `custrs` dataset the three extra columns (`'CUSTOMER_GROUP', 'ONLINE_PURCHASE', and 'PRODUCT_GROUP'`) are imported as one `float64` and two `object` dtypes, comparing to `azdias` columns."
      ]
    },
    {
      "cell_type": "code",
      "execution_count": 26,
      "metadata": {
        "colab": {
          "base_uri": "https://localhost:8080/",
          "height": 204
        },
        "id": "CwoMvCuVVIIA",
        "outputId": "876e093e-d8fa-4bfa-cdad-b8e4a06c3891"
      },
      "outputs": [
        {
          "data": {
            "text/html": [
              "<div>\n",
              "<style scoped>\n",
              "    .dataframe tbody tr th:only-of-type {\n",
              "        vertical-align: middle;\n",
              "    }\n",
              "\n",
              "    .dataframe tbody tr th {\n",
              "        vertical-align: top;\n",
              "    }\n",
              "\n",
              "    .dataframe thead th {\n",
              "        text-align: right;\n",
              "    }\n",
              "</style>\n",
              "<table border=\"1\" class=\"dataframe\">\n",
              "  <thead>\n",
              "    <tr style=\"text-align: right;\">\n",
              "      <th></th>\n",
              "      <th>CAMEO_DEU_2015</th>\n",
              "      <th>D19_LETZTER_KAUF_BRANCHE</th>\n",
              "      <th>OST_WEST_KZ</th>\n",
              "    </tr>\n",
              "  </thead>\n",
              "  <tbody>\n",
              "    <tr>\n",
              "      <th>0</th>\n",
              "      <td>5B</td>\n",
              "      <td>D19_SONSTIGE</td>\n",
              "      <td>W</td>\n",
              "    </tr>\n",
              "    <tr>\n",
              "      <th>1</th>\n",
              "      <td>8A</td>\n",
              "      <td>D19_UNBEKANNT</td>\n",
              "      <td>W</td>\n",
              "    </tr>\n",
              "    <tr>\n",
              "      <th>2</th>\n",
              "      <td>5B</td>\n",
              "      <td>NaN</td>\n",
              "      <td>W</td>\n",
              "    </tr>\n",
              "    <tr>\n",
              "      <th>3</th>\n",
              "      <td>7B</td>\n",
              "      <td>D19_UNBEKANNT</td>\n",
              "      <td>W</td>\n",
              "    </tr>\n",
              "    <tr>\n",
              "      <th>4</th>\n",
              "      <td>8B</td>\n",
              "      <td>D19_UNBEKANNT</td>\n",
              "      <td>W</td>\n",
              "    </tr>\n",
              "  </tbody>\n",
              "</table>\n",
              "</div>"
            ],
            "text/plain": [
              "  CAMEO_DEU_2015 D19_LETZTER_KAUF_BRANCHE OST_WEST_KZ\n",
              "0             5B             D19_SONSTIGE           W\n",
              "1             8A            D19_UNBEKANNT           W\n",
              "2             5B                      NaN           W\n",
              "3             7B            D19_UNBEKANNT           W\n",
              "4             8B            D19_UNBEKANNT           W"
            ]
          },
          "execution_count": 26,
          "metadata": {},
          "output_type": "execute_result"
        }
      ],
      "source": [
        "azd_obj_cols = azdias.select_dtypes(include=object)\n",
        "\n",
        "azd_obj_cols.head()"
      ]
    },
    {
      "cell_type": "code",
      "execution_count": 27,
      "metadata": {
        "colab": {
          "base_uri": "https://localhost:8080/",
          "height": 204
        },
        "id": "DwscKVZiQTDV",
        "outputId": "68cae688-e03b-4539-a5af-b1c260967780"
      },
      "outputs": [
        {
          "data": {
            "text/html": [
              "<div>\n",
              "<style scoped>\n",
              "    .dataframe tbody tr th:only-of-type {\n",
              "        vertical-align: middle;\n",
              "    }\n",
              "\n",
              "    .dataframe tbody tr th {\n",
              "        vertical-align: top;\n",
              "    }\n",
              "\n",
              "    .dataframe thead th {\n",
              "        text-align: right;\n",
              "    }\n",
              "</style>\n",
              "<table border=\"1\" class=\"dataframe\">\n",
              "  <thead>\n",
              "    <tr style=\"text-align: right;\">\n",
              "      <th></th>\n",
              "      <th>CAMEO_DEU_2015</th>\n",
              "      <th>D19_LETZTER_KAUF_BRANCHE</th>\n",
              "      <th>OST_WEST_KZ</th>\n",
              "      <th>PRODUCT_GROUP</th>\n",
              "      <th>CUSTOMER_GROUP</th>\n",
              "    </tr>\n",
              "  </thead>\n",
              "  <tbody>\n",
              "    <tr>\n",
              "      <th>0</th>\n",
              "      <td>1A</td>\n",
              "      <td>D19_UNBEKANNT</td>\n",
              "      <td>W</td>\n",
              "      <td>COSMETIC_AND_FOOD</td>\n",
              "      <td>MULTI_BUYER</td>\n",
              "    </tr>\n",
              "    <tr>\n",
              "      <th>1</th>\n",
              "      <td>NaN</td>\n",
              "      <td>D19_BANKEN_GROSS</td>\n",
              "      <td>NaN</td>\n",
              "      <td>FOOD</td>\n",
              "      <td>SINGLE_BUYER</td>\n",
              "    </tr>\n",
              "    <tr>\n",
              "      <th>2</th>\n",
              "      <td>5D</td>\n",
              "      <td>D19_UNBEKANNT</td>\n",
              "      <td>W</td>\n",
              "      <td>COSMETIC_AND_FOOD</td>\n",
              "      <td>MULTI_BUYER</td>\n",
              "    </tr>\n",
              "    <tr>\n",
              "      <th>3</th>\n",
              "      <td>4C</td>\n",
              "      <td>D19_NAHRUNGSERGAENZUNG</td>\n",
              "      <td>W</td>\n",
              "      <td>COSMETIC</td>\n",
              "      <td>MULTI_BUYER</td>\n",
              "    </tr>\n",
              "    <tr>\n",
              "      <th>4</th>\n",
              "      <td>7B</td>\n",
              "      <td>D19_SCHUHE</td>\n",
              "      <td>W</td>\n",
              "      <td>FOOD</td>\n",
              "      <td>MULTI_BUYER</td>\n",
              "    </tr>\n",
              "  </tbody>\n",
              "</table>\n",
              "</div>"
            ],
            "text/plain": [
              "  CAMEO_DEU_2015 D19_LETZTER_KAUF_BRANCHE  ...      PRODUCT_GROUP CUSTOMER_GROUP\n",
              "0             1A            D19_UNBEKANNT  ...  COSMETIC_AND_FOOD    MULTI_BUYER\n",
              "1            NaN         D19_BANKEN_GROSS  ...               FOOD   SINGLE_BUYER\n",
              "2             5D            D19_UNBEKANNT  ...  COSMETIC_AND_FOOD    MULTI_BUYER\n",
              "3             4C   D19_NAHRUNGSERGAENZUNG  ...           COSMETIC    MULTI_BUYER\n",
              "4             7B               D19_SCHUHE  ...               FOOD    MULTI_BUYER\n",
              "\n",
              "[5 rows x 5 columns]"
            ]
          },
          "execution_count": 27,
          "metadata": {},
          "output_type": "execute_result"
        }
      ],
      "source": [
        "cus_obj_cols = custrs.select_dtypes(include=object)\n",
        "\n",
        "cus_obj_cols.head()"
      ]
    },
    {
      "cell_type": "markdown",
      "metadata": {
        "id": "Amx6vfU944fa"
      },
      "source": [
        "Convert the remaining 3 object columns (`'CAMEO_DEU_2015', 'D19_LETZTER_KAUF_BRANCHE', 'OST_WEST_KZ'`) to **categorical**:"
      ]
    },
    {
      "cell_type": "code",
      "execution_count": 28,
      "metadata": {
        "colab": {
          "base_uri": "https://localhost:8080/"
        },
        "id": "42h5zoCi44fa",
        "outputId": "1df9354f-ca5b-4573-a1e5-9302249df6e9"
      },
      "outputs": [
        {
          "data": {
            "text/plain": [
              "CAMEO_DEU_2015              category\n",
              "D19_LETZTER_KAUF_BRANCHE    category\n",
              "OST_WEST_KZ                 category\n",
              "dtype: object"
            ]
          },
          "execution_count": 28,
          "metadata": {},
          "output_type": "execute_result"
        }
      ],
      "source": [
        "# Get the names of the columns to convert\n",
        "azd_cat_cols = azd_obj_cols.columns.tolist()\n",
        "\n",
        "# Convert all three columns using astype method\n",
        "azdias[azd_cat_cols] = azdias[azd_cat_cols].astype('category')\n",
        "\n",
        "azdias[azd_cat_cols].dtypes"
      ]
    },
    {
      "cell_type": "code",
      "execution_count": 29,
      "metadata": {
        "colab": {
          "base_uri": "https://localhost:8080/"
        },
        "id": "qRJAM55hzF91",
        "outputId": "7af99410-3076-4271-e1e2-8eadb7c29ecd"
      },
      "outputs": [
        {
          "data": {
            "text/plain": [
              "float64           320\n",
              "int64              42\n",
              "category            1\n",
              "category            1\n",
              "category            1\n",
              "datetime64[ns]      1\n",
              "dtype: int64"
            ]
          },
          "execution_count": 29,
          "metadata": {},
          "output_type": "execute_result"
        }
      ],
      "source": [
        "# Check the types of columns\n",
        "azdias.dtypes.value_counts()"
      ]
    },
    {
      "cell_type": "markdown",
      "metadata": {
        "id": "dAlDDT59WC37"
      },
      "source": [
        "## Explore attributes in the dataset(s) and excel files\n",
        "\n",
        "### 1. Compare atributes between the two excel files\n",
        "\n",
        "Read in the excel files with attributes related information"
      ]
    },
    {
      "cell_type": "code",
      "execution_count": 30,
      "metadata": {
        "colab": {
          "base_uri": "https://localhost:8080/",
          "height": 266
        },
        "id": "hzcj2Z9U4qQl",
        "outputId": "4756d84f-78df-482f-d71d-c0748e06d48a"
      },
      "outputs": [
        {
          "data": {
            "text/html": [
              "<div>\n",
              "<style scoped>\n",
              "    .dataframe tbody tr th:only-of-type {\n",
              "        vertical-align: middle;\n",
              "    }\n",
              "\n",
              "    .dataframe tbody tr th {\n",
              "        vertical-align: top;\n",
              "    }\n",
              "\n",
              "    .dataframe thead th {\n",
              "        text-align: right;\n",
              "    }\n",
              "</style>\n",
              "<table border=\"1\" class=\"dataframe\">\n",
              "  <thead>\n",
              "    <tr style=\"text-align: right;\">\n",
              "      <th></th>\n",
              "      <th>Attribute</th>\n",
              "      <th>Description</th>\n",
              "      <th>Value</th>\n",
              "      <th>Meaning</th>\n",
              "    </tr>\n",
              "  </thead>\n",
              "  <tbody>\n",
              "    <tr>\n",
              "      <th>0</th>\n",
              "      <td>AGER_TYP</td>\n",
              "      <td>best-ager typology</td>\n",
              "      <td>-1</td>\n",
              "      <td>unknown</td>\n",
              "    </tr>\n",
              "    <tr>\n",
              "      <th>1</th>\n",
              "      <td>NaN</td>\n",
              "      <td>NaN</td>\n",
              "      <td>0</td>\n",
              "      <td>no classification possible</td>\n",
              "    </tr>\n",
              "    <tr>\n",
              "      <th>2</th>\n",
              "      <td>NaN</td>\n",
              "      <td>NaN</td>\n",
              "      <td>1</td>\n",
              "      <td>passive elderly</td>\n",
              "    </tr>\n",
              "    <tr>\n",
              "      <th>3</th>\n",
              "      <td>NaN</td>\n",
              "      <td>NaN</td>\n",
              "      <td>2</td>\n",
              "      <td>cultural elderly</td>\n",
              "    </tr>\n",
              "    <tr>\n",
              "      <th>4</th>\n",
              "      <td>NaN</td>\n",
              "      <td>NaN</td>\n",
              "      <td>3</td>\n",
              "      <td>experience-driven elderly</td>\n",
              "    </tr>\n",
              "    <tr>\n",
              "      <th>5</th>\n",
              "      <td>ALTERSKATEGORIE_GROB</td>\n",
              "      <td>age classification through prename analysis</td>\n",
              "      <td>-1, 0</td>\n",
              "      <td>unknown</td>\n",
              "    </tr>\n",
              "    <tr>\n",
              "      <th>6</th>\n",
              "      <td>NaN</td>\n",
              "      <td>NaN</td>\n",
              "      <td>1</td>\n",
              "      <td>&lt; 30 years</td>\n",
              "    </tr>\n",
              "  </tbody>\n",
              "</table>\n",
              "</div>"
            ],
            "text/plain": [
              "              Attribute  ...                     Meaning\n",
              "0              AGER_TYP  ...                     unknown\n",
              "1                   NaN  ...  no classification possible\n",
              "2                   NaN  ...             passive elderly\n",
              "3                   NaN  ...            cultural elderly\n",
              "4                   NaN  ...   experience-driven elderly\n",
              "5  ALTERSKATEGORIE_GROB  ...                     unknown\n",
              "6                   NaN  ...                  < 30 years\n",
              "\n",
              "[7 rows x 4 columns]"
            ]
          },
          "execution_count": 30,
          "metadata": {},
          "output_type": "execute_result"
        }
      ],
      "source": [
        "# Read in the mapping of data values for each feature in the DIAS dataset.\n",
        "attr_cols = range(1,5)  # skip the first column as it is empty\n",
        "dfdias_attrib = pd.read_excel(dias_attrib, header=1, usecols=attr_cols)\n",
        "dfdias_attrib.head(7)"
      ]
    },
    {
      "cell_type": "code",
      "execution_count": 31,
      "metadata": {
        "colab": {
          "base_uri": "https://localhost:8080/",
          "height": 266
        },
        "id": "Pu5PJGsSR3Qn",
        "outputId": "9c23a699-a178-43b0-fd8c-dbecaef740cb"
      },
      "outputs": [
        {
          "data": {
            "text/html": [
              "<div>\n",
              "<style scoped>\n",
              "    .dataframe tbody tr th:only-of-type {\n",
              "        vertical-align: middle;\n",
              "    }\n",
              "\n",
              "    .dataframe tbody tr th {\n",
              "        vertical-align: top;\n",
              "    }\n",
              "\n",
              "    .dataframe thead th {\n",
              "        text-align: right;\n",
              "    }\n",
              "</style>\n",
              "<table border=\"1\" class=\"dataframe\">\n",
              "  <thead>\n",
              "    <tr style=\"text-align: right;\">\n",
              "      <th></th>\n",
              "      <th>Information level</th>\n",
              "      <th>Attribute</th>\n",
              "      <th>Description</th>\n",
              "      <th>Additional notes</th>\n",
              "    </tr>\n",
              "  </thead>\n",
              "  <tbody>\n",
              "    <tr>\n",
              "      <th>0</th>\n",
              "      <td>NaN</td>\n",
              "      <td>AGER_TYP</td>\n",
              "      <td>best-ager typology</td>\n",
              "      <td>in cooperation with Kantar TNS; the informatio...</td>\n",
              "    </tr>\n",
              "    <tr>\n",
              "      <th>1</th>\n",
              "      <td>Person</td>\n",
              "      <td>ALTERSKATEGORIE_GROB</td>\n",
              "      <td>age through prename analysis</td>\n",
              "      <td>modelled on millions of first name-age-referen...</td>\n",
              "    </tr>\n",
              "    <tr>\n",
              "      <th>2</th>\n",
              "      <td>NaN</td>\n",
              "      <td>ANREDE_KZ</td>\n",
              "      <td>gender</td>\n",
              "      <td>NaN</td>\n",
              "    </tr>\n",
              "    <tr>\n",
              "      <th>3</th>\n",
              "      <td>NaN</td>\n",
              "      <td>CJT_GESAMTTYP</td>\n",
              "      <td>Customer-Journey-Typology relating to the pref...</td>\n",
              "      <td>relating to the preferred information, marketi...</td>\n",
              "    </tr>\n",
              "    <tr>\n",
              "      <th>4</th>\n",
              "      <td>NaN</td>\n",
              "      <td>FINANZ_MINIMALIST</td>\n",
              "      <td>financial typology: low financial interest</td>\n",
              "      <td>Gfk-Typology based on a representative househo...</td>\n",
              "    </tr>\n",
              "    <tr>\n",
              "      <th>5</th>\n",
              "      <td>NaN</td>\n",
              "      <td>FINANZ_SPARER</td>\n",
              "      <td>financial typology: money saver</td>\n",
              "      <td>NaN</td>\n",
              "    </tr>\n",
              "    <tr>\n",
              "      <th>6</th>\n",
              "      <td>NaN</td>\n",
              "      <td>FINANZ_VORSORGER</td>\n",
              "      <td>financial typology: be prepared</td>\n",
              "      <td>NaN</td>\n",
              "    </tr>\n",
              "  </tbody>\n",
              "</table>\n",
              "</div>"
            ],
            "text/plain": [
              "  Information level  ...                                   Additional notes\n",
              "0               NaN  ...  in cooperation with Kantar TNS; the informatio...\n",
              "1            Person  ...  modelled on millions of first name-age-referen...\n",
              "2               NaN  ...                                                NaN\n",
              "3               NaN  ...  relating to the preferred information, marketi...\n",
              "4               NaN  ...  Gfk-Typology based on a representative househo...\n",
              "5               NaN  ...                                                NaN\n",
              "6               NaN  ...                                                NaN\n",
              "\n",
              "[7 rows x 4 columns]"
            ]
          },
          "execution_count": 31,
          "metadata": {},
          "output_type": "execute_result"
        }
      ],
      "source": [
        "# DIAS Information Levels - Attributes 2017.xlsx\n",
        "dfdias_info = pd.read_excel(dias_info, header=1, usecols=attr_cols)\n",
        "dfdias_info.head(7)"
      ]
    },
    {
      "cell_type": "code",
      "execution_count": 32,
      "metadata": {
        "colab": {
          "base_uri": "https://localhost:8080/"
        },
        "id": "dl6bzueqWL3m",
        "outputId": "bcd5f8e8-28e8-4454-8ff0-d56f0373c3e1"
      },
      "outputs": [
        {
          "data": {
            "text/plain": [
              "(313, 314, 366, 369)"
            ]
          },
          "execution_count": 32,
          "metadata": {},
          "output_type": "execute_result"
        }
      ],
      "source": [
        "# Get attributes' names from the Attribute column in the two excel files\n",
        "\n",
        "# `DIAS Information Levels - Attributes 2017.xlsx`\n",
        "dfdias_info_attrs = dfdias_info.Attribute.value_counts().index.values\n",
        "\n",
        "# `DIAS Attributes - Values 2017.xlsx`\n",
        "attrbf_names = dfdias_attrib.Attribute.value_counts().index.values\n",
        "\n",
        "# Get the attribute names from `azdias` df columns:\n",
        "azd_attr_names = azdias.columns.values\n",
        "\n",
        "# Get the attribute names from `custrs` df columns:\n",
        "cus_attr_names = custrs.columns.values\n",
        "\n",
        "dfdias_info_attrs.size, attrbf_names.size, azd_attr_names.size, cus_attr_names.size"
      ]
    },
    {
      "cell_type": "code",
      "execution_count": 33,
      "metadata": {
        "colab": {
          "base_uri": "https://localhost:8080/"
        },
        "id": "y4kljTWMESiB",
        "outputId": "43951f10-c5f1-4099-f05b-e5134f7baffa"
      },
      "outputs": [
        {
          "data": {
            "text/plain": [
              "300"
            ]
          },
          "execution_count": 33,
          "metadata": {},
          "output_type": "execute_result"
        }
      ],
      "source": [
        "# Get the set intersetion of the two arrays:\n",
        "# We are comparing names as they were originaly written in the files.\n",
        "xcl_attr_intersc = np.intersect1d(attrbf_names, dfdias_info_attrs)\n",
        "\n",
        "xcl_attr_intersc.size"
      ]
    },
    {
      "cell_type": "code",
      "execution_count": 34,
      "metadata": {
        "colab": {
          "base_uri": "https://localhost:8080/"
        },
        "id": "SIEjV7gVGhoR",
        "outputId": "6ab1e306-699d-4f44-c3b1-8861d8e91972"
      },
      "outputs": [
        {
          "data": {
            "text/plain": [
              "(array(['BIP_FLAG', 'D19_BANKEN_ANZ_12', 'D19_BANKEN_ANZ_24',\n",
              "        'D19_GESAMT_ANZ_12', 'D19_GESAMT_ANZ_24', 'D19_LOTTO_RZ',\n",
              "        'D19_TELKO_ANZ_12', 'D19_TELKO_ANZ_24', 'D19_VERSAND_ANZ_12',\n",
              "        'D19_VERSAND_ANZ_24', 'D19_VERSI_ANZ_12', 'D19_VERSI_ANZ_24',\n",
              "        'KBA13_CCM_3000', 'KBA13_CCM_3001'], dtype=object), 14)"
            ]
          },
          "execution_count": 34,
          "metadata": {},
          "output_type": "execute_result"
        }
      ],
      "source": [
        "# Attributes values excel file contains some different attributes compared to information excel file:\n",
        "xcl_attr_diff_vals_info = np.setdiff1d(attrbf_names, dfdias_info_attrs)\n",
        "\n",
        "xcl_attr_diff_vals_info, xcl_attr_diff_vals_info.size"
      ]
    },
    {
      "cell_type": "code",
      "execution_count": 35,
      "metadata": {
        "colab": {
          "base_uri": "https://localhost:8080/"
        },
        "id": "xKErHY9pHtNh",
        "outputId": "f406c385-9245-4382-dcfb-991e81c9ac1a"
      },
      "outputs": [
        {
          "data": {
            "text/plain": [
              "(array(['ARBEIT', 'D19_BANKEN_ ANZ_12             D19_BANKEN_ ANZ_24',\n",
              "        'D19_GESAMT_ANZ_12                                    D19_GESAMT_ANZ_24',\n",
              "        'D19_TELKO_ ANZ_12                  D19_TELKO_ ANZ_24',\n",
              "        'D19_VERSAND_ ANZ_12          D19_VERSAND_ ANZ_24',\n",
              "        'D19_VERSI_ ANZ_12                                       D19_VERSI_ ANZ_24',\n",
              "        'D19_VERSI_DATUM', 'D19_VERSI_OFFLINE_DATUM',\n",
              "        'D19_VERSI_ONLINE_DATUM', 'EINWOHNER', 'GKZ', 'PLZ', 'PLZ8'],\n",
              "       dtype=object), 13)"
            ]
          },
          "execution_count": 35,
          "metadata": {},
          "output_type": "execute_result"
        }
      ],
      "source": [
        "# Information excel file contains some different attributes compared to attributes excel file:\n",
        "xcl_attr_diff_info_vals = np.setdiff1d(dfdias_info_attrs, attrbf_names)\n",
        "\n",
        "xcl_attr_diff_info_vals, xcl_attr_diff_info_vals.size"
      ]
    },
    {
      "cell_type": "markdown",
      "metadata": {
        "id": "fpy0m26gLLzw"
      },
      "source": [
        "Taking the symmetric difference of the attributes in excel files, we can observe that there are more common attributes, but we must perform some string operations to bring them in similar forms for comparison."
      ]
    },
    {
      "cell_type": "code",
      "execution_count": 36,
      "metadata": {
        "colab": {
          "base_uri": "https://localhost:8080/"
        },
        "id": "ulbAe_CfJoRs",
        "outputId": "0f1fa96f-6711-4651-9b8f-b3fce18fe518"
      },
      "outputs": [
        {
          "data": {
            "text/plain": [
              "(array(['ARBEIT', 'BIP_FLAG',\n",
              "        'D19_BANKEN_ ANZ_12             D19_BANKEN_ ANZ_24',\n",
              "        'D19_BANKEN_ANZ_12', 'D19_BANKEN_ANZ_24', 'D19_GESAMT_ANZ_12',\n",
              "        'D19_GESAMT_ANZ_12                                    D19_GESAMT_ANZ_24',\n",
              "        'D19_GESAMT_ANZ_24', 'D19_LOTTO_RZ',\n",
              "        'D19_TELKO_ ANZ_12                  D19_TELKO_ ANZ_24',\n",
              "        'D19_TELKO_ANZ_12', 'D19_TELKO_ANZ_24',\n",
              "        'D19_VERSAND_ ANZ_12          D19_VERSAND_ ANZ_24',\n",
              "        'D19_VERSAND_ANZ_12', 'D19_VERSAND_ANZ_24',\n",
              "        'D19_VERSI_ ANZ_12                                       D19_VERSI_ ANZ_24',\n",
              "        'D19_VERSI_ANZ_12', 'D19_VERSI_ANZ_24', 'D19_VERSI_DATUM',\n",
              "        'D19_VERSI_OFFLINE_DATUM', 'D19_VERSI_ONLINE_DATUM', 'EINWOHNER',\n",
              "        'GKZ', 'KBA13_CCM_3000', 'KBA13_CCM_3001', 'PLZ', 'PLZ8'],\n",
              "       dtype=object), 27)"
            ]
          },
          "execution_count": 36,
          "metadata": {},
          "output_type": "execute_result"
        }
      ],
      "source": [
        "# Symmetric difference of the two attributes' sets.\n",
        "xcl_attrs_symtrc_diff = np.union1d(xcl_attr_diff_vals_info, xcl_attr_diff_info_vals)\n",
        "\n",
        "xcl_attrs_symtrc_diff, xcl_attrs_symtrc_diff.size"
      ]
    },
    {
      "cell_type": "markdown",
      "metadata": {
        "id": "Z3_w1vf4PPlc"
      },
      "source": [
        "We will fix the names of the attributes that seem different in the `DIAS Information Levels - Attributes 2017.xlsx` (or info) file.\n",
        "\n",
        "* Parse lines containing more than one attribute"
      ]
    },
    {
      "cell_type": "code",
      "execution_count": 37,
      "metadata": {
        "colab": {
          "base_uri": "https://localhost:8080/"
        },
        "id": "d5uYN0XWyDF2",
        "outputId": "d1bef354-aca7-43c2-82c8-d37ed7cf9b9a"
      },
      "outputs": [
        {
          "data": {
            "text/plain": [
              "(['ARBEIT',\n",
              "  'D19_BANKEN_ ANZ_12',\n",
              "  'D19_BANKEN_ ANZ_24',\n",
              "  'D19_GESAMT_ANZ_12',\n",
              "  'D19_GESAMT_ANZ_24',\n",
              "  'D19_TELKO_ ANZ_12',\n",
              "  'D19_TELKO_ ANZ_24',\n",
              "  'D19_VERSAND_ ANZ_12',\n",
              "  'D19_VERSAND_ ANZ_24',\n",
              "  'D19_VERSI_ ANZ_12',\n",
              "  'D19_VERSI_ ANZ_24',\n",
              "  'D19_VERSI_DATUM',\n",
              "  'D19_VERSI_OFFLINE_DATUM',\n",
              "  'D19_VERSI_ONLINE_DATUM',\n",
              "  'EINWOHNER',\n",
              "  'GKZ',\n",
              "  'PLZ',\n",
              "  'PLZ8'],\n",
              " 18)"
            ]
          },
          "execution_count": 37,
          "metadata": {},
          "output_type": "execute_result"
        }
      ],
      "source": [
        "# We will create a new list splitting the lines containing more than one attribute and stripping white space:\n",
        "xcl_attr_diff_info_vals_fxd = [i.strip() for x in xcl_attr_diff_info_vals for i in x.split(\"  \", maxsplit=1)]\n",
        "\n",
        "xcl_attr_diff_info_vals_fxd, len(xcl_attr_diff_info_vals_fxd)"
      ]
    },
    {
      "cell_type": "markdown",
      "metadata": {
        "id": "kBNy939it5JY"
      },
      "source": [
        "* Expand initial attributes list to include the newly identified attributes from above."
      ]
    },
    {
      "cell_type": "code",
      "execution_count": 38,
      "metadata": {
        "colab": {
          "base_uri": "https://localhost:8080/"
        },
        "id": "aJPb5TeJz5um",
        "outputId": "b6a71446-ec23-4d67-d22f-b8db7248489c"
      },
      "outputs": [
        {
          "data": {
            "text/plain": [
              "(array(['SEMIO_FAM', 'ZABEOTYP', 'KBA05_ZUL4', 'KBA13_KW_90', 'KBA05_SEG2',\n",
              "        'KBA05_ALTER2', 'FINANZ_MINIMALIST', 'KBA05_KRSZUL',\n",
              "        'D19_TELKO_ONLINE_DATUM', 'D19_VERSI_OFFLINE_DATUM',\n",
              "        'KBA05_KRSHERST2', 'FINANZ_SPARER', 'KBA13_SITZE_5',\n",
              "        'KBA13_KRSZUL_NEU', 'KBA13_SEG_GROSSRAUMVANS', 'KBA05_MOD4',\n",
              "        'KBA13_KW_110', 'D19_ENERGIE_RZ', 'KBA13_SEG_OBEREMITTELKLASSE',\n",
              "        'D19_DROGERIEARTIKEL_RZ'], dtype='<U27'), 319)"
            ]
          },
          "execution_count": 38,
          "metadata": {},
          "output_type": "execute_result"
        }
      ],
      "source": [
        "# Our initial info attributes' list needs to be expanded to compensate for elements that were packed together.\n",
        "dfdias_info_attrs_new = []\n",
        "# Create a deep copy of the clean names list so it may be resused.\n",
        "attrs_to_append = [i for i in xcl_attr_diff_info_vals_fxd]\n",
        "# For every element in the imported attributes from information file check against the \n",
        "# fixed attribute names list and create a new list including fixed names.\n",
        "for i in dfdias_info_attrs:\n",
        "    if i in xcl_attr_diff_info_vals and len(attrs_to_append) > 0:\n",
        "        for idx, x in enumerate(attrs_to_append):\n",
        "            if i.startswith(x):\n",
        "                if len(i) > len(x):\n",
        "                    dfdias_info_attrs_new.append(''.join(x.split()))\n",
        "                    dfdias_info_attrs_new.append(''.join(attrs_to_append[idx + 1].split()))\n",
        "                    del attrs_to_append[idx + 1]\n",
        "                    del attrs_to_append[idx]\n",
        "                else:\n",
        "                    dfdias_info_attrs_new.append(x)\n",
        "                    del attrs_to_append[idx]\n",
        "                break\n",
        "    else:\n",
        "        # just copy the rest of the elements.\n",
        "        dfdias_info_attrs_new.append(i)\n",
        "\n",
        "# Convert to numpy array\n",
        "dfdias_info_attrs_new = np.array(dfdias_info_attrs_new)\n",
        "\n",
        "dfdias_info_attrs_new[60:80], dfdias_info_attrs_new.size"
      ]
    },
    {
      "cell_type": "markdown",
      "metadata": {
        "id": "JBefRNxWS3tp"
      },
      "source": [
        "Now that we have fixed the names we can compare the attributes between the two attributes' information files.\n"
      ]
    },
    {
      "cell_type": "code",
      "execution_count": 39,
      "metadata": {
        "colab": {
          "base_uri": "https://localhost:8080/"
        },
        "id": "jpVLmLZBah1Y",
        "outputId": "f811fc0b-fabe-4589-eed2-81084c441633"
      },
      "outputs": [
        {
          "data": {
            "text/plain": [
              "310"
            ]
          },
          "execution_count": 39,
          "metadata": {},
          "output_type": "execute_result"
        }
      ],
      "source": [
        "# Get the set intersetion of the two arrays:\n",
        "xcl_attr_intersc_fxd = np.intersect1d(attrbf_names, dfdias_info_attrs_new)\n",
        "\n",
        "xcl_attr_intersc_fxd.size"
      ]
    },
    {
      "cell_type": "markdown",
      "metadata": {
        "id": "rL9-ERNARBTF"
      },
      "source": [
        "Common attributes between the two files increased to 310. After this different attributes in each file become as follows:"
      ]
    },
    {
      "cell_type": "code",
      "execution_count": 40,
      "metadata": {
        "colab": {
          "base_uri": "https://localhost:8080/"
        },
        "id": "P_7jBzzleywY",
        "outputId": "09d21641-29a4-4222-feea-31d90285e907"
      },
      "outputs": [
        {
          "data": {
            "text/plain": [
              "(array(['BIP_FLAG', 'D19_LOTTO_RZ', 'KBA13_CCM_3000', 'KBA13_CCM_3001'],\n",
              "       dtype=object), 4)"
            ]
          },
          "execution_count": 40,
          "metadata": {},
          "output_type": "execute_result"
        }
      ],
      "source": [
        "# DIAS Attributes - Values 2017.xlsx unique values:\n",
        "xcl_attr_diff_vals_info = np.setdiff1d(attrbf_names, dfdias_info_attrs_new)\n",
        "\n",
        "xcl_attr_diff_vals_info, xcl_attr_diff_vals_info.size"
      ]
    },
    {
      "cell_type": "code",
      "execution_count": 41,
      "metadata": {
        "colab": {
          "base_uri": "https://localhost:8080/"
        },
        "id": "3SmwEWXqc8Eo",
        "outputId": "c6f42888-c0b4-4c80-eb5a-fcc10719bf8d"
      },
      "outputs": [
        {
          "data": {
            "text/plain": [
              "(array(['ARBEIT', 'D19_VERSI_DATUM', 'D19_VERSI_OFFLINE_DATUM',\n",
              "        'D19_VERSI_ONLINE_DATUM', 'EINWOHNER', 'GKZ', 'PLZ', 'PLZ8'],\n",
              "       dtype='<U27'), 8)"
            ]
          },
          "execution_count": 41,
          "metadata": {},
          "output_type": "execute_result"
        }
      ],
      "source": [
        "# DIAS Information Levels - Attributes 2017.xlsx contains some different attributes compared to attributes excel file:\n",
        "xcl_attr_diff_info_vals = np.setdiff1d(dfdias_info_attrs_new, attrbf_names)\n",
        "\n",
        "xcl_attr_diff_info_vals, xcl_attr_diff_info_vals.size"
      ]
    },
    {
      "cell_type": "code",
      "execution_count": 42,
      "metadata": {
        "colab": {
          "base_uri": "https://localhost:8080/"
        },
        "id": "3iABVdP2TYxs",
        "outputId": "ca081222-c6ff-4c7a-f7e1-d698b272dc81"
      },
      "outputs": [
        {
          "data": {
            "text/plain": [
              "(array(['ARBEIT', 'BIP_FLAG', 'D19_LOTTO_RZ', 'D19_VERSI_DATUM',\n",
              "        'D19_VERSI_OFFLINE_DATUM', 'D19_VERSI_ONLINE_DATUM', 'EINWOHNER',\n",
              "        'GKZ', 'KBA13_CCM_3000', 'KBA13_CCM_3001', 'PLZ', 'PLZ8'],\n",
              "       dtype=object), 12)"
            ]
          },
          "execution_count": 42,
          "metadata": {},
          "output_type": "execute_result"
        }
      ],
      "source": [
        "# Symmetric difference of the two attributes' sets.\n",
        "xcl_attrs_symtrc_diff = np.union1d(xcl_attr_diff_vals_info, xcl_attr_diff_info_vals)\n",
        "\n",
        "xcl_attrs_symtrc_diff, xcl_attrs_symtrc_diff.size"
      ]
    },
    {
      "cell_type": "code",
      "execution_count": 43,
      "metadata": {
        "colab": {
          "base_uri": "https://localhost:8080/"
        },
        "id": "KPiyGR2bWjCH",
        "outputId": "c46d8229-57a4-4f04-d5dc-5c184d58daef"
      },
      "outputs": [
        {
          "data": {
            "text/plain": [
              "322"
            ]
          },
          "execution_count": 43,
          "metadata": {},
          "output_type": "execute_result"
        }
      ],
      "source": [
        "# Taking the union for the total of unique values in both files together.\n",
        "xcl_attrs_unique = np.union1d(attrbf_names, dfdias_info_attrs_new)\n",
        "\n",
        "xcl_attrs_unique.size"
      ]
    },
    {
      "cell_type": "markdown",
      "metadata": {
        "id": "GJBadEFNeJgw"
      },
      "source": [
        "The two Excel spreadsheets provided in the workspace (`DIAS Information Levels - Attributes 2017.xlsx` and `DIAS Attributes - Values 2017.xlsx`) contain 310 common attributes. In addition the first file contains 8 unique attributes while the second 4 unique attributes. In total there are 322 unique attributes present in both files together."
      ]
    },
    {
      "cell_type": "markdown",
      "metadata": {
        "id": "axWSd155af2U"
      },
      "source": [
        "###Comparing `azdias`, `custrs` datasets to the unique attributes from the two excel files.\n"
      ]
    },
    {
      "cell_type": "code",
      "execution_count": 44,
      "metadata": {
        "colab": {
          "base_uri": "https://localhost:8080/"
        },
        "id": "rlia9PK0Y_5y",
        "outputId": "21281a0e-7356-4634-ed33-41fa2c7b39e8"
      },
      "outputs": [
        {
          "data": {
            "text/plain": [
              "(366, 322, 276)"
            ]
          },
          "execution_count": 44,
          "metadata": {},
          "output_type": "execute_result"
        }
      ],
      "source": [
        "attrs_intesc = np.intersect1d(azd_attr_names, xcl_attrs_unique)\n",
        "\n",
        "azd_attr_names.size, xcl_attrs_unique.size, attrs_intesc.size"
      ]
    },
    {
      "cell_type": "markdown",
      "metadata": {
        "id": "YVfldGk3fYMo"
      },
      "source": [
        "For the customers dataset, they only different attributes should be the 3 extra ones in the customers dataset, so the intersection should be the same as for `azdias` dataset:"
      ]
    },
    {
      "cell_type": "code",
      "execution_count": 45,
      "metadata": {
        "colab": {
          "base_uri": "https://localhost:8080/"
        },
        "id": "OivZGO8UfHMf",
        "outputId": "6f6e7792-3207-4f31-fae4-bd75c0d89678"
      },
      "outputs": [
        {
          "data": {
            "text/plain": [
              "(369, 322, 276)"
            ]
          },
          "execution_count": 45,
          "metadata": {},
          "output_type": "execute_result"
        }
      ],
      "source": [
        "attrs_intesc = np.intersect1d(cus_attr_names, xcl_attrs_unique)\n",
        "\n",
        "cus_attr_names.size, xcl_attrs_unique.size, attrs_intesc.size"
      ]
    },
    {
      "cell_type": "markdown",
      "metadata": {
        "id": "1jKz-npDaqPj"
      },
      "source": [
        "At first look, we see that only 276 attributes are common. To explore what happens with the rest, we will look at the different attributes from the excel files."
      ]
    },
    {
      "cell_type": "code",
      "execution_count": 46,
      "metadata": {
        "colab": {
          "base_uri": "https://localhost:8080/"
        },
        "id": "MlqeX1HjBdTW",
        "outputId": "b400a703-d79b-4b05-897c-20d3fe74907e"
      },
      "outputs": [
        {
          "data": {
            "text/plain": [
              "(array(['BIP_FLAG', 'CAMEO_DEUINTL_2015', 'D19_BANKEN_DIREKT_RZ',\n",
              "        'D19_BANKEN_GROSS_RZ', 'D19_BANKEN_LOKAL_RZ', 'D19_BANKEN_REST_RZ',\n",
              "        'D19_BEKLEIDUNG_GEH_RZ', 'D19_BEKLEIDUNG_REST_RZ',\n",
              "        'D19_BILDUNG_RZ', 'D19_BIO_OEKO_RZ', 'D19_BUCH_RZ',\n",
              "        'D19_DIGIT_SERV_RZ', 'D19_DROGERIEARTIKEL_RZ', 'D19_ENERGIE_RZ',\n",
              "        'D19_FREIZEIT_RZ', 'D19_GARTEN_RZ', 'D19_HANDWERK_RZ',\n",
              "        'D19_HAUS_DEKO_RZ', 'D19_KINDERARTIKEL_RZ', 'D19_KK_KUNDENTYP',\n",
              "        'D19_KOSMETIK_RZ', 'D19_LEBENSMITTEL_RZ', 'D19_LOTTO_RZ',\n",
              "        'D19_NAHRUNGSERGAENZUNG_RZ', 'D19_RATGEBER_RZ', 'D19_REISEN_RZ',\n",
              "        'D19_SAMMELARTIKEL_RZ', 'D19_SCHUHE_RZ', 'D19_SONSTIGE_RZ',\n",
              "        'D19_TECHNIK_RZ', 'D19_TELKO_MOBILE_RZ', 'D19_TELKO_REST_RZ',\n",
              "        'D19_TIERARTIKEL_RZ', 'D19_VERSAND_REST_RZ',\n",
              "        'D19_VERSICHERUNGEN_RZ', 'D19_VOLLSORTIMENT_RZ',\n",
              "        'D19_WEIN_FEINKOST_RZ', 'EINWOHNER', 'GEOSCORE_KLS7', 'GKZ',\n",
              "        'HAUSHALTSSTRUKTUR', 'KBA13_CCM_1400_2500', 'PLZ', 'PLZ8',\n",
              "        'SOHO_FLAG', 'WACHSTUMSGEBIET_NB'], dtype=object), 46)"
            ]
          },
          "execution_count": 46,
          "metadata": {},
          "output_type": "execute_result"
        }
      ],
      "source": [
        "# Set difference of excel unique attributes - azdias set attributes will give us the different excel attributes:\n",
        "difrnt_xcl_attrs = np.setdiff1d(xcl_attrs_unique, azd_attr_names)\n",
        "\n",
        "difrnt_xcl_attrs, difrnt_xcl_attrs.size"
      ]
    },
    {
      "cell_type": "markdown",
      "metadata": {
        "id": "Nxld0l32klVV"
      },
      "source": [
        "Examining the `azdias` columns' names we can observe that most of the above names are not actually missing but have been named slightly different. So, for example `CAMEO_INTL_2015` in azdias dataset is `CAMEO_DEUINTL_2015` in the attributes’ explanations file. This means we have to perform some operations to match the columns that appear different. We can create a dictionary to match old names with the new names, to rename the attributes' from excel files as in the azdias dataset. For most of the columns names with the prefix `D19_` if we remove the suffix `_RZ` we have the desired names."
      ]
    },
    {
      "cell_type": "markdown",
      "metadata": {
        "id": "lkCpI95gCh5a"
      },
      "source": [
        "We can also try to identify the rest of attributes, for example with `FLAG` in name and do the same for the rest, but not for `D19_` as we already know that only the suffix `_RZ` is missing from the name, hence it is seen as differnt string in the code comparisons."
      ]
    },
    {
      "cell_type": "code",
      "execution_count": 47,
      "metadata": {
        "colab": {
          "base_uri": "https://localhost:8080/"
        },
        "id": "Fd5AzGJfqQ76",
        "outputId": "f04a2427-a26c-4ef8-bc6a-2bfa31a8b160"
      },
      "outputs": [
        {
          "data": {
            "text/plain": [
              "(['DSL_FLAG', 'HH_DELTA_FLAG', 'UNGLEICHENN_FLAG'],\n",
              " [],\n",
              " ['SOHO_KZ'],\n",
              " ['KBA13_CCM_1400', 'KBA13_CCM_1401_2500'],\n",
              " ['KBA13_PEUGEOT'],\n",
              " ['ANZ_HAUSHALTE_AKTIV',\n",
              "  'ANZ_STATISTISCHE_HAUSHALTE',\n",
              "  'D19_HAUS_DEKO',\n",
              "  'FINANZ_HAUSBAUER'],\n",
              " [],\n",
              " [],\n",
              " ['PLZ8_ANTG1',\n",
              "  'PLZ8_ANTG2',\n",
              "  'PLZ8_ANTG3',\n",
              "  'PLZ8_ANTG4',\n",
              "  'PLZ8_BAUMAX',\n",
              "  'PLZ8_GBZ',\n",
              "  'PLZ8_HHZ'])"
            ]
          },
          "execution_count": 47,
          "metadata": {},
          "output_type": "execute_result"
        }
      ],
      "source": [
        "attr_flag = [x for x in azd_attr_names if 'FLAG' in x]\n",
        "attr_bip = [x for x in azd_attr_names if 'BIP' in x]\n",
        "attr_soho = [x for x in azd_attr_names if 'SOHO' in x]\n",
        "attr_kba131400 = [x for x in azd_attr_names if 'KBA13_CCM_14' in x]\n",
        "attr_geosc =[ x for x in azd_attr_names if 'GEO' in x]\n",
        "attr_haus = [ x for x in azd_attr_names if 'HAUS' in x]\n",
        "attr_wach = [ x for x in azd_attr_names if 'WACH' in x]\n",
        "attr_gkz = [x for x in azd_attr_names if 'GKZ' in x]\n",
        "attr_plz = [x for x in azd_attr_names if 'PLZ' in x]\n",
        "\n",
        "attr_flag, attr_bip, attr_soho, attr_kba131400, attr_geosc, \\\n",
        "attr_haus, attr_wach, attr_gkz, attr_plz"
      ]
    },
    {
      "cell_type": "markdown",
      "metadata": {
        "id": "urHD3UFhC1Bb"
      },
      "source": [
        "From the above we see that we also have attributes `'SOHO_KZ', 'KBA13_CCM_1401_2500'` we can match. These matches will greatly reduce the number of different attributes in the azdias dataset when comparing to the attributes' excel files. However, azdias dataset has some more attributes in addition to the ones present in the attributes files.\n",
        "\n",
        "There are no additional attributes for `GKZ` and `PLZ` or `PLZ8` in azdias dataset."
      ]
    },
    {
      "cell_type": "code",
      "execution_count": 48,
      "metadata": {
        "colab": {
          "base_uri": "https://localhost:8080/"
        },
        "id": "5ddd5ZBxpt8q",
        "outputId": "b09bb08a-c025-4c59-c210-284b62534ec1"
      },
      "outputs": [
        {
          "data": {
            "text/plain": [
              "dict_items([('BIP_FLAG', 'BIP_FLAG'), ('CAMEO_DEUINTL_2015', 'CAMEO_INTL_2015'), ('D19_BANKEN_DIREKT_RZ', 'D19_BANKEN_DIREKT'), ('D19_BANKEN_GROSS_RZ', 'D19_BANKEN_GROSS'), ('D19_BANKEN_LOKAL_RZ', 'D19_BANKEN_LOKAL'), ('D19_BANKEN_REST_RZ', 'D19_BANKEN_REST'), ('D19_BEKLEIDUNG_GEH_RZ', 'D19_BEKLEIDUNG_GEH'), ('D19_BEKLEIDUNG_REST_RZ', 'D19_BEKLEIDUNG_REST'), ('D19_BILDUNG_RZ', 'D19_BILDUNG'), ('D19_BIO_OEKO_RZ', 'D19_BIO_OEKO'), ('D19_BUCH_RZ', 'D19_BUCH'), ('D19_DIGIT_SERV_RZ', 'D19_DIGIT_SERV'), ('D19_DROGERIEARTIKEL_RZ', 'D19_DROGERIEARTIKEL'), ('D19_ENERGIE_RZ', 'D19_ENERGIE'), ('D19_FREIZEIT_RZ', 'D19_FREIZEIT'), ('D19_GARTEN_RZ', 'D19_GARTEN'), ('D19_HANDWERK_RZ', 'D19_HANDWERK'), ('D19_HAUS_DEKO_RZ', 'D19_HAUS_DEKO'), ('D19_KINDERARTIKEL_RZ', 'D19_KINDERARTIKEL'), ('D19_KK_KUNDENTYP', 'D19_KK_KUNDENTYP'), ('D19_KOSMETIK_RZ', 'D19_KOSMETIK'), ('D19_LEBENSMITTEL_RZ', 'D19_LEBENSMITTEL'), ('D19_LOTTO_RZ', 'D19_LOTTO'), ('D19_NAHRUNGSERGAENZUNG_RZ', 'D19_NAHRUNGSERGAENZUNG'), ('D19_RATGEBER_RZ', 'D19_RATGEBER'), ('D19_REISEN_RZ', 'D19_REISEN'), ('D19_SAMMELARTIKEL_RZ', 'D19_SAMMELARTIKEL'), ('D19_SCHUHE_RZ', 'D19_SCHUHE'), ('D19_SONSTIGE_RZ', 'D19_SONSTIGE'), ('D19_TECHNIK_RZ', 'D19_TECHNIK'), ('D19_TELKO_MOBILE_RZ', 'D19_TELKO_MOBILE'), ('D19_TELKO_REST_RZ', 'D19_TELKO_REST'), ('D19_TIERARTIKEL_RZ', 'D19_TIERARTIKEL'), ('D19_VERSAND_REST_RZ', 'D19_VERSAND_REST'), ('D19_VERSICHERUNGEN_RZ', 'D19_VERSICHERUNGEN'), ('D19_VOLLSORTIMENT_RZ', 'D19_VOLLSORTIMENT'), ('D19_WEIN_FEINKOST_RZ', 'D19_WEIN_FEINKOST'), ('EINWOHNER', 'EINWOHNER'), ('GEOSCORE_KLS7', 'GEOSCORE_KLS7'), ('GKZ', 'GKZ'), ('HAUSHALTSSTRUKTUR', 'HAUSHALTSSTRUKTUR'), ('KBA13_CCM_1400_2500', 'KBA13_CCM_1401_2500'), ('PLZ', 'PLZ'), ('PLZ8', 'PLZ8'), ('SOHO_FLAG', 'SOHO_KZ'), ('WACHSTUMSGEBIET_NB', 'WACHSTUMSGEBIET_NB')])"
            ]
          },
          "execution_count": 48,
          "metadata": {},
          "output_type": "execute_result"
        }
      ],
      "source": [
        "# Create a dictionary with key: value the old names replacing all `D19_*` names containing `_RZ`\n",
        "xcl_attr_names_new = {i : i[:-3] if '_RZ' in i else i for i in difrnt_xcl_attrs}\n",
        "# Replace SOHO_FLAG:\n",
        "xcl_attr_names_new[\"SOHO_FLAG\"] = 'SOHO_KZ'\n",
        "# Replace CAMEO_DEUINTL_2015:\n",
        "xcl_attr_names_new[\"CAMEO_DEUINTL_2015\"] = 'CAMEO_INTL_2015'\n",
        "# Replace KBA13_CCM_1400_2500:\n",
        "xcl_attr_names_new[\"KBA13_CCM_1400_2500\"] = 'KBA13_CCM_1401_2500'\n",
        "\n",
        "xcl_attr_names_new.items()"
      ]
    },
    {
      "cell_type": "markdown",
      "metadata": {
        "id": "vjJoHZvj-KAS"
      },
      "source": [
        "Let us rename the corresponding attribute names rows as per above dictionary and compare to `azdias` attributes again:"
      ]
    },
    {
      "cell_type": "code",
      "execution_count": 49,
      "metadata": {
        "colab": {
          "base_uri": "https://localhost:8080/"
        },
        "id": "ZLZCfrJLkaux",
        "outputId": "bb52798b-2503-4473-a57e-268ac7369e97"
      },
      "outputs": [
        {
          "data": {
            "text/plain": [
              "(366, 322, 312)"
            ]
          },
          "execution_count": 49,
          "metadata": {},
          "output_type": "execute_result"
        }
      ],
      "source": [
        "# Create a copy of the `xcl_attrs_unique`\n",
        "xcl_attrs_unique_new = pd.Series(xcl_attrs_unique)\n",
        "\n",
        "# Rename specific attributes based on the created dictionary\n",
        "xcl_attrs_unique_new.replace(xcl_attr_names_new, inplace=True)\n",
        "\n",
        "# Compare to `azdias` attributes again taking the sets intersection\n",
        "attrs_common = np.intersect1d(azd_attr_names, xcl_attrs_unique_new)\n",
        "\n",
        "azd_attr_names.size, xcl_attrs_unique_new.size, attrs_common.size"
      ]
    },
    {
      "cell_type": "markdown",
      "metadata": {
        "id": "KSy2c0AsLIAP"
      },
      "source": [
        "There are 312 attributes in `azdias` dataset which are also present in the attributes explanatory excel files. Azdias dataset contains 54 additional attributes:"
      ]
    },
    {
      "cell_type": "code",
      "execution_count": 50,
      "metadata": {
        "colab": {
          "base_uri": "https://localhost:8080/"
        },
        "id": "2jS4388ipBIl",
        "outputId": "acfeb227-f559-45c6-c201-74fd44e09fe6"
      },
      "outputs": [
        {
          "data": {
            "text/plain": [
              "(array(['AKT_DAT_KL', 'ALTERSKATEGORIE_FEIN', 'ALTER_KIND1', 'ALTER_KIND2',\n",
              "        'ALTER_KIND3', 'ALTER_KIND4', 'ANZ_KINDER',\n",
              "        'ANZ_STATISTISCHE_HAUSHALTE', 'CJT_KATALOGNUTZER', 'CJT_TYP_1',\n",
              "        'CJT_TYP_2', 'CJT_TYP_3', 'CJT_TYP_4', 'CJT_TYP_5', 'CJT_TYP_6',\n",
              "        'D19_BUCH_CD', 'D19_KONSUMTYP_MAX', 'D19_LETZTER_KAUF_BRANCHE',\n",
              "        'D19_SOZIALES', 'D19_TELKO_ONLINE_QUOTE_12',\n",
              "        'D19_VERSI_ONLINE_QUOTE_12', 'DSL_FLAG', 'EINGEFUEGT_AM',\n",
              "        'EINGEZOGENAM_HH_JAHR', 'EXTSEL992', 'FIRMENDICHTE', 'GEMEINDETYP',\n",
              "        'HH_DELTA_FLAG', 'KBA13_ANTG1', 'KBA13_ANTG2', 'KBA13_ANTG3',\n",
              "        'KBA13_ANTG4', 'KBA13_BAUMAX', 'KBA13_GBZ', 'KBA13_HHZ',\n",
              "        'KBA13_KMH_210', 'KK_KUNDENTYP', 'KOMBIALTER', 'KONSUMZELLE',\n",
              "        'LNR', 'MOBI_RASTER', 'RT_KEIN_ANREIZ', 'RT_SCHNAEPPCHEN',\n",
              "        'RT_UEBERGROESSE', 'STRUKTURTYP', 'UMFELD_ALT', 'UMFELD_JUNG',\n",
              "        'UNGLEICHENN_FLAG', 'VERDICHTUNGSRAUM', 'VHA', 'VHN', 'VK_DHT4A',\n",
              "        'VK_DISTANZ', 'VK_ZG11'], dtype=object), 54)"
            ]
          },
          "execution_count": 50,
          "metadata": {},
          "output_type": "execute_result"
        }
      ],
      "source": [
        "# Let's see for the attributes' file what are the different attributes according to the previous intersection\n",
        "azdias_only_attrs = np.setdiff1d(azd_attr_names, xcl_attrs_unique_new)\n",
        "\n",
        "azdias_only_attrs, azdias_only_attrs.size"
      ]
    },
    {
      "cell_type": "markdown",
      "metadata": {
        "id": "I6VT0tCrt2vY"
      },
      "source": [
        "And `customers` dataframe has the above plus the three additional columns, as described in the project description."
      ]
    },
    {
      "cell_type": "code",
      "execution_count": 51,
      "metadata": {
        "colab": {
          "base_uri": "https://localhost:8080/"
        },
        "id": "A7aHmmWrtsQC",
        "outputId": "d6aea4c3-4238-49b7-83e9-6445733b689c"
      },
      "outputs": [
        {
          "data": {
            "text/plain": [
              "(array(['AKT_DAT_KL', 'ALTERSKATEGORIE_FEIN', 'ALTER_KIND1', 'ALTER_KIND2',\n",
              "        'ALTER_KIND3', 'ALTER_KIND4', 'ANZ_KINDER',\n",
              "        'ANZ_STATISTISCHE_HAUSHALTE', 'CJT_KATALOGNUTZER', 'CJT_TYP_1',\n",
              "        'CJT_TYP_2', 'CJT_TYP_3', 'CJT_TYP_4', 'CJT_TYP_5', 'CJT_TYP_6',\n",
              "        'CUSTOMER_GROUP', 'D19_BUCH_CD', 'D19_KONSUMTYP_MAX',\n",
              "        'D19_LETZTER_KAUF_BRANCHE', 'D19_SOZIALES',\n",
              "        'D19_TELKO_ONLINE_QUOTE_12', 'D19_VERSI_ONLINE_QUOTE_12',\n",
              "        'DSL_FLAG', 'EINGEFUEGT_AM', 'EINGEZOGENAM_HH_JAHR', 'EXTSEL992',\n",
              "        'FIRMENDICHTE', 'GEMEINDETYP', 'HH_DELTA_FLAG', 'KBA13_ANTG1',\n",
              "        'KBA13_ANTG2', 'KBA13_ANTG3', 'KBA13_ANTG4', 'KBA13_BAUMAX',\n",
              "        'KBA13_GBZ', 'KBA13_HHZ', 'KBA13_KMH_210', 'KK_KUNDENTYP',\n",
              "        'KOMBIALTER', 'KONSUMZELLE', 'LNR', 'MOBI_RASTER',\n",
              "        'ONLINE_PURCHASE', 'PRODUCT_GROUP', 'RT_KEIN_ANREIZ',\n",
              "        'RT_SCHNAEPPCHEN', 'RT_UEBERGROESSE', 'STRUKTURTYP', 'UMFELD_ALT',\n",
              "        'UMFELD_JUNG', 'UNGLEICHENN_FLAG', 'VERDICHTUNGSRAUM', 'VHA',\n",
              "        'VHN', 'VK_DHT4A', 'VK_DISTANZ', 'VK_ZG11'], dtype=object), 57)"
            ]
          },
          "execution_count": 51,
          "metadata": {},
          "output_type": "execute_result"
        }
      ],
      "source": [
        "custrs_only_attrs = np.setdiff1d(cus_attr_names, xcl_attrs_unique_new)\n",
        "\n",
        "custrs_only_attrs, custrs_only_attrs.size"
      ]
    },
    {
      "cell_type": "code",
      "execution_count": 52,
      "metadata": {
        "colab": {
          "base_uri": "https://localhost:8080/"
        },
        "id": "Ui_PbIzHADzT",
        "outputId": "e4eae8a1-f9c6-41dd-9fde-f13641163449"
      },
      "outputs": [
        {
          "data": {
            "text/plain": [
              "(array(['BIP_FLAG', 'D19_BUCH', 'D19_KK_KUNDENTYP', 'EINWOHNER',\n",
              "        'GEOSCORE_KLS7', 'GKZ', 'HAUSHALTSSTRUKTUR', 'PLZ', 'PLZ8',\n",
              "        'WACHSTUMSGEBIET_NB'], dtype=object), 10)"
            ]
          },
          "execution_count": 52,
          "metadata": {},
          "output_type": "execute_result"
        }
      ],
      "source": [
        "# Attributes unique to excel files.\n",
        "xcl_only_attrs = np.setdiff1d(xcl_attrs_unique_new, azd_attr_names)\n",
        "\n",
        "xcl_only_attrs, xcl_only_attrs.size"
      ]
    },
    {
      "cell_type": "markdown",
      "metadata": {
        "id": "p6FiuM0NjOQb"
      },
      "source": [
        "* `attrs_common` - 312 common attributes between `azdias` dataset and both excel files combined.\n",
        "* `azdias_only_attrs` - 54 attributes appearing only in `azdias` dataset.\n",
        "* `xcl_attrs_unique_new` - 322 unique attributes in both excel files combined.\n",
        "* `xcl_only_attrs` - 10 attributes appearing only in excel files."
      ]
    },
    {
      "cell_type": "markdown",
      "metadata": {
        "id": "mvqmjw_nzfSy"
      },
      "source": [
        "For 322 unique attributes present in both excel files combined there are 312 in common with the `azdias` dataset, leaving out 54 attributes known only in `azdias` dataset. Most of these seem to be related to attributes found in the excel files. For example `CJT` attribute in excel files seems to be related to the series of `CJT_TYP_*` attributes in azdias dataset. These are probably derived attributes to allow more granularity of collected information in certain fields."
      ]
    },
    {
      "cell_type": "code",
      "execution_count": 53,
      "metadata": {
        "colab": {
          "base_uri": "https://localhost:8080/"
        },
        "id": "TPW-luJf0XPq",
        "outputId": "6f19c9bd-9e6b-4b46-9183-b9b7ff08cb2f"
      },
      "outputs": [
        {
          "data": {
            "text/plain": [
              "5.0    60063\n",
              "2.0    44084\n",
              "3.0    38364\n",
              "4.0    36617\n",
              "1.0    19774\n",
              "Name: CJT_TYP_1, dtype: int64"
            ]
          },
          "execution_count": 53,
          "metadata": {},
          "output_type": "execute_result"
        }
      ],
      "source": [
        "azdias[\"CJT_TYP_1\"].value_counts()"
      ]
    },
    {
      "cell_type": "markdown",
      "metadata": {
        "id": "Ixfj1WlpUrqQ"
      },
      "source": [
        "###Identify and replace out of range and unkown values with NaNs"
      ]
    },
    {
      "cell_type": "markdown",
      "metadata": {
        "id": "cf-2qGa8uWGz"
      },
      "source": [
        "We have already made some value replacements when loading the `.csv` files. We observe that some attributes include values outside the pool of values described in the information excel files. These values that are outside the allowed values described in the relevant excel files will be identified and replaced with NaNs. The process we will follow is:\n",
        "\n",
        "* We will get the allowed values pool for each attribute from the excel file `DIAS Attributes - Values 2017.xlsx`.\n",
        "* We will create a dictionary, mapping attribute names to value pools.\n",
        "* We will in turn search the relevant columns in `azdias` and `customers` datasets and replace all the values outside these pools with NaNs.\n",
        "\n",
        "In addition, there are some special cases where the allowed values are not specified, or the attributes do not have corresponding information in any of the excel files. These will have to be treated case by case."
      ]
    },
    {
      "cell_type": "code",
      "execution_count": 54,
      "metadata": {
        "colab": {
          "base_uri": "https://localhost:8080/",
          "height": 266
        },
        "id": "5yKP1PVGa54S",
        "outputId": "d92f6681-3e15-48b7-b80b-a2218ebc4cf1"
      },
      "outputs": [
        {
          "data": {
            "text/html": [
              "<div>\n",
              "<style scoped>\n",
              "    .dataframe tbody tr th:only-of-type {\n",
              "        vertical-align: middle;\n",
              "    }\n",
              "\n",
              "    .dataframe tbody tr th {\n",
              "        vertical-align: top;\n",
              "    }\n",
              "\n",
              "    .dataframe thead th {\n",
              "        text-align: right;\n",
              "    }\n",
              "</style>\n",
              "<table border=\"1\" class=\"dataframe\">\n",
              "  <thead>\n",
              "    <tr style=\"text-align: right;\">\n",
              "      <th></th>\n",
              "      <th>Attribute</th>\n",
              "      <th>Description</th>\n",
              "      <th>Value</th>\n",
              "      <th>Meaning</th>\n",
              "    </tr>\n",
              "  </thead>\n",
              "  <tbody>\n",
              "    <tr>\n",
              "      <th>0</th>\n",
              "      <td>AGER_TYP</td>\n",
              "      <td>best-ager typology</td>\n",
              "      <td>-1</td>\n",
              "      <td>unknown</td>\n",
              "    </tr>\n",
              "    <tr>\n",
              "      <th>1</th>\n",
              "      <td>AGER_TYP</td>\n",
              "      <td>best-ager typology</td>\n",
              "      <td>0</td>\n",
              "      <td>no classification possible</td>\n",
              "    </tr>\n",
              "    <tr>\n",
              "      <th>2</th>\n",
              "      <td>AGER_TYP</td>\n",
              "      <td>best-ager typology</td>\n",
              "      <td>1</td>\n",
              "      <td>passive elderly</td>\n",
              "    </tr>\n",
              "    <tr>\n",
              "      <th>3</th>\n",
              "      <td>AGER_TYP</td>\n",
              "      <td>best-ager typology</td>\n",
              "      <td>2</td>\n",
              "      <td>cultural elderly</td>\n",
              "    </tr>\n",
              "    <tr>\n",
              "      <th>4</th>\n",
              "      <td>AGER_TYP</td>\n",
              "      <td>best-ager typology</td>\n",
              "      <td>3</td>\n",
              "      <td>experience-driven elderly</td>\n",
              "    </tr>\n",
              "    <tr>\n",
              "      <th>5</th>\n",
              "      <td>ALTERSKATEGORIE_GROB</td>\n",
              "      <td>age classification through prename analysis</td>\n",
              "      <td>-1, 0</td>\n",
              "      <td>unknown</td>\n",
              "    </tr>\n",
              "    <tr>\n",
              "      <th>6</th>\n",
              "      <td>ALTERSKATEGORIE_GROB</td>\n",
              "      <td>age classification through prename analysis</td>\n",
              "      <td>1</td>\n",
              "      <td>&lt; 30 years</td>\n",
              "    </tr>\n",
              "  </tbody>\n",
              "</table>\n",
              "</div>"
            ],
            "text/plain": [
              "              Attribute  ...                     Meaning\n",
              "0              AGER_TYP  ...                     unknown\n",
              "1              AGER_TYP  ...  no classification possible\n",
              "2              AGER_TYP  ...             passive elderly\n",
              "3              AGER_TYP  ...            cultural elderly\n",
              "4              AGER_TYP  ...   experience-driven elderly\n",
              "5  ALTERSKATEGORIE_GROB  ...                     unknown\n",
              "6  ALTERSKATEGORIE_GROB  ...                  < 30 years\n",
              "\n",
              "[7 rows x 4 columns]"
            ]
          },
          "execution_count": 54,
          "metadata": {},
          "output_type": "execute_result"
        }
      ],
      "source": [
        "# In attributes values excel replace NaNs in attribute names with forward fill method ffill\n",
        "# to make it easier to extract specific attribute names and values\n",
        "dfdias_attrib_ffil = dfdias_attrib.fillna(method='ffill')\n",
        "\n",
        "dfdias_attrib_ffil.head(7)"
      ]
    },
    {
      "cell_type": "markdown",
      "metadata": {
        "id": "A7lzPWQQz4gz"
      },
      "source": [
        "1. Create a dictionary with attributes' names as keys and allowed input (`Value` column) as values."
      ]
    },
    {
      "cell_type": "code",
      "execution_count": 55,
      "metadata": {
        "colab": {
          "base_uri": "https://localhost:8080/"
        },
        "id": "vykPIslNZQ7t",
        "outputId": "5157ab29-37a1-40bb-deee-e9e7d8179ca6"
      },
      "outputs": [
        {
          "data": {
            "text/plain": [
              "[('AGER_TYP', [nan, -1, 0, 1, 2, 3]),\n",
              " ('ALTERSKATEGORIE_GROB', [nan, 1, 2, 3, 4, 9, -1, 0])]"
            ]
          },
          "execution_count": 55,
          "metadata": {},
          "output_type": "execute_result"
        }
      ],
      "source": [
        "# First get the allowed value ranges per atribute from the attributes values file (DIAS Attributes - Values 2017.xlsx)\n",
        "# Group by Attribute and get values in a multinex object, then transform to np.ndarray by chaining `values` method:\n",
        "attrs_values_arr = dfdias_attrib_ffil.groupby(\"Attribute\")[\"Value\"].value_counts().index.values\n",
        "\n",
        "# Create a helper function to parse values in the form '-1, 0'\n",
        "def get_nums(x):\n",
        "    \"\"\"Return a list of integers from a string\n",
        "    or the same input if not a string\"\"\"\n",
        "    try:\n",
        "        li = x.split(',')\n",
        "        return list(map(int, li))\n",
        "    except (AttributeError, ValueError):\n",
        "        return [x]\n",
        "\n",
        "# Create a dictionary mapping attributes as keys and allowed values in a list to key:[values]\n",
        "# we are simultaneously injecting np.NaN in values' range as this might already be present\n",
        "# among the attributes' values in `azdias`.\n",
        "attrs_val_dict = {}\n",
        "for i in attrs_values_arr:\n",
        "    attrs_val_dict.setdefault(i[0],[np.NaN]).extend(get_nums(i[1]))\n",
        "\n",
        "list(attrs_val_dict.items())[:2]"
      ]
    },
    {
      "cell_type": "markdown",
      "metadata": {
        "id": "BlytOkLuBHJ4"
      },
      "source": [
        "This dictionary must have its keys (attributes) names match the corresponding attributes names in `azdias` dataset for the cases where the attributes have differences in names, according to the previously created disctionary mapping `xcl_attr_names_new`:"
      ]
    },
    {
      "cell_type": "code",
      "execution_count": 56,
      "metadata": {
        "id": "AaYrGec2Bm60"
      },
      "outputs": [],
      "source": [
        "# We will use the `xcl_attr_names_new` to get the corresponding names and create a new dictionary.\n",
        "attrs_val_pools = {xcl_attr_names_new.get(k, k): v for k, v in attrs_val_dict.items()}"
      ]
    },
    {
      "cell_type": "markdown",
      "metadata": {
        "id": "RBriqwyKkfb7"
      },
      "source": [
        "We will create a different dictionary with the special cases with key values equal to `'…'`. These are some special cases where the input is described as \"numeric value\" which is attribute context related. So, this can be a year, a number typically coded from 1-10, or 1-3, but with the range not exactly specified. This will allow us to process these cases separately."
      ]
    },
    {
      "cell_type": "code",
      "execution_count": 57,
      "metadata": {
        "colab": {
          "base_uri": "https://localhost:8080/"
        },
        "id": "uI9xYLc6nQ-j",
        "outputId": "59ba06e0-6eec-4ba4-c6ce-9ef016e7da1c"
      },
      "outputs": [
        {
          "data": {
            "text/plain": [
              "{'ANZ_HAUSHALTE_AKTIV': [nan, '…'],\n",
              " 'ANZ_HH_TITEL': [nan, '…'],\n",
              " 'ANZ_PERSONEN': [nan, '…'],\n",
              " 'ANZ_TITEL': [nan, '…'],\n",
              " 'GEBURTSJAHR': [nan, '…'],\n",
              " 'KBA13_ANZAHL_PKW': [nan, '…'],\n",
              " 'MIN_GEBAEUDEJAHR': [nan, '…']}"
            ]
          },
          "execution_count": 57,
          "metadata": {},
          "output_type": "execute_result"
        }
      ],
      "source": [
        "# Create new dict while removing the related items from the previous\n",
        "# Iterate through a list of keys \n",
        "attrs_val_dict_any = {k: attrs_val_pools.pop(k) for k in list(attrs_val_pools) if '…' in attrs_val_pools[k]}\n",
        "\n",
        "attrs_val_dict_any"
      ]
    },
    {
      "cell_type": "markdown",
      "metadata": {
        "id": "Am6RwFr2oQX0"
      },
      "source": [
        "We now have two dictionaries mapping attributes to possible values for each attribute. There are some unique attributes (`azdias_only_attrs`) in `azdias` dataset that have not been account for. For these we will adopt the mapping of similar attributes based on context and add them in the first mappings dictionary. We can identify at least two value categories `CJT_*` and `KBA13_` that can be assigned to values' range list `[-1, 0, 1, 2, 3, 4, 5]` as can be observed from similar atributes in excel attributes values file. We cannot do the same for `D19_*` attributes or the any of the rest attributes in the `azdias_only_attrs`."
      ]
    },
    {
      "cell_type": "code",
      "execution_count": 58,
      "metadata": {
        "colab": {
          "base_uri": "https://localhost:8080/"
        },
        "id": "Ea-KBCyJpYGH",
        "outputId": "489843a6-5e6c-474c-ae99-d620061c448a"
      },
      "outputs": [
        {
          "data": {
            "text/plain": [
              "(array(['AKT_DAT_KL', 'ALTERSKATEGORIE_FEIN', 'ALTER_KIND1', 'ALTER_KIND2',\n",
              "        'ALTER_KIND3', 'ALTER_KIND4', 'ANZ_KINDER',\n",
              "        'ANZ_STATISTISCHE_HAUSHALTE', 'D19_BUCH_CD', 'D19_KONSUMTYP_MAX',\n",
              "        'D19_LETZTER_KAUF_BRANCHE', 'D19_SOZIALES',\n",
              "        'D19_TELKO_ONLINE_QUOTE_12', 'D19_VERSI_ONLINE_QUOTE_12',\n",
              "        'DSL_FLAG', 'EINGEFUEGT_AM', 'EINGEZOGENAM_HH_JAHR', 'EXTSEL992',\n",
              "        'FIRMENDICHTE', 'GEMEINDETYP', 'HH_DELTA_FLAG', 'KK_KUNDENTYP',\n",
              "        'KOMBIALTER', 'KONSUMZELLE', 'LNR', 'MOBI_RASTER',\n",
              "        'RT_KEIN_ANREIZ', 'RT_SCHNAEPPCHEN', 'RT_UEBERGROESSE',\n",
              "        'STRUKTURTYP', 'UMFELD_ALT', 'UMFELD_JUNG', 'UNGLEICHENN_FLAG',\n",
              "        'VERDICHTUNGSRAUM', 'VHA', 'VHN', 'VK_DHT4A', 'VK_DISTANZ',\n",
              "        'VK_ZG11'], dtype='<U26'), 39)"
            ]
          },
          "execution_count": 58,
          "metadata": {},
          "output_type": "execute_result"
        }
      ],
      "source": [
        "# we are then left with an undefined values ragne list of attributes for unique to `azdias` as:\n",
        "azdias_only_attrs_undef = [i for i in azdias_only_attrs if not i.startswith(('CJT_', 'KBA13_'))]\n",
        "\n",
        "azdias_only_attrs_undef = np.array(azdias_only_attrs_undef)\n",
        "\n",
        "azdias_only_attrs_undef, azdias_only_attrs_undef.size"
      ]
    },
    {
      "cell_type": "markdown",
      "metadata": {
        "id": "6O8slta7yQ79"
      },
      "source": [
        "So, for the `customers` the respective array will be:"
      ]
    },
    {
      "cell_type": "code",
      "execution_count": 59,
      "metadata": {
        "colab": {
          "base_uri": "https://localhost:8080/"
        },
        "id": "19My-1UPwXfE",
        "outputId": "98d39323-81c0-42b8-8434-e342a4bb93e0"
      },
      "outputs": [
        {
          "data": {
            "text/plain": [
              "(array(['AKT_DAT_KL', 'ALTERSKATEGORIE_FEIN', 'ALTER_KIND1', 'ALTER_KIND2',\n",
              "        'ALTER_KIND3', 'ALTER_KIND4', 'ANZ_KINDER',\n",
              "        'ANZ_STATISTISCHE_HAUSHALTE', 'D19_BUCH_CD', 'D19_KONSUMTYP_MAX',\n",
              "        'D19_LETZTER_KAUF_BRANCHE', 'D19_SOZIALES',\n",
              "        'D19_TELKO_ONLINE_QUOTE_12', 'D19_VERSI_ONLINE_QUOTE_12',\n",
              "        'DSL_FLAG', 'EINGEFUEGT_AM', 'EINGEZOGENAM_HH_JAHR', 'EXTSEL992',\n",
              "        'FIRMENDICHTE', 'GEMEINDETYP', 'HH_DELTA_FLAG', 'KK_KUNDENTYP',\n",
              "        'KOMBIALTER', 'KONSUMZELLE', 'LNR', 'MOBI_RASTER',\n",
              "        'RT_KEIN_ANREIZ', 'RT_SCHNAEPPCHEN', 'RT_UEBERGROESSE',\n",
              "        'STRUKTURTYP', 'UMFELD_ALT', 'UMFELD_JUNG', 'UNGLEICHENN_FLAG',\n",
              "        'VERDICHTUNGSRAUM', 'VHA', 'VHN', 'VK_DHT4A', 'VK_DISTANZ',\n",
              "        'VK_ZG11', 'CUSTOMER_GROUP', 'ONLINE_PURCHASE', 'PRODUCT_GROUP'],\n",
              "       dtype='<U26'), 42)"
            ]
          },
          "execution_count": 59,
          "metadata": {},
          "output_type": "execute_result"
        }
      ],
      "source": [
        "cus_only_attrs_undef = np.append(azdias_only_attrs_undef, ['CUSTOMER_GROUP', 'ONLINE_PURCHASE', 'PRODUCT_GROUP'])\n",
        "\n",
        "cus_only_attrs_undef, cus_only_attrs_undef.size"
      ]
    },
    {
      "cell_type": "markdown",
      "metadata": {
        "id": "1l1c0LrUk_6u"
      },
      "source": [
        "* We now have `attrs_val_pools` which is a dictionary mapping of known attribute names and \n",
        "lists with accepted values per variable.\n",
        "* `attrs_val_dict_any` which is a dictionary with attributes' names that do not have specific values defined but instead accept a wider range of numerical values.\n",
        "* `azdias_only_attrs_undef`, `cus_only_attrs_undef` which are two arrays with all attributes known in `azdias` and `customers` only that do not have associated information about their accepted values.\n"
      ]
    },
    {
      "cell_type": "markdown",
      "metadata": {
        "id": "Tg002pusJW9b"
      },
      "source": [
        "####Replace unkown and specific values with NaNs\n",
        "\n",
        "Using the `attrs_val_pools` we can check against the values in respective attributes in `azdias` and `customers` datasets. If values are found outside the accepted ones these will be replaced by NaNs. We will use the keys in this dictionary to iterate trought the attributes and make changes only in the common attributes (`attrs_common`) between `azdias` dataset and excel files."
      ]
    },
    {
      "cell_type": "code",
      "execution_count": 60,
      "metadata": {
        "colab": {
          "base_uri": "https://localhost:8080/"
        },
        "id": "KuH1ZF7c_R0C",
        "outputId": "5595e391-ac59-477c-fdc6-2e0ec6af82c4"
      },
      "outputs": [
        {
          "data": {
            "text/plain": [
              "8.0    30385\n",
              "9.0    24434\n",
              "6.0    23853\n",
              "4.0    23414\n",
              "3.0    19315\n",
              "2.0    18528\n",
              "7.0    17556\n",
              "5.0    12205\n",
              "1.0     8006\n",
              "Name: CAMEO_DEUG_2015, dtype: int64"
            ]
          },
          "execution_count": 60,
          "metadata": {},
          "output_type": "execute_result"
        }
      ],
      "source": [
        "# for every key (attribute) in the dictionary created earlier\n",
        "for k in attrs_val_pools:\n",
        "    # if the attribute is among the common ones\n",
        "    if k in attrs_common:\n",
        "        # select all those rows in the column that fall outside the attritbute's specified values pool and replace them with NaN.\n",
        "        azdias.loc[~azdias[k].isin(attrs_val_pools[k]), k] = np.NaN\n",
        "        custrs.loc[~custrs[k].isin(attrs_val_pools[k]), k] = np.NaN\n",
        "\n",
        "azdias['CAMEO_DEUG_2015'].value_counts()"
      ]
    },
    {
      "cell_type": "markdown",
      "metadata": {
        "id": "YGdqtIeHKU2k"
      },
      "source": [
        "We want to find the attributes where 9 is used for unkown/NaN values, to replace it in `azdias`, `custrs` datasets with NaNs."
      ]
    },
    {
      "cell_type": "code",
      "execution_count": 61,
      "metadata": {
        "id": "Vf5wKAYs-yW-"
      },
      "outputs": [],
      "source": [
        "# We will use the forward fiiled attribute dataframe to make it easier to extract the attributes' names\n",
        "attrs_nine_name = dfdias_attrib_ffil[dfdias_attrib_ffil[\"Value\"] == '-1, 9'][\"Attribute\"].tolist()\n",
        "\n",
        "# Create a dict to use as input for the pandas replace method\n",
        "replace9_nan_dict = {k:9 for k in attrs_nine_name}\n",
        "\n",
        "# We can now use this dictionary of attributes to replace value 9 (unknown) with NaN for specifc attributes in the azdias, custrs dataframe\n",
        "azdias.replace(replace9_nan_dict, np.NaN, inplace=True)\n",
        "custrs.replace(replace9_nan_dict, np.NaN, inplace=True)"
      ]
    },
    {
      "cell_type": "markdown",
      "metadata": {
        "id": "PeNGbxZp1sAc"
      },
      "source": [
        "Special cases where values' pool was `'…'`:\n",
        "\n",
        "* `ANZ_HAUSHALTE_AKTIV` - number of households in the building numeric value, typically coded from 1-10 but higher values can be accepted (large building blocks)\n",
        "* `ANZ_HH_TITEL` - number of academic title holder in building, numeric value typically coded from 1-10 but higher values can be accepted (large building blocks)\n",
        "* `ANZ_PERSONEN` - number of adult persons in the household, numeric value typically coded from 1-3 but higher values can be accepted depending on the area and family size. This has some extreme values values in the range [23, 45] that may be proven outliers.\n",
        "* `ANZ_TITEL` - number of professional title holder in household, numeric value typically coded from 1-10 but higher values can be accepted depending on the family size.\n",
        "* `GEBURTSJAHR` - year of birth, with values ranging from 1900 to 2017.\n",
        "* `KBA13_ANZAHL_PKW` - number of cars in the PLZ8, numeric value. This may also have a large range based on the area (postcode) rural, urban areas.\n",
        "* `MIN_GEBAEUDEJAHR` - year the building was first mentioned in the database, numeric values of years ranging from 1985 to 2016.\n",
        "\n",
        "By observation these attributes seem to have acceptable values related to their context.\n",
        "\n",
        "For the attributes known only to `azdias` dataset that cannot be related to existing information from the excel files there is a number of atributes that appear to be related to one another - `'ALTERSKATEGORIE_FEIN', 'ALTER_KIND1', 'ALTER_KIND2', 'ALTER_KIND3', 'ALTER_KIND4'` - and by context might provide categorization for number of children for age group bins. From `ALTERSKATEGORIE_FEIN` we can understand that there are 25 bins that correspond to an age range. `ANZ_KINDER` provides the number of children. `ANZ_STATISTISCHE_HAUSHALTE` seem to provide some budget categorization in a range 1 - 449 with mean 7.6.\n",
        "\n",
        "`'D19_BUCH_CD'` is probably related to books and or CDs ownership, `'D19_KONSUMTYP_MAX'` is a categorization of consumer type,`'D19_LETZTER_KAUF_BRANCHE'` provides a categorization based on recent products purchases, `'D19_SOZIALES'` probably provides a social type related categorization, `'D19_TELKO_ONLINE_QUOTE_12'` (few records) is telecoms related probably for the last 12 months average spending, `'D19_VERSI_ONLINE_QUOTE_12'` (few records) is another 12 months spending record, `'DSL_FLAG'` is probably internet line capacity related (DSL line) indicating if person has DSL (value 1), `'EINGEFUEGT_AM'` is probably the date and time the database entry for this entry was inserted (all times are set to 00:00:00), `'EINGEZOGENAM HH JAHR'` is possibly the year someone moved to a household, `'EXTSEL992'` is some kind of age related attribute, `'FIRMENDICHTE'` is a company size categorization probably related to the company each person works for, `'GEMEINDETYP'` is a community type categorization, `'HH_DELTA_FLAG'` cannot be associated with something known, `'KK_KUNDENTYP'` is a customer type categorization, `'KOMBIALTER'` is another age related categorization, `'KONSUMZELLE'` is another flag probably indicating somekind of consumer feature, `'MOBI_RASTER'` should be an attribute related to mobiles (or mobility) range 1-6, `'RT_KEIN_ANREIZ'` refers lack of incentives on something with values range 1-5, `'RT_SCHNAEPPCHEN'` describes bargain response on something with values range 1-5, `'RT_UEBERGROESSE'` describes over-size response on something with values range 1-5, `'SOHO_KZ'` could be related to small office / home office binary attribute, `'STRUKTURTYP'` provides structure type for homes (?) with values range 1-3, `'UMFELD_ALT'` records old relatives(?) with values range 1-5, `'UMFELD_JUNG'` records young relatives with values range 1-5, `'UNGLEICHENN_FLAG'` binary attribute recording unequality, `'VERDICHTUNGSRAUM'` probably describes the density of the living area (neibourhood, block?) values 1-45, `'VHA', 'VHN', 'VK_DHT4A', 'VK_DISTANZ','VK_ZG11'` cannot be identified."
      ]
    },
    {
      "cell_type": "markdown",
      "metadata": {
        "id": "WHjWie9dT_OW"
      },
      "source": [
        "##Analysing and understanding missing values in `azdias` and `custrs` dfs\n",
        "\n",
        "* Total NaNs:"
      ]
    },
    {
      "cell_type": "code",
      "execution_count": 62,
      "metadata": {
        "colab": {
          "base_uri": "https://localhost:8080/"
        },
        "id": "MDCgqY6DHKWA",
        "outputId": "f64bf3df-aede-4a81-feb1-1d5984f29ce8"
      },
      "outputs": [
        {
          "data": {
            "text/plain": [
              "((73200000, 20460327, 0.28), (70719588, 25102212, 0.35))"
            ]
          },
          "execution_count": 62,
          "metadata": {},
          "output_type": "execute_result"
        }
      ],
      "source": [
        "# count NaNs in the dataframes\n",
        "azdias_nan = azdias.isna().sum().sum()\n",
        "cus_df_nan = custrs.isna().sum().sum()\n",
        "\n",
        "(azdias.size, azdias_nan, round(azdias_nan/azdias.size, 2)), \\\n",
        "(custrs.size, cus_df_nan, round(cus_df_nan/custrs.size, 2))"
      ]
    },
    {
      "cell_type": "markdown",
      "metadata": {
        "id": "NtnheqHMPu8f"
      },
      "source": [
        "There are about 28% NaNs in `azdias` df and about 35% NaNs in the `customers` dataset out of the total data sizes.\n",
        "\n",
        "* NaNs per column:"
      ]
    },
    {
      "cell_type": "code",
      "execution_count": 63,
      "metadata": {
        "colab": {
          "base_uri": "https://localhost:8080/",
          "height": 555
        },
        "id": "TSYfy-4yeJDY",
        "outputId": "5b1599a2-c364-4c4a-ff78-3e2517478e5a"
      },
      "outputs": [
        {
          "name": "stdout",
          "output_type": "stream",
          "text": [
            "AZDIAS\n",
            "Average NaNs per column:  0.2795126639344249\n",
            "Max NaNs per column:  0.9991\n",
            "Min NaNs per column:  0.0\n",
            "CUSTOMERS\n",
            "Average NaNs per column:  0.3549541606492386\n",
            "Max NaNs per column:  0.998966877465406\n",
            "Min NaNs per column:  0.0\n"
          ]
        },
        {
          "data": {
            "text/html": [
              "<div>\n",
              "<style scoped>\n",
              "    .dataframe tbody tr th:only-of-type {\n",
              "        vertical-align: middle;\n",
              "    }\n",
              "\n",
              "    .dataframe tbody tr th {\n",
              "        vertical-align: top;\n",
              "    }\n",
              "\n",
              "    .dataframe thead th {\n",
              "        text-align: right;\n",
              "    }\n",
              "</style>\n",
              "<table border=\"1\" class=\"dataframe\">\n",
              "  <thead>\n",
              "    <tr style=\"text-align: right;\">\n",
              "      <th></th>\n",
              "      <th>Columns</th>\n",
              "      <th>NaNcounts_azd</th>\n",
              "      <th>NaNportions_azd</th>\n",
              "      <th>NaNcounts_cus</th>\n",
              "      <th>NaNportions_cus</th>\n",
              "    </tr>\n",
              "  </thead>\n",
              "  <tbody>\n",
              "    <tr>\n",
              "      <th>0</th>\n",
              "      <td>LNR</td>\n",
              "      <td>0</td>\n",
              "      <td>0.000000</td>\n",
              "      <td>0</td>\n",
              "      <td>0.000000</td>\n",
              "    </tr>\n",
              "    <tr>\n",
              "      <th>1</th>\n",
              "      <td>AGER_TYP</td>\n",
              "      <td>153947</td>\n",
              "      <td>0.769735</td>\n",
              "      <td>96738</td>\n",
              "      <td>0.504759</td>\n",
              "    </tr>\n",
              "    <tr>\n",
              "      <th>2</th>\n",
              "      <td>AKT_DAT_KL</td>\n",
              "      <td>16460</td>\n",
              "      <td>0.082300</td>\n",
              "      <td>46596</td>\n",
              "      <td>0.243128</td>\n",
              "    </tr>\n",
              "    <tr>\n",
              "      <th>3</th>\n",
              "      <td>ALTER_HH</td>\n",
              "      <td>69755</td>\n",
              "      <td>0.348775</td>\n",
              "      <td>68747</td>\n",
              "      <td>0.358707</td>\n",
              "    </tr>\n",
              "    <tr>\n",
              "      <th>4</th>\n",
              "      <td>ALTER_KIND1</td>\n",
              "      <td>181641</td>\n",
              "      <td>0.908205</td>\n",
              "      <td>179886</td>\n",
              "      <td>0.938607</td>\n",
              "    </tr>\n",
              "    <tr>\n",
              "      <th>...</th>\n",
              "      <td>...</td>\n",
              "      <td>...</td>\n",
              "      <td>...</td>\n",
              "      <td>...</td>\n",
              "      <td>...</td>\n",
              "    </tr>\n",
              "    <tr>\n",
              "      <th>361</th>\n",
              "      <td>WOHNDAUER_2008</td>\n",
              "      <td>16460</td>\n",
              "      <td>0.082300</td>\n",
              "      <td>46596</td>\n",
              "      <td>0.243128</td>\n",
              "    </tr>\n",
              "    <tr>\n",
              "      <th>362</th>\n",
              "      <td>WOHNLAGE</td>\n",
              "      <td>22427</td>\n",
              "      <td>0.112135</td>\n",
              "      <td>51034</td>\n",
              "      <td>0.266285</td>\n",
              "    </tr>\n",
              "    <tr>\n",
              "      <th>363</th>\n",
              "      <td>ZABEOTYP</td>\n",
              "      <td>0</td>\n",
              "      <td>0.000000</td>\n",
              "      <td>0</td>\n",
              "      <td>0.000000</td>\n",
              "    </tr>\n",
              "    <tr>\n",
              "      <th>364</th>\n",
              "      <td>ANREDE_KZ</td>\n",
              "      <td>0</td>\n",
              "      <td>0.000000</td>\n",
              "      <td>0</td>\n",
              "      <td>0.000000</td>\n",
              "    </tr>\n",
              "    <tr>\n",
              "      <th>365</th>\n",
              "      <td>ALTERSKATEGORIE_GROB</td>\n",
              "      <td>0</td>\n",
              "      <td>0.000000</td>\n",
              "      <td>0</td>\n",
              "      <td>0.000000</td>\n",
              "    </tr>\n",
              "  </tbody>\n",
              "</table>\n",
              "<p>366 rows × 5 columns</p>\n",
              "</div>"
            ],
            "text/plain": [
              "                  Columns  NaNcounts_azd  ...  NaNcounts_cus  NaNportions_cus\n",
              "0                     LNR              0  ...              0         0.000000\n",
              "1                AGER_TYP         153947  ...          96738         0.504759\n",
              "2              AKT_DAT_KL          16460  ...          46596         0.243128\n",
              "3                ALTER_HH          69755  ...          68747         0.358707\n",
              "4             ALTER_KIND1         181641  ...         179886         0.938607\n",
              "..                    ...            ...  ...            ...              ...\n",
              "361        WOHNDAUER_2008          16460  ...          46596         0.243128\n",
              "362              WOHNLAGE          22427  ...          51034         0.266285\n",
              "363              ZABEOTYP              0  ...              0         0.000000\n",
              "364             ANREDE_KZ              0  ...              0         0.000000\n",
              "365  ALTERSKATEGORIE_GROB              0  ...              0         0.000000\n",
              "\n",
              "[366 rows x 5 columns]"
            ]
          },
          "execution_count": 63,
          "metadata": {},
          "output_type": "execute_result"
        }
      ],
      "source": [
        "def cols_nans_info(df, cols=None):\n",
        "    \"\"\"Return a new dataframe with NaNs summary per column of the input df\n",
        "\n",
        "    Creates and returns a new dataframe with three columns that correspond to\n",
        "    the attributes (columns) of the initial dataframe, the NaN counts per column\n",
        "    and portion of NaNs per column.\n",
        "\n",
        "    Args:\n",
        "        df (pd.DataFrame): The input dataframe to process.\n",
        "        cols (tuple): 3 elements tuple with the names of the three columns in the\n",
        "        output dataframe. If left None the three default names ('Columns',\n",
        "        'NaNcounts', 'NaNportions') will be used.\n",
        "    \n",
        "    Returns:\n",
        "        A new dataframe with three columns providing counts and portions of NaNs\n",
        "        per column in the input df. Examle:\n",
        "\n",
        "            Columns\t     NaNcounts\tNaNportions\n",
        "        0\tAGER_TYP\t   685843\t    0.769554\n",
        "        1\tAKT_DAT_KL     73499\t    0.082470\n",
        "        2\tALTER_HH\t   310267\t    0.348137\n",
        "        3\tALTER_KIND1\t   810163\t    0.909048\n",
        "        4\tALTER_KIND2\t   861722\t    0.966900\n",
        "    \"\"\"\n",
        "    cols = cols or ('Columns', 'NaNcounts', 'NaNportions')\n",
        "    new_df = df.isna().sum().rename_axis(cols[0]).reset_index(name=cols[1])\n",
        "    new_df[cols[2]] = new_df[cols[1]] / df.shape[0]\n",
        "\n",
        "    print('Average NaNs per column: ', new_df[cols[2]].mean())\n",
        "    print('Max NaNs per column: ', new_df[cols[2]].max())\n",
        "    print('Min NaNs per column: ', new_df[cols[2]].min())\n",
        "\n",
        "    return new_df\n",
        "\n",
        "# Get NaNs info for the `azdias` dataframe\n",
        "print(\"AZDIAS\")\n",
        "azdias_nans = cols_nans_info(azdias)\n",
        "# Get NaNs info for the `custrs` dataframe\n",
        "print(\"CUSTOMERS\")\n",
        "cus_df_nans = cols_nans_info(custrs)\n",
        "\n",
        "pd.merge(azdias_nans, cus_df_nans, on='Columns', suffixes=(\"_azd\", \"_cus\"))"
      ]
    },
    {
      "cell_type": "markdown",
      "metadata": {
        "id": "gIE9eiJB29-U"
      },
      "source": [
        "A first look on the output indicates that there are attributes with a lot of NaNs and even some full of NaNs. Let us visualize these results to get a better picture of the data. We will create a histogram dividing the percentage of NaNs in 10 bins counting corresponding attributes in each bin."
      ]
    },
    {
      "cell_type": "code",
      "execution_count": 64,
      "metadata": {
        "colab": {
          "base_uri": "https://localhost:8080/",
          "height": 513
        },
        "id": "6rbuO8UV2fVS",
        "outputId": "82a660cc-ca73-4f63-8d89-d8bbf72d928a"
      },
      "outputs": [
        {
          "data": {
            "image/png": "[encoded data removed]",
            "text/plain": [
              "<Figure size 1152x576 with 2 Axes>"
            ]
          },
          "metadata": {},
          "output_type": "display_data"
        }
      ],
      "source": [
        "with sns.axes_style(\"whitegrid\"):\n",
        "    fig, ax = plt.subplots(1, 2, figsize=(16,8))\n",
        "    sns.histplot(ax=ax[0], data=azdias_nans, x=\"NaNportions\", bins=np.linspace(0, 1, 11)).set(title='[AZDIAS] Column counts per NaN portions')\n",
        "    sns.histplot(ax=ax[1], data=cus_df_nans, x=\"NaNportions\", bins=np.linspace(0, 1, 11)).set(title='[CUSTOMERS] Column counts per NaN portions')"
      ]
    },
    {
      "cell_type": "markdown",
      "metadata": {
        "id": "wJQfPTzCHR0I"
      },
      "source": [
        "We can see that both datasets have similar distributions of NaNs. The first plot for `azdias` shows that there are about 50+ attributes with NaNs above 80%. Around 280 attributes have less than 30% NaNs while the rest are between 30% - 80% NaNs. The second for `customers` shows that there are around 235 attributes with less than 30% NaNs and around 50 with more than 80% NaNs. We can confirm this with `value_counts`:\n",
        "\n",
        "* `AZDIAS`\n"
      ]
    },
    {
      "cell_type": "code",
      "execution_count": 65,
      "metadata": {
        "colab": {
          "base_uri": "https://localhost:8080/",
          "height": 359
        },
        "id": "1Mjg0zktJvbf",
        "outputId": "a175e882-0b83-42c4-b590-9b0d0fd2957b"
      },
      "outputs": [
        {
          "data": {
            "text/html": [
              "<div>\n",
              "<style scoped>\n",
              "    .dataframe tbody tr th:only-of-type {\n",
              "        vertical-align: middle;\n",
              "    }\n",
              "\n",
              "    .dataframe tbody tr th {\n",
              "        vertical-align: top;\n",
              "    }\n",
              "\n",
              "    .dataframe thead th {\n",
              "        text-align: right;\n",
              "    }\n",
              "</style>\n",
              "<table border=\"1\" class=\"dataframe\">\n",
              "  <thead>\n",
              "    <tr style=\"text-align: right;\">\n",
              "      <th></th>\n",
              "      <th>Bins</th>\n",
              "      <th>Count</th>\n",
              "      <th>ColPortion</th>\n",
              "    </tr>\n",
              "  </thead>\n",
              "  <tbody>\n",
              "    <tr>\n",
              "      <th>0</th>\n",
              "      <td>(-0.001, 0.1]</td>\n",
              "      <td>68</td>\n",
              "      <td>0.185792</td>\n",
              "    </tr>\n",
              "    <tr>\n",
              "      <th>1</th>\n",
              "      <td>(0.1, 0.2]</td>\n",
              "      <td>168</td>\n",
              "      <td>0.459016</td>\n",
              "    </tr>\n",
              "    <tr>\n",
              "      <th>2</th>\n",
              "      <td>(0.2, 0.3]</td>\n",
              "      <td>40</td>\n",
              "      <td>0.109290</td>\n",
              "    </tr>\n",
              "    <tr>\n",
              "      <th>3</th>\n",
              "      <td>(0.3, 0.4]</td>\n",
              "      <td>4</td>\n",
              "      <td>0.010929</td>\n",
              "    </tr>\n",
              "    <tr>\n",
              "      <th>4</th>\n",
              "      <td>(0.4, 0.5]</td>\n",
              "      <td>10</td>\n",
              "      <td>0.027322</td>\n",
              "    </tr>\n",
              "    <tr>\n",
              "      <th>5</th>\n",
              "      <td>(0.5, 0.6]</td>\n",
              "      <td>7</td>\n",
              "      <td>0.019126</td>\n",
              "    </tr>\n",
              "    <tr>\n",
              "      <th>6</th>\n",
              "      <td>(0.6, 0.7]</td>\n",
              "      <td>5</td>\n",
              "      <td>0.013661</td>\n",
              "    </tr>\n",
              "    <tr>\n",
              "      <th>7</th>\n",
              "      <td>(0.7, 0.8]</td>\n",
              "      <td>11</td>\n",
              "      <td>0.030055</td>\n",
              "    </tr>\n",
              "    <tr>\n",
              "      <th>8</th>\n",
              "      <td>(0.8, 0.9]</td>\n",
              "      <td>20</td>\n",
              "      <td>0.054645</td>\n",
              "    </tr>\n",
              "    <tr>\n",
              "      <th>9</th>\n",
              "      <td>(0.9, 1.0]</td>\n",
              "      <td>33</td>\n",
              "      <td>0.090164</td>\n",
              "    </tr>\n",
              "  </tbody>\n",
              "</table>\n",
              "</div>"
            ],
            "text/plain": [
              "            Bins  Count  ColPortion\n",
              "0  (-0.001, 0.1]     68    0.185792\n",
              "1     (0.1, 0.2]    168    0.459016\n",
              "2     (0.2, 0.3]     40    0.109290\n",
              "3     (0.3, 0.4]      4    0.010929\n",
              "4     (0.4, 0.5]     10    0.027322\n",
              "5     (0.5, 0.6]      7    0.019126\n",
              "6     (0.6, 0.7]      5    0.013661\n",
              "7     (0.7, 0.8]     11    0.030055\n",
              "8     (0.8, 0.9]     20    0.054645\n",
              "9     (0.9, 1.0]     33    0.090164"
            ]
          },
          "execution_count": 65,
          "metadata": {},
          "output_type": "execute_result"
        }
      ],
      "source": [
        "azd_col_nan_bins = azdias_nans.NaNportions.value_counts(bins=np.linspace(0, 1, 11), sort=False)\n",
        "\n",
        "azd_col_nan_bins = azd_col_nan_bins.rename_axis(\"Bins\").reset_index(name=\"Count\")\n",
        "\n",
        "azd_col_nan_bins[\"ColPortion\"] = azd_col_nan_bins.Count / azdias.shape[1]\n",
        "\n",
        "azd_col_nan_bins"
      ]
    },
    {
      "cell_type": "code",
      "execution_count": 66,
      "metadata": {
        "colab": {
          "base_uri": "https://localhost:8080/"
        },
        "id": "evEpfSVv1VPW",
        "outputId": "bfeb14ef-d38b-4133-d956-710fcd71e532"
      },
      "outputs": [
        {
          "data": {
            "text/plain": [
              "Count         276.000000\n",
              "ColPortion      0.754098\n",
              "dtype: float64"
            ]
          },
          "execution_count": 66,
          "metadata": {},
          "output_type": "execute_result"
        }
      ],
      "source": [
        "azd_col_nan_bins.loc[:2,].sum()"
      ]
    },
    {
      "cell_type": "markdown",
      "metadata": {
        "id": "FWAnwTMKRbRI"
      },
      "source": [
        "* `CUSTOMERS`"
      ]
    },
    {
      "cell_type": "code",
      "execution_count": 67,
      "metadata": {
        "colab": {
          "base_uri": "https://localhost:8080/",
          "height": 359
        },
        "id": "UzJoHJdiL6Tg",
        "outputId": "21c44ea6-2616-4ae7-cd2a-9cce87c8b714"
      },
      "outputs": [
        {
          "data": {
            "text/html": [
              "<div>\n",
              "<style scoped>\n",
              "    .dataframe tbody tr th:only-of-type {\n",
              "        vertical-align: middle;\n",
              "    }\n",
              "\n",
              "    .dataframe tbody tr th {\n",
              "        vertical-align: top;\n",
              "    }\n",
              "\n",
              "    .dataframe thead th {\n",
              "        text-align: right;\n",
              "    }\n",
              "</style>\n",
              "<table border=\"1\" class=\"dataframe\">\n",
              "  <thead>\n",
              "    <tr style=\"text-align: right;\">\n",
              "      <th></th>\n",
              "      <th>Bins</th>\n",
              "      <th>Count</th>\n",
              "      <th>ColPortion</th>\n",
              "    </tr>\n",
              "  </thead>\n",
              "  <tbody>\n",
              "    <tr>\n",
              "      <th>0</th>\n",
              "      <td>(-0.001, 0.1]</td>\n",
              "      <td>60</td>\n",
              "      <td>0.162602</td>\n",
              "    </tr>\n",
              "    <tr>\n",
              "      <th>1</th>\n",
              "      <td>(0.1, 0.2]</td>\n",
              "      <td>0</td>\n",
              "      <td>0.000000</td>\n",
              "    </tr>\n",
              "    <tr>\n",
              "      <th>2</th>\n",
              "      <td>(0.2, 0.3]</td>\n",
              "      <td>175</td>\n",
              "      <td>0.474255</td>\n",
              "    </tr>\n",
              "    <tr>\n",
              "      <th>3</th>\n",
              "      <td>(0.3, 0.4]</td>\n",
              "      <td>40</td>\n",
              "      <td>0.108401</td>\n",
              "    </tr>\n",
              "    <tr>\n",
              "      <th>4</th>\n",
              "      <td>(0.4, 0.5]</td>\n",
              "      <td>20</td>\n",
              "      <td>0.054201</td>\n",
              "    </tr>\n",
              "    <tr>\n",
              "      <th>5</th>\n",
              "      <td>(0.5, 0.6]</td>\n",
              "      <td>10</td>\n",
              "      <td>0.027100</td>\n",
              "    </tr>\n",
              "    <tr>\n",
              "      <th>6</th>\n",
              "      <td>(0.6, 0.7]</td>\n",
              "      <td>8</td>\n",
              "      <td>0.021680</td>\n",
              "    </tr>\n",
              "    <tr>\n",
              "      <th>7</th>\n",
              "      <td>(0.7, 0.8]</td>\n",
              "      <td>9</td>\n",
              "      <td>0.024390</td>\n",
              "    </tr>\n",
              "    <tr>\n",
              "      <th>8</th>\n",
              "      <td>(0.8, 0.9]</td>\n",
              "      <td>18</td>\n",
              "      <td>0.048780</td>\n",
              "    </tr>\n",
              "    <tr>\n",
              "      <th>9</th>\n",
              "      <td>(0.9, 1.0]</td>\n",
              "      <td>29</td>\n",
              "      <td>0.078591</td>\n",
              "    </tr>\n",
              "  </tbody>\n",
              "</table>\n",
              "</div>"
            ],
            "text/plain": [
              "            Bins  Count  ColPortion\n",
              "0  (-0.001, 0.1]     60    0.162602\n",
              "1     (0.1, 0.2]      0    0.000000\n",
              "2     (0.2, 0.3]    175    0.474255\n",
              "3     (0.3, 0.4]     40    0.108401\n",
              "4     (0.4, 0.5]     20    0.054201\n",
              "5     (0.5, 0.6]     10    0.027100\n",
              "6     (0.6, 0.7]      8    0.021680\n",
              "7     (0.7, 0.8]      9    0.024390\n",
              "8     (0.8, 0.9]     18    0.048780\n",
              "9     (0.9, 1.0]     29    0.078591"
            ]
          },
          "execution_count": 67,
          "metadata": {},
          "output_type": "execute_result"
        }
      ],
      "source": [
        "cus_col_nan_bins = cus_df_nans.NaNportions.value_counts(bins=np.linspace(0, 1, 11), sort=False)\n",
        "\n",
        "cus_col_nan_bins = cus_col_nan_bins.rename_axis(\"Bins\").reset_index(name=\"Count\")\n",
        "\n",
        "cus_col_nan_bins[\"ColPortion\"] = cus_col_nan_bins.Count / custrs.shape[1]\n",
        "\n",
        "cus_col_nan_bins"
      ]
    },
    {
      "cell_type": "code",
      "execution_count": 68,
      "metadata": {
        "colab": {
          "base_uri": "https://localhost:8080/"
        },
        "id": "f-weU28oQdYi",
        "outputId": "8f0b2743-fc4c-459d-d03d-fb1d2fdfa5d5"
      },
      "outputs": [
        {
          "data": {
            "text/plain": [
              "Count         235.000000\n",
              "ColPortion      0.636856\n",
              "dtype: float64"
            ]
          },
          "execution_count": 68,
          "metadata": {},
          "output_type": "execute_result"
        }
      ],
      "source": [
        "cus_col_nan_bins.loc[:2,].sum()"
      ]
    },
    {
      "cell_type": "markdown",
      "metadata": {
        "id": "r8mPD3c3RiBE"
      },
      "source": [
        "####Format data for plotting\n",
        "\n",
        "We need to convert the dataframe to [long-form](http://seaborn.pydata.org/tutorial/data_structure.html#long-form-vs-wide-form-data) to use the `hue` argument in `sns.barplot` to plot the data."
      ]
    },
    {
      "cell_type": "code",
      "execution_count": 69,
      "metadata": {
        "colab": {
          "base_uri": "https://localhost:8080/",
          "height": 204
        },
        "id": "d2NL0Nk_MZsD",
        "outputId": "1b2fbd01-528b-4e53-fd77-64f310b266e3"
      },
      "outputs": [
        {
          "data": {
            "text/html": [
              "<div>\n",
              "<style scoped>\n",
              "    .dataframe tbody tr th:only-of-type {\n",
              "        vertical-align: middle;\n",
              "    }\n",
              "\n",
              "    .dataframe tbody tr th {\n",
              "        vertical-align: top;\n",
              "    }\n",
              "\n",
              "    .dataframe thead th {\n",
              "        text-align: right;\n",
              "    }\n",
              "</style>\n",
              "<table border=\"1\" class=\"dataframe\">\n",
              "  <thead>\n",
              "    <tr style=\"text-align: right;\">\n",
              "      <th></th>\n",
              "      <th>Bins</th>\n",
              "      <th>Count_azd</th>\n",
              "      <th>ColPortion_azd</th>\n",
              "      <th>Count_cus</th>\n",
              "      <th>ColPortion_cus</th>\n",
              "    </tr>\n",
              "  </thead>\n",
              "  <tbody>\n",
              "    <tr>\n",
              "      <th>0</th>\n",
              "      <td>(-0.001, 0.1]</td>\n",
              "      <td>68</td>\n",
              "      <td>0.185792</td>\n",
              "      <td>60</td>\n",
              "      <td>0.162602</td>\n",
              "    </tr>\n",
              "    <tr>\n",
              "      <th>1</th>\n",
              "      <td>(0.1, 0.2]</td>\n",
              "      <td>168</td>\n",
              "      <td>0.459016</td>\n",
              "      <td>0</td>\n",
              "      <td>0.000000</td>\n",
              "    </tr>\n",
              "    <tr>\n",
              "      <th>2</th>\n",
              "      <td>(0.2, 0.3]</td>\n",
              "      <td>40</td>\n",
              "      <td>0.109290</td>\n",
              "      <td>175</td>\n",
              "      <td>0.474255</td>\n",
              "    </tr>\n",
              "    <tr>\n",
              "      <th>3</th>\n",
              "      <td>(0.3, 0.4]</td>\n",
              "      <td>4</td>\n",
              "      <td>0.010929</td>\n",
              "      <td>40</td>\n",
              "      <td>0.108401</td>\n",
              "    </tr>\n",
              "    <tr>\n",
              "      <th>4</th>\n",
              "      <td>(0.4, 0.5]</td>\n",
              "      <td>10</td>\n",
              "      <td>0.027322</td>\n",
              "      <td>20</td>\n",
              "      <td>0.054201</td>\n",
              "    </tr>\n",
              "  </tbody>\n",
              "</table>\n",
              "</div>"
            ],
            "text/plain": [
              "            Bins  Count_azd  ColPortion_azd  Count_cus  ColPortion_cus\n",
              "0  (-0.001, 0.1]         68        0.185792         60        0.162602\n",
              "1     (0.1, 0.2]        168        0.459016          0        0.000000\n",
              "2     (0.2, 0.3]         40        0.109290        175        0.474255\n",
              "3     (0.3, 0.4]          4        0.010929         40        0.108401\n",
              "4     (0.4, 0.5]         10        0.027322         20        0.054201"
            ]
          },
          "execution_count": 69,
          "metadata": {},
          "output_type": "execute_result"
        }
      ],
      "source": [
        "merge_col_nan_bins = pd.merge(azd_col_nan_bins, cus_col_nan_bins, on='Bins', suffixes=(\"_azd\", \"_cus\"))\n",
        "\n",
        "merge_col_nan_bins.head()"
      ]
    },
    {
      "cell_type": "code",
      "execution_count": 70,
      "metadata": {
        "colab": {
          "base_uri": "https://localhost:8080/",
          "height": 204
        },
        "id": "cPFgga5kNuuK",
        "outputId": "58c66f50-7415-417a-be5e-3b3f5874ed66"
      },
      "outputs": [
        {
          "data": {
            "text/html": [
              "<div>\n",
              "<style scoped>\n",
              "    .dataframe tbody tr th:only-of-type {\n",
              "        vertical-align: middle;\n",
              "    }\n",
              "\n",
              "    .dataframe tbody tr th {\n",
              "        vertical-align: top;\n",
              "    }\n",
              "\n",
              "    .dataframe thead th {\n",
              "        text-align: right;\n",
              "    }\n",
              "</style>\n",
              "<table border=\"1\" class=\"dataframe\">\n",
              "  <thead>\n",
              "    <tr style=\"text-align: right;\">\n",
              "      <th></th>\n",
              "      <th>Bins</th>\n",
              "      <th>variable</th>\n",
              "      <th>value</th>\n",
              "    </tr>\n",
              "  </thead>\n",
              "  <tbody>\n",
              "    <tr>\n",
              "      <th>0</th>\n",
              "      <td>(-0.001, 0.1]</td>\n",
              "      <td>ColPortion_azd</td>\n",
              "      <td>0.185792</td>\n",
              "    </tr>\n",
              "    <tr>\n",
              "      <th>1</th>\n",
              "      <td>(0.1, 0.2]</td>\n",
              "      <td>ColPortion_azd</td>\n",
              "      <td>0.459016</td>\n",
              "    </tr>\n",
              "    <tr>\n",
              "      <th>2</th>\n",
              "      <td>(0.2, 0.3]</td>\n",
              "      <td>ColPortion_azd</td>\n",
              "      <td>0.109290</td>\n",
              "    </tr>\n",
              "    <tr>\n",
              "      <th>3</th>\n",
              "      <td>(0.3, 0.4]</td>\n",
              "      <td>ColPortion_azd</td>\n",
              "      <td>0.010929</td>\n",
              "    </tr>\n",
              "    <tr>\n",
              "      <th>4</th>\n",
              "      <td>(0.4, 0.5]</td>\n",
              "      <td>ColPortion_azd</td>\n",
              "      <td>0.027322</td>\n",
              "    </tr>\n",
              "  </tbody>\n",
              "</table>\n",
              "</div>"
            ],
            "text/plain": [
              "            Bins        variable     value\n",
              "0  (-0.001, 0.1]  ColPortion_azd  0.185792\n",
              "1     (0.1, 0.2]  ColPortion_azd  0.459016\n",
              "2     (0.2, 0.3]  ColPortion_azd  0.109290\n",
              "3     (0.3, 0.4]  ColPortion_azd  0.010929\n",
              "4     (0.4, 0.5]  ColPortion_azd  0.027322"
            ]
          },
          "execution_count": 70,
          "metadata": {},
          "output_type": "execute_result"
        }
      ],
      "source": [
        "cols_nan_portns_melt = merge_col_nan_bins[['Bins', 'ColPortion_azd', 'ColPortion_cus']].melt(id_vars=('Bins'))\n",
        "cols_nan_portns_melt.head()"
      ]
    },
    {
      "cell_type": "code",
      "execution_count": 71,
      "metadata": {
        "colab": {
          "base_uri": "https://localhost:8080/",
          "height": 513
        },
        "id": "Gdjv9iEg10f9",
        "outputId": "8c083dc2-ecc6-4bc1-ff03-fb298cd4c1fa"
      },
      "outputs": [
        {
          "data": {
            "image/png": "[encoded data removed]",
            "text/plain": [
              "<Figure size 864x576 with 1 Axes>"
            ]
          },
          "metadata": {},
          "output_type": "display_data"
        }
      ],
      "source": [
        "with sns.axes_style(\"whitegrid\"):\n",
        "    plt.figure(figsize=(12,8))\n",
        "    sns.barplot(data=cols_nan_portns_melt, x=\"value\", y=\"Bins\", hue=\"variable\", palette=\"Blues_d\").set(title='[AZDIAS, CUSTOMERS] Columns portions per NaN bin')\n",
        "    # sns.barplot(data=azd_col_nan_bins, x=\"ColPortion\", y=\"Bins\", color='royalblue').set(title='[AZDIAS] Columns portion per NaN bin')"
      ]
    },
    {
      "cell_type": "markdown",
      "metadata": {
        "id": "4cKl8oIKIEsw"
      },
      "source": [
        "###Rows NaNs analysis\n",
        "\n",
        "* Identify missing values per row as percentage (portions).\n",
        "* Drop rows with all NaNs (zero rows will be droppped):"
      ]
    },
    {
      "cell_type": "code",
      "execution_count": 72,
      "metadata": {
        "id": "yU-jD-FHmHD0"
      },
      "outputs": [],
      "source": [
        "def rows_nans_info(df, cols=None):\n",
        "    \"\"\"Return a new dataframe with NaNs summary per row of the input df\n",
        "\n",
        "    Creates and returns a new dataframe with three columns that correspond to\n",
        "    the rows of the input dataframe, the NaN counts per row\n",
        "    and portion of NaNs per row.\n",
        "\n",
        "    Args:\n",
        "        df (pd.DataFrame): The input dataframe to process.\n",
        "        cols (tuple): 3 elements tuple with the names of the three columns in the\n",
        "        output dataframe. If left None the three default names ('Rows',\n",
        "        'NaNcounts', 'NaNportions') will be used.\n",
        "    \n",
        "    Returns:\n",
        "        A new dataframe with three columns providing counts and portions of NaNs\n",
        "        per row in the input df. Examle:\n",
        "\n",
        "            Rows    NaNcounts\tNaNportions\n",
        "        0\t0\t    685843\t    0.769554\n",
        "        1\t1       73499\t    0.082470\n",
        "        2\t2\t    310267\t    0.348137\n",
        "        3\t3\t    810163\t    0.909048\n",
        "        4\t4       861722\t    0.966900\n",
        "    \"\"\"\n",
        "    cols = cols or ('Rows', 'NaNcounts', 'NaNportions')\n",
        "    new_df = df.isna().sum(axis=1).rename_axis(cols[0]).reset_index(name=cols[1])\n",
        "    new_df[cols[2]] = new_df[cols[1]] / df.shape[1]\n",
        "\n",
        "    print(\"Average NaNs per row: \", new_df[cols[2]].mean())\n",
        "    print(\"Max NaNs per row: \", new_df[cols[2]].max())\n",
        "    print(\"Min NaNs per row: \", new_df[cols[2]].min())\n",
        "\n",
        "    return new_df"
      ]
    },
    {
      "cell_type": "markdown",
      "metadata": {
        "id": "rwGZI1TiuVwX"
      },
      "source": [
        "* `AZDIAS`"
      ]
    },
    {
      "cell_type": "code",
      "execution_count": 73,
      "metadata": {
        "colab": {
          "base_uri": "https://localhost:8080/"
        },
        "id": "XQH1JJQhpAqB",
        "outputId": "cf0027f3-0ede-42a0-b06b-f8011c74b2b0"
      },
      "outputs": [
        {
          "name": "stdout",
          "output_type": "stream",
          "text": [
            "Average NaNs per row:  0.2795126639344794\n",
            "Max NaNs per row:  0.8579234972677595\n",
            "Min NaNs per row:  0.07377049180327869\n"
          ]
        },
        {
          "data": {
            "text/plain": [
              "count    200000.000000\n",
              "mean          0.279513\n",
              "std           0.197230\n",
              "min           0.073770\n",
              "25%           0.183060\n",
              "50%           0.213115\n",
              "75%           0.243169\n",
              "max           0.857923\n",
              "Name: NaNportions, dtype: float64"
            ]
          },
          "execution_count": 73,
          "metadata": {},
          "output_type": "execute_result"
        }
      ],
      "source": [
        "azdias_row_nans = rows_nans_info(azdias)\n",
        "\n",
        "azdias_row_nans.NaNportions.describe()"
      ]
    },
    {
      "cell_type": "markdown",
      "metadata": {
        "id": "R9OlKWVFuZby"
      },
      "source": [
        "* `CUSTOMERS`"
      ]
    },
    {
      "cell_type": "code",
      "execution_count": 74,
      "metadata": {
        "colab": {
          "base_uri": "https://localhost:8080/"
        },
        "id": "T4Ge91SCldMK",
        "outputId": "21e630b4-b630-4844-c7dc-653fb1939cba"
      },
      "outputs": [
        {
          "name": "stdout",
          "output_type": "stream",
          "text": [
            "Average NaNs per row:  0.35495416064895896\n",
            "Max NaNs per row:  0.8536585365853658\n",
            "Min NaNs per row:  0.06775067750677506\n"
          ]
        },
        {
          "data": {
            "text/plain": [
              "count    191652.000000\n",
              "mean          0.354954\n",
              "std           0.286598\n",
              "min           0.067751\n",
              "25%           0.165312\n",
              "50%           0.195122\n",
              "75%           0.745257\n",
              "max           0.853659\n",
              "Name: NaNportions, dtype: float64"
            ]
          },
          "execution_count": 74,
          "metadata": {},
          "output_type": "execute_result"
        }
      ],
      "source": [
        "custrs_row_nans = rows_nans_info(custrs)\n",
        "\n",
        "custrs_row_nans.NaNportions.describe()"
      ]
    },
    {
      "cell_type": "markdown",
      "metadata": {
        "id": "9hFDrCkIrquH"
      },
      "source": [
        "There is on average a 28% missing values per row in `AZDIAS` and around 35% NaNs per row in `CUSTOMERS`."
      ]
    },
    {
      "cell_type": "code",
      "execution_count": 75,
      "metadata": {
        "colab": {
          "base_uri": "https://localhost:8080/",
          "height": 513
        },
        "id": "Hu35Ukta5tHV",
        "outputId": "d0d7afa9-d5db-4eb2-f2e1-b847b1ef57cc"
      },
      "outputs": [
        {
          "data": {
            "image/png": "[encoded data removed]",
            "text/plain": [
              "<Figure size 1152x576 with 2 Axes>"
            ]
          },
          "metadata": {},
          "output_type": "display_data"
        }
      ],
      "source": [
        "with sns.axes_style(\"whitegrid\"):\n",
        "    fig, ax = plt.subplots(1, 2, figsize=(16,8))\n",
        "    sns.histplot(ax=ax[0], data=azdias_row_nans, x=\"NaNportions\", bins=np.linspace(0, 1, 11)).set(title='[AZDIAS] Row counts per NaN portions')\n",
        "    sns.histplot(ax=ax[1], data=custrs_row_nans, x=\"NaNportions\", bins=np.linspace(0, 1, 11)).set(title='[CUSTOMERS] Row counts per NaN portions')"
      ]
    },
    {
      "cell_type": "markdown",
      "metadata": {
        "id": "PH4GtlQA8Uap"
      },
      "source": [
        "As seen both datasets have most rows with missing values in the range 10% - 30% per row."
      ]
    },
    {
      "cell_type": "markdown",
      "metadata": {
        "id": "4s8zwqfUptnq"
      },
      "source": [
        "* `AZDIAS`"
      ]
    },
    {
      "cell_type": "code",
      "execution_count": 76,
      "metadata": {
        "colab": {
          "base_uri": "https://localhost:8080/",
          "height": 359
        },
        "id": "ooDvb_K7lTBj",
        "outputId": "8f9d4c6a-68a7-4ccd-a725-a623a91e08fc"
      },
      "outputs": [
        {
          "data": {
            "text/html": [
              "<div>\n",
              "<style scoped>\n",
              "    .dataframe tbody tr th:only-of-type {\n",
              "        vertical-align: middle;\n",
              "    }\n",
              "\n",
              "    .dataframe tbody tr th {\n",
              "        vertical-align: top;\n",
              "    }\n",
              "\n",
              "    .dataframe thead th {\n",
              "        text-align: right;\n",
              "    }\n",
              "</style>\n",
              "<table border=\"1\" class=\"dataframe\">\n",
              "  <thead>\n",
              "    <tr style=\"text-align: right;\">\n",
              "      <th></th>\n",
              "      <th>Bins</th>\n",
              "      <th>Count</th>\n",
              "      <th>RowPortion</th>\n",
              "    </tr>\n",
              "  </thead>\n",
              "  <tbody>\n",
              "    <tr>\n",
              "      <th>0</th>\n",
              "      <td>(-0.001, 0.1]</td>\n",
              "      <td>170</td>\n",
              "      <td>0.000850</td>\n",
              "    </tr>\n",
              "    <tr>\n",
              "      <th>1</th>\n",
              "      <td>(0.1, 0.2]</td>\n",
              "      <td>77806</td>\n",
              "      <td>0.389030</td>\n",
              "    </tr>\n",
              "    <tr>\n",
              "      <th>2</th>\n",
              "      <td>(0.2, 0.3]</td>\n",
              "      <td>87716</td>\n",
              "      <td>0.438580</td>\n",
              "    </tr>\n",
              "    <tr>\n",
              "      <th>3</th>\n",
              "      <td>(0.3, 0.4]</td>\n",
              "      <td>10009</td>\n",
              "      <td>0.050045</td>\n",
              "    </tr>\n",
              "    <tr>\n",
              "      <th>4</th>\n",
              "      <td>(0.4, 0.5]</td>\n",
              "      <td>760</td>\n",
              "      <td>0.003800</td>\n",
              "    </tr>\n",
              "    <tr>\n",
              "      <th>5</th>\n",
              "      <td>(0.5, 0.6]</td>\n",
              "      <td>1071</td>\n",
              "      <td>0.005355</td>\n",
              "    </tr>\n",
              "    <tr>\n",
              "      <th>6</th>\n",
              "      <td>(0.6, 0.7]</td>\n",
              "      <td>1340</td>\n",
              "      <td>0.006700</td>\n",
              "    </tr>\n",
              "    <tr>\n",
              "      <th>7</th>\n",
              "      <td>(0.7, 0.8]</td>\n",
              "      <td>4423</td>\n",
              "      <td>0.022115</td>\n",
              "    </tr>\n",
              "    <tr>\n",
              "      <th>8</th>\n",
              "      <td>(0.8, 0.9]</td>\n",
              "      <td>16705</td>\n",
              "      <td>0.083525</td>\n",
              "    </tr>\n",
              "    <tr>\n",
              "      <th>9</th>\n",
              "      <td>(0.9, 1.0]</td>\n",
              "      <td>0</td>\n",
              "      <td>0.000000</td>\n",
              "    </tr>\n",
              "  </tbody>\n",
              "</table>\n",
              "</div>"
            ],
            "text/plain": [
              "            Bins  Count  RowPortion\n",
              "0  (-0.001, 0.1]    170    0.000850\n",
              "1     (0.1, 0.2]  77806    0.389030\n",
              "2     (0.2, 0.3]  87716    0.438580\n",
              "3     (0.3, 0.4]  10009    0.050045\n",
              "4     (0.4, 0.5]    760    0.003800\n",
              "5     (0.5, 0.6]   1071    0.005355\n",
              "6     (0.6, 0.7]   1340    0.006700\n",
              "7     (0.7, 0.8]   4423    0.022115\n",
              "8     (0.8, 0.9]  16705    0.083525\n",
              "9     (0.9, 1.0]      0    0.000000"
            ]
          },
          "execution_count": 76,
          "metadata": {},
          "output_type": "execute_result"
        }
      ],
      "source": [
        "azd_row_nan_bins = azdias_row_nans.NaNportions.value_counts(bins=np.linspace(0, 1, 11), sort=False)\n",
        "\n",
        "azd_row_nan_bins = azd_row_nan_bins.rename_axis(\"Bins\").reset_index(name=\"Count\")\n",
        "\n",
        "azd_row_nan_bins[\"RowPortion\"] = azd_row_nan_bins.Count / azdias.shape[0]\n",
        "\n",
        "azd_row_nan_bins"
      ]
    },
    {
      "cell_type": "code",
      "execution_count": 77,
      "metadata": {
        "colab": {
          "base_uri": "https://localhost:8080/"
        },
        "id": "YmmRkr6dzV3D",
        "outputId": "e578de5f-b04d-4918-9234-5a0e709b2dd5"
      },
      "outputs": [
        {
          "data": {
            "text/plain": [
              "Count         165692.00000\n",
              "RowPortion         0.82846\n",
              "dtype: float64"
            ]
          },
          "execution_count": 77,
          "metadata": {},
          "output_type": "execute_result"
        }
      ],
      "source": [
        "# 20% NaN counts and dataset poriton - AZDIAS\n",
        "azd_row_nan_bins.loc[:2,].sum()"
      ]
    },
    {
      "cell_type": "markdown",
      "metadata": {
        "id": "MTaGrnrTqPMG"
      },
      "source": [
        "* `CUSTOMERS`"
      ]
    },
    {
      "cell_type": "code",
      "execution_count": 78,
      "metadata": {
        "colab": {
          "base_uri": "https://localhost:8080/",
          "height": 359
        },
        "id": "YkUdfIzLp7wl",
        "outputId": "4dfa4e58-a6e7-4a71-c2c5-62eb0a3c6fe5"
      },
      "outputs": [
        {
          "data": {
            "text/html": [
              "<div>\n",
              "<style scoped>\n",
              "    .dataframe tbody tr th:only-of-type {\n",
              "        vertical-align: middle;\n",
              "    }\n",
              "\n",
              "    .dataframe tbody tr th {\n",
              "        vertical-align: top;\n",
              "    }\n",
              "\n",
              "    .dataframe thead th {\n",
              "        text-align: right;\n",
              "    }\n",
              "</style>\n",
              "<table border=\"1\" class=\"dataframe\">\n",
              "  <thead>\n",
              "    <tr style=\"text-align: right;\">\n",
              "      <th></th>\n",
              "      <th>Bins</th>\n",
              "      <th>Count</th>\n",
              "      <th>RowPortion</th>\n",
              "    </tr>\n",
              "  </thead>\n",
              "  <tbody>\n",
              "    <tr>\n",
              "      <th>0</th>\n",
              "      <td>(-0.001, 0.1]</td>\n",
              "      <td>327</td>\n",
              "      <td>0.001706</td>\n",
              "    </tr>\n",
              "    <tr>\n",
              "      <th>1</th>\n",
              "      <td>(0.1, 0.2]</td>\n",
              "      <td>103171</td>\n",
              "      <td>0.538325</td>\n",
              "    </tr>\n",
              "    <tr>\n",
              "      <th>2</th>\n",
              "      <td>(0.2, 0.3]</td>\n",
              "      <td>31178</td>\n",
              "      <td>0.162680</td>\n",
              "    </tr>\n",
              "    <tr>\n",
              "      <th>3</th>\n",
              "      <td>(0.3, 0.4]</td>\n",
              "      <td>5563</td>\n",
              "      <td>0.029027</td>\n",
              "    </tr>\n",
              "    <tr>\n",
              "      <th>4</th>\n",
              "      <td>(0.4, 0.5]</td>\n",
              "      <td>299</td>\n",
              "      <td>0.001560</td>\n",
              "    </tr>\n",
              "    <tr>\n",
              "      <th>5</th>\n",
              "      <td>(0.5, 0.6]</td>\n",
              "      <td>327</td>\n",
              "      <td>0.001706</td>\n",
              "    </tr>\n",
              "    <tr>\n",
              "      <th>6</th>\n",
              "      <td>(0.6, 0.7]</td>\n",
              "      <td>1079</td>\n",
              "      <td>0.005630</td>\n",
              "    </tr>\n",
              "    <tr>\n",
              "      <th>7</th>\n",
              "      <td>(0.7, 0.8]</td>\n",
              "      <td>3071</td>\n",
              "      <td>0.016024</td>\n",
              "    </tr>\n",
              "    <tr>\n",
              "      <th>8</th>\n",
              "      <td>(0.8, 0.9]</td>\n",
              "      <td>46637</td>\n",
              "      <td>0.243342</td>\n",
              "    </tr>\n",
              "    <tr>\n",
              "      <th>9</th>\n",
              "      <td>(0.9, 1.0]</td>\n",
              "      <td>0</td>\n",
              "      <td>0.000000</td>\n",
              "    </tr>\n",
              "  </tbody>\n",
              "</table>\n",
              "</div>"
            ],
            "text/plain": [
              "            Bins   Count  RowPortion\n",
              "0  (-0.001, 0.1]     327    0.001706\n",
              "1     (0.1, 0.2]  103171    0.538325\n",
              "2     (0.2, 0.3]   31178    0.162680\n",
              "3     (0.3, 0.4]    5563    0.029027\n",
              "4     (0.4, 0.5]     299    0.001560\n",
              "5     (0.5, 0.6]     327    0.001706\n",
              "6     (0.6, 0.7]    1079    0.005630\n",
              "7     (0.7, 0.8]    3071    0.016024\n",
              "8     (0.8, 0.9]   46637    0.243342\n",
              "9     (0.9, 1.0]       0    0.000000"
            ]
          },
          "execution_count": 78,
          "metadata": {},
          "output_type": "execute_result"
        }
      ],
      "source": [
        "cus_row_nan_bins = custrs_row_nans.NaNportions.value_counts(bins=np.linspace(0, 1, 11), sort=False)\n",
        "\n",
        "cus_row_nan_bins = cus_row_nan_bins.rename_axis(\"Bins\").reset_index(name=\"Count\")\n",
        "\n",
        "cus_row_nan_bins[\"RowPortion\"] = cus_row_nan_bins.Count / custrs.shape[0]\n",
        "\n",
        "cus_row_nan_bins"
      ]
    },
    {
      "cell_type": "code",
      "execution_count": 79,
      "metadata": {
        "colab": {
          "base_uri": "https://localhost:8080/"
        },
        "id": "6QjGUX2JgA9d",
        "outputId": "9824511f-9548-463b-dfdd-69c3bc7b0a30"
      },
      "outputs": [
        {
          "data": {
            "text/plain": [
              "Count         134676.000000\n",
              "RowPortion         0.702711\n",
              "dtype: float64"
            ]
          },
          "execution_count": 79,
          "metadata": {},
          "output_type": "execute_result"
        }
      ],
      "source": [
        "# 20% NaN counts and dataset poriton - CUSTOMERS\n",
        "cus_row_nan_bins.loc[:2,].sum()"
      ]
    },
    {
      "cell_type": "markdown",
      "metadata": {
        "id": "GkEPSY3ksGEo"
      },
      "source": [
        "####Format data in long-form for plotting with `sns.barplot`. "
      ]
    },
    {
      "cell_type": "code",
      "execution_count": 80,
      "metadata": {
        "colab": {
          "base_uri": "https://localhost:8080/",
          "height": 204
        },
        "id": "Pxev9AVQqbIS",
        "outputId": "8451df04-d3dc-4ef4-f3d8-c5e1e45ae682"
      },
      "outputs": [
        {
          "data": {
            "text/html": [
              "<div>\n",
              "<style scoped>\n",
              "    .dataframe tbody tr th:only-of-type {\n",
              "        vertical-align: middle;\n",
              "    }\n",
              "\n",
              "    .dataframe tbody tr th {\n",
              "        vertical-align: top;\n",
              "    }\n",
              "\n",
              "    .dataframe thead th {\n",
              "        text-align: right;\n",
              "    }\n",
              "</style>\n",
              "<table border=\"1\" class=\"dataframe\">\n",
              "  <thead>\n",
              "    <tr style=\"text-align: right;\">\n",
              "      <th></th>\n",
              "      <th>Bins</th>\n",
              "      <th>variable</th>\n",
              "      <th>value</th>\n",
              "    </tr>\n",
              "  </thead>\n",
              "  <tbody>\n",
              "    <tr>\n",
              "      <th>0</th>\n",
              "      <td>(-0.001, 0.1]</td>\n",
              "      <td>RowPortion_azd</td>\n",
              "      <td>0.000850</td>\n",
              "    </tr>\n",
              "    <tr>\n",
              "      <th>1</th>\n",
              "      <td>(0.1, 0.2]</td>\n",
              "      <td>RowPortion_azd</td>\n",
              "      <td>0.389030</td>\n",
              "    </tr>\n",
              "    <tr>\n",
              "      <th>2</th>\n",
              "      <td>(0.2, 0.3]</td>\n",
              "      <td>RowPortion_azd</td>\n",
              "      <td>0.438580</td>\n",
              "    </tr>\n",
              "    <tr>\n",
              "      <th>3</th>\n",
              "      <td>(0.3, 0.4]</td>\n",
              "      <td>RowPortion_azd</td>\n",
              "      <td>0.050045</td>\n",
              "    </tr>\n",
              "    <tr>\n",
              "      <th>4</th>\n",
              "      <td>(0.4, 0.5]</td>\n",
              "      <td>RowPortion_azd</td>\n",
              "      <td>0.003800</td>\n",
              "    </tr>\n",
              "  </tbody>\n",
              "</table>\n",
              "</div>"
            ],
            "text/plain": [
              "            Bins        variable     value\n",
              "0  (-0.001, 0.1]  RowPortion_azd  0.000850\n",
              "1     (0.1, 0.2]  RowPortion_azd  0.389030\n",
              "2     (0.2, 0.3]  RowPortion_azd  0.438580\n",
              "3     (0.3, 0.4]  RowPortion_azd  0.050045\n",
              "4     (0.4, 0.5]  RowPortion_azd  0.003800"
            ]
          },
          "execution_count": 80,
          "metadata": {},
          "output_type": "execute_result"
        }
      ],
      "source": [
        "merge_row_nan_bins = pd.merge(azd_row_nan_bins, cus_row_nan_bins, on='Bins', suffixes=(\"_azd\", \"_cus\"))\n",
        "\n",
        "rows_nan_portns_melt = merge_row_nan_bins[['Bins', 'RowPortion_azd', 'RowPortion_cus']].melt(id_vars=('Bins'))\n",
        "\n",
        "rows_nan_portns_melt.head()"
      ]
    },
    {
      "cell_type": "code",
      "execution_count": 81,
      "metadata": {
        "colab": {
          "base_uri": "https://localhost:8080/",
          "height": 513
        },
        "id": "267iYIqashPU",
        "outputId": "5c78084d-7960-47ea-8c6f-4cb7ab0d5f1e"
      },
      "outputs": [
        {
          "data": {
            "image/png": "[encoded data removed]",
            "text/plain": [
              "<Figure size 864x576 with 1 Axes>"
            ]
          },
          "metadata": {},
          "output_type": "display_data"
        }
      ],
      "source": [
        "with sns.axes_style(\"whitegrid\"):\n",
        "    plt.figure(figsize=(12,8))\n",
        "    sns.barplot(data=rows_nan_portns_melt, x=\"value\", y=\"Bins\", hue=\"variable\", palette=\"Blues_d\").set(title='[AZDIAS, CUSTOMERS] Rows portions per NaN bin')"
      ]
    },
    {
      "cell_type": "markdown",
      "metadata": {
        "id": "Gxx6Eb3JzqYi"
      },
      "source": [
        "\n",
        "In both datasets most rows have NaNs in the range 10% - 30%.\n"
      ]
    },
    {
      "cell_type": "markdown",
      "metadata": {
        "id": "QRFY80lVsTbv"
      },
      "source": [
        "####Column type and exploration for the attributes with values range `'…'`\n",
        "\n",
        "Finally we have the special cases where values' pool was `'…'`, described with the `attrs_val_dict_any` dictionary mapping. These include a wide range of numerical values:"
      ]
    },
    {
      "cell_type": "markdown",
      "metadata": {
        "id": "IvFtJAUiisMf"
      },
      "source": [
        "* `AZDIAS`"
      ]
    },
    {
      "cell_type": "code",
      "execution_count": 82,
      "metadata": {
        "colab": {
          "base_uri": "https://localhost:8080/"
        },
        "id": "Nf8NKh-ipMPs",
        "outputId": "ad8cfd42-d900-443c-e34d-319cb68c97b1"
      },
      "outputs": [
        {
          "data": {
            "text/plain": [
              "ANZ_HAUSHALTE_AKTIV    float64\n",
              "ANZ_HH_TITEL           float64\n",
              "ANZ_PERSONEN           float64\n",
              "ANZ_TITEL              float64\n",
              "GEBURTSJAHR            float64\n",
              "KBA13_ANZAHL_PKW       float64\n",
              "MIN_GEBAEUDEJAHR       float64\n",
              "dtype: object"
            ]
          },
          "execution_count": 82,
          "metadata": {},
          "output_type": "execute_result"
        }
      ],
      "source": [
        "# Check `attrs_val_dict_any` special cases types:\n",
        "azdias.loc[:, attrs_val_dict_any.keys()].dtypes"
      ]
    },
    {
      "cell_type": "code",
      "execution_count": 83,
      "metadata": {
        "colab": {
          "base_uri": "https://localhost:8080/",
          "height": 297
        },
        "id": "P52gpw_Jtn7Q",
        "outputId": "5e702d98-3586-4bc2-bb1c-73073215ea68"
      },
      "outputs": [
        {
          "data": {
            "text/html": [
              "<div>\n",
              "<style scoped>\n",
              "    .dataframe tbody tr th:only-of-type {\n",
              "        vertical-align: middle;\n",
              "    }\n",
              "\n",
              "    .dataframe tbody tr th {\n",
              "        vertical-align: top;\n",
              "    }\n",
              "\n",
              "    .dataframe thead th {\n",
              "        text-align: right;\n",
              "    }\n",
              "</style>\n",
              "<table border=\"1\" class=\"dataframe\">\n",
              "  <thead>\n",
              "    <tr style=\"text-align: right;\">\n",
              "      <th></th>\n",
              "      <th>ANZ_HAUSHALTE_AKTIV</th>\n",
              "      <th>ANZ_HH_TITEL</th>\n",
              "      <th>ANZ_PERSONEN</th>\n",
              "      <th>ANZ_TITEL</th>\n",
              "      <th>GEBURTSJAHR</th>\n",
              "      <th>KBA13_ANZAHL_PKW</th>\n",
              "      <th>MIN_GEBAEUDEJAHR</th>\n",
              "    </tr>\n",
              "  </thead>\n",
              "  <tbody>\n",
              "    <tr>\n",
              "      <th>count</th>\n",
              "      <td>177706.000000</td>\n",
              "      <td>5458.000000</td>\n",
              "      <td>175774.000000</td>\n",
              "      <td>691.000000</td>\n",
              "      <td>111962.000000</td>\n",
              "      <td>176269.000000</td>\n",
              "      <td>179151.000000</td>\n",
              "    </tr>\n",
              "    <tr>\n",
              "      <th>mean</th>\n",
              "      <td>8.416373</td>\n",
              "      <td>1.368450</td>\n",
              "      <td>1.800693</td>\n",
              "      <td>1.073806</td>\n",
              "      <td>1967.145264</td>\n",
              "      <td>617.631852</td>\n",
              "      <td>1993.299262</td>\n",
              "    </tr>\n",
              "    <tr>\n",
              "      <th>std</th>\n",
              "      <td>16.032139</td>\n",
              "      <td>1.424545</td>\n",
              "      <td>1.123983</td>\n",
              "      <td>0.282935</td>\n",
              "      <td>17.858062</td>\n",
              "      <td>338.716225</td>\n",
              "      <td>3.375281</td>\n",
              "    </tr>\n",
              "    <tr>\n",
              "      <th>min</th>\n",
              "      <td>1.000000</td>\n",
              "      <td>1.000000</td>\n",
              "      <td>1.000000</td>\n",
              "      <td>1.000000</td>\n",
              "      <td>1900.000000</td>\n",
              "      <td>1.000000</td>\n",
              "      <td>1985.000000</td>\n",
              "    </tr>\n",
              "    <tr>\n",
              "      <th>25%</th>\n",
              "      <td>2.000000</td>\n",
              "      <td>1.000000</td>\n",
              "      <td>1.000000</td>\n",
              "      <td>1.000000</td>\n",
              "      <td>1955.000000</td>\n",
              "      <td>381.000000</td>\n",
              "      <td>1992.000000</td>\n",
              "    </tr>\n",
              "    <tr>\n",
              "      <th>50%</th>\n",
              "      <td>4.000000</td>\n",
              "      <td>1.000000</td>\n",
              "      <td>1.000000</td>\n",
              "      <td>1.000000</td>\n",
              "      <td>1968.000000</td>\n",
              "      <td>547.000000</td>\n",
              "      <td>1992.000000</td>\n",
              "    </tr>\n",
              "    <tr>\n",
              "      <th>75%</th>\n",
              "      <td>10.000000</td>\n",
              "      <td>1.000000</td>\n",
              "      <td>2.000000</td>\n",
              "      <td>1.000000</td>\n",
              "      <td>1981.000000</td>\n",
              "      <td>777.000000</td>\n",
              "      <td>1993.000000</td>\n",
              "    </tr>\n",
              "    <tr>\n",
              "      <th>max</th>\n",
              "      <td>523.000000</td>\n",
              "      <td>23.000000</td>\n",
              "      <td>40.000000</td>\n",
              "      <td>3.000000</td>\n",
              "      <td>2017.000000</td>\n",
              "      <td>2300.000000</td>\n",
              "      <td>2016.000000</td>\n",
              "    </tr>\n",
              "  </tbody>\n",
              "</table>\n",
              "</div>"
            ],
            "text/plain": [
              "       ANZ_HAUSHALTE_AKTIV  ANZ_HH_TITEL  ...  KBA13_ANZAHL_PKW  MIN_GEBAEUDEJAHR\n",
              "count        177706.000000   5458.000000  ...     176269.000000     179151.000000\n",
              "mean              8.416373      1.368450  ...        617.631852       1993.299262\n",
              "std              16.032139      1.424545  ...        338.716225          3.375281\n",
              "min               1.000000      1.000000  ...          1.000000       1985.000000\n",
              "25%               2.000000      1.000000  ...        381.000000       1992.000000\n",
              "50%               4.000000      1.000000  ...        547.000000       1992.000000\n",
              "75%              10.000000      1.000000  ...        777.000000       1993.000000\n",
              "max             523.000000     23.000000  ...       2300.000000       2016.000000\n",
              "\n",
              "[8 rows x 7 columns]"
            ]
          },
          "execution_count": 83,
          "metadata": {},
          "output_type": "execute_result"
        }
      ],
      "source": [
        "azdias.loc[:, attrs_val_dict_any.keys()].describe()"
      ]
    },
    {
      "cell_type": "markdown",
      "metadata": {
        "id": "xgnuwrZEwsCn"
      },
      "source": [
        "We may observe that values for the above attributes look acceptable."
      ]
    },
    {
      "cell_type": "code",
      "execution_count": 84,
      "metadata": {
        "colab": {
          "base_uri": "https://localhost:8080/"
        },
        "id": "RA1in0-vxcGA",
        "outputId": "368bbe3a-7450-421f-a1d6-b9d104b290a9"
      },
      "outputs": [
        {
          "data": {
            "text/plain": [
              "ANZ_HAUSHALTE_AKTIV     250\n",
              "ANZ_HH_TITEL             18\n",
              "ANZ_PERSONEN             18\n",
              "ANZ_TITEL                 3\n",
              "GEBURTSJAHR             115\n",
              "KBA13_ANZAHL_PKW       1255\n",
              "MIN_GEBAEUDEJAHR         32\n",
              "dtype: int64"
            ]
          },
          "execution_count": 84,
          "metadata": {},
          "output_type": "execute_result"
        }
      ],
      "source": [
        "# Count unique values per attribute (column)\n",
        "azdias.loc[:, attrs_val_dict_any.keys()].nunique()"
      ]
    },
    {
      "cell_type": "code",
      "execution_count": 85,
      "metadata": {
        "colab": {
          "base_uri": "https://localhost:8080/"
        },
        "id": "kvr5HOBQymPd",
        "outputId": "cc58ca1d-12a8-4875-e26b-04f0e2ed10db"
      },
      "outputs": [
        {
          "data": {
            "text/plain": [
              "ANZ_HAUSHALTE_AKTIV    [1.0, 40.0, 4.0, 7.0, 6.0, nan, 2.0, 5.0, 9.0,...\n",
              "ANZ_HH_TITEL           [nan, 1.0, 2.0, 8.0, 3.0, 4.0, 6.0, 13.0, 7.0,...\n",
              "ANZ_PERSONEN           [4.0, nan, 1.0, 2.0, 3.0, 5.0, 6.0, 7.0, 10.0,...\n",
              "ANZ_TITEL                                           [nan, 1.0, 2.0, 3.0]\n",
              "GEBURTSJAHR            [1994.0, 1921.0, nan, 2011.0, 1969.0, 1981.0, ...\n",
              "KBA13_ANZAHL_PKW       [546.0, 311.0, 945.0, 482.0, 125.0, nan, 371.0...\n",
              "MIN_GEBAEUDEJAHR       [1992.0, nan, 1997.0, 2009.0, 1996.0, 1988.0, ...\n",
              "dtype: object"
            ]
          },
          "execution_count": 85,
          "metadata": {},
          "output_type": "execute_result"
        }
      ],
      "source": [
        "# Discrete unique values per column\n",
        "azdias.loc[:, attrs_val_dict_any.keys()].apply(lambda col: col.unique())"
      ]
    },
    {
      "cell_type": "markdown",
      "metadata": {
        "id": "-cDc1oZjiwx0"
      },
      "source": [
        "* `CUSTOMERS`"
      ]
    },
    {
      "cell_type": "code",
      "execution_count": 86,
      "metadata": {
        "colab": {
          "base_uri": "https://localhost:8080/"
        },
        "id": "99JzwJ8Piy-k",
        "outputId": "e7eaaf51-12ca-4147-a395-db3513beedbf"
      },
      "outputs": [
        {
          "data": {
            "text/plain": [
              "ANZ_HAUSHALTE_AKTIV    float64\n",
              "ANZ_HH_TITEL           float64\n",
              "ANZ_PERSONEN           float64\n",
              "ANZ_TITEL              float64\n",
              "GEBURTSJAHR            float64\n",
              "KBA13_ANZAHL_PKW       float64\n",
              "MIN_GEBAEUDEJAHR       float64\n",
              "dtype: object"
            ]
          },
          "execution_count": 86,
          "metadata": {},
          "output_type": "execute_result"
        }
      ],
      "source": [
        "# Check `attrs_val_dict_any` special cases types:\n",
        "custrs.loc[:, attrs_val_dict_any.keys()].dtypes"
      ]
    },
    {
      "cell_type": "code",
      "execution_count": 87,
      "metadata": {
        "colab": {
          "base_uri": "https://localhost:8080/",
          "height": 297
        },
        "id": "zRayo-nki8df",
        "outputId": "cbc0714c-4adb-48b4-fa1a-f4c2a07c946f"
      },
      "outputs": [
        {
          "data": {
            "text/html": [
              "<div>\n",
              "<style scoped>\n",
              "    .dataframe tbody tr th:only-of-type {\n",
              "        vertical-align: middle;\n",
              "    }\n",
              "\n",
              "    .dataframe tbody tr th {\n",
              "        vertical-align: top;\n",
              "    }\n",
              "\n",
              "    .dataframe thead th {\n",
              "        text-align: right;\n",
              "    }\n",
              "</style>\n",
              "<table border=\"1\" class=\"dataframe\">\n",
              "  <thead>\n",
              "    <tr style=\"text-align: right;\">\n",
              "      <th></th>\n",
              "      <th>ANZ_HAUSHALTE_AKTIV</th>\n",
              "      <th>ANZ_HH_TITEL</th>\n",
              "      <th>ANZ_PERSONEN</th>\n",
              "      <th>ANZ_TITEL</th>\n",
              "      <th>GEBURTSJAHR</th>\n",
              "      <th>KBA13_ANZAHL_PKW</th>\n",
              "      <th>MIN_GEBAEUDEJAHR</th>\n",
              "    </tr>\n",
              "  </thead>\n",
              "  <tbody>\n",
              "    <tr>\n",
              "      <th>count</th>\n",
              "      <td>139275.000000</td>\n",
              "      <td>6088.000000</td>\n",
              "      <td>137910.000000</td>\n",
              "      <td>2740.000000</td>\n",
              "      <td>98628.000000</td>\n",
              "      <td>140371.000000</td>\n",
              "      <td>141725.000000</td>\n",
              "    </tr>\n",
              "    <tr>\n",
              "      <th>mean</th>\n",
              "      <td>5.053218</td>\n",
              "      <td>1.545171</td>\n",
              "      <td>2.385338</td>\n",
              "      <td>1.079562</td>\n",
              "      <td>1949.773127</td>\n",
              "      <td>667.231216</td>\n",
              "      <td>1993.056659</td>\n",
              "    </tr>\n",
              "    <tr>\n",
              "      <th>std</th>\n",
              "      <td>14.419710</td>\n",
              "      <td>2.130674</td>\n",
              "      <td>1.324283</td>\n",
              "      <td>0.288931</td>\n",
              "      <td>14.926854</td>\n",
              "      <td>340.481722</td>\n",
              "      <td>3.080241</td>\n",
              "    </tr>\n",
              "    <tr>\n",
              "      <th>min</th>\n",
              "      <td>1.000000</td>\n",
              "      <td>1.000000</td>\n",
              "      <td>1.000000</td>\n",
              "      <td>1.000000</td>\n",
              "      <td>1900.000000</td>\n",
              "      <td>5.000000</td>\n",
              "      <td>1985.000000</td>\n",
              "    </tr>\n",
              "    <tr>\n",
              "      <th>25%</th>\n",
              "      <td>1.000000</td>\n",
              "      <td>1.000000</td>\n",
              "      <td>1.000000</td>\n",
              "      <td>1.000000</td>\n",
              "      <td>1939.000000</td>\n",
              "      <td>430.000000</td>\n",
              "      <td>1992.000000</td>\n",
              "    </tr>\n",
              "    <tr>\n",
              "      <th>50%</th>\n",
              "      <td>1.000000</td>\n",
              "      <td>1.000000</td>\n",
              "      <td>2.000000</td>\n",
              "      <td>1.000000</td>\n",
              "      <td>1948.000000</td>\n",
              "      <td>593.000000</td>\n",
              "      <td>1992.000000</td>\n",
              "    </tr>\n",
              "    <tr>\n",
              "      <th>75%</th>\n",
              "      <td>4.000000</td>\n",
              "      <td>1.000000</td>\n",
              "      <td>3.000000</td>\n",
              "      <td>1.000000</td>\n",
              "      <td>1960.000000</td>\n",
              "      <td>828.000000</td>\n",
              "      <td>1992.000000</td>\n",
              "    </tr>\n",
              "    <tr>\n",
              "      <th>max</th>\n",
              "      <td>523.000000</td>\n",
              "      <td>23.000000</td>\n",
              "      <td>21.000000</td>\n",
              "      <td>5.000000</td>\n",
              "      <td>2017.000000</td>\n",
              "      <td>2300.000000</td>\n",
              "      <td>2016.000000</td>\n",
              "    </tr>\n",
              "  </tbody>\n",
              "</table>\n",
              "</div>"
            ],
            "text/plain": [
              "       ANZ_HAUSHALTE_AKTIV  ANZ_HH_TITEL  ...  KBA13_ANZAHL_PKW  MIN_GEBAEUDEJAHR\n",
              "count        139275.000000   6088.000000  ...     140371.000000     141725.000000\n",
              "mean              5.053218      1.545171  ...        667.231216       1993.056659\n",
              "std              14.419710      2.130674  ...        340.481722          3.080241\n",
              "min               1.000000      1.000000  ...          5.000000       1985.000000\n",
              "25%               1.000000      1.000000  ...        430.000000       1992.000000\n",
              "50%               1.000000      1.000000  ...        593.000000       1992.000000\n",
              "75%               4.000000      1.000000  ...        828.000000       1992.000000\n",
              "max             523.000000     23.000000  ...       2300.000000       2016.000000\n",
              "\n",
              "[8 rows x 7 columns]"
            ]
          },
          "execution_count": 87,
          "metadata": {},
          "output_type": "execute_result"
        }
      ],
      "source": [
        "custrs.loc[:, attrs_val_dict_any.keys()].describe()"
      ]
    },
    {
      "cell_type": "code",
      "execution_count": 88,
      "metadata": {
        "colab": {
          "base_uri": "https://localhost:8080/"
        },
        "id": "4po6xQp_jG06",
        "outputId": "1139f009-d67f-4074-8870-848a04e9891e"
      },
      "outputs": [
        {
          "data": {
            "text/plain": [
              "ANZ_HAUSHALTE_AKTIV     215\n",
              "ANZ_HH_TITEL             19\n",
              "ANZ_PERSONEN             17\n",
              "ANZ_TITEL                 4\n",
              "GEBURTSJAHR             112\n",
              "KBA13_ANZAHL_PKW       1250\n",
              "MIN_GEBAEUDEJAHR         32\n",
              "dtype: int64"
            ]
          },
          "execution_count": 88,
          "metadata": {},
          "output_type": "execute_result"
        }
      ],
      "source": [
        "# Count unique values per attribute (column)\n",
        "custrs.loc[:, attrs_val_dict_any.keys()].nunique()"
      ]
    },
    {
      "cell_type": "code",
      "execution_count": 89,
      "metadata": {
        "colab": {
          "base_uri": "https://localhost:8080/"
        },
        "id": "vS1isDPOjLXn",
        "outputId": "6038da76-ef3b-4243-a232-bcb28ed8ee87"
      },
      "outputs": [
        {
          "data": {
            "text/plain": [
              "ANZ_HAUSHALTE_AKTIV    [1.0, nan, 7.0, 74.0, 9.0, 17.0, 12.0, 29.0, 2...\n",
              "ANZ_HH_TITEL           [nan, 2.0, 4.0, 1.0, 13.0, 6.0, 5.0, 3.0, 20.0...\n",
              "ANZ_PERSONEN           [2.0, 3.0, 1.0, nan, 4.0, 5.0, 6.0, 8.0, 7.0, ...\n",
              "ANZ_TITEL                                      [nan, 1.0, 2.0, 3.0, 5.0]\n",
              "GEBURTSJAHR            [nan, 1960.0, 1942.0, 1938.0, 1914.0, 1959.0, ...\n",
              "KBA13_ANZAHL_PKW       [1201.0, nan, 433.0, 755.0, 513.0, 1167.0, 130...\n",
              "MIN_GEBAEUDEJAHR       [1992.0, nan, 1994.0, 1997.0, 1995.0, 1996.0, ...\n",
              "dtype: object"
            ]
          },
          "execution_count": 89,
          "metadata": {},
          "output_type": "execute_result"
        }
      ],
      "source": [
        "# Discrete unique values per column\n",
        "custrs.loc[:, attrs_val_dict_any.keys()].apply(lambda col: col.unique())"
      ]
    },
    {
      "cell_type": "markdown",
      "metadata": {
        "id": "JHl1KCtMkkhp"
      },
      "source": [
        "## One-hot encoding"
      ]
    },
    {
      "cell_type": "code",
      "execution_count": 90,
      "metadata": {
        "id": "zgX9vrcnkoW1"
      },
      "outputs": [],
      "source": [
        "azd_cp = pd.get_dummies(azdias)\n",
        "cus_cp = pd.get_dummies(custrs)"
      ]
    },
    {
      "cell_type": "code",
      "execution_count": 91,
      "metadata": {
        "colab": {
          "base_uri": "https://localhost:8080/"
        },
        "id": "9cAHUnhslCwk",
        "outputId": "0aa57e8e-d650-4c2d-a9d3-6ee9dfce1b74"
      },
      "outputs": [
        {
          "name": "stdout",
          "output_type": "stream",
          "text": [
            "Azdias copy shape:  (200000, 444)\n",
            "Customers copy shape:  (191652, 444)\n"
          ]
        }
      ],
      "source": [
        "# Match the columns in the dataframes\n",
        "azd_cp, cus_cp = azd_cp.align(cus_cp, join = 'inner', axis = 1)\n",
        "print('Azdias copy shape: ', azd_cp.shape)\n",
        "print('Customers copy shape: ', cus_cp.shape)"
      ]
    },
    {
      "cell_type": "code",
      "execution_count": 92,
      "metadata": {
        "colab": {
          "base_uri": "https://localhost:8080/"
        },
        "id": "KLuhfp1Ylr8r",
        "outputId": "ef77dcc7-4c6d-4a14-8fb1-9142b938e11a"
      },
      "outputs": [
        {
          "data": {
            "text/plain": [
              "((200000, 442), (191652, 442))"
            ]
          },
          "execution_count": 92,
          "metadata": {},
          "output_type": "execute_result"
        }
      ],
      "source": [
        "# Remove \"LNR\" and \"EINGEFUEGT_AM\" columns which are client IDs and entry datetimes\n",
        "\n",
        "azd_cp.drop(columns=[\"LNR\", \"EINGEFUEGT_AM\"], errors='ignore', inplace=True)\n",
        "cus_cp.drop(columns=[\"LNR\", \"EINGEFUEGT_AM\"], errors='ignore', inplace=True)\n",
        "\n",
        "azd_cp.shape, cus_cp.shape"
      ]
    },
    {
      "cell_type": "markdown",
      "metadata": {
        "id": "zRiU-CQLosIP"
      },
      "source": [
        "irrelevant features, highly correlated features, and missing values can prevent the model from learning and decrease generalization performance on the testing data"
      ]
    },
    {
      "cell_type": "markdown",
      "metadata": {
        "id": "x6zhEN80ow9m"
      },
      "source": [
        "## Feature selection to keep only the most useful attributes\n",
        "\n",
        "* collinear attributes\n",
        "(Ref: https://chrisalbon.com/code/machine_learning/feature_selection/drop_highly_correlated_features/)"
      ]
    },
    {
      "cell_type": "markdown",
      "metadata": {
        "id": "CYq3EONpwRSG"
      },
      "source": [
        "Calculate correlation on a stratified sample of the data, since `azdias` dataframe is large enough that notebook runs out of memory while calculating the correlation matrix."
      ]
    },
    {
      "cell_type": "code",
      "execution_count": 93,
      "metadata": {
        "colab": {
          "base_uri": "https://localhost:8080/"
        },
        "id": "SqpHOJZx23Ef",
        "outputId": "adf7fcc2-d6d8-4e8f-a199-680f09f4a04f"
      },
      "outputs": [
        {
          "data": {
            "text/plain": [
              "((40000, 442), (160000, 442))"
            ]
          },
          "execution_count": 93,
          "metadata": {},
          "output_type": "execute_result"
        }
      ],
      "source": [
        "def get_stratified_samples(df, fracs=np.array([0.2, 0.8])):\n",
        "    \"\"\"Split an input df into two stratified sub-sets of sizes indicated\n",
        "    by the fracs array.\n",
        "    \"\"\"\n",
        "    # shuffle input df\n",
        "    df_ = df.sample(frac=1) \n",
        "    # split into 2 parts, return df_smpl_a, df_smpl_b\n",
        "    return np.array_split(df_, (fracs[:-1].cumsum() * len(df_)).astype(int))\n",
        "\n",
        "azd_cp_smpl_a, azd_cp_smpl_b = get_stratified_samples(azd_cp)\n",
        "\n",
        "azd_cp_smpl_a.shape, azd_cp_smpl_b.shape"
      ]
    },
    {
      "cell_type": "code",
      "execution_count": 94,
      "metadata": {
        "id": "qXQ7xITAAIEy"
      },
      "outputs": [],
      "source": [
        "def drop_collinear_cols(df, threshold=0.95):\n",
        "    \"\"\"Ιdentifies the highly correlated variables based on the absolute\n",
        "    magnitude of the Pearson correlation coefficient being greater than threshold (0.9)\n",
        "\n",
        "    Args:\n",
        "        df (pd.Dataframe): Input dataframe to work on\n",
        "        threshold (float): threshold value above which the columns will selected\n",
        "    \n",
        "    Returns:\n",
        "        np.array of selected collumns based on the threshold value.\n",
        "    \"\"\"\n",
        "    # Calculate absolute value correlation matrix from the input df.\n",
        "    corr_mat = df.corr().abs()\n",
        "    # Select upper triangle of correlation matrix\n",
        "    upr = corr_mat.where(np.triu(np.ones(corr_mat.shape), k=1).astype(np.bool))\n",
        "    # Find index of attribute columns with correlation greater than `threshold`\n",
        "    return np.array([c for c in upr.columns if any(upr[c] > threshold)])\n"
      ]
    },
    {
      "cell_type": "code",
      "execution_count": 95,
      "metadata": {
        "colab": {
          "base_uri": "https://localhost:8080/"
        },
        "id": "YVjSQO6xHpdK",
        "outputId": "330c0ff4-3941-48d9-b795-52e66a31b80e"
      },
      "outputs": [
        {
          "data": {
            "text/plain": [
              "(array(['ANZ_STATISTISCHE_HAUSHALTE', 'CAMEO_INTL_2015', 'D19_GARTEN',\n",
              "        'D19_VERSAND_ONLINE_DATUM', 'GEBURTSJAHR', 'KBA13_HERST_SONST',\n",
              "        'KBA13_KMH_250', 'LP_FAMILIE_GROB', 'LP_LEBENSPHASE_FEIN',\n",
              "        'LP_LEBENSPHASE_GROB', 'LP_STATUS_GROB', 'PLZ8_BAUMAX', 'PLZ8_GBZ',\n",
              "        'PLZ8_HHZ', 'PRAEGENDE_JUGENDJAHRE', 'TITEL_KZ'], dtype='<U26'), 16)"
            ]
          },
          "execution_count": 95,
          "metadata": {},
          "output_type": "execute_result"
        }
      ],
      "source": [
        "# Find attribute columns with correlation greater than 0.95\n",
        "to_drop_azd = drop_collinear_cols(azd_cp_smpl_a)\n",
        "\n",
        "to_drop_azd, len(to_drop_azd)"
      ]
    },
    {
      "cell_type": "markdown",
      "metadata": {
        "id": "58j18dCQnyWK"
      },
      "source": [
        "We will do the same in the `CUSTOMERS` dataset to compare the attributes identified for dropping."
      ]
    },
    {
      "cell_type": "code",
      "execution_count": 96,
      "metadata": {
        "colab": {
          "base_uri": "https://localhost:8080/"
        },
        "id": "om1xmrLIntb1",
        "outputId": "03c9391a-039c-4498-a18f-1b2b4d3b92a5"
      },
      "outputs": [
        {
          "data": {
            "text/plain": [
              "((38330, 442), (153322, 442))"
            ]
          },
          "execution_count": 96,
          "metadata": {},
          "output_type": "execute_result"
        }
      ],
      "source": [
        "# CUSTOMERS\n",
        "cus_cp_smpl_a, cus_cp_smpl_b = get_stratified_samples(cus_cp)\n",
        "\n",
        "cus_cp_smpl_a.shape, cus_cp_smpl_b.shape"
      ]
    },
    {
      "cell_type": "code",
      "execution_count": 97,
      "metadata": {
        "colab": {
          "base_uri": "https://localhost:8080/"
        },
        "id": "I6vMZYJRoWxA",
        "outputId": "533c1428-e14d-414c-f6a4-ddbbc1d73521"
      },
      "outputs": [
        {
          "data": {
            "text/plain": [
              "(array(['ANZ_STATISTISCHE_HAUSHALTE', 'CAMEO_INTL_2015', 'GEBURTSJAHR',\n",
              "        'KBA13_HERST_SONST', 'KBA13_KMH_250', 'LP_FAMILIE_GROB',\n",
              "        'LP_LEBENSPHASE_FEIN', 'LP_LEBENSPHASE_GROB', 'LP_STATUS_GROB',\n",
              "        'PLZ8_GBZ', 'PLZ8_HHZ', 'PRAEGENDE_JUGENDJAHRE'], dtype='<U26'), 12)"
            ]
          },
          "execution_count": 97,
          "metadata": {},
          "output_type": "execute_result"
        }
      ],
      "source": [
        "# Find attribute columns with correlation greater than 0.95\n",
        "to_drop_cus = drop_collinear_cols(cus_cp_smpl_a)\n",
        "\n",
        "to_drop_cus, len(to_drop_cus)"
      ]
    },
    {
      "cell_type": "markdown",
      "metadata": {
        "id": "jdECQI4SpZIG"
      },
      "source": [
        "Let's drop only the common ones identified in both datatsets' samples."
      ]
    },
    {
      "cell_type": "code",
      "execution_count": 98,
      "metadata": {
        "colab": {
          "base_uri": "https://localhost:8080/"
        },
        "id": "nHDTUk0NpXFZ",
        "outputId": "1ff5f430-722b-4409-8746-4afd0e8683c1"
      },
      "outputs": [
        {
          "data": {
            "text/plain": [
              "(array(['ANZ_STATISTISCHE_HAUSHALTE', 'CAMEO_INTL_2015', 'GEBURTSJAHR',\n",
              "        'KBA13_HERST_SONST', 'KBA13_KMH_250', 'LP_FAMILIE_GROB',\n",
              "        'LP_LEBENSPHASE_FEIN', 'LP_LEBENSPHASE_GROB', 'LP_STATUS_GROB',\n",
              "        'PLZ8_GBZ', 'PLZ8_HHZ', 'PRAEGENDE_JUGENDJAHRE'], dtype='<U26'), 12)"
            ]
          },
          "execution_count": 98,
          "metadata": {},
          "output_type": "execute_result"
        }
      ],
      "source": [
        "# to_drop = set(to_drop_azd).intersection(to_drop_cus)\n",
        "to_drop = np.intersect1d(to_drop_azd, to_drop_cus)\n",
        "\n",
        "to_drop, len(to_drop)"
      ]
    },
    {
      "cell_type": "markdown",
      "metadata": {
        "id": "KzBDP0AHnmA5"
      },
      "source": [
        "###Search more columns with high NaN ratio, check their significance.\n",
        "\n",
        "References:\n",
        "* https://www.kaggle.com/questions-and-answers/131935\n",
        "* https://stats.stackexchange.com/questions/221332/variance-of-a-distribution-of-multi-level-categorical-data\n",
        "\n",
        "Check attributes with NaN ration more than **0.8**."
      ]
    },
    {
      "cell_type": "code",
      "execution_count": 99,
      "metadata": {
        "colab": {
          "base_uri": "https://localhost:8080/"
        },
        "id": "vfDykwJfjqnj",
        "outputId": "ce726569-f0d0-49f2-f2ad-c2b54be63e7b"
      },
      "outputs": [
        {
          "data": {
            "text/plain": [
              "(array(['ALTER_KIND1', 'ALTER_KIND2', 'ALTER_KIND3', 'ALTER_KIND4',\n",
              "        'ANZ_HH_TITEL', 'ANZ_KINDER', 'ANZ_TITEL', 'D19_BANKEN_ANZ_12',\n",
              "        'D19_BANKEN_ANZ_24', 'D19_BANKEN_DIREKT', 'D19_BANKEN_GROSS',\n",
              "        'D19_BANKEN_LOKAL', 'D19_BANKEN_ONLINE_QUOTE_12',\n",
              "        'D19_BANKEN_REST', 'D19_BEKLEIDUNG_GEH', 'D19_BILDUNG',\n",
              "        'D19_BIO_OEKO', 'D19_DIGIT_SERV', 'D19_DROGERIEARTIKEL',\n",
              "        'D19_ENERGIE', 'D19_FREIZEIT', 'D19_GARTEN', 'D19_HANDWERK',\n",
              "        'D19_HAUS_DEKO', 'D19_KINDERARTIKEL', 'D19_KOSMETIK',\n",
              "        'D19_LEBENSMITTEL', 'D19_LOTTO', 'D19_NAHRUNGSERGAENZUNG',\n",
              "        'D19_RATGEBER', 'D19_REISEN', 'D19_SAMMELARTIKEL', 'D19_SCHUHE',\n",
              "        'D19_SOZIALES', 'D19_TELKO_ANZ_12', 'D19_TELKO_ANZ_24',\n",
              "        'D19_TELKO_MOBILE', 'D19_TELKO_ONLINE_QUOTE_12', 'D19_TELKO_REST',\n",
              "        'D19_TIERARTIKEL', 'D19_VERSAND_REST', 'D19_VERSI_ANZ_12',\n",
              "        'D19_VERSI_ANZ_24', 'D19_VERSI_ONLINE_QUOTE_12',\n",
              "        'D19_WEIN_FEINKOST', 'GREEN_AVANTGARDE', 'HH_DELTA_FLAG',\n",
              "        'KBA05_ANTG4', 'KBA05_SEG6', 'SOHO_KZ', 'TITEL_KZ',\n",
              "        'UNGLEICHENN_FLAG', 'VHA'], dtype=object), 53)"
            ]
          },
          "execution_count": 99,
          "metadata": {},
          "output_type": "execute_result"
        }
      ],
      "source": [
        "# Select the columns with NaNs more than 80% to check for variabiltiy\n",
        "azdias_nans_gt80 = azdias_nans.loc[(azdias_nans[\"NaNportions\"] > .8) & (azdias_nans[\"NaNportions\"] < 1.0), \"Columns\"].values\n",
        "\n",
        "azdias_nans_gt80, azdias_nans_gt80.size"
      ]
    },
    {
      "cell_type": "code",
      "execution_count": 100,
      "metadata": {
        "colab": {
          "base_uri": "https://localhost:8080/"
        },
        "id": "cSLca6-EBWGj",
        "outputId": "be08cda2-9592-476e-aaca-97657506ab38"
      },
      "outputs": [
        {
          "data": {
            "text/plain": [
              "float64    53\n",
              "dtype: int64"
            ]
          },
          "execution_count": 100,
          "metadata": {},
          "output_type": "execute_result"
        }
      ],
      "source": [
        "# Filter `azdias` dataset to select the above columns only.\n",
        "# azdias_var_nan80 = azdias.filter(azdias_nans_gt80)\n",
        "\n",
        "# azdias_var_nan80.dtypes.value_counts()\n",
        "\n",
        "azdias.filter(azdias_nans_gt80).dtypes.value_counts()"
      ]
    },
    {
      "cell_type": "markdown",
      "metadata": {
        "id": "MicCKx4VRw4y"
      },
      "source": [
        "We will calculate the entropy on the above (ordinal variables) as a measure of the amount of information in a categorical variable. We will attempt to identify columns with little to no information at all.\n",
        "\n",
        "To do this we will create a function to calculate the entropy in a given column."
      ]
    },
    {
      "cell_type": "code",
      "execution_count": 101,
      "metadata": {
        "id": "wzGWpU4AH3mu"
      },
      "outputs": [],
      "source": [
        "def get_entropy(labels):\n",
        "    \"\"\"Calculate the entropy of a data series.\n",
        "\n",
        "    Calculate the entropy based on Shannon's entropy (log2).\n",
        "    Scipy entropy() will normalize values' frequencies if\n",
        "    they don’t sum to 1.\n",
        "\n",
        "    Args:\n",
        "        labels (pd.Series): pandas Series to calculate entropy\n",
        "    \n",
        "    Returns:\n",
        "        ent: The calculated entropy of the input labels\n",
        "    \"\"\"\n",
        "    # get values' frequencies\n",
        "    vals_freq = labels.value_counts(sort=False)\n",
        "    ent = entropy(vals_freq, base=2)\n",
        "    \n",
        "    return ent"
      ]
    },
    {
      "cell_type": "markdown",
      "metadata": {
        "id": "ELI9YWHMxsqq"
      },
      "source": [
        "A mapping of attribute names (columns) and entropy can be created. This will allow us to decide if we should drop some more columns with high percentage of NaNs that also offer little to no information."
      ]
    },
    {
      "cell_type": "code",
      "execution_count": 102,
      "metadata": {
        "id": "WLMdidX3Ty4J"
      },
      "outputs": [],
      "source": [
        "def drop_nan_cols(df, df_nans_cols, nan_thres=.8, use_entropy=True, ent_thres=1.0):\n",
        "    \"\"\"Get df columns with higher NaN percent than  nan_thres (> 80%) and return\n",
        "    the ones with entropy < ent_thres. If use_entropy=False return all columns\n",
        "    with NaN portion higher than nan_thres.\n",
        "\n",
        "    Returns:\n",
        "        drop_cols (np.array): Highr percentage NaN columns list (with low entropy)\n",
        "        ent (dict): Mapping of attributes names with entropy values for selected\n",
        "        columns range (or None if entropy not used). \n",
        "    \"\"\"\n",
        "    # Select the columns with NaNs more than nan_thres to check for variabiltiy\n",
        "    df_nans_cols_gt80 = df_nans_cols.loc[\n",
        "                                         (df_nans_cols[\"NaNportions\"] > nan_thres) & \\\n",
        "                                         (df_nans_cols[\"NaNportions\"] < 1.0),\n",
        "                                         \"Columns\"].values\n",
        "    # Filter the dataset to select the above columns only.\n",
        "    df_var_nan80 = df.filter(df_nans_cols_gt80)\n",
        "    drop_cols = df_var_nan80.values\n",
        "    ent = None\n",
        "    if use_entropy:\n",
        "        # Calculate entropy & create maping\n",
        "        ent = {i: round(get_entropy(df_var_nan80[i]), 4) for i in df_var_nan80}\n",
        "        # From the dictionary we will select the columns with entropy less than ent_thres\n",
        "        df_ent_drop = [i for i in ent if ent[i] < ent_thres]\n",
        "        drop_cols = np.array(df_ent_drop)\n",
        "\n",
        "    return drop_cols, ent\n"
      ]
    },
    {
      "cell_type": "code",
      "execution_count": 103,
      "metadata": {
        "colab": {
          "base_uri": "https://localhost:8080/"
        },
        "id": "6WruJ3bYHhHp",
        "outputId": "cd4ab7d5-658a-47c1-bf65-49f9d0c4331a"
      },
      "outputs": [
        {
          "data": {
            "text/plain": [
              "(array(['ANZ_HH_TITEL', 'ANZ_TITEL', 'D19_BANKEN_ONLINE_QUOTE_12',\n",
              "        'D19_LOTTO', 'D19_TELKO_ONLINE_QUOTE_12',\n",
              "        'D19_VERSI_ONLINE_QUOTE_12', 'GREEN_AVANTGARDE', 'HH_DELTA_FLAG',\n",
              "        'KBA05_ANTG4', 'KBA05_SEG6', 'SOHO_KZ', 'TITEL_KZ',\n",
              "        'UNGLEICHENN_FLAG'], dtype='<U26'), 13)"
            ]
          },
          "execution_count": 103,
          "metadata": {},
          "output_type": "execute_result"
        }
      ],
      "source": [
        "# Get azdias columns with higher NaN percent (> 80%) and return the ones with entropy < 1.0\n",
        "azd_ent_drop, azdias_var_nan80_ent = drop_nan_cols(azdias, azdias_nans)\n",
        "\n",
        "azd_ent_drop, len(azd_ent_drop)"
      ]
    },
    {
      "cell_type": "markdown",
      "metadata": {
        "id": "G5TpONZDQbJX"
      },
      "source": [
        "Check if there are any attributes in common with the ones selected with the correlation matrix method (`to_drop`)"
      ]
    },
    {
      "cell_type": "code",
      "execution_count": 104,
      "metadata": {
        "colab": {
          "base_uri": "https://localhost:8080/"
        },
        "id": "gcOK0ah-QB4b",
        "outputId": "45029714-fa38-4af7-84ba-ea6773d17f23"
      },
      "outputs": [
        {
          "data": {
            "text/plain": [
              "array([], dtype=object)"
            ]
          },
          "execution_count": 104,
          "metadata": {},
          "output_type": "execute_result"
        }
      ],
      "source": [
        "np.intersect1d(np.array(to_drop), azdias_nans_gt80)"
      ]
    },
    {
      "cell_type": "code",
      "execution_count": 105,
      "metadata": {
        "colab": {
          "base_uri": "https://localhost:8080/"
        },
        "id": "Xo3igWGRNDw3",
        "outputId": "425675cf-e715-4747-bb11-483d9ac70d16"
      },
      "outputs": [
        {
          "data": {
            "text/plain": [
              "array([], dtype='<U26')"
            ]
          },
          "execution_count": 105,
          "metadata": {},
          "output_type": "execute_result"
        }
      ],
      "source": [
        "np.intersect1d(to_drop, azd_ent_drop)"
      ]
    },
    {
      "cell_type": "code",
      "execution_count": 106,
      "metadata": {
        "colab": {
          "base_uri": "https://localhost:8080/",
          "height": 204
        },
        "id": "Cerzhlp7lYFU",
        "outputId": "d522edc4-0b19-445a-9bfc-db6cb23e722e"
      },
      "outputs": [
        {
          "data": {
            "text/html": [
              "<div>\n",
              "<style scoped>\n",
              "    .dataframe tbody tr th:only-of-type {\n",
              "        vertical-align: middle;\n",
              "    }\n",
              "\n",
              "    .dataframe tbody tr th {\n",
              "        vertical-align: top;\n",
              "    }\n",
              "\n",
              "    .dataframe thead th {\n",
              "        text-align: right;\n",
              "    }\n",
              "</style>\n",
              "<table border=\"1\" class=\"dataframe\">\n",
              "  <thead>\n",
              "    <tr style=\"text-align: right;\">\n",
              "      <th></th>\n",
              "      <th>Attributes</th>\n",
              "      <th>Entropy</th>\n",
              "      <th>NaNportions</th>\n",
              "    </tr>\n",
              "  </thead>\n",
              "  <tbody>\n",
              "    <tr>\n",
              "      <th>0</th>\n",
              "      <td>ALTER_KIND1</td>\n",
              "      <td>3.8847</td>\n",
              "      <td>0.908205</td>\n",
              "    </tr>\n",
              "    <tr>\n",
              "      <th>1</th>\n",
              "      <td>ALTER_KIND2</td>\n",
              "      <td>3.5787</td>\n",
              "      <td>0.966860</td>\n",
              "    </tr>\n",
              "    <tr>\n",
              "      <th>2</th>\n",
              "      <td>ALTER_KIND3</td>\n",
              "      <td>3.2763</td>\n",
              "      <td>0.993340</td>\n",
              "    </tr>\n",
              "    <tr>\n",
              "      <th>3</th>\n",
              "      <td>ALTER_KIND4</td>\n",
              "      <td>2.9943</td>\n",
              "      <td>0.998670</td>\n",
              "    </tr>\n",
              "    <tr>\n",
              "      <th>18</th>\n",
              "      <td>D19_DROGERIEARTIKEL</td>\n",
              "      <td>2.4315</td>\n",
              "      <td>0.854025</td>\n",
              "    </tr>\n",
              "  </tbody>\n",
              "</table>\n",
              "</div>"
            ],
            "text/plain": [
              "             Attributes  Entropy  NaNportions\n",
              "0           ALTER_KIND1   3.8847     0.908205\n",
              "1           ALTER_KIND2   3.5787     0.966860\n",
              "2           ALTER_KIND3   3.2763     0.993340\n",
              "3           ALTER_KIND4   2.9943     0.998670\n",
              "18  D19_DROGERIEARTIKEL   2.4315     0.854025"
            ]
          },
          "execution_count": 106,
          "metadata": {},
          "output_type": "execute_result"
        }
      ],
      "source": [
        "# Create plot data, in a new df get 'Attributes', 'Entropy' and \"NaNportions\"\n",
        "plt_data = pd.DataFrame(azdias_var_nan80_ent.items(), columns=['Attributes', 'Entropy'])\n",
        "\n",
        "# Get NaN portions for the attributes with NaNs more than 80%\n",
        "plt_data[\"NaNportions\"] = azdias_nans.loc[azdias_nans[\"Columns\"].isin(azdias_nans_gt80), \"NaNportions\"].values\n",
        "\n",
        "# Sort by `Entropy` values\n",
        "plt_data.sort_values(\"Entropy\", ascending=False, inplace=True)\n",
        "\n",
        "plt_data.head()"
      ]
    },
    {
      "cell_type": "code",
      "execution_count": 107,
      "metadata": {
        "colab": {
          "base_uri": "https://localhost:8080/",
          "height": 873
        },
        "id": "HxjUUuTbBamP",
        "outputId": "2fff6601-421c-40ca-be11-1943dd3bfc14"
      },
      "outputs": [
        {
          "data": {
            "image/png": "[encoded data removed]",
            "text/plain": [
              "<Figure size 1440x864 with 2 Axes>"
            ]
          },
          "metadata": {},
          "output_type": "display_data"
        }
      ],
      "source": [
        "# Let's visualize the results\n",
        "with sns.axes_style(\"whitegrid\"):\n",
        "    fig, ax = plt.subplots(1, 2, figsize=(20,12), sharey=True)\n",
        "    sns.barplot(ax=ax[0], data=plt_data, x='Entropy', y='Attributes', color='royalblue').set(title='[AZDIAS] Entropy for high percentage NaN attributes')\n",
        "    sns.barplot(ax=ax[1], data=plt_data, x='NaNportions', y='Attributes', color='cornflowerblue').set(title='[AZDIAS] Attributes NaN portions (0.8 min)', xlim=(0.8,1.0))\n",
        "    fig.tight_layout()\n"
      ]
    },
    {
      "cell_type": "markdown",
      "metadata": {
        "id": "EajCR8mE2NBO"
      },
      "source": [
        "Plots show that some of the attributes found with the lowest entropy also have a high number of NaNs. Checking entropy as a measure of information per column will allow us to drop those columns with high percentage of NaNs, with more confidence than just choosing to drop columns above a high NaN percentage threshold."
      ]
    },
    {
      "cell_type": "markdown",
      "metadata": {
        "id": "x53vxMzraOo3"
      },
      "source": [
        "###Drop previously selected attributes\n",
        "\n",
        "* Drop collinear attributes in `to_drop` array.\n",
        "* Drop attributes in `azd_ent_drop` with NaNs more than 80%, also identified with the lowest entropy among the rest with such high NaN percentage.\n",
        "* Drop `CUSTOMERS` specific attributes (`'CUSTOMER_GROUP', 'ONLINE_PURCHASE', and 'PRODUCT_GROUP'`).\n",
        "* Drop the client ID attribute `'LNR'` and datetime ``."
      ]
    },
    {
      "cell_type": "code",
      "execution_count": 108,
      "metadata": {
        "colab": {
          "base_uri": "https://localhost:8080/"
        },
        "id": "5V36Nl_xlrL8",
        "outputId": "47765542-04bc-41f4-be96-8cdaeef0918b"
      },
      "outputs": [
        {
          "data": {
            "text/plain": [
              "((200000, 339), (191652, 339))"
            ]
          },
          "execution_count": 108,
          "metadata": {},
          "output_type": "execute_result"
        }
      ],
      "source": [
        "# Create unique, array of attributes that are in input arrays.\n",
        "other_to_drop = [\"LNR\", \"EINGEFUEGT_AM\", \"CUSTOMER_GROUP\", \"ONLINE_PURCHASE\", \"PRODUCT_GROUP\"]\n",
        "\n",
        "# Using functools.reduce to find the union of the three arrays\n",
        "to_drop = reduce(np.union1d, (to_drop, azd_ent_drop, other_to_drop))\n",
        "\n",
        "# Drop attributes in both datasets\n",
        "azdias.drop(columns=to_drop, errors='ignore', inplace=True)\n",
        "custrs.drop(columns=to_drop, errors='ignore', inplace=True)\n",
        "\n",
        "azdias.shape, custrs.shape"
      ]
    },
    {
      "cell_type": "code",
      "execution_count": 109,
      "metadata": {
        "id": "XiU8dBOGWgn3"
      },
      "outputs": [],
      "source": [
        "def wrangle_df(df, val_pools, common_attrs, replace_nan):\n",
        "    \"\"\"Clean and fix an input demographics dataframe for this project.\n",
        "\n",
        "    This function is for cleaning and fixing datasets for this project. It\n",
        "    returns a clean dataframe with several columns dropped based on identified\n",
        "    NaNs, entropy and  collinearity. Additionally, value per column are checked\n",
        "    and replaced with NaNs if they fall outside an accepted values pool.\n",
        "\n",
        "    Args:\n",
        "        df (pd.Dataframe): Input demographics datafrme (The notebook crashes when\n",
        "        the entire `azdias` is loaded).\n",
        "        val_pools (dict): A dictionary with keys the attributes names and values\n",
        "        lists with the allowed values for each attribute. e.g.:\n",
        "        {'AGER_TYP': [nan, -1, 0, 1, 2, 3], ...}\n",
        "        common_attrs (np.array): Common attributes (attrs_common) between\n",
        "        demographic dataset and excel files. e.g.:\n",
        "        (array(['AKT_DAT_KL', 'ALTERSKATEGORIE_FEIN', ...)]\n",
        "        replace_nan (dict): Mapping of attributes and values to replace with NaNs\n",
        "        within each attribute. e.g. {'AGER_TYP': 9} will replace 9 in 'AGER_TYP'\n",
        "        with NaN.\n",
        "    \n",
        "    Returns:\n",
        "        df (pd.Dataframe), clientIDs (pd.Series), dates (pd.Series):\n",
        "        The cleaned and fixed df, client IDs extracted, entry dates extracted.\n",
        "    \"\"\"\n",
        "    \n",
        "    # find object columns\n",
        "    cat_cols = df.select_dtypes(include=object).columns.tolist()\n",
        "    # Convert to category columns using astype method\n",
        "    df[cat_cols] = df[cat_cols].astype('category')\n",
        "\n",
        "    # Replace unkown and specific values with NaNs\n",
        "    # for every key (attribute) in the dictionary created earlier\n",
        "    for k in val_pools:\n",
        "        # if the attribute is among the common ones\n",
        "        if k in common_attrs:\n",
        "            # select all those rows in the column that fall outside the attritbute's specified values pool and replace them with NaN.\n",
        "            df.loc[~df[k].isin(val_pools[k]), k] = np.NaN\n",
        "    # Use a dictionary mapping of attributes to replace value 9 (unknown) for NaN for specifc attributes.\n",
        "    df.replace(replace_nan, np.NaN, inplace=True)\n",
        "\n",
        "    # NaNs\n",
        "    # Total\n",
        "    df_nan = df.isna().sum().sum()\n",
        "    print(\"Total df NaNs portion: \", round(df_nan/df.size, 4))\n",
        "    # Columns\n",
        "    print(\"Column NaNs:\")\n",
        "    df_cols_nans = cols_nans_info(df)\n",
        "    # Rows\n",
        "    print(\"Row NaNs:\")\n",
        "    df_rows_nans = rows_nans_info(df)\n",
        "\n",
        "    # Keep the LNR and EINGEFUEGT_AM dates columns separately.\n",
        "    # clientIDs = df[\"LNR\"]\n",
        "    # dates = df[\"EINGEFUEGT_AM\"]\n",
        "\n",
        "    # Create two stratified samples of the input dataframe.\n",
        "    df_a, df_b = get_stratified_samples(df)\n",
        "\n",
        "    # Find attribute columns with correlation greater than 0.95, using the smaller sized df_a\n",
        "    corr_cols_to_drop = drop_collinear_cols(df_a)\n",
        "\n",
        "    # Select the columns with NaNs more than 80% and with entropy less than 1.0.\n",
        "    df_ent_drop, ent = drop_nan_cols(df, df_cols_nans)\n",
        "\n",
        "    # Create unique, array of attributes that are in input arrays.\n",
        "    # other_to_drop = np.array([\"LNR\", \"EINGEFUEGT_AM\", \"CUSTOMER_GROUP\", \"ONLINE_PURCHASE\", \"PRODUCT_GROUP\"])\n",
        "    other_to_drop = np.array([\"CUSTOMER_GROUP\", \"ONLINE_PURCHASE\", \"PRODUCT_GROUP\"])\n",
        "\n",
        "    # Using functools.reduce to find the union of the three arrays\n",
        "    to_drop = reduce(np.union1d, (corr_cols_to_drop, df_ent_drop, other_to_drop))\n",
        "\n",
        "    # Drop attributes\n",
        "    df.drop(columns=to_drop, errors='ignore', inplace=True)\n",
        "\n",
        "    return df  #, clientIDs, dates"
      ]
    },
    {
      "cell_type": "code",
      "execution_count": 117,
      "metadata": {
        "id": "5CyCdSdG5Jn_"
      },
      "outputs": [],
      "source": [
        "def create_train_test(dfs, read_csv_kwargs, wrangle_args):\n",
        "    \"\"\"Prepare data from two demographic type datesets. One dataset is contains\n",
        "    verified entries while the other not. `Target` columns are created and added\n",
        "    to the datasets which are cleaned and concatanated. Returns train, target\n",
        "    sets and the initial subsets cleaned.\n",
        "\n",
        "    Returns:\n",
        "        df_s (dict): Features and test features dataframes in the form\n",
        "            {'azdias': pd.DataFrame, 'customers': pd.DataFrame}\n",
        "    \"\"\"\n",
        "    # 1. Read samples and wrangle data\n",
        "    df_s = {}\n",
        "    for k in dfs:\n",
        "        print(\"Dataframe [\" + k.upper() + \"]\")\n",
        "        df_s[k] = get_df_sample(dfs[k][1], None, dfs[k][0], **read_csv_kwargs)\n",
        "        df_s[k] = wrangle_df(df_s[k], *wrangle_args)\n",
        "        print(25*\"-\")\n",
        "\n",
        "    # 2. Create `TARGET` attributes\n",
        "    df_s = {k: df_s[k].assign(TARGET=1 if k == 'customers' else 0) for k in df_s}\n",
        "    \n",
        "    return df_s\n",
        "\n",
        "    # # 2. Create a new df concatenating the dfs also creating a `target` attribute \"customer\"\n",
        "    # df_ = pd.concat([df_s[k][0].assign(customer=1 if k == 'customers' else 0) for k in df_s])\n",
        "\n",
        "    # # 3. One-hot encoding\n",
        "    # df_ = pd.get_dummies(df_)\n",
        "\n",
        "    # # 4. Create train, target\n",
        "    # X = df_.drop(columns=\"customer\")\n",
        "    # Y = df_[\"customer\"]\n",
        "\n",
        "    # return (X, Y), df_s\n",
        "    # Split into training and larger test sets (this can be split to create validation sets)\n",
        "    # return train_test_split(X, Y, stratify=Y, **train_test_args)\n",
        "\n",
        "# dfs dictionary of the form: {'filename': 'sample_size'}\n",
        "dfs_comb = {\n",
        "    'azdias': (azdias_file, 100000),\n",
        "    'customers': (customers_file, 100000),\n",
        "}\n",
        "\n",
        "# `read_csv` parameters dictionary\n",
        "read_csv_kwargs = {\n",
        "    'sep': ';',\n",
        "    'na_values': na_tupl,\n",
        "    'chunksize': 256000,\n",
        "    'parse_dates': ['EINGEFUEGT_AM'],\n",
        "}\n",
        "\n",
        "# `wrangle_df` parameters tuple\n",
        "wrangle_args = (attrs_val_pools, attrs_common, replace9_nan_dict)\n",
        "\n",
        "# `train_test_split` parameters dictionary\n",
        "train_test_args = {\n",
        "    'test_size': .3,\n",
        "    'random_state': 42,\n",
        "}"
      ]
    },
    {
      "cell_type": "code",
      "execution_count": null,
      "metadata": {
        "colab": {
          "base_uri": "https://localhost:8080/"
        },
        "id": "DVeO1HV--qKm",
        "outputId": "87b40d13-6be0-4ab3-f1b9-ec0f8106f457"
      },
      "outputs": [
        {
          "name": "stdout",
          "output_type": "stream",
          "text": [
            "Dataframe [AZDIAS]\n",
            "Total df NaNs portion:  0.2793\n",
            "Column NaNs:\n",
            "Average NaNs per column:  0.27931885245901666\n",
            "Max NaNs per column:  0.9991\n",
            "Min NaNs per column:  0.0\n",
            "Row NaNs:\n",
            "Average NaNs per row:  0.27931885245898086\n",
            "Max NaNs per row:  0.8579234972677595\n",
            "Min NaNs per row:  0.07377049180327869\n",
            "-------------------------\n",
            "Dataframe [CUSTOMERS]\n",
            "Total df NaNs portion:  0.3559\n",
            "Column NaNs:\n",
            "Average NaNs per column:  0.355868509485096\n",
            "Max NaNs per column:  0.99906\n",
            "Min NaNs per column:  0.0\n",
            "Row NaNs:\n",
            "Average NaNs per row:  0.3558685094850899\n",
            "Max NaNs per row:  0.8536585365853658\n",
            "Min NaNs per row:  0.07859078590785908\n",
            "-------------------------\n"
          ]
        }
      ],
      "source": [
        "# Get an initial train-test split 70-30 to allow splitting the data again for validation sets.\n",
        "# X_train, X_test, Y_train, Y_test = create_train_test(dfs_comb, read_csv_kwargs, wrangle_args, train_test_args)\n",
        "train_test_dfs = create_train_test(dfs_comb, read_csv_kwargs, wrangle_args)"
      ]
    },
    {
      "cell_type": "code",
      "execution_count": null,
      "metadata": {
        "colab": {
          "base_uri": "https://localhost:8080/"
        },
        "id": "B-OcstOJdW80",
        "outputId": "65de9496-c769-44a2-bb2c-a105f72e8ac6"
      },
      "outputs": [
        {
          "data": {
            "text/plain": [
              "(140000, 60000)"
            ]
          },
          "execution_count": 129,
          "metadata": {},
          "output_type": "execute_result"
        }
      ],
      "source": [
        "len(X_train), len(X_test)"
      ]
    },
    {
      "cell_type": "code",
      "execution_count": null,
      "metadata": {
        "id": "zd97F3Sqay3m"
      },
      "outputs": [],
      "source": [
        "def run_lgb_model(features, test_features, n_folds = 5):\n",
        "    \"\"\"Train and test a light gradient boosting model using\n",
        "    cross validation. \n",
        "    \n",
        "    Args:\n",
        "        features (pd.DataFrame): dataframe of training features to use for\n",
        "            training a model. Must include the `TARGET` column.\n",
        "        test_features (pd.DataFrame): dataframe of testing features to use for\n",
        "            making predictions with the model. \n",
        "        n_folds (int, default = 5): number of folds to use for cross validation\n",
        "        \n",
        "    Returns:\n",
        "        submission (pd.DataFrame): dataframe with `SK_ID_CURR` and `TARGET`\n",
        "            probabilities predicted by the model.\n",
        "        feature_importances (pd.DataFrame): dataframe with the feature\n",
        "            importances from the model.\n",
        "        valid_metrics (pd.DataFrame): dataframe with training and validation\n",
        "            metrics (ROC AUC) for each fold and overall.\n",
        "    \n",
        "    Ref: https://www.kaggle.com/willkoehrsen/introduction-to-feature-selection#Remove-Collinear-Variables\n",
        "    \"\"\"\n",
        "    \n",
        "    # Extract the ids\n",
        "    train_ids = features['SK_ID_CURR']\n",
        "    test_ids = test_features['SK_ID_CURR']\n",
        "    \n",
        "    # Extract the labels for training\n",
        "    labels = features['TARGET']\n",
        "    \n",
        "    # Remove the ids and target\n",
        "    features = features.drop(columns = ['SK_ID_CURR', 'TARGET'])\n",
        "    test_features = test_features.drop(columns = ['SK_ID_CURR'])\n",
        "    \n",
        "    \n",
        "    # One Hot Encoding ------->\n",
        "    features = pd.get_dummies(features)\n",
        "    test_features = pd.get_dummies(test_features)\n",
        "    \n",
        "    # Align the dataframes by the columns\n",
        "    features, test_features = features.align(test_features, join = 'inner', axis = 1)\n",
        "    \n",
        "    # No categorical indices to record\n",
        "    cat_indices = 'auto'\n",
        "    # <-------\n",
        "        \n",
        "    print('Training Data Shape: ', features.shape)\n",
        "    print('Testing Data Shape: ', test_features.shape)\n",
        "    \n",
        "    # Extract feature names\n",
        "    feature_names = list(features.columns)\n",
        "    \n",
        "    # Convert to np arrays\n",
        "    features = np.array(features)\n",
        "    test_features = np.array(test_features)\n",
        "    \n",
        "    # Create the kfold object\n",
        "    k_fold = KFold(n_splits = n_folds, shuffle = False, random_state = 50)\n",
        "    \n",
        "    # Empty array for feature importances\n",
        "    feature_importance_values = np.zeros(len(feature_names))\n",
        "    \n",
        "    # Empty array for test predictions\n",
        "    test_predictions = np.zeros(test_features.shape[0])\n",
        "    \n",
        "    # Empty array for out of fold validation predictions\n",
        "    out_of_fold = np.zeros(features.shape[0])\n",
        "    \n",
        "    # Lists for recording validation and training scores\n",
        "    valid_scores = []\n",
        "    train_scores = []\n",
        "    \n",
        "    # Iterate through each fold\n",
        "    for train_indices, valid_indices in k_fold.split(features):\n",
        "        # Training data for the fold\n",
        "        train_features, train_labels = features[train_indices], labels[train_indices]\n",
        "        # Validation data for the fold\n",
        "        valid_features, valid_labels = features[valid_indices], labels[valid_indices]\n",
        "        # Create the model\n",
        "        model = lgb.LGBMClassifier(n_estimators=10000, objective = 'binary', boosting_type='goss',\n",
        "                                   class_weight = 'balanced', learning_rate = 0.05, \n",
        "                                   reg_alpha = 0.1, reg_lambda = 0.1, n_jobs = -1, random_state = 50)\n",
        "        # Train the model\n",
        "        model.fit(train_features, train_labels, eval_metric = 'auc',\n",
        "                  eval_set = [(valid_features, valid_labels), (train_features, train_labels)],\n",
        "                  eval_names = ['valid', 'train'], categorical_feature = cat_indices,\n",
        "                  early_stopping_rounds = 100, verbose = 200)\n",
        "        \n",
        "        # Record the best iteration\n",
        "        best_iteration = model.best_iteration_\n",
        "        \n",
        "        # Record the feature importances\n",
        "        feature_importance_values += model.feature_importances_ / k_fold.n_splits\n",
        "        \n",
        "        # Make predictions\n",
        "        test_predictions += model.predict_proba(test_features, num_iteration = best_iteration)[:, 1] / k_fold.n_splits\n",
        "        \n",
        "        # Record the out of fold predictions\n",
        "        out_of_fold[valid_indices] = model.predict_proba(valid_features, num_iteration = best_iteration)[:, 1]\n",
        "        \n",
        "        # Record the best score\n",
        "        valid_score = model.best_score_['valid']['auc']\n",
        "        train_score = model.best_score_['train']['auc']\n",
        "        \n",
        "        valid_scores.append(valid_score)\n",
        "        train_scores.append(train_score)\n",
        "        \n",
        "        # Clean up memory\n",
        "        gc.enable()\n",
        "        del model, train_features, valid_features\n",
        "        gc.collect()\n",
        "        \n",
        "    # Make the submission dataframe\n",
        "    submission = pd.DataFrame({'SK_ID_CURR': test_ids, 'TARGET': test_predictions})\n",
        "    \n",
        "    # Make the feature importance dataframe\n",
        "    feature_importances = pd.DataFrame({'feature': feature_names, 'importance': feature_importance_values})\n",
        "    \n",
        "    # Overall validation score\n",
        "    valid_auc = roc_auc_score(labels, out_of_fold)\n",
        "    \n",
        "    # Add the overall scores to the metrics\n",
        "    valid_scores.append(valid_auc)\n",
        "    train_scores.append(np.mean(train_scores))\n",
        "    \n",
        "    # Needed for creating dataframe of validation scores\n",
        "    fold_names = list(range(n_folds))\n",
        "    fold_names.append('overall')\n",
        "    \n",
        "    # Dataframe of validation scores\n",
        "    metrics = pd.DataFrame({'fold': fold_names,\n",
        "                            'train': train_scores,\n",
        "                            'valid': valid_scores}) \n",
        "    \n",
        "    return submission, feature_importances, metrics"
      ]
    },
    {
      "cell_type": "code",
      "execution_count": null,
      "metadata": {
        "id": "9tWoS6d3kw8L"
      },
      "outputs": [],
      "source": [
        "del df_lgb"
      ]
    },
    {
      "cell_type": "markdown",
      "metadata": {
        "id": "hXtxtxpXPtHZ"
      },
      "source": [
        "LGB plottin and interpretation:\n",
        "* https://stackoverflow.com/questions/61862597/how-to-get-variance-explained-of-features-for-lightgbm-model\n",
        "* https://stackoverflow.com/questions/53413701/feature-importance-using-lightgbm"
      ]
    },
    {
      "cell_type": "markdown",
      "metadata": {
        "id": "CwP5cRnJMAXY"
      },
      "source": [
        "###KFOLDS\n",
        "\n",
        "* https://scikit-learn.org/stable/modules/cross_validation.html#k-fold"
      ]
    },
    {
      "cell_type": "markdown",
      "metadata": {
        "id": "0e-RwN9ZO5Zf"
      },
      "source": [
        "ROC_AUC_SCORE\n",
        "* https://scikit-learn.org/stable/modules/model_evaluation.html#roc-metrics\n"
      ]
    },
    {
      "cell_type": "code",
      "execution_count": 111,
      "metadata": {
        "colab": {
          "base_uri": "https://localhost:8080/"
        },
        "id": "LX6VQw07sV-B",
        "outputId": "0284fa9e-dcb5-41c2-e4eb-92ed67d29c1e"
      },
      "outputs": [
        {
          "data": {
            "text/plain": [
              "(391652, 340)"
            ]
          },
          "execution_count": 111,
          "metadata": {},
          "output_type": "execute_result"
        }
      ],
      "source": [
        "# Create a new dataframe from `azdias` and `customers` dataframes creating a `target` attribute \"customer\":\n",
        "df_lgb = pd.concat([azdias.assign(customer=0), custrs.assign(customer=1)])\n",
        "\n",
        "df_lgb.shape"
      ]
    },
    {
      "cell_type": "code",
      "execution_count": 113,
      "metadata": {
        "colab": {
          "base_uri": "https://localhost:8080/"
        },
        "id": "mT3XXZl_aN_j",
        "outputId": "823ec749-965e-49ea-e415-89a3d8616f5a"
      },
      "outputs": [
        {
          "data": {
            "text/plain": [
              "((200000, 339), (191652, 339))"
            ]
          },
          "execution_count": 113,
          "metadata": {},
          "output_type": "execute_result"
        }
      ],
      "source": [
        "azdias.shape, custrs.shape"
      ]
    },
    {
      "cell_type": "code",
      "execution_count": null,
      "metadata": {
        "id": "jfRIGoci1FLI"
      },
      "outputs": [],
      "source": [
        "# get a sample of customers same size as azdias\n",
        "# custrs_sub = custrs.sample(sample_size, random_state=42)\n",
        "\n",
        "# train = pd.get_dummies(azdias)\n",
        "# train_labels = pd.get_dummies(custrs_sub)\n",
        "\n",
        "# train.fillna(0,inplace=True)\n",
        "# train_labels.fillna(0,inplace=True)\n",
        "\n",
        "# custrs_lgb = custrs.assign(customer=1)\n",
        "# custrs_lgb = pd.get_dummies(custrs_lgb)"
      ]
    },
    {
      "cell_type": "code",
      "execution_count": null,
      "metadata": {
        "id": "MtiZ10-T1mXz"
      },
      "outputs": [],
      "source": [
        "# train, train_labels = train.align(train_labels, join = 'inner', axis = 1)"
      ]
    },
    {
      "cell_type": "code",
      "execution_count": null,
      "metadata": {
        "colab": {
          "base_uri": "https://localhost:8080/"
        },
        "id": "UecfAB9ZVcmc",
        "outputId": "cf89b7a0-14b4-40bb-fa13-6f7274c742c9"
      },
      "outputs": [
        {
          "data": {
            "text/plain": [
              "float64    332\n",
              "int64        6\n",
              "object       3\n",
              "dtype: int64"
            ]
          },
          "execution_count": 109,
          "metadata": {},
          "output_type": "execute_result"
        }
      ],
      "source": [
        "df_lgb.dtypes.value_counts()"
      ]
    },
    {
      "cell_type": "code",
      "execution_count": 114,
      "metadata": {
        "id": "4RyoCern51LZ"
      },
      "outputs": [],
      "source": [
        "df_lgb = pd.get_dummies(df_lgb)"
      ]
    },
    {
      "cell_type": "code",
      "execution_count": null,
      "metadata": {
        "id": "TTTr0if9QuUT"
      },
      "outputs": [],
      "source": [
        "# transfer numeric columns as float\n",
        "# numeric_cols_to_transform = df_lgb.select_dtypes(include='int64').columns\n",
        "\n",
        "# df_lgb[numeric_cols_to_transform] = df_lgb[numeric_cols_to_transform].fillna(0)\n",
        "\n",
        "# for col in numeric_cols_to_transform:\n",
        "#     df_lgb[col] = df_lgb[col].astype('float')\n"
      ]
    },
    {
      "cell_type": "code",
      "execution_count": null,
      "metadata": {
        "id": "UTqnCe9a0Yjp"
      },
      "outputs": [],
      "source": [
        "#object cols\n",
        "# obj_cols_to_transform = df_lgb.select_dtypes(include='object').columns\n",
        "\n",
        "# # transfer object columns as category cols\n",
        "# for col in obj_cols_to_transform:\n",
        "#     df_lgb[col] =  df_lgb[col].astype('category').cat.codes"
      ]
    },
    {
      "cell_type": "code",
      "execution_count": null,
      "metadata": {
        "id": "yYflfdZbA59E"
      },
      "outputs": [],
      "source": [
        "del target, train"
      ]
    },
    {
      "cell_type": "code",
      "execution_count": 115,
      "metadata": {
        "colab": {
          "base_uri": "https://localhost:8080/"
        },
        "id": "8S52gn8TgL47",
        "outputId": "57b56a57-7172-4f65-ae71-b1615b9fdf33"
      },
      "outputs": [
        {
          "data": {
            "text/plain": [
              "(391652, 417)"
            ]
          },
          "execution_count": 115,
          "metadata": {},
          "output_type": "execute_result"
        }
      ],
      "source": [
        "train = df_lgb.drop(columns=\"customer\")\n",
        "target = df_lgb[\"customer\"]\n",
        "\n",
        "train.shape"
      ]
    },
    {
      "cell_type": "code",
      "execution_count": 116,
      "metadata": {
        "id": "z1_0eBDElVaY"
      },
      "outputs": [],
      "source": [
        "# Initialize an empty array to hold feature importances of size equal to current attributes size\n",
        "feature_importances = np.zeros(train.shape[1])\n",
        "\n",
        "# Create the model with several hyperparameters\n",
        "# https://lightgbm.readthedocs.io/en/latest/pythonapi/lightgbm.LGBMClassifier.html\n",
        "model = lgb.LGBMClassifier(objective='binary', boosting_type = 'goss', n_estimators = 10000, class_weight = 'balanced')"
      ]
    },
    {
      "cell_type": "code",
      "execution_count": null,
      "metadata": {
        "colab": {
          "base_uri": "https://localhost:8080/"
        },
        "id": "gM48zdN-lii1",
        "outputId": "61cf151a-fb55-4575-b8b2-d06cb09fffb3"
      },
      "outputs": [
        {
          "name": "stdout",
          "output_type": "stream",
          "text": [
            "Training until validation scores don't improve for 100 rounds.\n",
            "[200]\tvalid_0's binary_logloss: 0.326042\tvalid_0's auc: 0.934257\n",
            "Early stopping, best iteration is:\n",
            "[131]\tvalid_0's binary_logloss: 0.324718\tvalid_0's auc: 0.934624\n",
            "Training until validation scores don't improve for 100 rounds.\n",
            "[200]\tvalid_0's binary_logloss: 0.324614\tvalid_0's auc: 0.934795\n",
            "Early stopping, best iteration is:\n",
            "[113]\tvalid_0's binary_logloss: 0.323476\tvalid_0's auc: 0.935234\n"
          ]
        }
      ],
      "source": [
        "# Fit the model twice to avoid overfitting\n",
        "for i in range(2):\n",
        "    \n",
        "    # Split into training and validation sets\n",
        "    train_features, valid_features, train_y, valid_y = train_test_split(train, target, test_size = 0.25, random_state = i)\n",
        "    \n",
        "    # Train using early stopping\n",
        "    model.fit(train_features, train_y, early_stopping_rounds=100, eval_set = [(valid_features, valid_y)], \n",
        "              eval_metric = 'auc', verbose = 200)\n",
        "    \n",
        "    # Record the feature importances\n",
        "    feature_importances += model.feature_importances_"
      ]
    },
    {
      "cell_type": "code",
      "execution_count": null,
      "metadata": {
        "colab": {
          "base_uri": "https://localhost:8080/",
          "height": 204
        },
        "id": "oyqAA3YGq_Xh",
        "outputId": "31d09d48-3026-4490-b4b7-b5e347428427"
      },
      "outputs": [
        {
          "data": {
            "text/html": [
              "<div>\n",
              "<style scoped>\n",
              "    .dataframe tbody tr th:only-of-type {\n",
              "        vertical-align: middle;\n",
              "    }\n",
              "\n",
              "    .dataframe tbody tr th {\n",
              "        vertical-align: top;\n",
              "    }\n",
              "\n",
              "    .dataframe thead th {\n",
              "        text-align: right;\n",
              "    }\n",
              "</style>\n",
              "<table border=\"1\" class=\"dataframe\">\n",
              "  <thead>\n",
              "    <tr style=\"text-align: right;\">\n",
              "      <th></th>\n",
              "      <th>feature</th>\n",
              "      <th>importance</th>\n",
              "    </tr>\n",
              "  </thead>\n",
              "  <tbody>\n",
              "    <tr>\n",
              "      <th>60</th>\n",
              "      <td>D19_SOZIALES</td>\n",
              "      <td>188.5</td>\n",
              "    </tr>\n",
              "    <tr>\n",
              "      <th>7</th>\n",
              "      <td>ALTERSKATEGORIE_FEIN</td>\n",
              "      <td>127.0</td>\n",
              "    </tr>\n",
              "    <tr>\n",
              "      <th>286</th>\n",
              "      <td>LP_FAMILIE_FEIN</td>\n",
              "      <td>115.0</td>\n",
              "    </tr>\n",
              "    <tr>\n",
              "      <th>1</th>\n",
              "      <td>AKT_DAT_KL</td>\n",
              "      <td>106.5</td>\n",
              "    </tr>\n",
              "    <tr>\n",
              "      <th>336</th>\n",
              "      <td>ALTERSKATEGORIE_GROB</td>\n",
              "      <td>69.0</td>\n",
              "    </tr>\n",
              "  </tbody>\n",
              "</table>\n",
              "</div>"
            ],
            "text/plain": [
              "                  feature  importance\n",
              "60           D19_SOZIALES       188.5\n",
              "7    ALTERSKATEGORIE_FEIN       127.0\n",
              "286       LP_FAMILIE_FEIN       115.0\n",
              "1              AKT_DAT_KL       106.5\n",
              "336  ALTERSKATEGORIE_GROB        69.0"
            ]
          },
          "execution_count": 114,
          "metadata": {},
          "output_type": "execute_result"
        }
      ],
      "source": [
        "# Make sure to average feature importances! \n",
        "feature_importances = feature_importances / 2\n",
        "feature_importances = pd.DataFrame({'feature': list(train.columns), 'importance': feature_importances}).sort_values('importance', ascending = False)\n",
        "\n",
        "feature_importances.head()"
      ]
    },
    {
      "cell_type": "code",
      "execution_count": null,
      "metadata": {
        "colab": {
          "base_uri": "https://localhost:8080/",
          "height": 221
        },
        "id": "aIHvKjvx7lWa",
        "outputId": "f5f7b303-82fc-4131-f91d-27800345a23f"
      },
      "outputs": [
        {
          "name": "stdout",
          "output_type": "stream",
          "text": [
            "There are 24 features with 0.0 importance\n"
          ]
        },
        {
          "data": {
            "text/html": [
              "<div>\n",
              "<style scoped>\n",
              "    .dataframe tbody tr th:only-of-type {\n",
              "        vertical-align: middle;\n",
              "    }\n",
              "\n",
              "    .dataframe tbody tr th {\n",
              "        vertical-align: top;\n",
              "    }\n",
              "\n",
              "    .dataframe thead th {\n",
              "        text-align: right;\n",
              "    }\n",
              "</style>\n",
              "<table border=\"1\" class=\"dataframe\">\n",
              "  <thead>\n",
              "    <tr style=\"text-align: right;\">\n",
              "      <th></th>\n",
              "      <th>feature</th>\n",
              "      <th>importance</th>\n",
              "    </tr>\n",
              "  </thead>\n",
              "  <tbody>\n",
              "    <tr>\n",
              "      <th>395</th>\n",
              "      <td>D19_LETZTER_KAUF_BRANCHE_D19_HANDWERK</td>\n",
              "      <td>0.0</td>\n",
              "    </tr>\n",
              "    <tr>\n",
              "      <th>357</th>\n",
              "      <td>CAMEO_DEU_2015_5C</td>\n",
              "      <td>0.0</td>\n",
              "    </tr>\n",
              "    <tr>\n",
              "      <th>387</th>\n",
              "      <td>D19_LETZTER_KAUF_BRANCHE_D19_BILDUNG</td>\n",
              "      <td>0.0</td>\n",
              "    </tr>\n",
              "    <tr>\n",
              "      <th>342</th>\n",
              "      <td>CAMEO_DEU_2015_2A</td>\n",
              "      <td>0.0</td>\n",
              "    </tr>\n",
              "    <tr>\n",
              "      <th>39</th>\n",
              "      <td>D19_FREIZEIT</td>\n",
              "      <td>0.0</td>\n",
              "    </tr>\n",
              "  </tbody>\n",
              "</table>\n",
              "</div>"
            ],
            "text/plain": [
              "                                   feature  importance\n",
              "395  D19_LETZTER_KAUF_BRANCHE_D19_HANDWERK         0.0\n",
              "357                      CAMEO_DEU_2015_5C         0.0\n",
              "387   D19_LETZTER_KAUF_BRANCHE_D19_BILDUNG         0.0\n",
              "342                      CAMEO_DEU_2015_2A         0.0\n",
              "39                            D19_FREIZEIT         0.0"
            ]
          },
          "execution_count": 115,
          "metadata": {},
          "output_type": "execute_result"
        }
      ],
      "source": [
        "# Find the features with zero importance\n",
        "zero_features = list(feature_importances[feature_importances['importance'] == 0.0]['feature'])\n",
        "\n",
        "print('There are %d features with 0.0 importance' % len(zero_features))\n",
        "\n",
        "feature_importances.tail()"
      ]
    },
    {
      "cell_type": "code",
      "execution_count": null,
      "metadata": {
        "id": "Fvh7Nasv-mif"
      },
      "outputs": [],
      "source": [
        "def plot_feature_importances(df, threshold = 0.9):\n",
        "    \"\"\"\n",
        "    Plots 15 most important features and the cumulative importance of features.\n",
        "    Prints the number of features needed to reach threshold cumulative importance.\n",
        "    \n",
        "    Parameters\n",
        "    --------\n",
        "    df : dataframe\n",
        "        Dataframe of feature importances. Columns must be feature and importance\n",
        "    threshold : float, default = 0.9\n",
        "        Threshold for prining information about cumulative importances\n",
        "        \n",
        "    Return\n",
        "    --------\n",
        "    df : dataframe\n",
        "        Dataframe ordered by feature importances with a normalized column (sums to 1)\n",
        "        and a cumulative importance column\n",
        "    \n",
        "    \"\"\"\n",
        "    \n",
        "    plt.rcParams['font.size'] = 18\n",
        "    \n",
        "    # Sort features according to importance\n",
        "    df = df.sort_values('importance', ascending = False).reset_index()\n",
        "    \n",
        "    # Normalize the feature importances to add up to one\n",
        "    df['importance_normalized'] = df['importance'] / df['importance'].sum()\n",
        "    df['cumulative_importance'] = np.cumsum(df['importance_normalized'])\n",
        "\n",
        "    # Make a horizontal bar chart of feature importances\n",
        "    plt.figure(figsize = (10, 6))\n",
        "    ax = plt.subplot()\n",
        "    \n",
        "    # Need to reverse the index to plot most important on top\n",
        "    ax.barh(list(reversed(list(df.index[:15]))), \n",
        "            df['importance_normalized'].head(15), \n",
        "            align = 'center', edgecolor = 'k')\n",
        "    \n",
        "    # Set the yticks and labels\n",
        "    ax.set_yticks(list(reversed(list(df.index[:15]))))\n",
        "    ax.set_yticklabels(df['feature'].head(15))\n",
        "    \n",
        "    # Plot labeling\n",
        "    plt.xlabel('Normalized Importance'); plt.title('Feature Importances')\n",
        "    plt.show()\n",
        "    \n",
        "    # Cumulative importance plot\n",
        "    plt.figure(figsize = (8, 6))\n",
        "    plt.plot(list(range(len(df))), df['cumulative_importance'], 'r-')\n",
        "    plt.xlabel('Number of Features'); plt.ylabel('Cumulative Importance'); \n",
        "    plt.title('Cumulative Feature Importance');\n",
        "    plt.show();\n",
        "    \n",
        "    importance_index = np.min(np.where(df['cumulative_importance'] > threshold))\n",
        "    print('%d features required for %0.2f of cumulative importance' % (importance_index + 1, threshold))\n",
        "    \n",
        "    return df"
      ]
    },
    {
      "cell_type": "code",
      "execution_count": null,
      "metadata": {
        "colab": {
          "base_uri": "https://localhost:8080/",
          "height": 852
        },
        "id": "WDXD6zhu-sGm",
        "outputId": "a5803ec8-2464-483f-b644-96c4952849ba"
      },
      "outputs": [
        {
          "data": {
            "image/png": "[encoded data removed]",
            "text/plain": [
              "<Figure size 720x432 with 1 Axes>"
            ]
          },
          "metadata": {
            "needs_background": "light"
          },
          "output_type": "display_data"
        },
        {
          "data": {
            "image/png": "[encoded data removed]",
            "text/plain": [
              "<Figure size 576x432 with 1 Axes>"
            ]
          },
          "metadata": {
            "needs_background": "light"
          },
          "output_type": "display_data"
        },
        {
          "name": "stdout",
          "output_type": "stream",
          "text": [
            "241 features required for 0.90 of cumulative importance\n"
          ]
        }
      ],
      "source": [
        "norm_feature_importances = plot_feature_importances(feature_importances)"
      ]
    },
    {
      "cell_type": "markdown",
      "metadata": {
        "id": "FTx88Csk_6Vk"
      },
      "source": [
        "Let's remove the features that have zero importance."
      ]
    },
    {
      "cell_type": "code",
      "execution_count": null,
      "metadata": {
        "colab": {
          "base_uri": "https://localhost:8080/"
        },
        "id": "eTCI5x5w_7U8",
        "outputId": "214ce3c2-188c-4ae6-b811-38a019a10167"
      },
      "outputs": [
        {
          "data": {
            "text/plain": [
              "(391652, 394)"
            ]
          },
          "execution_count": 118,
          "metadata": {},
          "output_type": "execute_result"
        }
      ],
      "source": [
        "train.drop(columns=zero_features, errors='ignore', inplace=True)\n",
        "\n",
        "train.shape"
      ]
    },
    {
      "cell_type": "code",
      "execution_count": null,
      "metadata": {
        "colab": {
          "base_uri": "https://localhost:8080/"
        },
        "id": "xDdsgvUAAaM7",
        "outputId": "ef41f187-8f18-4357-f597-493431848ea1"
      },
      "outputs": [
        {
          "data": {
            "text/plain": [
              "21"
            ]
          },
          "execution_count": 142,
          "metadata": {},
          "output_type": "execute_result"
        }
      ],
      "source": [
        "len(zero_features)"
      ]
    },
    {
      "cell_type": "code",
      "execution_count": null,
      "metadata": {
        "id": "o_MxuQHuC_sk"
      },
      "outputs": [],
      "source": [
        "def identify_zero_importance_features(train, target, iterations = 2):\n",
        "    \"\"\"\n",
        "    Identify zero importance features in a training dataset based on the \n",
        "    feature importances from a gradient boosting model. \n",
        "    \n",
        "    Parameters\n",
        "    --------\n",
        "    train : dataframe\n",
        "        Training features\n",
        "        \n",
        "    target : np.array\n",
        "        Labels for training data\n",
        "        \n",
        "    iterations : integer, default = 2\n",
        "        Number of cross validation splits to use for determining feature importances\n",
        "    \"\"\"\n",
        "    \n",
        "    # Initialize an empty array to hold feature importances\n",
        "    feature_importances = np.zeros(train.shape[1])\n",
        "\n",
        "    # Create the model with several hyperparameters\n",
        "    model = lgb.LGBMClassifier(objective='binary', boosting_type = 'goss', n_estimators = 10000, class_weight = 'balanced')\n",
        "    \n",
        "    # Fit the model multiple times to avoid overfitting\n",
        "    for i in range(iterations):\n",
        "\n",
        "        # Split into training and validation set\n",
        "        train_features, valid_features, train_y, valid_y = train_test_split(train, target, test_size = 0.25, random_state = i)\n",
        "\n",
        "        # Train using early stopping\n",
        "        model.fit(train_features, train_y, early_stopping_rounds=100, eval_set = [(valid_features, valid_y)], \n",
        "                  eval_metric = 'auc', verbose = 200)\n",
        "\n",
        "        # Record the feature importances\n",
        "        feature_importances += model.feature_importances_ / iterations\n",
        "    \n",
        "    feature_importances = pd.DataFrame({'feature': list(train.columns), 'importance': feature_importances}).sort_values('importance', ascending = False)\n",
        "    \n",
        "    # Find the features with zero importance\n",
        "    zero_features = list(feature_importances[feature_importances['importance'] == 0.0]['feature'])\n",
        "    print('\\nThere are %d features with 0.0 importance' % len(zero_features))\n",
        "    \n",
        "    return zero_features, feature_importances"
      ]
    },
    {
      "cell_type": "code",
      "execution_count": null,
      "metadata": {
        "colab": {
          "base_uri": "https://localhost:8080/"
        },
        "id": "GwKywo0nDkcL",
        "outputId": "7655835c-3bbd-4480-ce37-abe56e11babd"
      },
      "outputs": [
        {
          "name": "stdout",
          "output_type": "stream",
          "text": [
            "Training until validation scores don't improve for 100 rounds.\n",
            "[200]\tvalid_0's binary_logloss: 0.325638\tvalid_0's auc: 0.934349\n",
            "Early stopping, best iteration is:\n",
            "[131]\tvalid_0's binary_logloss: 0.324718\tvalid_0's auc: 0.934624\n",
            "Training until validation scores don't improve for 100 rounds.\n",
            "[200]\tvalid_0's binary_logloss: 0.324855\tvalid_0's auc: 0.934735\n",
            "Early stopping, best iteration is:\n",
            "[109]\tvalid_0's binary_logloss: 0.323444\tvalid_0's auc: 0.935227\n",
            "\n",
            "There are 3 features with 0.0 importance\n"
          ]
        }
      ],
      "source": [
        "second_round_zero_features, feature_importances = identify_zero_importance_features(train, target)"
      ]
    },
    {
      "cell_type": "code",
      "execution_count": null,
      "metadata": {
        "colab": {
          "base_uri": "https://localhost:8080/",
          "height": 852
        },
        "id": "BkxepXGwG9-3",
        "outputId": "0671a740-8080-466e-be0a-81b9b506f916"
      },
      "outputs": [
        {
          "data": {
            "image/png": "[encoded data removed]",
            "text/plain": [
              "<Figure size 720x432 with 1 Axes>"
            ]
          },
          "metadata": {
            "needs_background": "light"
          },
          "output_type": "display_data"
        },
        {
          "data": {
            "image/png": "[encoded data removed]",
            "text/plain": [
              "<Figure size 576x432 with 1 Axes>"
            ]
          },
          "metadata": {
            "needs_background": "light"
          },
          "output_type": "display_data"
        },
        {
          "name": "stdout",
          "output_type": "stream",
          "text": [
            "287 features required for 0.95 of cumulative importance\n"
          ]
        }
      ],
      "source": [
        "norm_feature_importances = plot_feature_importances(feature_importances, threshold = 0.95)"
      ]
    },
    {
      "cell_type": "code",
      "execution_count": null,
      "metadata": {
        "id": "IMguCYURIjga"
      },
      "outputs": [],
      "source": [
        "# Threshold for cumulative importance\n",
        "threshold = 0.95\n",
        "\n",
        "# Extract the features to keep\n",
        "features_to_keep = list(norm_feature_importances[norm_feature_importances['cumulative_importance'] < threshold]['feature'])\n",
        "\n",
        "# Create new datasets with smaller features\n",
        "train_small = train[features_to_keep]\n"
      ]
    },
    {
      "cell_type": "code",
      "execution_count": null,
      "metadata": {
        "colab": {
          "base_uri": "https://localhost:8080/"
        },
        "id": "qkFIsluRIoLr",
        "outputId": "6bf25674-e9ab-4a45-e9d3-93d99b34f7ab"
      },
      "outputs": [
        {
          "name": "stderr",
          "output_type": "stream",
          "text": [
            "/usr/local/lib/python3.7/dist-packages/ipykernel_launcher.py:1: SettingWithCopyWarning: \n",
            "A value is trying to be set on a copy of a slice from a DataFrame.\n",
            "Try using .loc[row_indexer,col_indexer] = value instead\n",
            "\n",
            "See the caveats in the documentation: https://pandas.pydata.org/pandas-docs/stable/user_guide/indexing.html#returning-a-view-versus-a-copy\n",
            "  \"\"\"Entry point for launching an IPython kernel.\n"
          ]
        }
      ],
      "source": [
        "train_small[\"customer\"] = target"
      ]
    },
    {
      "cell_type": "code",
      "execution_count": null,
      "metadata": {
        "id": "YOVaJbDAJbd-"
      },
      "outputs": [],
      "source": [
        "train_small.to_csv('/content/drive/MyDrive/workspace/arvato_data/m_train_small.csv', index = False)"
      ]
    },
    {
      "cell_type": "markdown",
      "metadata": {
        "id": "U_WKr3F9Uxhx"
      },
      "source": [
        "An ROC curve (receiver operating characteristic curve) is a graph showing the performance of a classification model at all classification thresholds. This curve plots two parameters:\n",
        "\n",
        "* True Positive Rate\n",
        "* False Positive Rate\n",
        "\n",
        "AUC measures the entire two-dimensional area underneath the entire ROC curve  from (0,0) to (1,1). AUC provides an aggregate measure of performance across all possible classification thresholds.\n",
        "\n",
        "* AUC is scale-invariant. It measures how well predictions are ranked, rather than their absolute values.\n",
        "* AUC is classification-threshold-invariant. It measures the quality of the model's predictions irrespective of what classification threshold is chosen."
      ]
    },
    {
      "cell_type": "code",
      "execution_count": null,
      "metadata": {
        "id": "SDhQXEzEHP-P"
      },
      "outputs": [],
      "source": [
        "def kaggle_submit(filename, message, competition, data):\n",
        "    \"\"\"Prepare data, export to csv file and submit to kaggle competition.\n",
        "    Args:\n",
        "        filename (srt): name of the csv file to submit and write to\n",
        "        message (srt): message related to submission\n",
        "        competition (srt): the name of kaggle competition to submit \n",
        "        data (dict): submission data in dictionary form e.g.\n",
        "        {\"LNR\": pd.Series, \"RESPONSE\": pd.Series}\n",
        "    Returns:\n",
        "        (str): Submission results\n",
        "    \"\"\"\n",
        "    # kaggle competition: udacity-arvato-identify-customers\n",
        "    # Kaggle competition invitation: http://www.kaggle.com/t/21e6d45d4c574c7fa2d868f0e8c83140\n",
        "    kg_api = KaggleApi()\n",
        "    kg_api.authenticate()\n",
        "\n",
        "    submit = pd.DataFrame(data)\n",
        "    submit.to_csv(filename, index=False)\n",
        "\n",
        "    return kg_api.competition_submit(filename, message, competition)\n",
        "\n",
        "# kaggle_submit(kg_submission + \"lgbm_test\", kg_competition, 'lgbm 1st submission', )"
      ]
    },
    {
      "cell_type": "code",
      "execution_count": null,
      "metadata": {
        "id": "2LjxS7qubUG4"
      },
      "outputs": [],
      "source": [
        "# Be sure to add in a lot more cells (both markdown and code) to document your\n",
        "# approach and findings!"
      ]
    },
    {
      "cell_type": "markdown",
      "metadata": {
        "id": "tPec3toZbUG4"
      },
      "source": [
        "## Part 1: Customer Segmentation Report\n",
        "\n",
        "The main bulk of your analysis will come in this part of the project. Here, you should use unsupervised learning techniques to describe the relationship between the demographics of the company's existing customers and the general population of Germany. By the end of this part, you should be able to describe parts of the general population that are more likely to be part of the mail-order company's main customer base, and which parts of the general population are less so."
      ]
    },
    {
      "cell_type": "code",
      "execution_count": null,
      "metadata": {
        "id": "lm8X4s5dbUG5"
      },
      "outputs": [],
      "source": []
    },
    {
      "cell_type": "markdown",
      "metadata": {
        "id": "38O2YOgGbUG5"
      },
      "source": [
        "## Part 2: Supervised Learning Model\n",
        "\n",
        "Now that you've found which parts of the population are more likely to be customers of the mail-order company, it's time to build a prediction model. Each of the rows in the \"MAILOUT\" data files represents an individual that was targeted for a mailout campaign. Ideally, we should be able to use the demographic information from each individual to decide whether or not it will be worth it to include that person in the campaign.\n",
        "\n",
        "The \"MAILOUT\" data has been split into two approximately equal parts, each with almost 43 000 data rows. In this part, you can verify your model with the \"TRAIN\" partition, which includes a column, \"RESPONSE\", that states whether or not a person became a customer of the company following the campaign. In the next part, you'll need to create predictions on the \"TEST\" partition, where the \"RESPONSE\" column has been withheld."
      ]
    },
    {
      "cell_type": "code",
      "execution_count": null,
      "metadata": {
        "id": "elzZ61pJbUG5"
      },
      "outputs": [],
      "source": [
        "#mailout_train = pd.read_csv(mailout_train_file, sep=';')"
      ]
    },
    {
      "cell_type": "code",
      "execution_count": null,
      "metadata": {
        "id": "3uy3vUZUbUG6"
      },
      "outputs": [],
      "source": []
    },
    {
      "cell_type": "markdown",
      "metadata": {
        "id": "rycrvhFAbUG6"
      },
      "source": [
        "## Part 3: Kaggle Competition\n",
        "\n",
        "Now that you've created a model to predict which individuals are most likely to respond to a mailout campaign, it's time to test that model in competition through Kaggle. If you click on the link [here](http://www.kaggle.com/t/21e6d45d4c574c7fa2d868f0e8c83140), you'll be taken to the competition page where, if you have a Kaggle account, you can enter.\n",
        "\n",
        "Your entry to the competition should be a CSV file with two columns. The first column should be a copy of \"LNR\", which acts as an ID number for each individual in the \"TEST\" partition. The second column, \"RESPONSE\", should be some measure of how likely each individual became a customer – this might not be a straightforward probability. As you should have found in Part 2, there is a large output class imbalance, where most individuals did not respond to the mailout. Thus, predicting individual classes and using accuracy does not seem to be an appropriate performance evaluation method. Instead, the competition will be using AUC to evaluate performance. The exact values of the \"RESPONSE\" column do not matter as much: only that the higher values try to capture as many of the actual customers as possible, early in the ROC curve sweep."
      ]
    },
    {
      "cell_type": "code",
      "execution_count": null,
      "metadata": {
        "id": "yuGsuMO6bUG6"
      },
      "outputs": [],
      "source": [
        "#mailout_test = pd.read_csv(mailout_test_file, sep=';')"
      ]
    },
    {
      "cell_type": "code",
      "execution_count": null,
      "metadata": {
        "id": "cgh1YekfbUG7"
      },
      "outputs": [],
      "source": []
    }
  ],
  "metadata": {
    "colab": {
      "collapsed_sections": [],
      "name": "Copy of Arvato Project Workbook.ipynb",
      "provenance": []
    },
    "interpreter": {
      "hash": "a7e01aac2c9bcb8fe1e7851228a633d1435a51d01cb4372225780e1a41da0658"
    },
    "kernelspec": {
      "display_name": "Python 3.8.10 64-bit ('dsenv': conda)",
      "name": "python3"
    },
    "language_info": {
      "codemirror_mode": {
        "name": "ipython",
        "version": 3
      },
      "file_extension": ".py",
      "mimetype": "text/x-python",
      "name": "python",
      "nbconvert_exporter": "python",
      "pygments_lexer": "ipython3",
      "version": "3.8.10"
    }
  },
  "nbformat": 4,
  "nbformat_minor": 2
}
