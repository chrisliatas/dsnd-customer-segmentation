{
  "cells": [
    {
      "cell_type": "markdown",
      "metadata": {
        "id": "-RNcCEhtbUGr"
      },
      "source": [
        "# Capstone Project: Create a Customer Segmentation Report for Arvato Financial Services\n",
        "\n",
        "In this project, you will analyze demographics data for customers of a mail-order sales company in Germany, comparing it against demographics information for the general population. You'll use unsupervised learning techniques to perform customer segmentation, identifying the parts of the population that best describe the core customer base of the company. Then, you'll apply what you've learned on a third dataset with demographics information for targets of a marketing campaign for the company, and use a model to predict which individuals are most likely to convert into becoming customers for the company. The data that you will use has been provided by our partners at Bertelsmann Arvato Analytics, and represents a real-life data science task.\n",
        "\n",
        "If you completed the first term of this program, you will be familiar with the first part of this project, from the unsupervised learning project. The versions of those two datasets used in this project will include many more features and has not been pre-cleaned. You are also free to choose whatever approach you'd like to analyzing the data rather than follow pre-determined steps. In your work on this project, make sure that you carefully document your steps and decisions, since your main deliverable for this project will be a blog post reporting your findings."
      ]
    },
    {
      "cell_type": "code",
      "execution_count": 1,
      "metadata": {
        "colab": {
          "base_uri": "https://localhost:8080/"
        },
        "id": "x6GKbUm7gDpR",
        "outputId": "c79f8c36-5185-4a8f-ffd1-0985eadd5d4e"
      },
      "outputs": [
        {
          "name": "stdout",
          "output_type": "stream",
          "text": [
            "Mounted at /content/drive\n"
          ]
        }
      ],
      "source": [
        "# When using Google Colab we want to mount the data drive\n",
        "try:\n",
        "    from google.colab import drive\n",
        "    drive.mount('/content/drive')\n",
        "    IN_COLAB = True\n",
        "except:\n",
        "    IN_COLAB = False\n"
      ]
    },
    {
      "cell_type": "code",
      "execution_count": 2,
      "metadata": {
        "colab": {
          "base_uri": "https://localhost:8080/"
        },
        "id": "w_QtG1D6ylTA",
        "outputId": "ca4fd732-5301-4113-f4cd-b91b08b0075f"
      },
      "outputs": [
        {
          "name": "stdout",
          "output_type": "stream",
          "text": [
            "'/content/drive/MyDrive/workspace/arvato_data/.kaggle' -> '/root/.kaggle'\n",
            "'/content/drive/MyDrive/workspace/arvato_data/.kaggle/kaggle.json' -> '/root/.kaggle/kaggle.json'\n"
          ]
        }
      ],
      "source": [
        "# When using Google Colab we want copy the Kaggle API key and check kaggle version\n",
        "if IN_COLAB:\n",
        "    !cp -Rv /content/drive/MyDrive/workspace/arvato_data/.kaggle ~/ && chmod 600 ~/.kaggle/kaggle.json"
      ]
    },
    {
      "cell_type": "code",
      "execution_count": 3,
      "metadata": {
        "colab": {
          "base_uri": "https://localhost:8080/"
        },
        "id": "gg6nW3Z85t7D",
        "outputId": "bb1a24e1-4171-44e4-f284-7000a04e472f"
      },
      "outputs": [
        {
          "data": {
            "text/plain": [
              "['1', '5', '12']"
            ]
          },
          "execution_count": 3,
          "metadata": {},
          "output_type": "execute_result"
        }
      ],
      "source": [
        "kg_version = !pip show kaggle | grep Version\n",
        "kg_version = kg_version[0].split()[1].split('.')\n",
        "kg_version"
      ]
    },
    {
      "cell_type": "code",
      "execution_count": 4,
      "metadata": {
        "colab": {
          "base_uri": "https://localhost:8080/"
        },
        "id": "NBWy9JrpbUGv",
        "outputId": "ed0eb0bd-ffec-4499-920f-f1c5041951d9"
      },
      "outputs": [
        {
          "name": "stdout",
          "output_type": "stream",
          "text": [
            "Pandas verion:  1.1.5\n"
          ]
        }
      ],
      "source": [
        "# import libraries here; add more as necessary\n",
        "import numpy as np\n",
        "import pandas as pd\n",
        "from scipy.stats import entropy\n",
        "import matplotlib.pyplot as plt\n",
        "import seaborn as sns\n",
        "from functools import reduce\n",
        "import gc\n",
        "\n",
        "from sklearn.model_selection import train_test_split, KFold\n",
        "from sklearn.decomposition import PCA\n",
        "from sklearn.pipeline import make_pipeline\n",
        "from sklearn.impute import SimpleImputer\n",
        "from sklearn.metrics import roc_auc_score\n",
        "\n",
        "# modeling \n",
        "import lightgbm as lgb\n",
        "\n",
        "# if kaggle API version greater than 1.5.0 load kaggle API:\n",
        "if int(kg_version[1]) == 5 and int(kg_version[2]) > 0:\n",
        "    from kaggle.api.kaggle_api_extended import KaggleApi\n",
        "    kg_loaded = True\n",
        "else:\n",
        "    kg_loaded = False\n",
        "    print(\"Kaggle module must be upgraded!\")\n",
        "\n",
        "# magic word for producing visualizations in notebook\n",
        "%matplotlib inline\n",
        "\n",
        "# Google Colab environment:\n",
        "if IN_COLAB:\n",
        "    # Get pandas version\n",
        "    print(\"Pandas verion: \", pd.__version__)"
      ]
    },
    {
      "cell_type": "markdown",
      "metadata": {
        "id": "VuCRP43NbUGx"
      },
      "source": [
        "## Part 0: Get to Know the Data\n",
        "\n",
        "There are four data files associated with this project:\n",
        "\n",
        "- `Udacity_AZDIAS_052018.csv`: Demographics data for the general population of Germany; 891 211 persons (rows) x 366 features (columns).\n",
        "- `Udacity_CUSTOMERS_052018.csv`: Demographics data for customers of a mail-order company; 191 652 persons (rows) x 369 features (columns).\n",
        "- `Udacity_MAILOUT_052018_TRAIN.csv`: Demographics data for individuals who were targets of a marketing campaign; 42 982 persons (rows) x 367 (columns).\n",
        "- `Udacity_MAILOUT_052018_TEST.csv`: Demographics data for individuals who were targets of a marketing campaign; 42 833 persons (rows) x 366 (columns).\n",
        "\n",
        "Each row of the demographics files represents a single person, but also includes information outside of individuals, including information about their household, building, and neighborhood. Use the information from the first two files to figure out how customers (\"CUSTOMERS\") are similar to or differ from the general population at large (\"AZDIAS\"), then use your analysis to make predictions on the other two files (\"MAILOUT\"), predicting which recipients are most likely to become a customer for the mail-order company.\n",
        "\n",
        "The \"CUSTOMERS\" file contains three extra columns ('CUSTOMER_GROUP', 'ONLINE_PURCHASE', and 'PRODUCT_GROUP'), which provide broad information about the customers depicted in the file. The original \"MAILOUT\" file included one additional column, \"RESPONSE\", which indicated whether or not each recipient became a customer of the company. For the \"TRAIN\" subset, this column has been retained, but in the \"TEST\" subset it has been removed; it is against that withheld column that your final predictions will be assessed in the Kaggle competition.\n",
        "\n",
        "Otherwise, all of the remaining columns are the same between the three data files. For more information about the columns depicted in the files, you can refer to two Excel spreadsheets provided in the workspace. [One of them](./DIAS Information Levels - Attributes 2017.xlsx) is a top-level list of attributes and descriptions, organized by informational category. [The other](./DIAS Attributes - Values 2017.xlsx) is a detailed mapping of data values for each feature in alphabetical order.\n",
        "\n",
        "In the below cell, we've provided some initial code to load in the first two datasets. Note for all of the `.csv` data files in this project that they're semicolon (`;`) delimited, so an additional argument in the [`read_csv()`](https://pandas.pydata.org/pandas-docs/stable/generated/pandas.read_csv.html) call has been included to read in the data properly. Also, considering the size of the datasets, it may take some time for them to load completely.\n",
        "\n",
        "You'll notice when the data is loaded in that a warning message will immediately pop up. Before you really start digging into the modeling and analysis, you're going to need to perform some cleaning. Take some time to browse the structure of the data and look over the informational spreadsheets to understand the data values. Make some decisions on which features to keep, which features to drop, and if any revisions need to be made on data formats. It'll be a good idea to create a function with pre-processing steps, since you'll need to clean all of the datasets before you work with them."
      ]
    },
    {
      "cell_type": "markdown",
      "metadata": {
        "id": "W3qRTNYjIR3H"
      },
      "source": [
        "## Strategy for exploring the data:\n",
        "\n",
        "* Load datasets. Initially load random samples, finally load the full datasets.\n",
        "* Load excel information files.\n",
        "* Get the attributes from excel files and compare them to the attributes apearing the datasets.\n",
        "* Get the value pools for each known attribute in the excel files and check against the values for each attribute in the datasets.\n",
        "* Replace the values outside the pools with NaNs.\n",
        "* Replace values in the pools representing unknowns, missing, not given, etc. with NaNs.\n",
        "* Explore NaNs, analysing and understanding missing values in the two datasets.\n",
        "* Identify significance of categorical, ordinal attributes."
      ]
    },
    {
      "cell_type": "markdown",
      "metadata": {
        "id": "5MKY46QFSBv4"
      },
      "source": [
        "### Load data and excel files"
      ]
    },
    {
      "cell_type": "code",
      "execution_count": 5,
      "metadata": {
        "id": "3ogvB6EVbUGy"
      },
      "outputs": [],
      "source": [
        "# Assign path names to variables for easier manipulation later on.\n",
        "\n",
        "azdias_file = \"/content/drive/MyDrive/workspace/arvato_data/Udacity_AZDIAS_052018.csv\" if IN_COLAB else \"../../data/Term2/capstone/arvato_data/Udacity_AZDIAS_052018.csv\"\n",
        "customers_file = \"/content/drive/MyDrive/workspace/arvato_data/Udacity_CUSTOMERS_052018.csv\" if IN_COLAB else \"../../data/Term2/capstone/arvato_data/Udacity_CUSTOMERS_052018.csv\"\n",
        "mailout_train_file = \"/content/drive/MyDrive/workspace/arvato_data/Udacity_MAILOUT_052018_TRAIN.csv\" if IN_COLAB else \"../../data/Term2/capstone/arvato_data/Udacity_MAILOUT_052018_TRAIN.csv\"\n",
        "mailout_test_file = \"/content/drive/MyDrive/workspace/arvato_data/Udacity_MAILOUT_052018_TEST.csv\" if IN_COLAB else \"../../data/Term2/capstone/arvato_data/Udacity_MAILOUT_052018_TEST.csv\"\n",
        "\n",
        "# Files with information about the columns depicted in the csv files\n",
        "dias_attrib = \"/content/drive/MyDrive/workspace/arvato_data/DIAS Attributes - Values 2017.xlsx\" if IN_COLAB else \"DIAS Attributes - Values 2017.xlsx\"\n",
        "dias_info = \"/content/drive/MyDrive/workspace/arvato_data/DIAS Information Levels - Attributes 2017.xlsx\" if IN_COLAB else \"DIAS Information Levels - Attributes 2017.xlsx\"\n",
        "\n",
        "# Kaggle submission file\n",
        "kg_submission = \"/content/drive/MyDrive/workspace/arvato_data/\" if IN_COLAB else \"\"\n",
        "# Kaggle competition\n",
        "kg_competition = 'udacity-arvato-identify-customers'"
      ]
    },
    {
      "cell_type": "markdown",
      "metadata": {
        "id": "Z5hxSvIhbUG0"
      },
      "source": [
        "We will create a function to load a sample of the datasets to speed things up during the data exploration phase particularly for the larger azdias dataset. This will reduce the memory used for holding the whole dataset initially, but also greatly improve the speed of calculations when exploring and cleaning the data. We will later use the whole dataset for best results.\n"
      ]
    },
    {
      "cell_type": "code",
      "execution_count": 6,
      "metadata": {
        "id": "VDBER8ePsw3o"
      },
      "outputs": [],
      "source": [
        "def get_df_sample(n_samples, seed=None, *args, **kwargs):\n",
        "    \"\"\"Load a random sample out of an input csv file or the whole file.\n",
        "\n",
        "    Args:\n",
        "        n_samples (int): Size of sample (number of rows) to randomly load from the input file.\n",
        "        args, kwargs: Pass arguments and keword arguments as in pandas `read_csv` method.\n",
        "        Ref: https://pandas.pydata.org/docs/reference/api/pandas.read_csv.html\n",
        "\n",
        "    Returns:\n",
        "        The dataframe loaded from the input file of n_samples rows\n",
        "    \n",
        "    Reference:\n",
        "        Stack Overflow - `Read a small random sample from a big CSV file into a Python data frame`:\n",
        "        https://stackoverflow.com/a/61631765/10074873\n",
        "        Pandas - `Iterating through files chunk by chunk`:\n",
        "        https://pandas.pydata.org/pandas-docs/stable/user_guide/io.html#iterating-through-files-chunk-by-chunk\n",
        "        Numpy - `Random Generator`:\n",
        "        https://numpy.org/doc/stable/reference/random/generator.html#random-generator\n",
        "    \"\"\"\n",
        "    rng = np.random.default_rng(seed=seed)\n",
        "\n",
        "    samples_reader = pd.read_csv(*args, **kwargs)\n",
        "    df = samples_reader.get_chunk(n_samples)\n",
        "\n",
        "    for chunk in samples_reader:\n",
        "        chunk.index = rng.integers(n_samples, size=len(chunk))\n",
        "        df.loc[chunk.index] = chunk\n",
        "    \n",
        "    return df\n"
      ]
    },
    {
      "cell_type": "markdown",
      "metadata": {
        "id": "8kliWVB50HXY"
      },
      "source": [
        "* Read first the attributes as strings, to get the categories and then use that to read them directly as categorical."
      ]
    },
    {
      "cell_type": "code",
      "execution_count": 7,
      "metadata": {
        "id": "PdORfEzW6w8N"
      },
      "outputs": [],
      "source": [
        "# Set to `True` to go through all the cells.\n",
        "RUN_ALL = False"
      ]
    },
    {
      "cell_type": "code",
      "execution_count": 8,
      "metadata": {
        "id": "r1YX1l9S6aPb"
      },
      "outputs": [],
      "source": [
        "if RUN_ALL:\n",
        "    # Try loading a sample\n",
        "    azdias_try1 = get_df_sample(200000, 42, azdias_file, sep=';', chunksize=256000)\n",
        "\n",
        "    azdias_try1.head()"
      ]
    },
    {
      "cell_type": "code",
      "execution_count": 9,
      "metadata": {
        "id": "Ts54Y4ZyFKDY"
      },
      "outputs": [],
      "source": [
        "if RUN_ALL:\n",
        "    # Check the types of columns\n",
        "    azdias_try1.dtypes.value_counts()"
      ]
    },
    {
      "cell_type": "code",
      "execution_count": 10,
      "metadata": {
        "id": "dKve66KCFS5B"
      },
      "outputs": [],
      "source": [
        "if RUN_ALL:\n",
        "    # Check `object` columns\n",
        "    azdias_try1.select_dtypes(include=object).head()"
      ]
    },
    {
      "cell_type": "markdown",
      "metadata": {
        "id": "HxJkGQjy8dEw"
      },
      "source": [
        "####Check columns 18, 19 that produced warnings when reading csv data"
      ]
    },
    {
      "cell_type": "code",
      "execution_count": 11,
      "metadata": {
        "id": "0mGiZ5Gn8dE3"
      },
      "outputs": [],
      "source": [
        "if RUN_ALL:\n",
        "    # Check the two columns to identify why pandas \"complained\" about mixed types\n",
        "    azdias_try1_1819 = azdias_try1.iloc[:,[18, 19]]\n",
        "\n",
        "    azdias_try1_1819.columns"
      ]
    },
    {
      "cell_type": "markdown",
      "metadata": {
        "id": "8QUsT3by9wSj"
      },
      "source": [
        "The two attributes are `'CAMEO_DEUG_2015', 'CAMEO_INTL_2015'`. We should check their values range to further explore them."
      ]
    },
    {
      "cell_type": "code",
      "execution_count": 12,
      "metadata": {
        "id": "neGj2Cm38dE3"
      },
      "outputs": [],
      "source": [
        "if RUN_ALL:\n",
        "    azdias_try1_1819.CAMEO_DEUG_2015.unique(), azdias_try1_1819.CAMEO_INTL_2015.unique()"
      ]
    },
    {
      "cell_type": "code",
      "execution_count": 13,
      "metadata": {
        "id": "JuWaPndOEppa"
      },
      "outputs": [],
      "source": [
        "if RUN_ALL:\n",
        "    # Clean up\n",
        "    del azdias_try1, azdias_try1_1819"
      ]
    },
    {
      "cell_type": "markdown",
      "metadata": {
        "id": "VLr5AMniCUyy"
      },
      "source": [
        "In these columns there are two values `X` and `XX` respectively that fall outside the range of values for this attributes as seen in `DIAS Attributes - Values 2017.xlsx`.\n",
        "\n",
        "#### Importing values as NaNs at loading with `read_csv`\n",
        "\n",
        "By observing the helper files `DIAS Attributes - Values 2017.xlsx` and `DIAS Information Levels - Attributes 2017.xlsx` we can see that zeros (`0` or `0.0`) and `-1` (`-1` or `-1.0`) values may be converted to NaNs as they offer no information even in the fields that are considered as valid input. `na_values` argument of `read_csv` method will be used for this to do this conversion during data import. This will leave the value `9` that is considered as `unkown` in some variables to be processed later.\n",
        "\n",
        "We will take advantage of the `na_values` argument in `read_csv`method to pass a tuple of values that will:\n",
        "\n",
        "* convert specific values to NaNs\n",
        "* allow auto importing of attributes that were mixed types as specific types (numerical).\n",
        "\n",
        "We will also use `parse_dates` argument to import attribute `EINGEFUEGT_AM` as datetime.\n",
        "\n",
        "There are there more categorical attributes (`'CAMEO_DEU_2015', 'D19_LETZTER_KAUF_BRANCHE', 'OST_WEST_KZ'`) that we can identify which will be converted later on.\n",
        "\n",
        "We will initially use samples of the supplied datasets to be able to explore the data and perform all necessary computations faster, preventing notebook crashes due to insufficient memory.\n",
        "\n",
        "A samle of 200,000 rows will be used for `AZDIAS` and 150,000 rows for `CUSTOMERS` datasets to keep a relative balance between the two datasets."
      ]
    },
    {
      "cell_type": "code",
      "execution_count": 14,
      "metadata": {
        "id": "QaCzkHiQyQlK"
      },
      "outputs": [],
      "source": [
        "azd_sample_size = 200000\n",
        "cus_sample_size = 150000\n",
        "\n",
        "# Specific values to replace as np.NaN while loading the dataframe.\n",
        "na_tupl = (-1, -1.0, 0, 0.0, 'X', 'XX')\n",
        "\n",
        "# `read_csv` parameters dictionary\n",
        "read_csv_kwargs = {\n",
        "    'sep': ';',\n",
        "    'na_values': na_tupl,\n",
        "    'chunksize': 256000,\n",
        "    'parse_dates': ['EINGEFUEGT_AM'],\n",
        "}\n",
        "\n",
        "# Read samples from azdias, customers datasets of size n rows, (use parse_dates to convert `EINGEFUEGT_AM` to datetime).\n",
        "azdias = get_df_sample(azd_sample_size, 42, azdias_file, **read_csv_kwargs)\n",
        "# custrs = pd.read_csv(customers_file, sep=';', na_values=na_tupl, parse_dates=['EINGEFUEGT_AM'])\n",
        "custrs = get_df_sample(cus_sample_size, 42, customers_file, **read_csv_kwargs)"
      ]
    },
    {
      "cell_type": "markdown",
      "metadata": {
        "id": "FiZMkNa0bUG2"
      },
      "source": [
        "Let us check the dataframes now:"
      ]
    },
    {
      "cell_type": "code",
      "execution_count": 15,
      "metadata": {
        "colab": {
          "base_uri": "https://localhost:8080/"
        },
        "id": "kKhi531fbUG3",
        "outputId": "d51b7c82-c41a-41e9-d958-39ad8f92003e"
      },
      "outputs": [
        {
          "data": {
            "text/plain": [
              "((200000, 366), (150000, 369))"
            ]
          },
          "execution_count": 15,
          "metadata": {},
          "output_type": "execute_result"
        }
      ],
      "source": [
        "azdias.shape, custrs.shape"
      ]
    },
    {
      "cell_type": "code",
      "execution_count": 16,
      "metadata": {
        "colab": {
          "base_uri": "https://localhost:8080/",
          "height": 315
        },
        "id": "eQhf-DIIapyF",
        "outputId": "3e9c7687-20ea-4744-e001-fe27d25f3a69"
      },
      "outputs": [
        {
          "data": {
            "text/html": [
              "<div>\n",
              "<style scoped>\n",
              "    .dataframe tbody tr th:only-of-type {\n",
              "        vertical-align: middle;\n",
              "    }\n",
              "\n",
              "    .dataframe tbody tr th {\n",
              "        vertical-align: top;\n",
              "    }\n",
              "\n",
              "    .dataframe thead th {\n",
              "        text-align: right;\n",
              "    }\n",
              "</style>\n",
              "<table border=\"1\" class=\"dataframe\">\n",
              "  <thead>\n",
              "    <tr style=\"text-align: right;\">\n",
              "      <th></th>\n",
              "      <th>LNR</th>\n",
              "      <th>AGER_TYP</th>\n",
              "      <th>AKT_DAT_KL</th>\n",
              "      <th>ALTER_HH</th>\n",
              "      <th>ALTER_KIND1</th>\n",
              "      <th>ALTER_KIND2</th>\n",
              "      <th>ALTER_KIND3</th>\n",
              "      <th>ALTER_KIND4</th>\n",
              "      <th>ALTERSKATEGORIE_FEIN</th>\n",
              "      <th>ANZ_HAUSHALTE_AKTIV</th>\n",
              "      <th>ANZ_HH_TITEL</th>\n",
              "      <th>ANZ_KINDER</th>\n",
              "      <th>ANZ_PERSONEN</th>\n",
              "      <th>ANZ_STATISTISCHE_HAUSHALTE</th>\n",
              "      <th>ANZ_TITEL</th>\n",
              "      <th>ARBEIT</th>\n",
              "      <th>BALLRAUM</th>\n",
              "      <th>CAMEO_DEU_2015</th>\n",
              "      <th>CAMEO_DEUG_2015</th>\n",
              "      <th>CAMEO_INTL_2015</th>\n",
              "      <th>CJT_GESAMTTYP</th>\n",
              "      <th>CJT_KATALOGNUTZER</th>\n",
              "      <th>CJT_TYP_1</th>\n",
              "      <th>CJT_TYP_2</th>\n",
              "      <th>CJT_TYP_3</th>\n",
              "      <th>CJT_TYP_4</th>\n",
              "      <th>CJT_TYP_5</th>\n",
              "      <th>CJT_TYP_6</th>\n",
              "      <th>D19_BANKEN_ANZ_12</th>\n",
              "      <th>D19_BANKEN_ANZ_24</th>\n",
              "      <th>D19_BANKEN_DATUM</th>\n",
              "      <th>D19_BANKEN_DIREKT</th>\n",
              "      <th>D19_BANKEN_GROSS</th>\n",
              "      <th>D19_BANKEN_LOKAL</th>\n",
              "      <th>D19_BANKEN_OFFLINE_DATUM</th>\n",
              "      <th>D19_BANKEN_ONLINE_DATUM</th>\n",
              "      <th>D19_BANKEN_ONLINE_QUOTE_12</th>\n",
              "      <th>D19_BANKEN_REST</th>\n",
              "      <th>D19_BEKLEIDUNG_GEH</th>\n",
              "      <th>D19_BEKLEIDUNG_REST</th>\n",
              "      <th>...</th>\n",
              "      <th>REGIOTYP</th>\n",
              "      <th>RELAT_AB</th>\n",
              "      <th>RETOURTYP_BK_S</th>\n",
              "      <th>RT_KEIN_ANREIZ</th>\n",
              "      <th>RT_SCHNAEPPCHEN</th>\n",
              "      <th>RT_UEBERGROESSE</th>\n",
              "      <th>SEMIO_DOM</th>\n",
              "      <th>SEMIO_ERL</th>\n",
              "      <th>SEMIO_FAM</th>\n",
              "      <th>SEMIO_KAEM</th>\n",
              "      <th>SEMIO_KRIT</th>\n",
              "      <th>SEMIO_KULT</th>\n",
              "      <th>SEMIO_LUST</th>\n",
              "      <th>SEMIO_MAT</th>\n",
              "      <th>SEMIO_PFLICHT</th>\n",
              "      <th>SEMIO_RAT</th>\n",
              "      <th>SEMIO_REL</th>\n",
              "      <th>SEMIO_SOZ</th>\n",
              "      <th>SEMIO_TRADV</th>\n",
              "      <th>SEMIO_VERT</th>\n",
              "      <th>SHOPPER_TYP</th>\n",
              "      <th>SOHO_KZ</th>\n",
              "      <th>STRUKTURTYP</th>\n",
              "      <th>TITEL_KZ</th>\n",
              "      <th>UMFELD_ALT</th>\n",
              "      <th>UMFELD_JUNG</th>\n",
              "      <th>UNGLEICHENN_FLAG</th>\n",
              "      <th>VERDICHTUNGSRAUM</th>\n",
              "      <th>VERS_TYP</th>\n",
              "      <th>VHA</th>\n",
              "      <th>VHN</th>\n",
              "      <th>VK_DHT4A</th>\n",
              "      <th>VK_DISTANZ</th>\n",
              "      <th>VK_ZG11</th>\n",
              "      <th>W_KEIT_KIND_HH</th>\n",
              "      <th>WOHNDAUER_2008</th>\n",
              "      <th>WOHNLAGE</th>\n",
              "      <th>ZABEOTYP</th>\n",
              "      <th>ANREDE_KZ</th>\n",
              "      <th>ALTERSKATEGORIE_GROB</th>\n",
              "    </tr>\n",
              "  </thead>\n",
              "  <tbody>\n",
              "    <tr>\n",
              "      <th>34460</th>\n",
              "      <td>734700</td>\n",
              "      <td>NaN</td>\n",
              "      <td>1.0</td>\n",
              "      <td>17.0</td>\n",
              "      <td>16.0</td>\n",
              "      <td>16.0</td>\n",
              "      <td>NaN</td>\n",
              "      <td>NaN</td>\n",
              "      <td>16.0</td>\n",
              "      <td>1.0</td>\n",
              "      <td>NaN</td>\n",
              "      <td>2.0</td>\n",
              "      <td>2.0</td>\n",
              "      <td>1.0</td>\n",
              "      <td>NaN</td>\n",
              "      <td>1.0</td>\n",
              "      <td>7.0</td>\n",
              "      <td>4A</td>\n",
              "      <td>4.0</td>\n",
              "      <td>22.0</td>\n",
              "      <td>2.0</td>\n",
              "      <td>3.0</td>\n",
              "      <td>4.0</td>\n",
              "      <td>4.0</td>\n",
              "      <td>3.0</td>\n",
              "      <td>1.0</td>\n",
              "      <td>1.0</td>\n",
              "      <td>3.0</td>\n",
              "      <td>NaN</td>\n",
              "      <td>NaN</td>\n",
              "      <td>9</td>\n",
              "      <td>6.0</td>\n",
              "      <td>NaN</td>\n",
              "      <td>NaN</td>\n",
              "      <td>10</td>\n",
              "      <td>9</td>\n",
              "      <td>NaN</td>\n",
              "      <td>NaN</td>\n",
              "      <td>5.0</td>\n",
              "      <td>6.0</td>\n",
              "      <td>...</td>\n",
              "      <td>5.0</td>\n",
              "      <td>1.0</td>\n",
              "      <td>2.0</td>\n",
              "      <td>4.0</td>\n",
              "      <td>3.0</td>\n",
              "      <td>4.0</td>\n",
              "      <td>4</td>\n",
              "      <td>6</td>\n",
              "      <td>2</td>\n",
              "      <td>5</td>\n",
              "      <td>4</td>\n",
              "      <td>3</td>\n",
              "      <td>4</td>\n",
              "      <td>2</td>\n",
              "      <td>5</td>\n",
              "      <td>4</td>\n",
              "      <td>3</td>\n",
              "      <td>3</td>\n",
              "      <td>3</td>\n",
              "      <td>5</td>\n",
              "      <td>2.0</td>\n",
              "      <td>NaN</td>\n",
              "      <td>1.0</td>\n",
              "      <td>NaN</td>\n",
              "      <td>5.0</td>\n",
              "      <td>5.0</td>\n",
              "      <td>NaN</td>\n",
              "      <td>NaN</td>\n",
              "      <td>1.0</td>\n",
              "      <td>NaN</td>\n",
              "      <td>2.0</td>\n",
              "      <td>3.0</td>\n",
              "      <td>6.0</td>\n",
              "      <td>3.0</td>\n",
              "      <td>1.0</td>\n",
              "      <td>9.0</td>\n",
              "      <td>7.0</td>\n",
              "      <td>4</td>\n",
              "      <td>2</td>\n",
              "      <td>3</td>\n",
              "    </tr>\n",
              "    <tr>\n",
              "      <th>6323</th>\n",
              "      <td>713914</td>\n",
              "      <td>NaN</td>\n",
              "      <td>9.0</td>\n",
              "      <td>15.0</td>\n",
              "      <td>NaN</td>\n",
              "      <td>NaN</td>\n",
              "      <td>NaN</td>\n",
              "      <td>NaN</td>\n",
              "      <td>20.0</td>\n",
              "      <td>1.0</td>\n",
              "      <td>NaN</td>\n",
              "      <td>NaN</td>\n",
              "      <td>3.0</td>\n",
              "      <td>1.0</td>\n",
              "      <td>NaN</td>\n",
              "      <td>3.0</td>\n",
              "      <td>7.0</td>\n",
              "      <td>3B</td>\n",
              "      <td>3.0</td>\n",
              "      <td>23.0</td>\n",
              "      <td>5.0</td>\n",
              "      <td>4.0</td>\n",
              "      <td>5.0</td>\n",
              "      <td>4.0</td>\n",
              "      <td>3.0</td>\n",
              "      <td>2.0</td>\n",
              "      <td>3.0</td>\n",
              "      <td>4.0</td>\n",
              "      <td>NaN</td>\n",
              "      <td>NaN</td>\n",
              "      <td>10</td>\n",
              "      <td>NaN</td>\n",
              "      <td>NaN</td>\n",
              "      <td>NaN</td>\n",
              "      <td>10</td>\n",
              "      <td>10</td>\n",
              "      <td>NaN</td>\n",
              "      <td>NaN</td>\n",
              "      <td>NaN</td>\n",
              "      <td>6.0</td>\n",
              "      <td>...</td>\n",
              "      <td>NaN</td>\n",
              "      <td>3.0</td>\n",
              "      <td>1.0</td>\n",
              "      <td>4.0</td>\n",
              "      <td>5.0</td>\n",
              "      <td>4.0</td>\n",
              "      <td>4</td>\n",
              "      <td>4</td>\n",
              "      <td>7</td>\n",
              "      <td>1</td>\n",
              "      <td>4</td>\n",
              "      <td>7</td>\n",
              "      <td>2</td>\n",
              "      <td>5</td>\n",
              "      <td>4</td>\n",
              "      <td>4</td>\n",
              "      <td>7</td>\n",
              "      <td>7</td>\n",
              "      <td>5</td>\n",
              "      <td>7</td>\n",
              "      <td>1.0</td>\n",
              "      <td>NaN</td>\n",
              "      <td>1.0</td>\n",
              "      <td>NaN</td>\n",
              "      <td>5.0</td>\n",
              "      <td>5.0</td>\n",
              "      <td>1.0</td>\n",
              "      <td>NaN</td>\n",
              "      <td>2.0</td>\n",
              "      <td>NaN</td>\n",
              "      <td>NaN</td>\n",
              "      <td>3.0</td>\n",
              "      <td>6.0</td>\n",
              "      <td>5.0</td>\n",
              "      <td>6.0</td>\n",
              "      <td>9.0</td>\n",
              "      <td>7.0</td>\n",
              "      <td>1</td>\n",
              "      <td>1</td>\n",
              "      <td>1</td>\n",
              "    </tr>\n",
              "    <tr>\n",
              "      <th>179395</th>\n",
              "      <td>203101</td>\n",
              "      <td>NaN</td>\n",
              "      <td>9.0</td>\n",
              "      <td>12.0</td>\n",
              "      <td>NaN</td>\n",
              "      <td>NaN</td>\n",
              "      <td>NaN</td>\n",
              "      <td>NaN</td>\n",
              "      <td>NaN</td>\n",
              "      <td>30.0</td>\n",
              "      <td>NaN</td>\n",
              "      <td>NaN</td>\n",
              "      <td>1.0</td>\n",
              "      <td>27.0</td>\n",
              "      <td>NaN</td>\n",
              "      <td>4.0</td>\n",
              "      <td>1.0</td>\n",
              "      <td>9B</td>\n",
              "      <td>9.0</td>\n",
              "      <td>51.0</td>\n",
              "      <td>5.0</td>\n",
              "      <td>5.0</td>\n",
              "      <td>3.0</td>\n",
              "      <td>3.0</td>\n",
              "      <td>2.0</td>\n",
              "      <td>3.0</td>\n",
              "      <td>3.0</td>\n",
              "      <td>3.0</td>\n",
              "      <td>NaN</td>\n",
              "      <td>NaN</td>\n",
              "      <td>10</td>\n",
              "      <td>NaN</td>\n",
              "      <td>NaN</td>\n",
              "      <td>NaN</td>\n",
              "      <td>10</td>\n",
              "      <td>10</td>\n",
              "      <td>NaN</td>\n",
              "      <td>NaN</td>\n",
              "      <td>NaN</td>\n",
              "      <td>NaN</td>\n",
              "      <td>...</td>\n",
              "      <td>2.0</td>\n",
              "      <td>3.0</td>\n",
              "      <td>3.0</td>\n",
              "      <td>2.0</td>\n",
              "      <td>1.0</td>\n",
              "      <td>1.0</td>\n",
              "      <td>6</td>\n",
              "      <td>7</td>\n",
              "      <td>3</td>\n",
              "      <td>6</td>\n",
              "      <td>6</td>\n",
              "      <td>2</td>\n",
              "      <td>7</td>\n",
              "      <td>2</td>\n",
              "      <td>3</td>\n",
              "      <td>3</td>\n",
              "      <td>1</td>\n",
              "      <td>2</td>\n",
              "      <td>3</td>\n",
              "      <td>2</td>\n",
              "      <td>3.0</td>\n",
              "      <td>NaN</td>\n",
              "      <td>3.0</td>\n",
              "      <td>NaN</td>\n",
              "      <td>5.0</td>\n",
              "      <td>2.0</td>\n",
              "      <td>NaN</td>\n",
              "      <td>2.0</td>\n",
              "      <td>2.0</td>\n",
              "      <td>NaN</td>\n",
              "      <td>2.0</td>\n",
              "      <td>10.0</td>\n",
              "      <td>11.0</td>\n",
              "      <td>8.0</td>\n",
              "      <td>6.0</td>\n",
              "      <td>9.0</td>\n",
              "      <td>3.0</td>\n",
              "      <td>3</td>\n",
              "      <td>2</td>\n",
              "      <td>4</td>\n",
              "    </tr>\n",
              "    <tr>\n",
              "      <th>61734</th>\n",
              "      <td>381240</td>\n",
              "      <td>NaN</td>\n",
              "      <td>9.0</td>\n",
              "      <td>NaN</td>\n",
              "      <td>NaN</td>\n",
              "      <td>NaN</td>\n",
              "      <td>NaN</td>\n",
              "      <td>NaN</td>\n",
              "      <td>NaN</td>\n",
              "      <td>11.0</td>\n",
              "      <td>NaN</td>\n",
              "      <td>NaN</td>\n",
              "      <td>2.0</td>\n",
              "      <td>9.0</td>\n",
              "      <td>NaN</td>\n",
              "      <td>4.0</td>\n",
              "      <td>6.0</td>\n",
              "      <td>6E</td>\n",
              "      <td>6.0</td>\n",
              "      <td>45.0</td>\n",
              "      <td>2.0</td>\n",
              "      <td>5.0</td>\n",
              "      <td>2.0</td>\n",
              "      <td>1.0</td>\n",
              "      <td>5.0</td>\n",
              "      <td>5.0</td>\n",
              "      <td>5.0</td>\n",
              "      <td>4.0</td>\n",
              "      <td>NaN</td>\n",
              "      <td>NaN</td>\n",
              "      <td>10</td>\n",
              "      <td>NaN</td>\n",
              "      <td>NaN</td>\n",
              "      <td>NaN</td>\n",
              "      <td>10</td>\n",
              "      <td>10</td>\n",
              "      <td>NaN</td>\n",
              "      <td>NaN</td>\n",
              "      <td>NaN</td>\n",
              "      <td>NaN</td>\n",
              "      <td>...</td>\n",
              "      <td>NaN</td>\n",
              "      <td>3.0</td>\n",
              "      <td>3.0</td>\n",
              "      <td>1.0</td>\n",
              "      <td>4.0</td>\n",
              "      <td>1.0</td>\n",
              "      <td>5</td>\n",
              "      <td>7</td>\n",
              "      <td>4</td>\n",
              "      <td>6</td>\n",
              "      <td>6</td>\n",
              "      <td>1</td>\n",
              "      <td>4</td>\n",
              "      <td>1</td>\n",
              "      <td>4</td>\n",
              "      <td>2</td>\n",
              "      <td>2</td>\n",
              "      <td>5</td>\n",
              "      <td>4</td>\n",
              "      <td>4</td>\n",
              "      <td>1.0</td>\n",
              "      <td>NaN</td>\n",
              "      <td>3.0</td>\n",
              "      <td>NaN</td>\n",
              "      <td>1.0</td>\n",
              "      <td>5.0</td>\n",
              "      <td>NaN</td>\n",
              "      <td>NaN</td>\n",
              "      <td>2.0</td>\n",
              "      <td>NaN</td>\n",
              "      <td>NaN</td>\n",
              "      <td>7.0</td>\n",
              "      <td>8.0</td>\n",
              "      <td>5.0</td>\n",
              "      <td>6.0</td>\n",
              "      <td>9.0</td>\n",
              "      <td>3.0</td>\n",
              "      <td>4</td>\n",
              "      <td>2</td>\n",
              "      <td>4</td>\n",
              "    </tr>\n",
              "    <tr>\n",
              "      <th>89481</th>\n",
              "      <td>714038</td>\n",
              "      <td>NaN</td>\n",
              "      <td>1.0</td>\n",
              "      <td>18.0</td>\n",
              "      <td>NaN</td>\n",
              "      <td>NaN</td>\n",
              "      <td>NaN</td>\n",
              "      <td>NaN</td>\n",
              "      <td>18.0</td>\n",
              "      <td>5.0</td>\n",
              "      <td>NaN</td>\n",
              "      <td>NaN</td>\n",
              "      <td>2.0</td>\n",
              "      <td>4.0</td>\n",
              "      <td>NaN</td>\n",
              "      <td>3.0</td>\n",
              "      <td>5.0</td>\n",
              "      <td>8A</td>\n",
              "      <td>8.0</td>\n",
              "      <td>51.0</td>\n",
              "      <td>1.0</td>\n",
              "      <td>1.0</td>\n",
              "      <td>4.0</td>\n",
              "      <td>5.0</td>\n",
              "      <td>2.0</td>\n",
              "      <td>3.0</td>\n",
              "      <td>1.0</td>\n",
              "      <td>2.0</td>\n",
              "      <td>NaN</td>\n",
              "      <td>NaN</td>\n",
              "      <td>10</td>\n",
              "      <td>NaN</td>\n",
              "      <td>NaN</td>\n",
              "      <td>NaN</td>\n",
              "      <td>10</td>\n",
              "      <td>10</td>\n",
              "      <td>NaN</td>\n",
              "      <td>NaN</td>\n",
              "      <td>NaN</td>\n",
              "      <td>NaN</td>\n",
              "      <td>...</td>\n",
              "      <td>3.0</td>\n",
              "      <td>3.0</td>\n",
              "      <td>1.0</td>\n",
              "      <td>5.0</td>\n",
              "      <td>1.0</td>\n",
              "      <td>4.0</td>\n",
              "      <td>6</td>\n",
              "      <td>6</td>\n",
              "      <td>2</td>\n",
              "      <td>5</td>\n",
              "      <td>7</td>\n",
              "      <td>1</td>\n",
              "      <td>6</td>\n",
              "      <td>5</td>\n",
              "      <td>5</td>\n",
              "      <td>4</td>\n",
              "      <td>3</td>\n",
              "      <td>2</td>\n",
              "      <td>2</td>\n",
              "      <td>2</td>\n",
              "      <td>2.0</td>\n",
              "      <td>NaN</td>\n",
              "      <td>2.0</td>\n",
              "      <td>NaN</td>\n",
              "      <td>4.0</td>\n",
              "      <td>4.0</td>\n",
              "      <td>NaN</td>\n",
              "      <td>NaN</td>\n",
              "      <td>2.0</td>\n",
              "      <td>NaN</td>\n",
              "      <td>4.0</td>\n",
              "      <td>9.0</td>\n",
              "      <td>12.0</td>\n",
              "      <td>9.0</td>\n",
              "      <td>3.0</td>\n",
              "      <td>9.0</td>\n",
              "      <td>7.0</td>\n",
              "      <td>5</td>\n",
              "      <td>2</td>\n",
              "      <td>3</td>\n",
              "    </tr>\n",
              "    <tr>\n",
              "      <th>115073</th>\n",
              "      <td>999960</td>\n",
              "      <td>NaN</td>\n",
              "      <td>NaN</td>\n",
              "      <td>NaN</td>\n",
              "      <td>NaN</td>\n",
              "      <td>NaN</td>\n",
              "      <td>NaN</td>\n",
              "      <td>NaN</td>\n",
              "      <td>NaN</td>\n",
              "      <td>NaN</td>\n",
              "      <td>NaN</td>\n",
              "      <td>NaN</td>\n",
              "      <td>NaN</td>\n",
              "      <td>NaN</td>\n",
              "      <td>NaN</td>\n",
              "      <td>NaN</td>\n",
              "      <td>NaN</td>\n",
              "      <td>NaN</td>\n",
              "      <td>NaN</td>\n",
              "      <td>NaN</td>\n",
              "      <td>6.0</td>\n",
              "      <td>5.0</td>\n",
              "      <td>5.0</td>\n",
              "      <td>5.0</td>\n",
              "      <td>5.0</td>\n",
              "      <td>5.0</td>\n",
              "      <td>5.0</td>\n",
              "      <td>5.0</td>\n",
              "      <td>NaN</td>\n",
              "      <td>NaN</td>\n",
              "      <td>10</td>\n",
              "      <td>NaN</td>\n",
              "      <td>NaN</td>\n",
              "      <td>NaN</td>\n",
              "      <td>10</td>\n",
              "      <td>10</td>\n",
              "      <td>NaN</td>\n",
              "      <td>NaN</td>\n",
              "      <td>NaN</td>\n",
              "      <td>NaN</td>\n",
              "      <td>...</td>\n",
              "      <td>NaN</td>\n",
              "      <td>NaN</td>\n",
              "      <td>3.0</td>\n",
              "      <td>4.0</td>\n",
              "      <td>5.0</td>\n",
              "      <td>NaN</td>\n",
              "      <td>6</td>\n",
              "      <td>3</td>\n",
              "      <td>6</td>\n",
              "      <td>6</td>\n",
              "      <td>7</td>\n",
              "      <td>3</td>\n",
              "      <td>5</td>\n",
              "      <td>5</td>\n",
              "      <td>5</td>\n",
              "      <td>4</td>\n",
              "      <td>7</td>\n",
              "      <td>2</td>\n",
              "      <td>3</td>\n",
              "      <td>1</td>\n",
              "      <td>NaN</td>\n",
              "      <td>NaN</td>\n",
              "      <td>NaN</td>\n",
              "      <td>NaN</td>\n",
              "      <td>NaN</td>\n",
              "      <td>NaN</td>\n",
              "      <td>NaN</td>\n",
              "      <td>NaN</td>\n",
              "      <td>NaN</td>\n",
              "      <td>NaN</td>\n",
              "      <td>NaN</td>\n",
              "      <td>NaN</td>\n",
              "      <td>NaN</td>\n",
              "      <td>NaN</td>\n",
              "      <td>NaN</td>\n",
              "      <td>NaN</td>\n",
              "      <td>NaN</td>\n",
              "      <td>3</td>\n",
              "      <td>1</td>\n",
              "      <td>2</td>\n",
              "    </tr>\n",
              "    <tr>\n",
              "      <th>160597</th>\n",
              "      <td>765288</td>\n",
              "      <td>2.0</td>\n",
              "      <td>1.0</td>\n",
              "      <td>12.0</td>\n",
              "      <td>NaN</td>\n",
              "      <td>NaN</td>\n",
              "      <td>NaN</td>\n",
              "      <td>NaN</td>\n",
              "      <td>12.0</td>\n",
              "      <td>2.0</td>\n",
              "      <td>NaN</td>\n",
              "      <td>NaN</td>\n",
              "      <td>1.0</td>\n",
              "      <td>2.0</td>\n",
              "      <td>NaN</td>\n",
              "      <td>1.0</td>\n",
              "      <td>2.0</td>\n",
              "      <td>1E</td>\n",
              "      <td>1.0</td>\n",
              "      <td>15.0</td>\n",
              "      <td>5.0</td>\n",
              "      <td>5.0</td>\n",
              "      <td>3.0</td>\n",
              "      <td>2.0</td>\n",
              "      <td>3.0</td>\n",
              "      <td>4.0</td>\n",
              "      <td>4.0</td>\n",
              "      <td>5.0</td>\n",
              "      <td>NaN</td>\n",
              "      <td>1.0</td>\n",
              "      <td>7</td>\n",
              "      <td>5.0</td>\n",
              "      <td>NaN</td>\n",
              "      <td>NaN</td>\n",
              "      <td>10</td>\n",
              "      <td>7</td>\n",
              "      <td>NaN</td>\n",
              "      <td>NaN</td>\n",
              "      <td>NaN</td>\n",
              "      <td>NaN</td>\n",
              "      <td>...</td>\n",
              "      <td>1.0</td>\n",
              "      <td>1.0</td>\n",
              "      <td>3.0</td>\n",
              "      <td>2.0</td>\n",
              "      <td>4.0</td>\n",
              "      <td>3.0</td>\n",
              "      <td>5</td>\n",
              "      <td>7</td>\n",
              "      <td>1</td>\n",
              "      <td>6</td>\n",
              "      <td>7</td>\n",
              "      <td>1</td>\n",
              "      <td>7</td>\n",
              "      <td>1</td>\n",
              "      <td>2</td>\n",
              "      <td>2</td>\n",
              "      <td>2</td>\n",
              "      <td>5</td>\n",
              "      <td>3</td>\n",
              "      <td>4</td>\n",
              "      <td>3.0</td>\n",
              "      <td>NaN</td>\n",
              "      <td>3.0</td>\n",
              "      <td>NaN</td>\n",
              "      <td>1.0</td>\n",
              "      <td>4.0</td>\n",
              "      <td>NaN</td>\n",
              "      <td>3.0</td>\n",
              "      <td>2.0</td>\n",
              "      <td>NaN</td>\n",
              "      <td>4.0</td>\n",
              "      <td>9.0</td>\n",
              "      <td>10.0</td>\n",
              "      <td>7.0</td>\n",
              "      <td>6.0</td>\n",
              "      <td>9.0</td>\n",
              "      <td>1.0</td>\n",
              "      <td>3</td>\n",
              "      <td>2</td>\n",
              "      <td>4</td>\n",
              "    </tr>\n",
              "  </tbody>\n",
              "</table>\n",
              "<p>7 rows × 366 columns</p>\n",
              "</div>"
            ],
            "text/plain": [
              "           LNR  AGER_TYP  AKT_DAT_KL  ...  ZABEOTYP  ANREDE_KZ  ALTERSKATEGORIE_GROB\n",
              "34460   734700       NaN         1.0  ...         4          2                     3\n",
              "6323    713914       NaN         9.0  ...         1          1                     1\n",
              "179395  203101       NaN         9.0  ...         3          2                     4\n",
              "61734   381240       NaN         9.0  ...         4          2                     4\n",
              "89481   714038       NaN         1.0  ...         5          2                     3\n",
              "115073  999960       NaN         NaN  ...         3          1                     2\n",
              "160597  765288       2.0         1.0  ...         3          2                     4\n",
              "\n",
              "[7 rows x 366 columns]"
            ]
          },
          "execution_count": 16,
          "metadata": {},
          "output_type": "execute_result"
        }
      ],
      "source": [
        "azdias.sample(7)"
      ]
    },
    {
      "cell_type": "code",
      "execution_count": 17,
      "metadata": {
        "colab": {
          "base_uri": "https://localhost:8080/"
        },
        "id": "MxqF--BtKQFg",
        "outputId": "4b49a5e7-0aa0-4390-f950-8fd34caca555"
      },
      "outputs": [
        {
          "name": "stdout",
          "output_type": "stream",
          "text": [
            "<class 'pandas.core.frame.DataFrame'>\n",
            "RangeIndex: 200000 entries, 0 to 199999\n",
            "Columns: 366 entries, LNR to ALTERSKATEGORIE_GROB\n",
            "dtypes: datetime64[ns](1), float64(320), int64(42), object(3)\n",
            "memory usage: 558.5+ MB\n"
          ]
        }
      ],
      "source": [
        "azdias.info()"
      ]
    },
    {
      "cell_type": "code",
      "execution_count": 18,
      "metadata": {
        "colab": {
          "base_uri": "https://localhost:8080/",
          "height": 315
        },
        "id": "gcoK-sQDc7fV",
        "outputId": "c210ab1a-2207-47fe-b31b-a015b6e8e3ab"
      },
      "outputs": [
        {
          "data": {
            "text/html": [
              "<div>\n",
              "<style scoped>\n",
              "    .dataframe tbody tr th:only-of-type {\n",
              "        vertical-align: middle;\n",
              "    }\n",
              "\n",
              "    .dataframe tbody tr th {\n",
              "        vertical-align: top;\n",
              "    }\n",
              "\n",
              "    .dataframe thead th {\n",
              "        text-align: right;\n",
              "    }\n",
              "</style>\n",
              "<table border=\"1\" class=\"dataframe\">\n",
              "  <thead>\n",
              "    <tr style=\"text-align: right;\">\n",
              "      <th></th>\n",
              "      <th>LNR</th>\n",
              "      <th>AGER_TYP</th>\n",
              "      <th>AKT_DAT_KL</th>\n",
              "      <th>ALTER_HH</th>\n",
              "      <th>ALTER_KIND1</th>\n",
              "      <th>ALTER_KIND2</th>\n",
              "      <th>ALTER_KIND3</th>\n",
              "      <th>ALTER_KIND4</th>\n",
              "      <th>ALTERSKATEGORIE_FEIN</th>\n",
              "      <th>ANZ_HAUSHALTE_AKTIV</th>\n",
              "      <th>ANZ_HH_TITEL</th>\n",
              "      <th>ANZ_KINDER</th>\n",
              "      <th>ANZ_PERSONEN</th>\n",
              "      <th>ANZ_STATISTISCHE_HAUSHALTE</th>\n",
              "      <th>ANZ_TITEL</th>\n",
              "      <th>ARBEIT</th>\n",
              "      <th>BALLRAUM</th>\n",
              "      <th>CAMEO_DEU_2015</th>\n",
              "      <th>CAMEO_DEUG_2015</th>\n",
              "      <th>CAMEO_INTL_2015</th>\n",
              "      <th>CJT_GESAMTTYP</th>\n",
              "      <th>CJT_KATALOGNUTZER</th>\n",
              "      <th>CJT_TYP_1</th>\n",
              "      <th>CJT_TYP_2</th>\n",
              "      <th>CJT_TYP_3</th>\n",
              "      <th>CJT_TYP_4</th>\n",
              "      <th>CJT_TYP_5</th>\n",
              "      <th>CJT_TYP_6</th>\n",
              "      <th>D19_BANKEN_ANZ_12</th>\n",
              "      <th>D19_BANKEN_ANZ_24</th>\n",
              "      <th>D19_BANKEN_DATUM</th>\n",
              "      <th>D19_BANKEN_DIREKT</th>\n",
              "      <th>D19_BANKEN_GROSS</th>\n",
              "      <th>D19_BANKEN_LOKAL</th>\n",
              "      <th>D19_BANKEN_OFFLINE_DATUM</th>\n",
              "      <th>D19_BANKEN_ONLINE_DATUM</th>\n",
              "      <th>D19_BANKEN_ONLINE_QUOTE_12</th>\n",
              "      <th>D19_BANKEN_REST</th>\n",
              "      <th>D19_BEKLEIDUNG_GEH</th>\n",
              "      <th>D19_BEKLEIDUNG_REST</th>\n",
              "      <th>...</th>\n",
              "      <th>RT_KEIN_ANREIZ</th>\n",
              "      <th>RT_SCHNAEPPCHEN</th>\n",
              "      <th>RT_UEBERGROESSE</th>\n",
              "      <th>SEMIO_DOM</th>\n",
              "      <th>SEMIO_ERL</th>\n",
              "      <th>SEMIO_FAM</th>\n",
              "      <th>SEMIO_KAEM</th>\n",
              "      <th>SEMIO_KRIT</th>\n",
              "      <th>SEMIO_KULT</th>\n",
              "      <th>SEMIO_LUST</th>\n",
              "      <th>SEMIO_MAT</th>\n",
              "      <th>SEMIO_PFLICHT</th>\n",
              "      <th>SEMIO_RAT</th>\n",
              "      <th>SEMIO_REL</th>\n",
              "      <th>SEMIO_SOZ</th>\n",
              "      <th>SEMIO_TRADV</th>\n",
              "      <th>SEMIO_VERT</th>\n",
              "      <th>SHOPPER_TYP</th>\n",
              "      <th>SOHO_KZ</th>\n",
              "      <th>STRUKTURTYP</th>\n",
              "      <th>TITEL_KZ</th>\n",
              "      <th>UMFELD_ALT</th>\n",
              "      <th>UMFELD_JUNG</th>\n",
              "      <th>UNGLEICHENN_FLAG</th>\n",
              "      <th>VERDICHTUNGSRAUM</th>\n",
              "      <th>VERS_TYP</th>\n",
              "      <th>VHA</th>\n",
              "      <th>VHN</th>\n",
              "      <th>VK_DHT4A</th>\n",
              "      <th>VK_DISTANZ</th>\n",
              "      <th>VK_ZG11</th>\n",
              "      <th>W_KEIT_KIND_HH</th>\n",
              "      <th>WOHNDAUER_2008</th>\n",
              "      <th>WOHNLAGE</th>\n",
              "      <th>ZABEOTYP</th>\n",
              "      <th>PRODUCT_GROUP</th>\n",
              "      <th>CUSTOMER_GROUP</th>\n",
              "      <th>ONLINE_PURCHASE</th>\n",
              "      <th>ANREDE_KZ</th>\n",
              "      <th>ALTERSKATEGORIE_GROB</th>\n",
              "    </tr>\n",
              "  </thead>\n",
              "  <tbody>\n",
              "    <tr>\n",
              "      <th>21314</th>\n",
              "      <td>183678</td>\n",
              "      <td>NaN</td>\n",
              "      <td>1.0</td>\n",
              "      <td>21.0</td>\n",
              "      <td>16.0</td>\n",
              "      <td>NaN</td>\n",
              "      <td>NaN</td>\n",
              "      <td>NaN</td>\n",
              "      <td>15.0</td>\n",
              "      <td>1.0</td>\n",
              "      <td>NaN</td>\n",
              "      <td>1.0</td>\n",
              "      <td>3.0</td>\n",
              "      <td>1.0</td>\n",
              "      <td>NaN</td>\n",
              "      <td>2.0</td>\n",
              "      <td>7.0</td>\n",
              "      <td>3B</td>\n",
              "      <td>3.0</td>\n",
              "      <td>23.0</td>\n",
              "      <td>3.0</td>\n",
              "      <td>1.0</td>\n",
              "      <td>2.0</td>\n",
              "      <td>2.0</td>\n",
              "      <td>5.0</td>\n",
              "      <td>4.0</td>\n",
              "      <td>4.0</td>\n",
              "      <td>5.0</td>\n",
              "      <td>NaN</td>\n",
              "      <td>NaN</td>\n",
              "      <td>9</td>\n",
              "      <td>NaN</td>\n",
              "      <td>NaN</td>\n",
              "      <td>NaN</td>\n",
              "      <td>10</td>\n",
              "      <td>9</td>\n",
              "      <td>NaN</td>\n",
              "      <td>6.0</td>\n",
              "      <td>1.0</td>\n",
              "      <td>6.0</td>\n",
              "      <td>...</td>\n",
              "      <td>4.0</td>\n",
              "      <td>4.0</td>\n",
              "      <td>5.0</td>\n",
              "      <td>2</td>\n",
              "      <td>4</td>\n",
              "      <td>6</td>\n",
              "      <td>3</td>\n",
              "      <td>3</td>\n",
              "      <td>5</td>\n",
              "      <td>4</td>\n",
              "      <td>6</td>\n",
              "      <td>4</td>\n",
              "      <td>5</td>\n",
              "      <td>4</td>\n",
              "      <td>6</td>\n",
              "      <td>4</td>\n",
              "      <td>5</td>\n",
              "      <td>1.0</td>\n",
              "      <td>NaN</td>\n",
              "      <td>1.0</td>\n",
              "      <td>NaN</td>\n",
              "      <td>5.0</td>\n",
              "      <td>5.0</td>\n",
              "      <td>NaN</td>\n",
              "      <td>NaN</td>\n",
              "      <td>1.0</td>\n",
              "      <td>NaN</td>\n",
              "      <td>NaN</td>\n",
              "      <td>3.0</td>\n",
              "      <td>5.0</td>\n",
              "      <td>4.0</td>\n",
              "      <td>1.0</td>\n",
              "      <td>9.0</td>\n",
              "      <td>8.0</td>\n",
              "      <td>2</td>\n",
              "      <td>FOOD</td>\n",
              "      <td>SINGLE_BUYER</td>\n",
              "      <td>NaN</td>\n",
              "      <td>1</td>\n",
              "      <td>3</td>\n",
              "    </tr>\n",
              "    <tr>\n",
              "      <th>144168</th>\n",
              "      <td>179789</td>\n",
              "      <td>2.0</td>\n",
              "      <td>1.0</td>\n",
              "      <td>7.0</td>\n",
              "      <td>NaN</td>\n",
              "      <td>NaN</td>\n",
              "      <td>NaN</td>\n",
              "      <td>NaN</td>\n",
              "      <td>7.0</td>\n",
              "      <td>8.0</td>\n",
              "      <td>NaN</td>\n",
              "      <td>NaN</td>\n",
              "      <td>1.0</td>\n",
              "      <td>9.0</td>\n",
              "      <td>NaN</td>\n",
              "      <td>2.0</td>\n",
              "      <td>6.0</td>\n",
              "      <td>6E</td>\n",
              "      <td>6.0</td>\n",
              "      <td>45.0</td>\n",
              "      <td>2.0</td>\n",
              "      <td>5.0</td>\n",
              "      <td>2.0</td>\n",
              "      <td>1.0</td>\n",
              "      <td>5.0</td>\n",
              "      <td>5.0</td>\n",
              "      <td>5.0</td>\n",
              "      <td>5.0</td>\n",
              "      <td>NaN</td>\n",
              "      <td>NaN</td>\n",
              "      <td>10</td>\n",
              "      <td>NaN</td>\n",
              "      <td>NaN</td>\n",
              "      <td>NaN</td>\n",
              "      <td>10</td>\n",
              "      <td>10</td>\n",
              "      <td>NaN</td>\n",
              "      <td>NaN</td>\n",
              "      <td>NaN</td>\n",
              "      <td>6.0</td>\n",
              "      <td>...</td>\n",
              "      <td>2.0</td>\n",
              "      <td>5.0</td>\n",
              "      <td>2.0</td>\n",
              "      <td>5</td>\n",
              "      <td>7</td>\n",
              "      <td>1</td>\n",
              "      <td>5</td>\n",
              "      <td>6</td>\n",
              "      <td>1</td>\n",
              "      <td>5</td>\n",
              "      <td>1</td>\n",
              "      <td>1</td>\n",
              "      <td>2</td>\n",
              "      <td>1</td>\n",
              "      <td>2</td>\n",
              "      <td>1</td>\n",
              "      <td>2</td>\n",
              "      <td>1.0</td>\n",
              "      <td>NaN</td>\n",
              "      <td>2.0</td>\n",
              "      <td>NaN</td>\n",
              "      <td>1.0</td>\n",
              "      <td>5.0</td>\n",
              "      <td>NaN</td>\n",
              "      <td>NaN</td>\n",
              "      <td>1.0</td>\n",
              "      <td>1.0</td>\n",
              "      <td>3.0</td>\n",
              "      <td>4.0</td>\n",
              "      <td>2.0</td>\n",
              "      <td>1.0</td>\n",
              "      <td>6.0</td>\n",
              "      <td>9.0</td>\n",
              "      <td>2.0</td>\n",
              "      <td>3</td>\n",
              "      <td>COSMETIC_AND_FOOD</td>\n",
              "      <td>MULTI_BUYER</td>\n",
              "      <td>NaN</td>\n",
              "      <td>2</td>\n",
              "      <td>4</td>\n",
              "    </tr>\n",
              "    <tr>\n",
              "      <th>89544</th>\n",
              "      <td>55552</td>\n",
              "      <td>1.0</td>\n",
              "      <td>1.0</td>\n",
              "      <td>18.0</td>\n",
              "      <td>NaN</td>\n",
              "      <td>NaN</td>\n",
              "      <td>NaN</td>\n",
              "      <td>NaN</td>\n",
              "      <td>12.0</td>\n",
              "      <td>1.0</td>\n",
              "      <td>NaN</td>\n",
              "      <td>NaN</td>\n",
              "      <td>4.0</td>\n",
              "      <td>1.0</td>\n",
              "      <td>NaN</td>\n",
              "      <td>3.0</td>\n",
              "      <td>4.0</td>\n",
              "      <td>7A</td>\n",
              "      <td>7.0</td>\n",
              "      <td>41.0</td>\n",
              "      <td>4.0</td>\n",
              "      <td>4.0</td>\n",
              "      <td>3.0</td>\n",
              "      <td>2.0</td>\n",
              "      <td>3.0</td>\n",
              "      <td>2.0</td>\n",
              "      <td>4.0</td>\n",
              "      <td>4.0</td>\n",
              "      <td>NaN</td>\n",
              "      <td>NaN</td>\n",
              "      <td>10</td>\n",
              "      <td>NaN</td>\n",
              "      <td>NaN</td>\n",
              "      <td>NaN</td>\n",
              "      <td>10</td>\n",
              "      <td>10</td>\n",
              "      <td>NaN</td>\n",
              "      <td>NaN</td>\n",
              "      <td>NaN</td>\n",
              "      <td>6.0</td>\n",
              "      <td>...</td>\n",
              "      <td>1.0</td>\n",
              "      <td>5.0</td>\n",
              "      <td>1.0</td>\n",
              "      <td>7</td>\n",
              "      <td>6</td>\n",
              "      <td>1</td>\n",
              "      <td>7</td>\n",
              "      <td>4</td>\n",
              "      <td>3</td>\n",
              "      <td>4</td>\n",
              "      <td>2</td>\n",
              "      <td>3</td>\n",
              "      <td>4</td>\n",
              "      <td>1</td>\n",
              "      <td>1</td>\n",
              "      <td>3</td>\n",
              "      <td>4</td>\n",
              "      <td>3.0</td>\n",
              "      <td>NaN</td>\n",
              "      <td>3.0</td>\n",
              "      <td>NaN</td>\n",
              "      <td>2.0</td>\n",
              "      <td>5.0</td>\n",
              "      <td>NaN</td>\n",
              "      <td>3.0</td>\n",
              "      <td>1.0</td>\n",
              "      <td>NaN</td>\n",
              "      <td>2.0</td>\n",
              "      <td>3.0</td>\n",
              "      <td>6.0</td>\n",
              "      <td>5.0</td>\n",
              "      <td>2.0</td>\n",
              "      <td>9.0</td>\n",
              "      <td>2.0</td>\n",
              "      <td>1</td>\n",
              "      <td>FOOD</td>\n",
              "      <td>SINGLE_BUYER</td>\n",
              "      <td>NaN</td>\n",
              "      <td>2</td>\n",
              "      <td>3</td>\n",
              "    </tr>\n",
              "    <tr>\n",
              "      <th>34556</th>\n",
              "      <td>59891</td>\n",
              "      <td>NaN</td>\n",
              "      <td>1.0</td>\n",
              "      <td>NaN</td>\n",
              "      <td>NaN</td>\n",
              "      <td>NaN</td>\n",
              "      <td>NaN</td>\n",
              "      <td>NaN</td>\n",
              "      <td>15.0</td>\n",
              "      <td>2.0</td>\n",
              "      <td>NaN</td>\n",
              "      <td>NaN</td>\n",
              "      <td>2.0</td>\n",
              "      <td>2.0</td>\n",
              "      <td>NaN</td>\n",
              "      <td>3.0</td>\n",
              "      <td>3.0</td>\n",
              "      <td>2D</td>\n",
              "      <td>2.0</td>\n",
              "      <td>14.0</td>\n",
              "      <td>6.0</td>\n",
              "      <td>1.0</td>\n",
              "      <td>3.0</td>\n",
              "      <td>3.0</td>\n",
              "      <td>3.0</td>\n",
              "      <td>4.0</td>\n",
              "      <td>3.0</td>\n",
              "      <td>3.0</td>\n",
              "      <td>NaN</td>\n",
              "      <td>NaN</td>\n",
              "      <td>10</td>\n",
              "      <td>NaN</td>\n",
              "      <td>NaN</td>\n",
              "      <td>NaN</td>\n",
              "      <td>10</td>\n",
              "      <td>10</td>\n",
              "      <td>NaN</td>\n",
              "      <td>NaN</td>\n",
              "      <td>7.0</td>\n",
              "      <td>6.0</td>\n",
              "      <td>...</td>\n",
              "      <td>2.0</td>\n",
              "      <td>5.0</td>\n",
              "      <td>4.0</td>\n",
              "      <td>7</td>\n",
              "      <td>6</td>\n",
              "      <td>3</td>\n",
              "      <td>7</td>\n",
              "      <td>6</td>\n",
              "      <td>3</td>\n",
              "      <td>6</td>\n",
              "      <td>3</td>\n",
              "      <td>3</td>\n",
              "      <td>4</td>\n",
              "      <td>3</td>\n",
              "      <td>4</td>\n",
              "      <td>3</td>\n",
              "      <td>4</td>\n",
              "      <td>2.0</td>\n",
              "      <td>1.0</td>\n",
              "      <td>3.0</td>\n",
              "      <td>NaN</td>\n",
              "      <td>5.0</td>\n",
              "      <td>5.0</td>\n",
              "      <td>NaN</td>\n",
              "      <td>3.0</td>\n",
              "      <td>2.0</td>\n",
              "      <td>1.0</td>\n",
              "      <td>3.0</td>\n",
              "      <td>4.0</td>\n",
              "      <td>5.0</td>\n",
              "      <td>4.0</td>\n",
              "      <td>4.0</td>\n",
              "      <td>9.0</td>\n",
              "      <td>4.0</td>\n",
              "      <td>2</td>\n",
              "      <td>COSMETIC</td>\n",
              "      <td>SINGLE_BUYER</td>\n",
              "      <td>NaN</td>\n",
              "      <td>2</td>\n",
              "      <td>3</td>\n",
              "    </tr>\n",
              "    <tr>\n",
              "      <th>23152</th>\n",
              "      <td>34696</td>\n",
              "      <td>NaN</td>\n",
              "      <td>1.0</td>\n",
              "      <td>17.0</td>\n",
              "      <td>6.0</td>\n",
              "      <td>NaN</td>\n",
              "      <td>NaN</td>\n",
              "      <td>NaN</td>\n",
              "      <td>17.0</td>\n",
              "      <td>1.0</td>\n",
              "      <td>NaN</td>\n",
              "      <td>1.0</td>\n",
              "      <td>3.0</td>\n",
              "      <td>1.0</td>\n",
              "      <td>NaN</td>\n",
              "      <td>3.0</td>\n",
              "      <td>6.0</td>\n",
              "      <td>1D</td>\n",
              "      <td>1.0</td>\n",
              "      <td>15.0</td>\n",
              "      <td>3.0</td>\n",
              "      <td>1.0</td>\n",
              "      <td>5.0</td>\n",
              "      <td>4.0</td>\n",
              "      <td>2.0</td>\n",
              "      <td>2.0</td>\n",
              "      <td>4.0</td>\n",
              "      <td>5.0</td>\n",
              "      <td>NaN</td>\n",
              "      <td>NaN</td>\n",
              "      <td>10</td>\n",
              "      <td>NaN</td>\n",
              "      <td>NaN</td>\n",
              "      <td>NaN</td>\n",
              "      <td>10</td>\n",
              "      <td>10</td>\n",
              "      <td>NaN</td>\n",
              "      <td>NaN</td>\n",
              "      <td>NaN</td>\n",
              "      <td>3.0</td>\n",
              "      <td>...</td>\n",
              "      <td>3.0</td>\n",
              "      <td>4.0</td>\n",
              "      <td>4.0</td>\n",
              "      <td>4</td>\n",
              "      <td>7</td>\n",
              "      <td>3</td>\n",
              "      <td>6</td>\n",
              "      <td>4</td>\n",
              "      <td>1</td>\n",
              "      <td>5</td>\n",
              "      <td>1</td>\n",
              "      <td>2</td>\n",
              "      <td>2</td>\n",
              "      <td>2</td>\n",
              "      <td>2</td>\n",
              "      <td>1</td>\n",
              "      <td>2</td>\n",
              "      <td>1.0</td>\n",
              "      <td>NaN</td>\n",
              "      <td>3.0</td>\n",
              "      <td>NaN</td>\n",
              "      <td>2.0</td>\n",
              "      <td>5.0</td>\n",
              "      <td>1.0</td>\n",
              "      <td>23.0</td>\n",
              "      <td>2.0</td>\n",
              "      <td>NaN</td>\n",
              "      <td>3.0</td>\n",
              "      <td>1.0</td>\n",
              "      <td>2.0</td>\n",
              "      <td>1.0</td>\n",
              "      <td>1.0</td>\n",
              "      <td>9.0</td>\n",
              "      <td>7.0</td>\n",
              "      <td>4</td>\n",
              "      <td>COSMETIC</td>\n",
              "      <td>SINGLE_BUYER</td>\n",
              "      <td>NaN</td>\n",
              "      <td>2</td>\n",
              "      <td>4</td>\n",
              "    </tr>\n",
              "    <tr>\n",
              "      <th>19163</th>\n",
              "      <td>71819</td>\n",
              "      <td>NaN</td>\n",
              "      <td>NaN</td>\n",
              "      <td>NaN</td>\n",
              "      <td>NaN</td>\n",
              "      <td>NaN</td>\n",
              "      <td>NaN</td>\n",
              "      <td>NaN</td>\n",
              "      <td>NaN</td>\n",
              "      <td>NaN</td>\n",
              "      <td>NaN</td>\n",
              "      <td>NaN</td>\n",
              "      <td>NaN</td>\n",
              "      <td>NaN</td>\n",
              "      <td>NaN</td>\n",
              "      <td>NaN</td>\n",
              "      <td>NaN</td>\n",
              "      <td>NaN</td>\n",
              "      <td>NaN</td>\n",
              "      <td>NaN</td>\n",
              "      <td>6.0</td>\n",
              "      <td>5.0</td>\n",
              "      <td>5.0</td>\n",
              "      <td>5.0</td>\n",
              "      <td>5.0</td>\n",
              "      <td>5.0</td>\n",
              "      <td>5.0</td>\n",
              "      <td>5.0</td>\n",
              "      <td>NaN</td>\n",
              "      <td>NaN</td>\n",
              "      <td>10</td>\n",
              "      <td>NaN</td>\n",
              "      <td>NaN</td>\n",
              "      <td>NaN</td>\n",
              "      <td>10</td>\n",
              "      <td>10</td>\n",
              "      <td>NaN</td>\n",
              "      <td>NaN</td>\n",
              "      <td>NaN</td>\n",
              "      <td>NaN</td>\n",
              "      <td>...</td>\n",
              "      <td>4.0</td>\n",
              "      <td>5.0</td>\n",
              "      <td>NaN</td>\n",
              "      <td>6</td>\n",
              "      <td>3</td>\n",
              "      <td>6</td>\n",
              "      <td>6</td>\n",
              "      <td>7</td>\n",
              "      <td>3</td>\n",
              "      <td>5</td>\n",
              "      <td>5</td>\n",
              "      <td>5</td>\n",
              "      <td>4</td>\n",
              "      <td>7</td>\n",
              "      <td>2</td>\n",
              "      <td>3</td>\n",
              "      <td>1</td>\n",
              "      <td>NaN</td>\n",
              "      <td>NaN</td>\n",
              "      <td>NaN</td>\n",
              "      <td>NaN</td>\n",
              "      <td>NaN</td>\n",
              "      <td>NaN</td>\n",
              "      <td>NaN</td>\n",
              "      <td>NaN</td>\n",
              "      <td>NaN</td>\n",
              "      <td>NaN</td>\n",
              "      <td>NaN</td>\n",
              "      <td>NaN</td>\n",
              "      <td>NaN</td>\n",
              "      <td>NaN</td>\n",
              "      <td>NaN</td>\n",
              "      <td>NaN</td>\n",
              "      <td>NaN</td>\n",
              "      <td>3</td>\n",
              "      <td>FOOD</td>\n",
              "      <td>SINGLE_BUYER</td>\n",
              "      <td>NaN</td>\n",
              "      <td>2</td>\n",
              "      <td>1</td>\n",
              "    </tr>\n",
              "    <tr>\n",
              "      <th>14491</th>\n",
              "      <td>13495</td>\n",
              "      <td>NaN</td>\n",
              "      <td>NaN</td>\n",
              "      <td>NaN</td>\n",
              "      <td>NaN</td>\n",
              "      <td>NaN</td>\n",
              "      <td>NaN</td>\n",
              "      <td>NaN</td>\n",
              "      <td>NaN</td>\n",
              "      <td>NaN</td>\n",
              "      <td>NaN</td>\n",
              "      <td>NaN</td>\n",
              "      <td>NaN</td>\n",
              "      <td>NaN</td>\n",
              "      <td>NaN</td>\n",
              "      <td>NaN</td>\n",
              "      <td>NaN</td>\n",
              "      <td>NaN</td>\n",
              "      <td>NaN</td>\n",
              "      <td>NaN</td>\n",
              "      <td>6.0</td>\n",
              "      <td>5.0</td>\n",
              "      <td>5.0</td>\n",
              "      <td>5.0</td>\n",
              "      <td>5.0</td>\n",
              "      <td>5.0</td>\n",
              "      <td>5.0</td>\n",
              "      <td>5.0</td>\n",
              "      <td>NaN</td>\n",
              "      <td>NaN</td>\n",
              "      <td>10</td>\n",
              "      <td>NaN</td>\n",
              "      <td>NaN</td>\n",
              "      <td>NaN</td>\n",
              "      <td>10</td>\n",
              "      <td>10</td>\n",
              "      <td>NaN</td>\n",
              "      <td>NaN</td>\n",
              "      <td>NaN</td>\n",
              "      <td>NaN</td>\n",
              "      <td>...</td>\n",
              "      <td>4.0</td>\n",
              "      <td>5.0</td>\n",
              "      <td>NaN</td>\n",
              "      <td>6</td>\n",
              "      <td>3</td>\n",
              "      <td>6</td>\n",
              "      <td>6</td>\n",
              "      <td>7</td>\n",
              "      <td>3</td>\n",
              "      <td>5</td>\n",
              "      <td>5</td>\n",
              "      <td>5</td>\n",
              "      <td>4</td>\n",
              "      <td>7</td>\n",
              "      <td>2</td>\n",
              "      <td>3</td>\n",
              "      <td>1</td>\n",
              "      <td>NaN</td>\n",
              "      <td>NaN</td>\n",
              "      <td>NaN</td>\n",
              "      <td>NaN</td>\n",
              "      <td>NaN</td>\n",
              "      <td>NaN</td>\n",
              "      <td>NaN</td>\n",
              "      <td>NaN</td>\n",
              "      <td>NaN</td>\n",
              "      <td>NaN</td>\n",
              "      <td>NaN</td>\n",
              "      <td>NaN</td>\n",
              "      <td>NaN</td>\n",
              "      <td>NaN</td>\n",
              "      <td>NaN</td>\n",
              "      <td>NaN</td>\n",
              "      <td>NaN</td>\n",
              "      <td>3</td>\n",
              "      <td>COSMETIC_AND_FOOD</td>\n",
              "      <td>MULTI_BUYER</td>\n",
              "      <td>NaN</td>\n",
              "      <td>2</td>\n",
              "      <td>2</td>\n",
              "    </tr>\n",
              "  </tbody>\n",
              "</table>\n",
              "<p>7 rows × 369 columns</p>\n",
              "</div>"
            ],
            "text/plain": [
              "           LNR  AGER_TYP  ...  ANREDE_KZ  ALTERSKATEGORIE_GROB\n",
              "21314   183678       NaN  ...          1                     3\n",
              "144168  179789       2.0  ...          2                     4\n",
              "89544    55552       1.0  ...          2                     3\n",
              "34556    59891       NaN  ...          2                     3\n",
              "23152    34696       NaN  ...          2                     4\n",
              "19163    71819       NaN  ...          2                     1\n",
              "14491    13495       NaN  ...          2                     2\n",
              "\n",
              "[7 rows x 369 columns]"
            ]
          },
          "execution_count": 18,
          "metadata": {},
          "output_type": "execute_result"
        }
      ],
      "source": [
        "custrs.sample(7)"
      ]
    },
    {
      "cell_type": "code",
      "execution_count": 19,
      "metadata": {
        "colab": {
          "base_uri": "https://localhost:8080/"
        },
        "id": "dKI90x7crBOI",
        "outputId": "9a6ce5d3-26ed-4fa7-8189-e92a585f2bb2"
      },
      "outputs": [
        {
          "name": "stdout",
          "output_type": "stream",
          "text": [
            "<class 'pandas.core.frame.DataFrame'>\n",
            "RangeIndex: 150000 entries, 0 to 149999\n",
            "Columns: 369 entries, LNR to ALTERSKATEGORIE_GROB\n",
            "dtypes: datetime64[ns](1), float64(321), int64(42), object(5)\n",
            "memory usage: 422.3+ MB\n"
          ]
        }
      ],
      "source": [
        "custrs.info()"
      ]
    },
    {
      "cell_type": "markdown",
      "metadata": {
        "id": "bD8MlEsyPuEh"
      },
      "source": [
        "So, in `custrs` dataset the three extra columns (`'CUSTOMER_GROUP', 'ONLINE_PURCHASE', and 'PRODUCT_GROUP'`) are imported as one `float64` and two `object` dtypes, comparing to `azdias` columns."
      ]
    },
    {
      "cell_type": "code",
      "execution_count": 20,
      "metadata": {
        "colab": {
          "base_uri": "https://localhost:8080/",
          "height": 204
        },
        "id": "CwoMvCuVVIIA",
        "outputId": "1c00aaf9-1448-43bc-aa26-41afa3a08254"
      },
      "outputs": [
        {
          "data": {
            "text/html": [
              "<div>\n",
              "<style scoped>\n",
              "    .dataframe tbody tr th:only-of-type {\n",
              "        vertical-align: middle;\n",
              "    }\n",
              "\n",
              "    .dataframe tbody tr th {\n",
              "        vertical-align: top;\n",
              "    }\n",
              "\n",
              "    .dataframe thead th {\n",
              "        text-align: right;\n",
              "    }\n",
              "</style>\n",
              "<table border=\"1\" class=\"dataframe\">\n",
              "  <thead>\n",
              "    <tr style=\"text-align: right;\">\n",
              "      <th></th>\n",
              "      <th>CAMEO_DEU_2015</th>\n",
              "      <th>D19_LETZTER_KAUF_BRANCHE</th>\n",
              "      <th>OST_WEST_KZ</th>\n",
              "    </tr>\n",
              "  </thead>\n",
              "  <tbody>\n",
              "    <tr>\n",
              "      <th>0</th>\n",
              "      <td>5B</td>\n",
              "      <td>D19_SONSTIGE</td>\n",
              "      <td>W</td>\n",
              "    </tr>\n",
              "    <tr>\n",
              "      <th>1</th>\n",
              "      <td>8A</td>\n",
              "      <td>D19_UNBEKANNT</td>\n",
              "      <td>W</td>\n",
              "    </tr>\n",
              "    <tr>\n",
              "      <th>2</th>\n",
              "      <td>5B</td>\n",
              "      <td>NaN</td>\n",
              "      <td>W</td>\n",
              "    </tr>\n",
              "    <tr>\n",
              "      <th>3</th>\n",
              "      <td>7B</td>\n",
              "      <td>D19_UNBEKANNT</td>\n",
              "      <td>W</td>\n",
              "    </tr>\n",
              "    <tr>\n",
              "      <th>4</th>\n",
              "      <td>8B</td>\n",
              "      <td>D19_UNBEKANNT</td>\n",
              "      <td>W</td>\n",
              "    </tr>\n",
              "  </tbody>\n",
              "</table>\n",
              "</div>"
            ],
            "text/plain": [
              "  CAMEO_DEU_2015 D19_LETZTER_KAUF_BRANCHE OST_WEST_KZ\n",
              "0             5B             D19_SONSTIGE           W\n",
              "1             8A            D19_UNBEKANNT           W\n",
              "2             5B                      NaN           W\n",
              "3             7B            D19_UNBEKANNT           W\n",
              "4             8B            D19_UNBEKANNT           W"
            ]
          },
          "execution_count": 20,
          "metadata": {},
          "output_type": "execute_result"
        }
      ],
      "source": [
        "azd_obj_cols = azdias.select_dtypes(include=object)\n",
        "\n",
        "azd_obj_cols.head()"
      ]
    },
    {
      "cell_type": "code",
      "execution_count": 21,
      "metadata": {
        "colab": {
          "base_uri": "https://localhost:8080/",
          "height": 204
        },
        "id": "DwscKVZiQTDV",
        "outputId": "e311a7e9-661b-4fc5-cc52-63430cb3e279"
      },
      "outputs": [
        {
          "data": {
            "text/html": [
              "<div>\n",
              "<style scoped>\n",
              "    .dataframe tbody tr th:only-of-type {\n",
              "        vertical-align: middle;\n",
              "    }\n",
              "\n",
              "    .dataframe tbody tr th {\n",
              "        vertical-align: top;\n",
              "    }\n",
              "\n",
              "    .dataframe thead th {\n",
              "        text-align: right;\n",
              "    }\n",
              "</style>\n",
              "<table border=\"1\" class=\"dataframe\">\n",
              "  <thead>\n",
              "    <tr style=\"text-align: right;\">\n",
              "      <th></th>\n",
              "      <th>CAMEO_DEU_2015</th>\n",
              "      <th>D19_LETZTER_KAUF_BRANCHE</th>\n",
              "      <th>OST_WEST_KZ</th>\n",
              "      <th>PRODUCT_GROUP</th>\n",
              "      <th>CUSTOMER_GROUP</th>\n",
              "    </tr>\n",
              "  </thead>\n",
              "  <tbody>\n",
              "    <tr>\n",
              "      <th>0</th>\n",
              "      <td>NaN</td>\n",
              "      <td>NaN</td>\n",
              "      <td>NaN</td>\n",
              "      <td>FOOD</td>\n",
              "      <td>SINGLE_BUYER</td>\n",
              "    </tr>\n",
              "    <tr>\n",
              "      <th>1</th>\n",
              "      <td>7A</td>\n",
              "      <td>D19_SONSTIGE</td>\n",
              "      <td>W</td>\n",
              "      <td>FOOD</td>\n",
              "      <td>SINGLE_BUYER</td>\n",
              "    </tr>\n",
              "    <tr>\n",
              "      <th>2</th>\n",
              "      <td>NaN</td>\n",
              "      <td>NaN</td>\n",
              "      <td>NaN</td>\n",
              "      <td>FOOD</td>\n",
              "      <td>SINGLE_BUYER</td>\n",
              "    </tr>\n",
              "    <tr>\n",
              "      <th>3</th>\n",
              "      <td>4C</td>\n",
              "      <td>D19_NAHRUNGSERGAENZUNG</td>\n",
              "      <td>W</td>\n",
              "      <td>COSMETIC</td>\n",
              "      <td>MULTI_BUYER</td>\n",
              "    </tr>\n",
              "    <tr>\n",
              "      <th>4</th>\n",
              "      <td>7B</td>\n",
              "      <td>D19_SCHUHE</td>\n",
              "      <td>W</td>\n",
              "      <td>FOOD</td>\n",
              "      <td>MULTI_BUYER</td>\n",
              "    </tr>\n",
              "  </tbody>\n",
              "</table>\n",
              "</div>"
            ],
            "text/plain": [
              "  CAMEO_DEU_2015 D19_LETZTER_KAUF_BRANCHE  ... PRODUCT_GROUP CUSTOMER_GROUP\n",
              "0            NaN                      NaN  ...          FOOD   SINGLE_BUYER\n",
              "1             7A             D19_SONSTIGE  ...          FOOD   SINGLE_BUYER\n",
              "2            NaN                      NaN  ...          FOOD   SINGLE_BUYER\n",
              "3             4C   D19_NAHRUNGSERGAENZUNG  ...      COSMETIC    MULTI_BUYER\n",
              "4             7B               D19_SCHUHE  ...          FOOD    MULTI_BUYER\n",
              "\n",
              "[5 rows x 5 columns]"
            ]
          },
          "execution_count": 21,
          "metadata": {},
          "output_type": "execute_result"
        }
      ],
      "source": [
        "cus_obj_cols = custrs.select_dtypes(include=object)\n",
        "\n",
        "cus_obj_cols.head()"
      ]
    },
    {
      "cell_type": "markdown",
      "metadata": {
        "id": "Amx6vfU944fa"
      },
      "source": [
        "Convert the remaining **object** columns (`'CAMEO_DEU_2015', 'D19_LETZTER_KAUF_BRANCHE', 'OST_WEST_KZ', etc.`) to **categorical**:"
      ]
    },
    {
      "cell_type": "code",
      "execution_count": 22,
      "metadata": {
        "colab": {
          "base_uri": "https://localhost:8080/"
        },
        "id": "42h5zoCi44fa",
        "outputId": "dad7792e-5e69-4f3f-d557-7cf2d263b84e"
      },
      "outputs": [
        {
          "data": {
            "text/plain": [
              "CAMEO_DEU_2015              category\n",
              "D19_LETZTER_KAUF_BRANCHE    category\n",
              "OST_WEST_KZ                 category\n",
              "dtype: object"
            ]
          },
          "execution_count": 22,
          "metadata": {},
          "output_type": "execute_result"
        }
      ],
      "source": [
        "# Get the names of the columns to convert\n",
        "azd_cat_cols = azd_obj_cols.columns.tolist()\n",
        "cus_cat_cols = cus_obj_cols.columns.tolist()\n",
        "# Convert all three columns using astype method\n",
        "azdias[azd_cat_cols] = azdias[azd_cat_cols].astype('category')\n",
        "custrs[cus_cat_cols] = custrs[cus_cat_cols].astype('category')\n",
        "\n",
        "azdias[azd_cat_cols].dtypes"
      ]
    },
    {
      "cell_type": "markdown",
      "metadata": {
        "id": "dAlDDT59WC37"
      },
      "source": [
        "## Explore attributes in the dataset(s) and excel files\n",
        "\n",
        "### 1. Compare atributes between the two excel files\n",
        "\n",
        "Read in the excel files with attributes related information"
      ]
    },
    {
      "cell_type": "code",
      "execution_count": 23,
      "metadata": {
        "colab": {
          "base_uri": "https://localhost:8080/",
          "height": 266
        },
        "id": "hzcj2Z9U4qQl",
        "outputId": "324109b4-aebe-43ff-d4b6-e9a00bd71a5f"
      },
      "outputs": [
        {
          "data": {
            "text/html": [
              "<div>\n",
              "<style scoped>\n",
              "    .dataframe tbody tr th:only-of-type {\n",
              "        vertical-align: middle;\n",
              "    }\n",
              "\n",
              "    .dataframe tbody tr th {\n",
              "        vertical-align: top;\n",
              "    }\n",
              "\n",
              "    .dataframe thead th {\n",
              "        text-align: right;\n",
              "    }\n",
              "</style>\n",
              "<table border=\"1\" class=\"dataframe\">\n",
              "  <thead>\n",
              "    <tr style=\"text-align: right;\">\n",
              "      <th></th>\n",
              "      <th>Attribute</th>\n",
              "      <th>Description</th>\n",
              "      <th>Value</th>\n",
              "      <th>Meaning</th>\n",
              "    </tr>\n",
              "  </thead>\n",
              "  <tbody>\n",
              "    <tr>\n",
              "      <th>0</th>\n",
              "      <td>AGER_TYP</td>\n",
              "      <td>best-ager typology</td>\n",
              "      <td>-1</td>\n",
              "      <td>unknown</td>\n",
              "    </tr>\n",
              "    <tr>\n",
              "      <th>1</th>\n",
              "      <td>NaN</td>\n",
              "      <td>NaN</td>\n",
              "      <td>0</td>\n",
              "      <td>no classification possible</td>\n",
              "    </tr>\n",
              "    <tr>\n",
              "      <th>2</th>\n",
              "      <td>NaN</td>\n",
              "      <td>NaN</td>\n",
              "      <td>1</td>\n",
              "      <td>passive elderly</td>\n",
              "    </tr>\n",
              "    <tr>\n",
              "      <th>3</th>\n",
              "      <td>NaN</td>\n",
              "      <td>NaN</td>\n",
              "      <td>2</td>\n",
              "      <td>cultural elderly</td>\n",
              "    </tr>\n",
              "    <tr>\n",
              "      <th>4</th>\n",
              "      <td>NaN</td>\n",
              "      <td>NaN</td>\n",
              "      <td>3</td>\n",
              "      <td>experience-driven elderly</td>\n",
              "    </tr>\n",
              "    <tr>\n",
              "      <th>5</th>\n",
              "      <td>ALTERSKATEGORIE_GROB</td>\n",
              "      <td>age classification through prename analysis</td>\n",
              "      <td>-1, 0</td>\n",
              "      <td>unknown</td>\n",
              "    </tr>\n",
              "    <tr>\n",
              "      <th>6</th>\n",
              "      <td>NaN</td>\n",
              "      <td>NaN</td>\n",
              "      <td>1</td>\n",
              "      <td>&lt; 30 years</td>\n",
              "    </tr>\n",
              "  </tbody>\n",
              "</table>\n",
              "</div>"
            ],
            "text/plain": [
              "              Attribute  ...                     Meaning\n",
              "0              AGER_TYP  ...                     unknown\n",
              "1                   NaN  ...  no classification possible\n",
              "2                   NaN  ...             passive elderly\n",
              "3                   NaN  ...            cultural elderly\n",
              "4                   NaN  ...   experience-driven elderly\n",
              "5  ALTERSKATEGORIE_GROB  ...                     unknown\n",
              "6                   NaN  ...                  < 30 years\n",
              "\n",
              "[7 rows x 4 columns]"
            ]
          },
          "execution_count": 23,
          "metadata": {},
          "output_type": "execute_result"
        }
      ],
      "source": [
        "# Read in the mapping of data values for each feature in the DIAS dataset.\n",
        "attr_cols = range(1,5)  # skip the first column as it is empty\n",
        "dfdias_attrib = pd.read_excel(dias_attrib, header=1, usecols=attr_cols)\n",
        "dfdias_attrib.head(7)"
      ]
    },
    {
      "cell_type": "code",
      "execution_count": 24,
      "metadata": {
        "colab": {
          "base_uri": "https://localhost:8080/",
          "height": 266
        },
        "id": "Pu5PJGsSR3Qn",
        "outputId": "6bcb835e-a5d6-4c28-a366-7685b86aaf9b"
      },
      "outputs": [
        {
          "data": {
            "text/html": [
              "<div>\n",
              "<style scoped>\n",
              "    .dataframe tbody tr th:only-of-type {\n",
              "        vertical-align: middle;\n",
              "    }\n",
              "\n",
              "    .dataframe tbody tr th {\n",
              "        vertical-align: top;\n",
              "    }\n",
              "\n",
              "    .dataframe thead th {\n",
              "        text-align: right;\n",
              "    }\n",
              "</style>\n",
              "<table border=\"1\" class=\"dataframe\">\n",
              "  <thead>\n",
              "    <tr style=\"text-align: right;\">\n",
              "      <th></th>\n",
              "      <th>Information level</th>\n",
              "      <th>Attribute</th>\n",
              "      <th>Description</th>\n",
              "      <th>Additional notes</th>\n",
              "    </tr>\n",
              "  </thead>\n",
              "  <tbody>\n",
              "    <tr>\n",
              "      <th>0</th>\n",
              "      <td>NaN</td>\n",
              "      <td>AGER_TYP</td>\n",
              "      <td>best-ager typology</td>\n",
              "      <td>in cooperation with Kantar TNS; the informatio...</td>\n",
              "    </tr>\n",
              "    <tr>\n",
              "      <th>1</th>\n",
              "      <td>Person</td>\n",
              "      <td>ALTERSKATEGORIE_GROB</td>\n",
              "      <td>age through prename analysis</td>\n",
              "      <td>modelled on millions of first name-age-referen...</td>\n",
              "    </tr>\n",
              "    <tr>\n",
              "      <th>2</th>\n",
              "      <td>NaN</td>\n",
              "      <td>ANREDE_KZ</td>\n",
              "      <td>gender</td>\n",
              "      <td>NaN</td>\n",
              "    </tr>\n",
              "    <tr>\n",
              "      <th>3</th>\n",
              "      <td>NaN</td>\n",
              "      <td>CJT_GESAMTTYP</td>\n",
              "      <td>Customer-Journey-Typology relating to the pref...</td>\n",
              "      <td>relating to the preferred information, marketi...</td>\n",
              "    </tr>\n",
              "    <tr>\n",
              "      <th>4</th>\n",
              "      <td>NaN</td>\n",
              "      <td>FINANZ_MINIMALIST</td>\n",
              "      <td>financial typology: low financial interest</td>\n",
              "      <td>Gfk-Typology based on a representative househo...</td>\n",
              "    </tr>\n",
              "    <tr>\n",
              "      <th>5</th>\n",
              "      <td>NaN</td>\n",
              "      <td>FINANZ_SPARER</td>\n",
              "      <td>financial typology: money saver</td>\n",
              "      <td>NaN</td>\n",
              "    </tr>\n",
              "    <tr>\n",
              "      <th>6</th>\n",
              "      <td>NaN</td>\n",
              "      <td>FINANZ_VORSORGER</td>\n",
              "      <td>financial typology: be prepared</td>\n",
              "      <td>NaN</td>\n",
              "    </tr>\n",
              "  </tbody>\n",
              "</table>\n",
              "</div>"
            ],
            "text/plain": [
              "  Information level  ...                                   Additional notes\n",
              "0               NaN  ...  in cooperation with Kantar TNS; the informatio...\n",
              "1            Person  ...  modelled on millions of first name-age-referen...\n",
              "2               NaN  ...                                                NaN\n",
              "3               NaN  ...  relating to the preferred information, marketi...\n",
              "4               NaN  ...  Gfk-Typology based on a representative househo...\n",
              "5               NaN  ...                                                NaN\n",
              "6               NaN  ...                                                NaN\n",
              "\n",
              "[7 rows x 4 columns]"
            ]
          },
          "execution_count": 24,
          "metadata": {},
          "output_type": "execute_result"
        }
      ],
      "source": [
        "# DIAS Information Levels - Attributes 2017.xlsx\n",
        "dfdias_info = pd.read_excel(dias_info, header=1, usecols=attr_cols)\n",
        "dfdias_info.head(7)"
      ]
    },
    {
      "cell_type": "code",
      "execution_count": 25,
      "metadata": {
        "colab": {
          "base_uri": "https://localhost:8080/"
        },
        "id": "dl6bzueqWL3m",
        "outputId": "327d5c22-3cae-4b4d-efb6-56461ac22976"
      },
      "outputs": [
        {
          "data": {
            "text/plain": [
              "(313, 314, 366, 369)"
            ]
          },
          "execution_count": 25,
          "metadata": {},
          "output_type": "execute_result"
        }
      ],
      "source": [
        "# Get attributes' names from the Attribute column in the two excel files\n",
        "\n",
        "# `DIAS Information Levels - Attributes 2017.xlsx`\n",
        "dfdias_info_attrs = dfdias_info.Attribute.value_counts().index.values\n",
        "\n",
        "# `DIAS Attributes - Values 2017.xlsx`\n",
        "attrbf_names = dfdias_attrib.Attribute.value_counts().index.values\n",
        "\n",
        "# Get the attribute names from `azdias` df columns:\n",
        "azd_attr_names = azdias.columns.values\n",
        "\n",
        "# Get the attribute names from `custrs` df columns:\n",
        "cus_attr_names = custrs.columns.values\n",
        "\n",
        "dfdias_info_attrs.size, attrbf_names.size, azd_attr_names.size, cus_attr_names.size"
      ]
    },
    {
      "cell_type": "code",
      "execution_count": 26,
      "metadata": {
        "colab": {
          "base_uri": "https://localhost:8080/"
        },
        "id": "y4kljTWMESiB",
        "outputId": "bf447f38-326b-44c5-f5cb-967b411a0099"
      },
      "outputs": [
        {
          "data": {
            "text/plain": [
              "300"
            ]
          },
          "execution_count": 26,
          "metadata": {},
          "output_type": "execute_result"
        }
      ],
      "source": [
        "# Get the set intersetion of the two arrays:\n",
        "# We are comparing names as they were originaly written in the files.\n",
        "xcl_attr_intersc = np.intersect1d(attrbf_names, dfdias_info_attrs)\n",
        "\n",
        "xcl_attr_intersc.size"
      ]
    },
    {
      "cell_type": "code",
      "execution_count": 27,
      "metadata": {
        "colab": {
          "base_uri": "https://localhost:8080/"
        },
        "id": "SIEjV7gVGhoR",
        "outputId": "2ec22904-e40a-4b0e-bf3f-1d24f521efee"
      },
      "outputs": [
        {
          "data": {
            "text/plain": [
              "(array(['BIP_FLAG', 'D19_BANKEN_ANZ_12', 'D19_BANKEN_ANZ_24',\n",
              "        'D19_GESAMT_ANZ_12', 'D19_GESAMT_ANZ_24', 'D19_LOTTO_RZ',\n",
              "        'D19_TELKO_ANZ_12', 'D19_TELKO_ANZ_24', 'D19_VERSAND_ANZ_12',\n",
              "        'D19_VERSAND_ANZ_24', 'D19_VERSI_ANZ_12', 'D19_VERSI_ANZ_24',\n",
              "        'KBA13_CCM_3000', 'KBA13_CCM_3001'], dtype=object), 14)"
            ]
          },
          "execution_count": 27,
          "metadata": {},
          "output_type": "execute_result"
        }
      ],
      "source": [
        "# Attributes values excel file contains some different attributes compared to information excel file:\n",
        "xcl_attr_diff_vals_info = np.setdiff1d(attrbf_names, dfdias_info_attrs)\n",
        "\n",
        "xcl_attr_diff_vals_info, xcl_attr_diff_vals_info.size"
      ]
    },
    {
      "cell_type": "code",
      "execution_count": 28,
      "metadata": {
        "colab": {
          "base_uri": "https://localhost:8080/"
        },
        "id": "xKErHY9pHtNh",
        "outputId": "4353f4ec-6138-4fb0-a9db-ceb4e5965d1e"
      },
      "outputs": [
        {
          "data": {
            "text/plain": [
              "(array(['ARBEIT', 'D19_BANKEN_ ANZ_12             D19_BANKEN_ ANZ_24',\n",
              "        'D19_GESAMT_ANZ_12                                    D19_GESAMT_ANZ_24',\n",
              "        'D19_TELKO_ ANZ_12                  D19_TELKO_ ANZ_24',\n",
              "        'D19_VERSAND_ ANZ_12          D19_VERSAND_ ANZ_24',\n",
              "        'D19_VERSI_ ANZ_12                                       D19_VERSI_ ANZ_24',\n",
              "        'D19_VERSI_DATUM', 'D19_VERSI_OFFLINE_DATUM',\n",
              "        'D19_VERSI_ONLINE_DATUM', 'EINWOHNER', 'GKZ', 'PLZ', 'PLZ8'],\n",
              "       dtype=object), 13)"
            ]
          },
          "execution_count": 28,
          "metadata": {},
          "output_type": "execute_result"
        }
      ],
      "source": [
        "# Information excel file contains some different attributes compared to attributes excel file:\n",
        "xcl_attr_diff_info_vals = np.setdiff1d(dfdias_info_attrs, attrbf_names)\n",
        "\n",
        "xcl_attr_diff_info_vals, xcl_attr_diff_info_vals.size"
      ]
    },
    {
      "cell_type": "markdown",
      "metadata": {
        "id": "fpy0m26gLLzw"
      },
      "source": [
        "Taking the symmetric difference of the attributes in excel files, we can observe that there are more common attributes, but we must perform some string operations to bring them in similar forms for comparison."
      ]
    },
    {
      "cell_type": "code",
      "execution_count": 29,
      "metadata": {
        "colab": {
          "base_uri": "https://localhost:8080/"
        },
        "id": "ulbAe_CfJoRs",
        "outputId": "b0aeb948-b035-436a-f356-327ac5841ea1"
      },
      "outputs": [
        {
          "data": {
            "text/plain": [
              "(array(['ARBEIT', 'BIP_FLAG',\n",
              "        'D19_BANKEN_ ANZ_12             D19_BANKEN_ ANZ_24',\n",
              "        'D19_BANKEN_ANZ_12', 'D19_BANKEN_ANZ_24', 'D19_GESAMT_ANZ_12',\n",
              "        'D19_GESAMT_ANZ_12                                    D19_GESAMT_ANZ_24',\n",
              "        'D19_GESAMT_ANZ_24', 'D19_LOTTO_RZ',\n",
              "        'D19_TELKO_ ANZ_12                  D19_TELKO_ ANZ_24',\n",
              "        'D19_TELKO_ANZ_12', 'D19_TELKO_ANZ_24',\n",
              "        'D19_VERSAND_ ANZ_12          D19_VERSAND_ ANZ_24',\n",
              "        'D19_VERSAND_ANZ_12', 'D19_VERSAND_ANZ_24',\n",
              "        'D19_VERSI_ ANZ_12                                       D19_VERSI_ ANZ_24',\n",
              "        'D19_VERSI_ANZ_12', 'D19_VERSI_ANZ_24', 'D19_VERSI_DATUM',\n",
              "        'D19_VERSI_OFFLINE_DATUM', 'D19_VERSI_ONLINE_DATUM', 'EINWOHNER',\n",
              "        'GKZ', 'KBA13_CCM_3000', 'KBA13_CCM_3001', 'PLZ', 'PLZ8'],\n",
              "       dtype=object), 27)"
            ]
          },
          "execution_count": 29,
          "metadata": {},
          "output_type": "execute_result"
        }
      ],
      "source": [
        "# Symmetric difference of the two attributes' sets.\n",
        "xcl_attrs_symtrc_diff = np.union1d(xcl_attr_diff_vals_info, xcl_attr_diff_info_vals)\n",
        "\n",
        "xcl_attrs_symtrc_diff, xcl_attrs_symtrc_diff.size"
      ]
    },
    {
      "cell_type": "markdown",
      "metadata": {
        "id": "Z3_w1vf4PPlc"
      },
      "source": [
        "We will fix the names of the attributes that seem different in the `DIAS Information Levels - Attributes 2017.xlsx` (or info) file.\n",
        "\n",
        "* Parse lines containing more than one attribute"
      ]
    },
    {
      "cell_type": "code",
      "execution_count": 30,
      "metadata": {
        "colab": {
          "base_uri": "https://localhost:8080/"
        },
        "id": "d5uYN0XWyDF2",
        "outputId": "a230c12e-5fa5-4ab9-f4f8-fdf7d7d69ea4"
      },
      "outputs": [
        {
          "data": {
            "text/plain": [
              "(['ARBEIT',\n",
              "  'D19_BANKEN_ ANZ_12',\n",
              "  'D19_BANKEN_ ANZ_24',\n",
              "  'D19_GESAMT_ANZ_12',\n",
              "  'D19_GESAMT_ANZ_24',\n",
              "  'D19_TELKO_ ANZ_12',\n",
              "  'D19_TELKO_ ANZ_24',\n",
              "  'D19_VERSAND_ ANZ_12',\n",
              "  'D19_VERSAND_ ANZ_24',\n",
              "  'D19_VERSI_ ANZ_12',\n",
              "  'D19_VERSI_ ANZ_24',\n",
              "  'D19_VERSI_DATUM',\n",
              "  'D19_VERSI_OFFLINE_DATUM',\n",
              "  'D19_VERSI_ONLINE_DATUM',\n",
              "  'EINWOHNER',\n",
              "  'GKZ',\n",
              "  'PLZ',\n",
              "  'PLZ8'],\n",
              " 18)"
            ]
          },
          "execution_count": 30,
          "metadata": {},
          "output_type": "execute_result"
        }
      ],
      "source": [
        "# We will create a new list splitting the lines containing more than one attribute and stripping white space:\n",
        "xcl_attr_diff_info_vals_fxd = [i.strip() for x in xcl_attr_diff_info_vals for i in x.split(\"  \", maxsplit=1)]\n",
        "\n",
        "xcl_attr_diff_info_vals_fxd, len(xcl_attr_diff_info_vals_fxd)"
      ]
    },
    {
      "cell_type": "markdown",
      "metadata": {
        "id": "kBNy939it5JY"
      },
      "source": [
        "* Expand initial attributes list to include the newly identified attributes from above."
      ]
    },
    {
      "cell_type": "code",
      "execution_count": 31,
      "metadata": {
        "colab": {
          "base_uri": "https://localhost:8080/"
        },
        "id": "aJPb5TeJz5um",
        "outputId": "33edfa79-59a2-42b8-adcc-a8c21c172541"
      },
      "outputs": [
        {
          "data": {
            "text/plain": [
              "(array(['FINANZ_VORSORGER', 'D19_WEIN_FEINKOST_RZ', 'KBA05_MODTEMP',\n",
              "        'FINANZ_HAUSBAUER', 'KBA05_KRSZUL', 'D19_KK_KUNDENTYP',\n",
              "        'KBA13_BJ_2008', 'KBA05_SEG5', 'D19_KONSUMTYP', 'MOBI_REGIO',\n",
              "        'KBA13_KMH_211', 'PLZ8_BAUMAX', 'KBA13_FAB_ASIEN',\n",
              "        'D19_BANKEN_ONLINE_DATUM', 'REGIOTYP', 'ZABEOTYP', 'KBA05_MAXBJ',\n",
              "        'D19_GESAMT_DATUM', 'KBA13_KMH_140_210', 'W_KEIT_KIND_HH'],\n",
              "       dtype='<U27'), 318)"
            ]
          },
          "execution_count": 31,
          "metadata": {},
          "output_type": "execute_result"
        }
      ],
      "source": [
        "# Our initial info attributes' list needs to be expanded to compensate for elements that were packed together.\n",
        "dfdias_info_attrs_new = []\n",
        "# Create a deep copy of the clean names list so it may be resused.\n",
        "attrs_to_append = [i for i in xcl_attr_diff_info_vals_fxd]\n",
        "# For every element in the imported attributes from information file check against the \n",
        "# fixed attribute names list and create a new list including fixed names.\n",
        "for i in dfdias_info_attrs:\n",
        "    if i in xcl_attr_diff_info_vals and len(attrs_to_append) > 0:\n",
        "        for idx, x in enumerate(attrs_to_append):\n",
        "            if i.startswith(x):\n",
        "                if len(i) > len(x):\n",
        "                    dfdias_info_attrs_new.append(''.join(x.split()))\n",
        "                    dfdias_info_attrs_new.append(''.join(attrs_to_append[idx + 1].split()))\n",
        "                    del attrs_to_append[idx + 1]\n",
        "                    del attrs_to_append[idx]\n",
        "                else:\n",
        "                    dfdias_info_attrs_new.append(x)\n",
        "                    del attrs_to_append[idx]\n",
        "                break\n",
        "    else:\n",
        "        # just copy the rest of the elements.\n",
        "        dfdias_info_attrs_new.append(i)\n",
        "\n",
        "# Convert to numpy array\n",
        "dfdias_info_attrs_new = np.array(dfdias_info_attrs_new)\n",
        "\n",
        "dfdias_info_attrs_new[60:80], dfdias_info_attrs_new.size"
      ]
    },
    {
      "cell_type": "markdown",
      "metadata": {
        "id": "JBefRNxWS3tp"
      },
      "source": [
        "Now that we have fixed the names we can compare the attributes between the two attributes' information files.\n"
      ]
    },
    {
      "cell_type": "code",
      "execution_count": 32,
      "metadata": {
        "colab": {
          "base_uri": "https://localhost:8080/"
        },
        "id": "jpVLmLZBah1Y",
        "outputId": "991384fc-d8fd-431b-fb67-14e0a8c49493"
      },
      "outputs": [
        {
          "data": {
            "text/plain": [
              "310"
            ]
          },
          "execution_count": 32,
          "metadata": {},
          "output_type": "execute_result"
        }
      ],
      "source": [
        "# Get the set intersetion of the two arrays:\n",
        "xcl_attr_intersc_fxd = np.intersect1d(attrbf_names, dfdias_info_attrs_new)\n",
        "\n",
        "xcl_attr_intersc_fxd.size"
      ]
    },
    {
      "cell_type": "markdown",
      "metadata": {
        "id": "rL9-ERNARBTF"
      },
      "source": [
        "Common attributes between the two files increased to 310. After this different attributes in each file become as follows:"
      ]
    },
    {
      "cell_type": "code",
      "execution_count": 33,
      "metadata": {
        "colab": {
          "base_uri": "https://localhost:8080/"
        },
        "id": "P_7jBzzleywY",
        "outputId": "1fd2425a-8b23-4b89-e431-13b8dbc6a7d1"
      },
      "outputs": [
        {
          "data": {
            "text/plain": [
              "(array(['BIP_FLAG', 'D19_LOTTO_RZ', 'KBA13_CCM_3000', 'KBA13_CCM_3001'],\n",
              "       dtype=object), 4)"
            ]
          },
          "execution_count": 33,
          "metadata": {},
          "output_type": "execute_result"
        }
      ],
      "source": [
        "# DIAS Attributes - Values 2017.xlsx unique values:\n",
        "xcl_attr_diff_vals_info = np.setdiff1d(attrbf_names, dfdias_info_attrs_new)\n",
        "\n",
        "xcl_attr_diff_vals_info, xcl_attr_diff_vals_info.size"
      ]
    },
    {
      "cell_type": "code",
      "execution_count": 34,
      "metadata": {
        "colab": {
          "base_uri": "https://localhost:8080/"
        },
        "id": "3SmwEWXqc8Eo",
        "outputId": "9ab21e50-83ec-46ea-df31-709a4ed38ac6"
      },
      "outputs": [
        {
          "data": {
            "text/plain": [
              "(array(['ARBEIT', 'D19_VERSI_DATUM', 'D19_VERSI_OFFLINE_DATUM',\n",
              "        'D19_VERSI_ONLINE_DATUM', 'EINWOHNER', 'GKZ', 'PLZ', 'PLZ8'],\n",
              "       dtype='<U27'), 8)"
            ]
          },
          "execution_count": 34,
          "metadata": {},
          "output_type": "execute_result"
        }
      ],
      "source": [
        "# DIAS Information Levels - Attributes 2017.xlsx contains some different attributes compared to attributes excel file:\n",
        "xcl_attr_diff_info_vals = np.setdiff1d(dfdias_info_attrs_new, attrbf_names)\n",
        "\n",
        "xcl_attr_diff_info_vals, xcl_attr_diff_info_vals.size"
      ]
    },
    {
      "cell_type": "code",
      "execution_count": 35,
      "metadata": {
        "colab": {
          "base_uri": "https://localhost:8080/"
        },
        "id": "3iABVdP2TYxs",
        "outputId": "3353e314-5136-4f8f-ab4e-269fa063e18b"
      },
      "outputs": [
        {
          "data": {
            "text/plain": [
              "(array(['ARBEIT', 'BIP_FLAG', 'D19_LOTTO_RZ', 'D19_VERSI_DATUM',\n",
              "        'D19_VERSI_OFFLINE_DATUM', 'D19_VERSI_ONLINE_DATUM', 'EINWOHNER',\n",
              "        'GKZ', 'KBA13_CCM_3000', 'KBA13_CCM_3001', 'PLZ', 'PLZ8'],\n",
              "       dtype=object), 12)"
            ]
          },
          "execution_count": 35,
          "metadata": {},
          "output_type": "execute_result"
        }
      ],
      "source": [
        "# Symmetric difference of the two attributes' sets.\n",
        "xcl_attrs_symtrc_diff = np.union1d(xcl_attr_diff_vals_info, xcl_attr_diff_info_vals)\n",
        "\n",
        "xcl_attrs_symtrc_diff, xcl_attrs_symtrc_diff.size"
      ]
    },
    {
      "cell_type": "code",
      "execution_count": 36,
      "metadata": {
        "colab": {
          "base_uri": "https://localhost:8080/"
        },
        "id": "KPiyGR2bWjCH",
        "outputId": "25859864-1220-4fbd-c192-fe70a5ca7403"
      },
      "outputs": [
        {
          "data": {
            "text/plain": [
              "322"
            ]
          },
          "execution_count": 36,
          "metadata": {},
          "output_type": "execute_result"
        }
      ],
      "source": [
        "# Taking the union for the total of unique values in both files together.\n",
        "xcl_attrs_unique = np.union1d(attrbf_names, dfdias_info_attrs_new)\n",
        "\n",
        "xcl_attrs_unique.size"
      ]
    },
    {
      "cell_type": "markdown",
      "metadata": {
        "id": "GJBadEFNeJgw"
      },
      "source": [
        "The two Excel spreadsheets provided in the workspace (`DIAS Information Levels - Attributes 2017.xlsx` and `DIAS Attributes - Values 2017.xlsx`) contain 310 common attributes. In addition the first file contains 8 unique attributes while the second 4 unique attributes. In total there are 322 unique attributes present in both files together."
      ]
    },
    {
      "cell_type": "markdown",
      "metadata": {
        "id": "axWSd155af2U"
      },
      "source": [
        "###Comparing `azdias`, `custrs` datasets to the unique attributes from the two excel files.\n"
      ]
    },
    {
      "cell_type": "code",
      "execution_count": 37,
      "metadata": {
        "colab": {
          "base_uri": "https://localhost:8080/"
        },
        "id": "rlia9PK0Y_5y",
        "outputId": "e8e384b5-1acb-4371-ca21-3e148bdb9db5"
      },
      "outputs": [
        {
          "data": {
            "text/plain": [
              "(366, 322, 276)"
            ]
          },
          "execution_count": 37,
          "metadata": {},
          "output_type": "execute_result"
        }
      ],
      "source": [
        "attrs_intesc = np.intersect1d(azd_attr_names, xcl_attrs_unique)\n",
        "\n",
        "azd_attr_names.size, xcl_attrs_unique.size, attrs_intesc.size"
      ]
    },
    {
      "cell_type": "markdown",
      "metadata": {
        "id": "YVfldGk3fYMo"
      },
      "source": [
        "For the customers dataset, they only different attributes should be the 3 extra ones in the customers dataset, so the intersection should be the same as for `azdias` dataset:"
      ]
    },
    {
      "cell_type": "code",
      "execution_count": 38,
      "metadata": {
        "colab": {
          "base_uri": "https://localhost:8080/"
        },
        "id": "OivZGO8UfHMf",
        "outputId": "dd12d89b-1225-4b40-8bda-b89c73caf63c"
      },
      "outputs": [
        {
          "data": {
            "text/plain": [
              "(369, 322, 276)"
            ]
          },
          "execution_count": 38,
          "metadata": {},
          "output_type": "execute_result"
        }
      ],
      "source": [
        "attrs_intesc = np.intersect1d(cus_attr_names, xcl_attrs_unique)\n",
        "\n",
        "cus_attr_names.size, xcl_attrs_unique.size, attrs_intesc.size"
      ]
    },
    {
      "cell_type": "markdown",
      "metadata": {
        "id": "1jKz-npDaqPj"
      },
      "source": [
        "At first look, we see that only 276 attributes are common. To explore what happens with the rest, we will look at the different attributes from the excel files."
      ]
    },
    {
      "cell_type": "code",
      "execution_count": 39,
      "metadata": {
        "colab": {
          "base_uri": "https://localhost:8080/"
        },
        "id": "MlqeX1HjBdTW",
        "outputId": "29109940-9290-4809-a8b6-cad4b36f807e"
      },
      "outputs": [
        {
          "data": {
            "text/plain": [
              "(array(['BIP_FLAG', 'CAMEO_DEUINTL_2015', 'D19_BANKEN_DIREKT_RZ',\n",
              "        'D19_BANKEN_GROSS_RZ', 'D19_BANKEN_LOKAL_RZ', 'D19_BANKEN_REST_RZ',\n",
              "        'D19_BEKLEIDUNG_GEH_RZ', 'D19_BEKLEIDUNG_REST_RZ',\n",
              "        'D19_BILDUNG_RZ', 'D19_BIO_OEKO_RZ', 'D19_BUCH_RZ',\n",
              "        'D19_DIGIT_SERV_RZ', 'D19_DROGERIEARTIKEL_RZ', 'D19_ENERGIE_RZ',\n",
              "        'D19_FREIZEIT_RZ', 'D19_GARTEN_RZ', 'D19_HANDWERK_RZ',\n",
              "        'D19_HAUS_DEKO_RZ', 'D19_KINDERARTIKEL_RZ', 'D19_KK_KUNDENTYP',\n",
              "        'D19_KOSMETIK_RZ', 'D19_LEBENSMITTEL_RZ', 'D19_LOTTO_RZ',\n",
              "        'D19_NAHRUNGSERGAENZUNG_RZ', 'D19_RATGEBER_RZ', 'D19_REISEN_RZ',\n",
              "        'D19_SAMMELARTIKEL_RZ', 'D19_SCHUHE_RZ', 'D19_SONSTIGE_RZ',\n",
              "        'D19_TECHNIK_RZ', 'D19_TELKO_MOBILE_RZ', 'D19_TELKO_REST_RZ',\n",
              "        'D19_TIERARTIKEL_RZ', 'D19_VERSAND_REST_RZ',\n",
              "        'D19_VERSICHERUNGEN_RZ', 'D19_VOLLSORTIMENT_RZ',\n",
              "        'D19_WEIN_FEINKOST_RZ', 'EINWOHNER', 'GEOSCORE_KLS7', 'GKZ',\n",
              "        'HAUSHALTSSTRUKTUR', 'KBA13_CCM_1400_2500', 'PLZ', 'PLZ8',\n",
              "        'SOHO_FLAG', 'WACHSTUMSGEBIET_NB'], dtype=object), 46)"
            ]
          },
          "execution_count": 39,
          "metadata": {},
          "output_type": "execute_result"
        }
      ],
      "source": [
        "# Set difference of excel unique attributes - azdias set attributes will give us the different excel attributes:\n",
        "difrnt_xcl_attrs = np.setdiff1d(xcl_attrs_unique, azd_attr_names)\n",
        "\n",
        "difrnt_xcl_attrs, difrnt_xcl_attrs.size"
      ]
    },
    {
      "cell_type": "markdown",
      "metadata": {
        "id": "Nxld0l32klVV"
      },
      "source": [
        "Examining the `azdias` (and `customers`) columns' names we can observe that most of the above names are not actually missing but have been named slightly different. So, for example `CAMEO_INTL_2015` in azdias dataset is `CAMEO_DEUINTL_2015` in the attributes’ explanations file. This means we have to perform some operations to match the columns that appear different. We can create a dictionary to match old names with the new names, to rename the attributes' from excel files as in the azdias dataset. For most of the columns names with the prefix `D19_` if we remove the suffix `_RZ` we have the desired names."
      ]
    },
    {
      "cell_type": "markdown",
      "metadata": {
        "id": "lkCpI95gCh5a"
      },
      "source": [
        "We can also try to identify the rest of attributes, for example with `FLAG` in name and do the same for the rest, but not for `D19_` as we already know that only the suffix `_RZ` is missing from the name, hence it is seen as differnt string in the code comparisons."
      ]
    },
    {
      "cell_type": "code",
      "execution_count": 40,
      "metadata": {
        "colab": {
          "base_uri": "https://localhost:8080/"
        },
        "id": "Fd5AzGJfqQ76",
        "outputId": "8c3efdea-9a36-4db7-981d-dbbc767c8e2c"
      },
      "outputs": [
        {
          "data": {
            "text/plain": [
              "(['DSL_FLAG', 'HH_DELTA_FLAG', 'UNGLEICHENN_FLAG'],\n",
              " [],\n",
              " ['SOHO_KZ'],\n",
              " ['KBA13_CCM_1400', 'KBA13_CCM_1401_2500'],\n",
              " ['KBA13_PEUGEOT'],\n",
              " ['ANZ_HAUSHALTE_AKTIV',\n",
              "  'ANZ_STATISTISCHE_HAUSHALTE',\n",
              "  'D19_HAUS_DEKO',\n",
              "  'FINANZ_HAUSBAUER'],\n",
              " [],\n",
              " [],\n",
              " ['PLZ8_ANTG1',\n",
              "  'PLZ8_ANTG2',\n",
              "  'PLZ8_ANTG3',\n",
              "  'PLZ8_ANTG4',\n",
              "  'PLZ8_BAUMAX',\n",
              "  'PLZ8_GBZ',\n",
              "  'PLZ8_HHZ'])"
            ]
          },
          "execution_count": 40,
          "metadata": {},
          "output_type": "execute_result"
        }
      ],
      "source": [
        "attr_flag = [x for x in azd_attr_names if 'FLAG' in x]\n",
        "attr_bip = [x for x in azd_attr_names if 'BIP' in x]\n",
        "attr_soho = [x for x in azd_attr_names if 'SOHO' in x]\n",
        "attr_kba131400 = [x for x in azd_attr_names if 'KBA13_CCM_14' in x]\n",
        "attr_geosc =[ x for x in azd_attr_names if 'GEO' in x]\n",
        "attr_haus = [ x for x in azd_attr_names if 'HAUS' in x]\n",
        "attr_wach = [ x for x in azd_attr_names if 'WACH' in x]\n",
        "attr_gkz = [x for x in azd_attr_names if 'GKZ' in x]\n",
        "attr_plz = [x for x in azd_attr_names if 'PLZ' in x]\n",
        "\n",
        "attr_flag, attr_bip, attr_soho, attr_kba131400, attr_geosc, \\\n",
        "attr_haus, attr_wach, attr_gkz, attr_plz"
      ]
    },
    {
      "cell_type": "markdown",
      "metadata": {
        "id": "urHD3UFhC1Bb"
      },
      "source": [
        "From the above we see that we also have attributes `'SOHO_KZ', 'KBA13_CCM_1401_2500'` we can match. These matches will greatly reduce the number of different attributes in the azdias dataset when comparing to the attributes' excel files. However, azdias dataset has some more attributes in addition to the ones present in the attributes files.\n",
        "\n",
        "There are no additional attributes for `GKZ` and `PLZ` or `PLZ8` in azdias dataset."
      ]
    },
    {
      "cell_type": "code",
      "execution_count": 41,
      "metadata": {
        "colab": {
          "base_uri": "https://localhost:8080/"
        },
        "id": "5ddd5ZBxpt8q",
        "outputId": "8da52067-9b79-4084-dd23-6c752850b57c"
      },
      "outputs": [
        {
          "data": {
            "text/plain": [
              "dict_items([('BIP_FLAG', 'BIP_FLAG'), ('CAMEO_DEUINTL_2015', 'CAMEO_INTL_2015'), ('D19_BANKEN_DIREKT_RZ', 'D19_BANKEN_DIREKT'), ('D19_BANKEN_GROSS_RZ', 'D19_BANKEN_GROSS'), ('D19_BANKEN_LOKAL_RZ', 'D19_BANKEN_LOKAL'), ('D19_BANKEN_REST_RZ', 'D19_BANKEN_REST'), ('D19_BEKLEIDUNG_GEH_RZ', 'D19_BEKLEIDUNG_GEH'), ('D19_BEKLEIDUNG_REST_RZ', 'D19_BEKLEIDUNG_REST'), ('D19_BILDUNG_RZ', 'D19_BILDUNG'), ('D19_BIO_OEKO_RZ', 'D19_BIO_OEKO'), ('D19_BUCH_RZ', 'D19_BUCH'), ('D19_DIGIT_SERV_RZ', 'D19_DIGIT_SERV'), ('D19_DROGERIEARTIKEL_RZ', 'D19_DROGERIEARTIKEL'), ('D19_ENERGIE_RZ', 'D19_ENERGIE'), ('D19_FREIZEIT_RZ', 'D19_FREIZEIT'), ('D19_GARTEN_RZ', 'D19_GARTEN'), ('D19_HANDWERK_RZ', 'D19_HANDWERK'), ('D19_HAUS_DEKO_RZ', 'D19_HAUS_DEKO'), ('D19_KINDERARTIKEL_RZ', 'D19_KINDERARTIKEL'), ('D19_KK_KUNDENTYP', 'D19_KK_KUNDENTYP'), ('D19_KOSMETIK_RZ', 'D19_KOSMETIK'), ('D19_LEBENSMITTEL_RZ', 'D19_LEBENSMITTEL'), ('D19_LOTTO_RZ', 'D19_LOTTO'), ('D19_NAHRUNGSERGAENZUNG_RZ', 'D19_NAHRUNGSERGAENZUNG'), ('D19_RATGEBER_RZ', 'D19_RATGEBER'), ('D19_REISEN_RZ', 'D19_REISEN'), ('D19_SAMMELARTIKEL_RZ', 'D19_SAMMELARTIKEL'), ('D19_SCHUHE_RZ', 'D19_SCHUHE'), ('D19_SONSTIGE_RZ', 'D19_SONSTIGE'), ('D19_TECHNIK_RZ', 'D19_TECHNIK'), ('D19_TELKO_MOBILE_RZ', 'D19_TELKO_MOBILE'), ('D19_TELKO_REST_RZ', 'D19_TELKO_REST'), ('D19_TIERARTIKEL_RZ', 'D19_TIERARTIKEL'), ('D19_VERSAND_REST_RZ', 'D19_VERSAND_REST'), ('D19_VERSICHERUNGEN_RZ', 'D19_VERSICHERUNGEN'), ('D19_VOLLSORTIMENT_RZ', 'D19_VOLLSORTIMENT'), ('D19_WEIN_FEINKOST_RZ', 'D19_WEIN_FEINKOST'), ('EINWOHNER', 'EINWOHNER'), ('GEOSCORE_KLS7', 'GEOSCORE_KLS7'), ('GKZ', 'GKZ'), ('HAUSHALTSSTRUKTUR', 'HAUSHALTSSTRUKTUR'), ('KBA13_CCM_1400_2500', 'KBA13_CCM_1401_2500'), ('PLZ', 'PLZ'), ('PLZ8', 'PLZ8'), ('SOHO_FLAG', 'SOHO_KZ'), ('WACHSTUMSGEBIET_NB', 'WACHSTUMSGEBIET_NB')])"
            ]
          },
          "execution_count": 41,
          "metadata": {},
          "output_type": "execute_result"
        }
      ],
      "source": [
        "# Create a dictionary with key: value the old names replacing all `D19_*` names containing `_RZ`\n",
        "xcl_attr_names_new = {i : i[:-3] if '_RZ' in i else i for i in difrnt_xcl_attrs}\n",
        "# Replace SOHO_FLAG:\n",
        "xcl_attr_names_new[\"SOHO_FLAG\"] = 'SOHO_KZ'\n",
        "# Replace CAMEO_DEUINTL_2015:\n",
        "xcl_attr_names_new[\"CAMEO_DEUINTL_2015\"] = 'CAMEO_INTL_2015'\n",
        "# Replace KBA13_CCM_1400_2500:\n",
        "xcl_attr_names_new[\"KBA13_CCM_1400_2500\"] = 'KBA13_CCM_1401_2500'\n",
        "\n",
        "xcl_attr_names_new.items()"
      ]
    },
    {
      "cell_type": "markdown",
      "metadata": {
        "id": "vjJoHZvj-KAS"
      },
      "source": [
        "Let us rename the corresponding attribute names rows as per above dictionary and compare to `azdias` attributes again:"
      ]
    },
    {
      "cell_type": "code",
      "execution_count": 42,
      "metadata": {
        "colab": {
          "base_uri": "https://localhost:8080/"
        },
        "id": "ZLZCfrJLkaux",
        "outputId": "644dadb5-ca50-4dea-9a4a-5eb9c18dd521"
      },
      "outputs": [
        {
          "data": {
            "text/plain": [
              "(366, 322, 312)"
            ]
          },
          "execution_count": 42,
          "metadata": {},
          "output_type": "execute_result"
        }
      ],
      "source": [
        "# Create a copy of the `xcl_attrs_unique`\n",
        "xcl_attrs_unique_new = pd.Series(xcl_attrs_unique)\n",
        "\n",
        "# Rename specific attributes based on the created dictionary\n",
        "xcl_attrs_unique_new.replace(xcl_attr_names_new, inplace=True)\n",
        "\n",
        "# Compare to `azdias` attributes again taking the sets intersection\n",
        "attrs_common = np.intersect1d(azd_attr_names, xcl_attrs_unique_new)\n",
        "\n",
        "azd_attr_names.size, xcl_attrs_unique_new.size, attrs_common.size"
      ]
    },
    {
      "cell_type": "markdown",
      "metadata": {
        "id": "KSy2c0AsLIAP"
      },
      "source": [
        "There are 312 attributes in `azdias` dataset which are also present in the attributes explanatory excel files. Azdias dataset contains 54 additional attributes:"
      ]
    },
    {
      "cell_type": "code",
      "execution_count": 43,
      "metadata": {
        "colab": {
          "base_uri": "https://localhost:8080/"
        },
        "id": "2jS4388ipBIl",
        "outputId": "5399a0d0-5dd3-4d8b-937c-6ac7331e757e"
      },
      "outputs": [
        {
          "data": {
            "text/plain": [
              "(array(['AKT_DAT_KL', 'ALTERSKATEGORIE_FEIN', 'ALTER_KIND1', 'ALTER_KIND2',\n",
              "        'ALTER_KIND3', 'ALTER_KIND4', 'ANZ_KINDER',\n",
              "        'ANZ_STATISTISCHE_HAUSHALTE', 'CJT_KATALOGNUTZER', 'CJT_TYP_1',\n",
              "        'CJT_TYP_2', 'CJT_TYP_3', 'CJT_TYP_4', 'CJT_TYP_5', 'CJT_TYP_6',\n",
              "        'D19_BUCH_CD', 'D19_KONSUMTYP_MAX', 'D19_LETZTER_KAUF_BRANCHE',\n",
              "        'D19_SOZIALES', 'D19_TELKO_ONLINE_QUOTE_12',\n",
              "        'D19_VERSI_ONLINE_QUOTE_12', 'DSL_FLAG', 'EINGEFUEGT_AM',\n",
              "        'EINGEZOGENAM_HH_JAHR', 'EXTSEL992', 'FIRMENDICHTE', 'GEMEINDETYP',\n",
              "        'HH_DELTA_FLAG', 'KBA13_ANTG1', 'KBA13_ANTG2', 'KBA13_ANTG3',\n",
              "        'KBA13_ANTG4', 'KBA13_BAUMAX', 'KBA13_GBZ', 'KBA13_HHZ',\n",
              "        'KBA13_KMH_210', 'KK_KUNDENTYP', 'KOMBIALTER', 'KONSUMZELLE',\n",
              "        'LNR', 'MOBI_RASTER', 'RT_KEIN_ANREIZ', 'RT_SCHNAEPPCHEN',\n",
              "        'RT_UEBERGROESSE', 'STRUKTURTYP', 'UMFELD_ALT', 'UMFELD_JUNG',\n",
              "        'UNGLEICHENN_FLAG', 'VERDICHTUNGSRAUM', 'VHA', 'VHN', 'VK_DHT4A',\n",
              "        'VK_DISTANZ', 'VK_ZG11'], dtype=object), 54)"
            ]
          },
          "execution_count": 43,
          "metadata": {},
          "output_type": "execute_result"
        }
      ],
      "source": [
        "# Let's see for the attributes' file what are the different attributes according to the previous intersection\n",
        "azdias_only_attrs = np.setdiff1d(azd_attr_names, xcl_attrs_unique_new)\n",
        "\n",
        "azdias_only_attrs, azdias_only_attrs.size"
      ]
    },
    {
      "cell_type": "markdown",
      "metadata": {
        "id": "I6VT0tCrt2vY"
      },
      "source": [
        "And `customers` dataframe has the above plus the three additional columns, as described in the project description."
      ]
    },
    {
      "cell_type": "code",
      "execution_count": 44,
      "metadata": {
        "colab": {
          "base_uri": "https://localhost:8080/"
        },
        "id": "A7aHmmWrtsQC",
        "outputId": "160a9cb4-8483-4c65-c39d-0ba8d2e05a70"
      },
      "outputs": [
        {
          "data": {
            "text/plain": [
              "(array(['AKT_DAT_KL', 'ALTERSKATEGORIE_FEIN', 'ALTER_KIND1', 'ALTER_KIND2',\n",
              "        'ALTER_KIND3', 'ALTER_KIND4', 'ANZ_KINDER',\n",
              "        'ANZ_STATISTISCHE_HAUSHALTE', 'CJT_KATALOGNUTZER', 'CJT_TYP_1',\n",
              "        'CJT_TYP_2', 'CJT_TYP_3', 'CJT_TYP_4', 'CJT_TYP_5', 'CJT_TYP_6',\n",
              "        'CUSTOMER_GROUP', 'D19_BUCH_CD', 'D19_KONSUMTYP_MAX',\n",
              "        'D19_LETZTER_KAUF_BRANCHE', 'D19_SOZIALES',\n",
              "        'D19_TELKO_ONLINE_QUOTE_12', 'D19_VERSI_ONLINE_QUOTE_12',\n",
              "        'DSL_FLAG', 'EINGEFUEGT_AM', 'EINGEZOGENAM_HH_JAHR', 'EXTSEL992',\n",
              "        'FIRMENDICHTE', 'GEMEINDETYP', 'HH_DELTA_FLAG', 'KBA13_ANTG1',\n",
              "        'KBA13_ANTG2', 'KBA13_ANTG3', 'KBA13_ANTG4', 'KBA13_BAUMAX',\n",
              "        'KBA13_GBZ', 'KBA13_HHZ', 'KBA13_KMH_210', 'KK_KUNDENTYP',\n",
              "        'KOMBIALTER', 'KONSUMZELLE', 'LNR', 'MOBI_RASTER',\n",
              "        'ONLINE_PURCHASE', 'PRODUCT_GROUP', 'RT_KEIN_ANREIZ',\n",
              "        'RT_SCHNAEPPCHEN', 'RT_UEBERGROESSE', 'STRUKTURTYP', 'UMFELD_ALT',\n",
              "        'UMFELD_JUNG', 'UNGLEICHENN_FLAG', 'VERDICHTUNGSRAUM', 'VHA',\n",
              "        'VHN', 'VK_DHT4A', 'VK_DISTANZ', 'VK_ZG11'], dtype=object), 57)"
            ]
          },
          "execution_count": 44,
          "metadata": {},
          "output_type": "execute_result"
        }
      ],
      "source": [
        "custrs_only_attrs = np.setdiff1d(cus_attr_names, xcl_attrs_unique_new)\n",
        "\n",
        "custrs_only_attrs, custrs_only_attrs.size"
      ]
    },
    {
      "cell_type": "code",
      "execution_count": 45,
      "metadata": {
        "colab": {
          "base_uri": "https://localhost:8080/"
        },
        "id": "Ui_PbIzHADzT",
        "outputId": "e2c8c629-9368-46e5-c8fb-2c7b25f77a22"
      },
      "outputs": [
        {
          "data": {
            "text/plain": [
              "(array(['BIP_FLAG', 'D19_BUCH', 'D19_KK_KUNDENTYP', 'EINWOHNER',\n",
              "        'GEOSCORE_KLS7', 'GKZ', 'HAUSHALTSSTRUKTUR', 'PLZ', 'PLZ8',\n",
              "        'WACHSTUMSGEBIET_NB'], dtype=object), 10)"
            ]
          },
          "execution_count": 45,
          "metadata": {},
          "output_type": "execute_result"
        }
      ],
      "source": [
        "# Attributes unique to excel files.\n",
        "xcl_only_attrs = np.setdiff1d(xcl_attrs_unique_new, azd_attr_names)\n",
        "\n",
        "xcl_only_attrs, xcl_only_attrs.size"
      ]
    },
    {
      "cell_type": "markdown",
      "metadata": {
        "id": "p6FiuM0NjOQb"
      },
      "source": [
        "* `attrs_common` - 312 common attributes between `azdias` dataset and both excel files combined.\n",
        "* `azdias_only_attrs` - 54 attributes appearing only in `azdias` dataset.\n",
        "* `xcl_attrs_unique_new` - 322 unique attributes in both excel files combined.\n",
        "* `xcl_only_attrs` - 10 attributes appearing only in excel files."
      ]
    },
    {
      "cell_type": "markdown",
      "metadata": {
        "id": "mvqmjw_nzfSy"
      },
      "source": [
        "For 322 unique attributes present in both excel files combined there are 312 in common with the `azdias` dataset, leaving out 54 attributes known only in `azdias` dataset. Most of these seem to be related to attributes found in the excel files. For example `CJT` attribute in excel files seems to be related to the series of `CJT_TYP_*` attributes in azdias dataset. These are probably derived attributes to allow more granularity of collected information in certain fields."
      ]
    },
    {
      "cell_type": "code",
      "execution_count": 46,
      "metadata": {
        "colab": {
          "base_uri": "https://localhost:8080/"
        },
        "id": "TPW-luJf0XPq",
        "outputId": "502b221c-e853-4b9f-b672-1c3dd547058f"
      },
      "outputs": [
        {
          "data": {
            "text/plain": [
              "5.0    60063\n",
              "2.0    44084\n",
              "3.0    38364\n",
              "4.0    36617\n",
              "1.0    19774\n",
              "Name: CJT_TYP_1, dtype: int64"
            ]
          },
          "execution_count": 46,
          "metadata": {},
          "output_type": "execute_result"
        }
      ],
      "source": [
        "azdias[\"CJT_TYP_1\"].value_counts()"
      ]
    },
    {
      "cell_type": "markdown",
      "metadata": {
        "id": "Ixfj1WlpUrqQ"
      },
      "source": [
        "###Identify and replace out of range and unkown values with NaNs"
      ]
    },
    {
      "cell_type": "markdown",
      "metadata": {
        "id": "cf-2qGa8uWGz"
      },
      "source": [
        "We have already made some value replacements when loading the `.csv` files. We observe that some attributes include values outside the pool of values described in the information excel files. These values that are outside the allowed values described in the relevant excel files will be identified and replaced with NaNs. The process we will follow is:\n",
        "\n",
        "* We will get the allowed values pool for each attribute from the excel file `DIAS Attributes - Values 2017.xlsx`.\n",
        "* We will create a dictionary, mapping attribute names to value pools.\n",
        "* We will in turn search the relevant columns in `azdias` and `customers` datasets and replace all the values outside these pools with NaNs.\n",
        "\n",
        "In addition, there are some special cases where the allowed values are not specified, or the attributes do not have corresponding information in any of the excel files. These will have to be treated case by case."
      ]
    },
    {
      "cell_type": "code",
      "execution_count": 47,
      "metadata": {
        "colab": {
          "base_uri": "https://localhost:8080/",
          "height": 266
        },
        "id": "5yKP1PVGa54S",
        "outputId": "0b12440c-6826-407a-daf1-8645acad7538"
      },
      "outputs": [
        {
          "data": {
            "text/html": [
              "<div>\n",
              "<style scoped>\n",
              "    .dataframe tbody tr th:only-of-type {\n",
              "        vertical-align: middle;\n",
              "    }\n",
              "\n",
              "    .dataframe tbody tr th {\n",
              "        vertical-align: top;\n",
              "    }\n",
              "\n",
              "    .dataframe thead th {\n",
              "        text-align: right;\n",
              "    }\n",
              "</style>\n",
              "<table border=\"1\" class=\"dataframe\">\n",
              "  <thead>\n",
              "    <tr style=\"text-align: right;\">\n",
              "      <th></th>\n",
              "      <th>Attribute</th>\n",
              "      <th>Description</th>\n",
              "      <th>Value</th>\n",
              "      <th>Meaning</th>\n",
              "    </tr>\n",
              "  </thead>\n",
              "  <tbody>\n",
              "    <tr>\n",
              "      <th>0</th>\n",
              "      <td>AGER_TYP</td>\n",
              "      <td>best-ager typology</td>\n",
              "      <td>-1</td>\n",
              "      <td>unknown</td>\n",
              "    </tr>\n",
              "    <tr>\n",
              "      <th>1</th>\n",
              "      <td>AGER_TYP</td>\n",
              "      <td>best-ager typology</td>\n",
              "      <td>0</td>\n",
              "      <td>no classification possible</td>\n",
              "    </tr>\n",
              "    <tr>\n",
              "      <th>2</th>\n",
              "      <td>AGER_TYP</td>\n",
              "      <td>best-ager typology</td>\n",
              "      <td>1</td>\n",
              "      <td>passive elderly</td>\n",
              "    </tr>\n",
              "    <tr>\n",
              "      <th>3</th>\n",
              "      <td>AGER_TYP</td>\n",
              "      <td>best-ager typology</td>\n",
              "      <td>2</td>\n",
              "      <td>cultural elderly</td>\n",
              "    </tr>\n",
              "    <tr>\n",
              "      <th>4</th>\n",
              "      <td>AGER_TYP</td>\n",
              "      <td>best-ager typology</td>\n",
              "      <td>3</td>\n",
              "      <td>experience-driven elderly</td>\n",
              "    </tr>\n",
              "    <tr>\n",
              "      <th>5</th>\n",
              "      <td>ALTERSKATEGORIE_GROB</td>\n",
              "      <td>age classification through prename analysis</td>\n",
              "      <td>-1, 0</td>\n",
              "      <td>unknown</td>\n",
              "    </tr>\n",
              "    <tr>\n",
              "      <th>6</th>\n",
              "      <td>ALTERSKATEGORIE_GROB</td>\n",
              "      <td>age classification through prename analysis</td>\n",
              "      <td>1</td>\n",
              "      <td>&lt; 30 years</td>\n",
              "    </tr>\n",
              "  </tbody>\n",
              "</table>\n",
              "</div>"
            ],
            "text/plain": [
              "              Attribute  ...                     Meaning\n",
              "0              AGER_TYP  ...                     unknown\n",
              "1              AGER_TYP  ...  no classification possible\n",
              "2              AGER_TYP  ...             passive elderly\n",
              "3              AGER_TYP  ...            cultural elderly\n",
              "4              AGER_TYP  ...   experience-driven elderly\n",
              "5  ALTERSKATEGORIE_GROB  ...                     unknown\n",
              "6  ALTERSKATEGORIE_GROB  ...                  < 30 years\n",
              "\n",
              "[7 rows x 4 columns]"
            ]
          },
          "execution_count": 47,
          "metadata": {},
          "output_type": "execute_result"
        }
      ],
      "source": [
        "# In attributes values excel replace NaNs in attribute names with forward fill method ffill\n",
        "# to make it easier to extract specific attribute names and values\n",
        "dfdias_attrib_ffil = dfdias_attrib.fillna(method='ffill')\n",
        "\n",
        "dfdias_attrib_ffil.head(7)"
      ]
    },
    {
      "cell_type": "markdown",
      "metadata": {
        "id": "A7lzPWQQz4gz"
      },
      "source": [
        "1. Create a dictionary with attributes' names as keys and allowed input (`Value` column) as values."
      ]
    },
    {
      "cell_type": "code",
      "execution_count": 48,
      "metadata": {
        "colab": {
          "base_uri": "https://localhost:8080/"
        },
        "id": "vykPIslNZQ7t",
        "outputId": "f62970a8-71dd-4b29-9bdc-829d67faf484"
      },
      "outputs": [
        {
          "data": {
            "text/plain": [
              "[('AGER_TYP', [nan, -1, 0, 1, 2, 3]),\n",
              " ('ALTERSKATEGORIE_GROB', [nan, 1, 2, 3, 4, 9, -1, 0])]"
            ]
          },
          "execution_count": 48,
          "metadata": {},
          "output_type": "execute_result"
        }
      ],
      "source": [
        "# First get the allowed value ranges per atribute from the attributes values file (DIAS Attributes - Values 2017.xlsx)\n",
        "# Group by Attribute and get values in a multinex object, then transform to np.ndarray by chaining `values` method:\n",
        "attrs_values_arr = dfdias_attrib_ffil.groupby(\"Attribute\")[\"Value\"].value_counts().index.values\n",
        "\n",
        "# Create a helper function to parse values in the form '-1, 0'\n",
        "def get_nums(x):\n",
        "    \"\"\"Return a list of integers from a string\n",
        "    or the same input if not a string\"\"\"\n",
        "    try:\n",
        "        li = x.split(',')\n",
        "        return list(map(int, li))\n",
        "    except (AttributeError, ValueError):\n",
        "        return [x]\n",
        "\n",
        "# Create a dictionary mapping attributes as keys and allowed values in a list to key:[values]\n",
        "# we are simultaneously injecting np.NaN in values' range as this might already be present\n",
        "# among the attributes' values in `azdias`.\n",
        "attrs_val_dict = {}\n",
        "for i in attrs_values_arr:\n",
        "    attrs_val_dict.setdefault(i[0],[np.NaN]).extend(get_nums(i[1]))\n",
        "\n",
        "list(attrs_val_dict.items())[:2]"
      ]
    },
    {
      "cell_type": "markdown",
      "metadata": {
        "id": "BlytOkLuBHJ4"
      },
      "source": [
        "This dictionary must have its keys (attributes) names match the corresponding attributes names in `azdias` dataset for the cases where the attributes have differences in names, according to the previously created disctionary mapping `xcl_attr_names_new`:"
      ]
    },
    {
      "cell_type": "code",
      "execution_count": 49,
      "metadata": {
        "id": "AaYrGec2Bm60"
      },
      "outputs": [],
      "source": [
        "# We will use the `xcl_attr_names_new` to get the corresponding names and create a new dictionary.\n",
        "attrs_val_pools = {xcl_attr_names_new.get(k, k): v for k, v in attrs_val_dict.items()}"
      ]
    },
    {
      "cell_type": "markdown",
      "metadata": {
        "id": "RBriqwyKkfb7"
      },
      "source": [
        "We will create a different dictionary with the special cases with key values equal to `'…'`. These are some special cases where the input is described as \"numeric value\" which is attribute context related. So, this can be a year, a number typically coded from 1-10, or 1-3, but with the range not exactly specified. This will allow us to process these cases separately."
      ]
    },
    {
      "cell_type": "code",
      "execution_count": 50,
      "metadata": {
        "colab": {
          "base_uri": "https://localhost:8080/"
        },
        "id": "uI9xYLc6nQ-j",
        "outputId": "0c7d1142-f70d-42ae-b082-d0a2129fee85"
      },
      "outputs": [
        {
          "data": {
            "text/plain": [
              "{'ANZ_HAUSHALTE_AKTIV': [nan, '…'],\n",
              " 'ANZ_HH_TITEL': [nan, '…'],\n",
              " 'ANZ_PERSONEN': [nan, '…'],\n",
              " 'ANZ_TITEL': [nan, '…'],\n",
              " 'GEBURTSJAHR': [nan, '…'],\n",
              " 'KBA13_ANZAHL_PKW': [nan, '…'],\n",
              " 'MIN_GEBAEUDEJAHR': [nan, '…']}"
            ]
          },
          "execution_count": 50,
          "metadata": {},
          "output_type": "execute_result"
        }
      ],
      "source": [
        "# Create new dict while removing the related items from the previous\n",
        "# Iterate through a list of keys \n",
        "attrs_val_dict_any = {k: attrs_val_pools.pop(k) for k in list(attrs_val_pools) if '…' in attrs_val_pools[k]}\n",
        "\n",
        "attrs_val_dict_any"
      ]
    },
    {
      "cell_type": "markdown",
      "metadata": {
        "id": "Am6RwFr2oQX0"
      },
      "source": [
        "We now have two dictionaries mapping attributes to possible values for each attribute. There are some unique attributes (`azdias_only_attrs`) in `azdias` dataset that have not been account for. For these we will adopt the mapping of similar attributes based on context and add them in the first mappings dictionary. We can identify at least two value categories `CJT_*` and `KBA13_` that can be assigned to values' range list `[-1, 0, 1, 2, 3, 4, 5]` as can be observed from similar atributes in excel attributes values file. We cannot do the same for `D19_*` attributes or the any of the rest attributes in the `azdias_only_attrs`."
      ]
    },
    {
      "cell_type": "code",
      "execution_count": 51,
      "metadata": {
        "colab": {
          "base_uri": "https://localhost:8080/"
        },
        "id": "Ea-KBCyJpYGH",
        "outputId": "3a76ca29-887f-4eed-8384-8608ee284cb3"
      },
      "outputs": [
        {
          "data": {
            "text/plain": [
              "(array(['AKT_DAT_KL', 'ALTERSKATEGORIE_FEIN', 'ALTER_KIND1', 'ALTER_KIND2',\n",
              "        'ALTER_KIND3', 'ALTER_KIND4', 'ANZ_KINDER',\n",
              "        'ANZ_STATISTISCHE_HAUSHALTE', 'D19_BUCH_CD', 'D19_KONSUMTYP_MAX',\n",
              "        'D19_LETZTER_KAUF_BRANCHE', 'D19_SOZIALES',\n",
              "        'D19_TELKO_ONLINE_QUOTE_12', 'D19_VERSI_ONLINE_QUOTE_12',\n",
              "        'DSL_FLAG', 'EINGEFUEGT_AM', 'EINGEZOGENAM_HH_JAHR', 'EXTSEL992',\n",
              "        'FIRMENDICHTE', 'GEMEINDETYP', 'HH_DELTA_FLAG', 'KK_KUNDENTYP',\n",
              "        'KOMBIALTER', 'KONSUMZELLE', 'LNR', 'MOBI_RASTER',\n",
              "        'RT_KEIN_ANREIZ', 'RT_SCHNAEPPCHEN', 'RT_UEBERGROESSE',\n",
              "        'STRUKTURTYP', 'UMFELD_ALT', 'UMFELD_JUNG', 'UNGLEICHENN_FLAG',\n",
              "        'VERDICHTUNGSRAUM', 'VHA', 'VHN', 'VK_DHT4A', 'VK_DISTANZ',\n",
              "        'VK_ZG11'], dtype='<U26'), 39)"
            ]
          },
          "execution_count": 51,
          "metadata": {},
          "output_type": "execute_result"
        }
      ],
      "source": [
        "# we are then left with an undefined values ragne list of attributes for unique to `azdias` as:\n",
        "azdias_only_attrs_undef = [i for i in azdias_only_attrs if not i.startswith(('CJT_', 'KBA13_'))]\n",
        "\n",
        "azdias_only_attrs_undef = np.array(azdias_only_attrs_undef)\n",
        "\n",
        "azdias_only_attrs_undef, azdias_only_attrs_undef.size"
      ]
    },
    {
      "cell_type": "markdown",
      "metadata": {
        "id": "6O8slta7yQ79"
      },
      "source": [
        "So, for the `customers` the respective array will be:"
      ]
    },
    {
      "cell_type": "code",
      "execution_count": 52,
      "metadata": {
        "colab": {
          "base_uri": "https://localhost:8080/"
        },
        "id": "19My-1UPwXfE",
        "outputId": "f6cb9b00-3ea7-4fe2-f448-aec77a2c6782"
      },
      "outputs": [
        {
          "data": {
            "text/plain": [
              "(array(['AKT_DAT_KL', 'ALTERSKATEGORIE_FEIN', 'ALTER_KIND1', 'ALTER_KIND2',\n",
              "        'ALTER_KIND3', 'ALTER_KIND4', 'ANZ_KINDER',\n",
              "        'ANZ_STATISTISCHE_HAUSHALTE', 'D19_BUCH_CD', 'D19_KONSUMTYP_MAX',\n",
              "        'D19_LETZTER_KAUF_BRANCHE', 'D19_SOZIALES',\n",
              "        'D19_TELKO_ONLINE_QUOTE_12', 'D19_VERSI_ONLINE_QUOTE_12',\n",
              "        'DSL_FLAG', 'EINGEFUEGT_AM', 'EINGEZOGENAM_HH_JAHR', 'EXTSEL992',\n",
              "        'FIRMENDICHTE', 'GEMEINDETYP', 'HH_DELTA_FLAG', 'KK_KUNDENTYP',\n",
              "        'KOMBIALTER', 'KONSUMZELLE', 'LNR', 'MOBI_RASTER',\n",
              "        'RT_KEIN_ANREIZ', 'RT_SCHNAEPPCHEN', 'RT_UEBERGROESSE',\n",
              "        'STRUKTURTYP', 'UMFELD_ALT', 'UMFELD_JUNG', 'UNGLEICHENN_FLAG',\n",
              "        'VERDICHTUNGSRAUM', 'VHA', 'VHN', 'VK_DHT4A', 'VK_DISTANZ',\n",
              "        'VK_ZG11', 'CUSTOMER_GROUP', 'ONLINE_PURCHASE', 'PRODUCT_GROUP'],\n",
              "       dtype='<U26'), 42)"
            ]
          },
          "execution_count": 52,
          "metadata": {},
          "output_type": "execute_result"
        }
      ],
      "source": [
        "cus_only_attrs_undef = np.append(azdias_only_attrs_undef,\n",
        "                                 ['CUSTOMER_GROUP', 'ONLINE_PURCHASE', 'PRODUCT_GROUP'])\n",
        "\n",
        "cus_only_attrs_undef, cus_only_attrs_undef.size"
      ]
    },
    {
      "cell_type": "markdown",
      "metadata": {
        "id": "1l1c0LrUk_6u"
      },
      "source": [
        "* We now have `attrs_val_pools` which is a dictionary mapping of known attribute names and \n",
        "lists with accepted values per variable.\n",
        "* `attrs_val_dict_any` which is a dictionary with attributes' names that do not have specific values defined but instead accept a wider range of numerical values.\n",
        "* `azdias_only_attrs_undef`, `cus_only_attrs_undef` which are two arrays with all attributes known in `azdias` and `customers` only that do not have associated information about their accepted values.\n"
      ]
    },
    {
      "cell_type": "markdown",
      "metadata": {
        "id": "Tg002pusJW9b"
      },
      "source": [
        "####Replace unkown and specific values with NaNs\n",
        "\n",
        "Using the `attrs_val_pools` we can check against the values in respective attributes in `azdias` and `customers` datasets. If values are found outside the accepted ones these will be replaced by NaNs. We will use the keys in this dictionary to iterate trought the attributes and make changes only in the common attributes (`attrs_common`) between `azdias` dataset and excel files."
      ]
    },
    {
      "cell_type": "code",
      "execution_count": 53,
      "metadata": {
        "colab": {
          "base_uri": "https://localhost:8080/"
        },
        "id": "KuH1ZF7c_R0C",
        "outputId": "45e51964-1c48-4ec4-f2bf-0d83d5b2b64c"
      },
      "outputs": [
        {
          "data": {
            "text/plain": [
              "8.0    30385\n",
              "9.0    24434\n",
              "6.0    23853\n",
              "4.0    23414\n",
              "3.0    19315\n",
              "2.0    18528\n",
              "7.0    17556\n",
              "5.0    12205\n",
              "1.0     8006\n",
              "Name: CAMEO_DEUG_2015, dtype: int64"
            ]
          },
          "execution_count": 53,
          "metadata": {},
          "output_type": "execute_result"
        }
      ],
      "source": [
        "# for every key (attribute) in the dictionary created earlier\n",
        "for k in attrs_val_pools:\n",
        "    # if the attribute is among the common ones\n",
        "    if k in attrs_common:\n",
        "        # select all those rows in the column that fall outside the attritbute's\n",
        "        # specified values pool and replace them with NaN.\n",
        "        azdias.loc[~azdias[k].isin(attrs_val_pools[k]), k] = np.NaN\n",
        "        custrs.loc[~custrs[k].isin(attrs_val_pools[k]), k] = np.NaN\n",
        "\n",
        "azdias['CAMEO_DEUG_2015'].value_counts()"
      ]
    },
    {
      "cell_type": "markdown",
      "metadata": {
        "id": "YGdqtIeHKU2k"
      },
      "source": [
        "We want to find the attributes where 9 is used for unkown/NaN values, to replace it in `azdias`, `custrs` datasets with NaNs."
      ]
    },
    {
      "cell_type": "code",
      "execution_count": 54,
      "metadata": {
        "id": "Vf5wKAYs-yW-"
      },
      "outputs": [],
      "source": [
        "# We will use the forward fiiled attribute dataframe to make it easier to extract the attributes' names\n",
        "attrs_nine_name = dfdias_attrib_ffil[dfdias_attrib_ffil[\"Value\"] == '-1, 9'][\"Attribute\"].tolist()\n",
        "\n",
        "# Create a dict to use as input for the pandas replace method\n",
        "replace9_nan_dict = {k:9 for k in attrs_nine_name}\n",
        "# Add 'KOMBIALTER' attribute in the dict that is not in excel files\n",
        "replace9_nan_dict['KOMBIALTER'] = 9\n",
        "\n",
        "# We can now use this dictionary of attributes to replace value 9 (unknown) with\n",
        "# NaN for specifc attributes in the azdias, custrs dataframe\n",
        "azdias.replace(replace9_nan_dict, np.NaN, inplace=True)\n",
        "custrs.replace(replace9_nan_dict, np.NaN, inplace=True)"
      ]
    },
    {
      "cell_type": "markdown",
      "metadata": {
        "id": "PeNGbxZp1sAc"
      },
      "source": [
        "Special cases where values' pool was `'…'`:\n",
        "\n",
        "* `ANZ_HAUSHALTE_AKTIV` - number of households in the building numeric value, typically coded from 1-10 but higher values can be accepted (large building blocks)\n",
        "* `ANZ_HH_TITEL` - number of academic title holder in building, numeric value typically coded from 1-10 but higher values can be accepted (large building blocks)\n",
        "* `ANZ_PERSONEN` - number of adult persons in the household, numeric value typically coded from 1-3 but higher values can be accepted depending on the area and family size. This has some extreme values values in the range [23, 45] that may be proven outliers.\n",
        "* `ANZ_TITEL` - number of professional title holder in household, numeric value typically coded from 1-10 but higher values can be accepted depending on the family size.\n",
        "* `GEBURTSJAHR` - year of birth, with values ranging from 1900 to 2017.\n",
        "* `KBA13_ANZAHL_PKW` - number of cars in the PLZ8, numeric value. This may also have a large range based on the area (postcode) rural, urban areas.\n",
        "* `MIN_GEBAEUDEJAHR` - year the building was first mentioned in the database, numeric values of years ranging from 1985 to 2016.\n",
        "\n",
        "By observation these attributes seem to have acceptable values related to their context.\n",
        "\n",
        "For the attributes known only to `azdias` dataset that cannot be related to existing information from the excel files there is a number of atributes that appear to be related to one another - `'ALTERSKATEGORIE_FEIN', 'ALTER_KIND1', 'ALTER_KIND2', 'ALTER_KIND3', 'ALTER_KIND4'` - and by context might provide categorization for number of children for age group bins. From `ALTERSKATEGORIE_FEIN` we can understand that there are 25 bins that correspond to an age range. `ANZ_KINDER` provides the number of children, while `''ALTER_KIND1', 'ALTER_KIND2', 'ALTER_KIND3', 'ALTER_KIND4'`, must provide the ages for the 1st, 2nd, 3rd and 4th child. `ANZ_STATISTISCHE_HAUSHALTE` seem to provide some budget categorization in a range 1 - 449 with mean 7.6.\n",
        "\n",
        "`'D19_BUCH_CD'` is probably related to books and or CDs ownership, `'D19_KONSUMTYP_MAX'` is a categorization of consumer type,`'D19_LETZTER_KAUF_BRANCHE'` provides a categorization based on recent products purchases, `'D19_SOZIALES'` probably provides a social type related categorization, `'D19_TELKO_ONLINE_QUOTE_12'` (few records) is telecoms related probably for the last 12 months average spending, `'D19_VERSI_ONLINE_QUOTE_12'` (few records) is another 12 months spending record, `'DSL_FLAG'` is probably internet line capacity related (DSL line) indicating if person has DSL (value 1), `'EINGEFUEGT_AM'` is probably the date and time the database entry for this entry was inserted (all times are set to 00:00:00), `'EINGEZOGENAM HH JAHR'` is possibly the year someone moved to a household, `'EXTSEL992'` is some kind of age related attribute, `'FIRMENDICHTE'` is a company size categorization probably related to the company each person works for, `'GEMEINDETYP'` is a community type categorization, `'HH_DELTA_FLAG'` cannot be associated with something known, `'KK_KUNDENTYP'` is a customer type categorization, `'KOMBIALTER'` is another age related categorization, `'KONSUMZELLE'` is another flag probably indicating somekind of consumer feature, `'MOBI_RASTER'` should be an attribute related to mobiles (or mobility) range 1-6, `'RT_KEIN_ANREIZ'` refers lack of incentives on something with values range 1-5, `'RT_SCHNAEPPCHEN'` describes bargain response on something with values range 1-5, `'RT_UEBERGROESSE'` describes over-size response on something with values range 1-5, `'SOHO_KZ'` could be related to small office / home office binary attribute, `'STRUKTURTYP'` provides structure type for homes (?) with values range 1-3, `'UMFELD_ALT'` records old relatives(?) with values range 1-5, `'UMFELD_JUNG'` records young relatives with values range 1-5, `'UNGLEICHENN_FLAG'` binary attribute recording unequality, `'VERDICHTUNGSRAUM'` probably describes the density of the living area (neibourhood, block?) values 1-45, `'VHA', 'VHN', 'VK_DHT4A', 'VK_DISTANZ','VK_ZG11'` cannot be identified."
      ]
    },
    {
      "cell_type": "code",
      "execution_count": 55,
      "metadata": {
        "id": "0DLFyqxkFKOo"
      },
      "outputs": [],
      "source": [
        "# Based on the above these are additional categoricals:\n",
        "extra_cat_cols = np.array(['ALTERSKATEGORIE_FEIN', 'D19_BUCH_CD', 'D19_KONSUMTYP_MAX',\n",
        "                          'D19_SOZIALES', 'D19_TELKO_ONLINE_QUOTE_12', 'D19_VERSI_ONLINE_QUOTE_12',\n",
        "                          'FIRMENDICHTE', 'GEMEINDETYP', 'KK_KUNDENTYP', 'KOMBIALTER',\n",
        "                          'MOBI_RASTER', 'RT_KEIN_ANREIZ', 'RT_SCHNAEPPCHEN',\n",
        "                          'RT_UEBERGROESSE', 'STRUKTURTYP', 'UMFELD_ALT', 'UMFELD_JUNG',\n",
        "                          'KONSUMZELLE', 'SOHO_KZ', 'UNGLEICHENN_FLAG', 'VHA', 'VHN',\n",
        "                          'VK_DHT4A', 'VK_DISTANZ', 'VK_ZG11'])\n",
        "# ('KOMBIALTER' needs to remove 9 as NaN)"
      ]
    },
    {
      "cell_type": "markdown",
      "metadata": {
        "id": "n-W1VaD1Q8uI"
      },
      "source": [
        "All known categorical (includes all ordinal) attributes `cat_attrs`:"
      ]
    },
    {
      "cell_type": "code",
      "execution_count": 56,
      "metadata": {
        "colab": {
          "base_uri": "https://localhost:8080/"
        },
        "id": "sOtvwq1wQfu9",
        "outputId": "77635f69-82d4-4fd0-fe94-8c09cb24155b"
      },
      "outputs": [
        {
          "data": {
            "text/plain": [
              "336"
            ]
          },
          "execution_count": 56,
          "metadata": {},
          "output_type": "execute_result"
        }
      ],
      "source": [
        "cat_attrs = np.union1d(attrs_common, extra_cat_cols)\n",
        "\n",
        "cat_attrs.size"
      ]
    },
    {
      "cell_type": "markdown",
      "metadata": {
        "id": "WHjWie9dT_OW"
      },
      "source": [
        "##Analysing and understanding missing values in `azdias` and `custrs` dfs\n",
        "\n",
        "* Total NaNs:"
      ]
    },
    {
      "cell_type": "code",
      "execution_count": 57,
      "metadata": {
        "colab": {
          "base_uri": "https://localhost:8080/"
        },
        "id": "MDCgqY6DHKWA",
        "outputId": "b3611812-d73d-4971-b5ff-8a6d58281f4f"
      },
      "outputs": [
        {
          "data": {
            "text/plain": [
              "((73200000, 20481334, 0.28), (55350000, 19665551, 0.36))"
            ]
          },
          "execution_count": 57,
          "metadata": {},
          "output_type": "execute_result"
        }
      ],
      "source": [
        "# count NaNs in the dataframes\n",
        "azdias_nan = azdias.isna().sum().sum()\n",
        "cus_df_nan = custrs.isna().sum().sum()\n",
        "\n",
        "(azdias.size, azdias_nan, round(azdias_nan/azdias.size, 2)), \\\n",
        "(custrs.size, cus_df_nan, round(cus_df_nan/custrs.size, 2))"
      ]
    },
    {
      "cell_type": "markdown",
      "metadata": {
        "id": "NtnheqHMPu8f"
      },
      "source": [
        "There are about 28% NaNs in `azdias` df and about 35-36% NaNs in the `customers` \n",
        "dataset out of the total data sizes.\n",
        "\n",
        "* NaNs per column:"
      ]
    },
    {
      "cell_type": "code",
      "execution_count": 58,
      "metadata": {
        "colab": {
          "base_uri": "https://localhost:8080/",
          "height": 555
        },
        "id": "TSYfy-4yeJDY",
        "outputId": "8c3f8595-e39d-40f3-e964-cecf63c99309"
      },
      "outputs": [
        {
          "name": "stdout",
          "output_type": "stream",
          "text": [
            "AZDIAS\n",
            "Average NaNs per column:  0.2798\n",
            "Max NaNs per column:  0.9991\n",
            "Min NaNs per column:  0.0\n",
            "CUSTOMERS\n",
            "Average NaNs per column:  0.3553\n",
            "Max NaNs per column:  0.9989\n",
            "Min NaNs per column:  0.0\n"
          ]
        },
        {
          "data": {
            "text/html": [
              "<div>\n",
              "<style scoped>\n",
              "    .dataframe tbody tr th:only-of-type {\n",
              "        vertical-align: middle;\n",
              "    }\n",
              "\n",
              "    .dataframe tbody tr th {\n",
              "        vertical-align: top;\n",
              "    }\n",
              "\n",
              "    .dataframe thead th {\n",
              "        text-align: right;\n",
              "    }\n",
              "</style>\n",
              "<table border=\"1\" class=\"dataframe\">\n",
              "  <thead>\n",
              "    <tr style=\"text-align: right;\">\n",
              "      <th></th>\n",
              "      <th>Columns</th>\n",
              "      <th>NaNcounts_azd</th>\n",
              "      <th>NaNportions_azd</th>\n",
              "      <th>NaNcounts_cus</th>\n",
              "      <th>NaNportions_cus</th>\n",
              "    </tr>\n",
              "  </thead>\n",
              "  <tbody>\n",
              "    <tr>\n",
              "      <th>0</th>\n",
              "      <td>LNR</td>\n",
              "      <td>0</td>\n",
              "      <td>0.000000</td>\n",
              "      <td>0</td>\n",
              "      <td>0.000000</td>\n",
              "    </tr>\n",
              "    <tr>\n",
              "      <th>1</th>\n",
              "      <td>AGER_TYP</td>\n",
              "      <td>153947</td>\n",
              "      <td>0.769735</td>\n",
              "      <td>75619</td>\n",
              "      <td>0.504127</td>\n",
              "    </tr>\n",
              "    <tr>\n",
              "      <th>2</th>\n",
              "      <td>AKT_DAT_KL</td>\n",
              "      <td>16460</td>\n",
              "      <td>0.082300</td>\n",
              "      <td>36415</td>\n",
              "      <td>0.242767</td>\n",
              "    </tr>\n",
              "    <tr>\n",
              "      <th>3</th>\n",
              "      <td>ALTER_HH</td>\n",
              "      <td>69755</td>\n",
              "      <td>0.348775</td>\n",
              "      <td>53781</td>\n",
              "      <td>0.358540</td>\n",
              "    </tr>\n",
              "    <tr>\n",
              "      <th>4</th>\n",
              "      <td>ALTER_KIND1</td>\n",
              "      <td>181641</td>\n",
              "      <td>0.908205</td>\n",
              "      <td>140813</td>\n",
              "      <td>0.938753</td>\n",
              "    </tr>\n",
              "    <tr>\n",
              "      <th>...</th>\n",
              "      <td>...</td>\n",
              "      <td>...</td>\n",
              "      <td>...</td>\n",
              "      <td>...</td>\n",
              "      <td>...</td>\n",
              "    </tr>\n",
              "    <tr>\n",
              "      <th>361</th>\n",
              "      <td>WOHNDAUER_2008</td>\n",
              "      <td>16460</td>\n",
              "      <td>0.082300</td>\n",
              "      <td>36415</td>\n",
              "      <td>0.242767</td>\n",
              "    </tr>\n",
              "    <tr>\n",
              "      <th>362</th>\n",
              "      <td>WOHNLAGE</td>\n",
              "      <td>22427</td>\n",
              "      <td>0.112135</td>\n",
              "      <td>39861</td>\n",
              "      <td>0.265740</td>\n",
              "    </tr>\n",
              "    <tr>\n",
              "      <th>363</th>\n",
              "      <td>ZABEOTYP</td>\n",
              "      <td>0</td>\n",
              "      <td>0.000000</td>\n",
              "      <td>0</td>\n",
              "      <td>0.000000</td>\n",
              "    </tr>\n",
              "    <tr>\n",
              "      <th>364</th>\n",
              "      <td>ANREDE_KZ</td>\n",
              "      <td>0</td>\n",
              "      <td>0.000000</td>\n",
              "      <td>0</td>\n",
              "      <td>0.000000</td>\n",
              "    </tr>\n",
              "    <tr>\n",
              "      <th>365</th>\n",
              "      <td>ALTERSKATEGORIE_GROB</td>\n",
              "      <td>0</td>\n",
              "      <td>0.000000</td>\n",
              "      <td>0</td>\n",
              "      <td>0.000000</td>\n",
              "    </tr>\n",
              "  </tbody>\n",
              "</table>\n",
              "<p>366 rows × 5 columns</p>\n",
              "</div>"
            ],
            "text/plain": [
              "                  Columns  NaNcounts_azd  ...  NaNcounts_cus  NaNportions_cus\n",
              "0                     LNR              0  ...              0         0.000000\n",
              "1                AGER_TYP         153947  ...          75619         0.504127\n",
              "2              AKT_DAT_KL          16460  ...          36415         0.242767\n",
              "3                ALTER_HH          69755  ...          53781         0.358540\n",
              "4             ALTER_KIND1         181641  ...         140813         0.938753\n",
              "..                    ...            ...  ...            ...              ...\n",
              "361        WOHNDAUER_2008          16460  ...          36415         0.242767\n",
              "362              WOHNLAGE          22427  ...          39861         0.265740\n",
              "363              ZABEOTYP              0  ...              0         0.000000\n",
              "364             ANREDE_KZ              0  ...              0         0.000000\n",
              "365  ALTERSKATEGORIE_GROB              0  ...              0         0.000000\n",
              "\n",
              "[366 rows x 5 columns]"
            ]
          },
          "execution_count": 58,
          "metadata": {},
          "output_type": "execute_result"
        }
      ],
      "source": [
        "def cols_nans_info(df, cols=None):\n",
        "    \"\"\"Return a new dataframe with NaNs summary per column of the input df\n",
        "\n",
        "    Creates and returns a new dataframe with three columns that correspond to\n",
        "    the attributes (columns) of the initial dataframe, the NaN counts per column\n",
        "    and portion of NaNs per column.\n",
        "\n",
        "    Args:\n",
        "        df (pd.DataFrame): The input dataframe to process.\n",
        "        cols (tuple): 3 elements tuple with the names of the three columns in the\n",
        "        output dataframe. If left None the three default names ('Columns',\n",
        "        'NaNcounts', 'NaNportions') will be used.\n",
        "    \n",
        "    Returns:\n",
        "        A new dataframe with three columns providing counts and portions of NaNs\n",
        "        per column in the input df. Examle:\n",
        "\n",
        "            Columns\t     NaNcounts\tNaNportions\n",
        "        0\tAGER_TYP\t   685843\t    0.769554\n",
        "        1\tAKT_DAT_KL     73499\t    0.082470\n",
        "        2\tALTER_HH\t   310267\t    0.348137\n",
        "        3\tALTER_KIND1\t   810163\t    0.909048\n",
        "        4\tALTER_KIND2\t   861722\t    0.966900\n",
        "    \"\"\"\n",
        "    cols = cols or ('Columns', 'NaNcounts', 'NaNportions')\n",
        "    new_df = df.isna().sum().rename_axis(cols[0]).reset_index(name=cols[1])\n",
        "    new_df[cols[2]] = new_df[cols[1]] / df.shape[0]\n",
        "\n",
        "    print('Average NaNs per column: ', round(new_df[cols[2]].mean(), 4))\n",
        "    print('Max NaNs per column: ', round(new_df[cols[2]].max(), 4))\n",
        "    print('Min NaNs per column: ', round(new_df[cols[2]].min(), 4))\n",
        "\n",
        "    return new_df\n",
        "\n",
        "# Get NaNs info for the `azdias` dataframe\n",
        "print(\"AZDIAS\")\n",
        "azdias_nans = cols_nans_info(azdias)\n",
        "# Get NaNs info for the `custrs` dataframe\n",
        "print(\"CUSTOMERS\")\n",
        "cus_df_nans = cols_nans_info(custrs)\n",
        "\n",
        "pd.merge(azdias_nans, cus_df_nans, on='Columns', suffixes=(\"_azd\", \"_cus\"))"
      ]
    },
    {
      "cell_type": "markdown",
      "metadata": {
        "id": "gIE9eiJB29-U"
      },
      "source": [
        "A first look on the output indicates that there are attributes with a lot of NaNs and even some full of NaNs. Let us visualize these results to get a better picture of the data. We will create a histogram dividing the percentage of NaNs in 10 bins counting corresponding attributes in each bin."
      ]
    },
    {
      "cell_type": "code",
      "execution_count": 60,
      "metadata": {
        "colab": {
          "base_uri": "https://localhost:8080/",
          "height": 513
        },
        "id": "6rbuO8UV2fVS",
        "outputId": "35e5ef97-9be0-4edf-eaaa-36c62dad85fa"
      },
      "outputs": [
        {
          "data": {
            "image/png": "[encoded data removed]",
            "text/plain": [
              "<Figure size 1152x576 with 2 Axes>"
            ]
          },
          "metadata": {},
          "output_type": "display_data"
        }
      ],
      "source": [
        "with sns.axes_style(\"whitegrid\"):\n",
        "    fig, ax = plt.subplots(1, 2, figsize=(16,8))\n",
        "    sns.histplot(ax=ax[0], data=azdias_nans, x=\"NaNportions\", bins=np.linspace(0, 1, 11)).set(title='[AZDIAS] Column counts per NaN portions')\n",
        "    sns.histplot(ax=ax[1], data=cus_df_nans, x=\"NaNportions\", bins=np.linspace(0, 1, 11)).set(title='[CUSTOMERS] Column counts per NaN portions')"
      ]
    },
    {
      "cell_type": "markdown",
      "metadata": {
        "id": "wJQfPTzCHR0I"
      },
      "source": [
        "We can see that both datasets have similar distributions of NaNs. The first plot for `azdias` shows that there are about 50+ attributes with NaNs above 80%. Around 280 attributes have less than 30% NaNs while the rest are between 30% - 80% NaNs. The second for `customers` shows that there are around 235 attributes with less than 30% NaNs and around 50 with more than 80% NaNs. We can confirm this with `value_counts`:\n",
        "\n",
        "* `AZDIAS`\n"
      ]
    },
    {
      "cell_type": "code",
      "execution_count": 61,
      "metadata": {
        "colab": {
          "base_uri": "https://localhost:8080/",
          "height": 359
        },
        "id": "1Mjg0zktJvbf",
        "outputId": "44143e40-a29b-4718-d7bd-026407c20429"
      },
      "outputs": [
        {
          "data": {
            "text/html": [
              "<div>\n",
              "<style scoped>\n",
              "    .dataframe tbody tr th:only-of-type {\n",
              "        vertical-align: middle;\n",
              "    }\n",
              "\n",
              "    .dataframe tbody tr th {\n",
              "        vertical-align: top;\n",
              "    }\n",
              "\n",
              "    .dataframe thead th {\n",
              "        text-align: right;\n",
              "    }\n",
              "</style>\n",
              "<table border=\"1\" class=\"dataframe\">\n",
              "  <thead>\n",
              "    <tr style=\"text-align: right;\">\n",
              "      <th></th>\n",
              "      <th>Bins</th>\n",
              "      <th>Count</th>\n",
              "      <th>ColPortion</th>\n",
              "    </tr>\n",
              "  </thead>\n",
              "  <tbody>\n",
              "    <tr>\n",
              "      <th>0</th>\n",
              "      <td>(-0.001, 0.1]</td>\n",
              "      <td>67</td>\n",
              "      <td>0.183060</td>\n",
              "    </tr>\n",
              "    <tr>\n",
              "      <th>1</th>\n",
              "      <td>(0.1, 0.2]</td>\n",
              "      <td>169</td>\n",
              "      <td>0.461749</td>\n",
              "    </tr>\n",
              "    <tr>\n",
              "      <th>2</th>\n",
              "      <td>(0.2, 0.3]</td>\n",
              "      <td>40</td>\n",
              "      <td>0.109290</td>\n",
              "    </tr>\n",
              "    <tr>\n",
              "      <th>3</th>\n",
              "      <td>(0.3, 0.4]</td>\n",
              "      <td>4</td>\n",
              "      <td>0.010929</td>\n",
              "    </tr>\n",
              "    <tr>\n",
              "      <th>4</th>\n",
              "      <td>(0.4, 0.5]</td>\n",
              "      <td>10</td>\n",
              "      <td>0.027322</td>\n",
              "    </tr>\n",
              "    <tr>\n",
              "      <th>5</th>\n",
              "      <td>(0.5, 0.6]</td>\n",
              "      <td>7</td>\n",
              "      <td>0.019126</td>\n",
              "    </tr>\n",
              "    <tr>\n",
              "      <th>6</th>\n",
              "      <td>(0.6, 0.7]</td>\n",
              "      <td>5</td>\n",
              "      <td>0.013661</td>\n",
              "    </tr>\n",
              "    <tr>\n",
              "      <th>7</th>\n",
              "      <td>(0.7, 0.8]</td>\n",
              "      <td>11</td>\n",
              "      <td>0.030055</td>\n",
              "    </tr>\n",
              "    <tr>\n",
              "      <th>8</th>\n",
              "      <td>(0.8, 0.9]</td>\n",
              "      <td>20</td>\n",
              "      <td>0.054645</td>\n",
              "    </tr>\n",
              "    <tr>\n",
              "      <th>9</th>\n",
              "      <td>(0.9, 1.0]</td>\n",
              "      <td>33</td>\n",
              "      <td>0.090164</td>\n",
              "    </tr>\n",
              "  </tbody>\n",
              "</table>\n",
              "</div>"
            ],
            "text/plain": [
              "            Bins  Count  ColPortion\n",
              "0  (-0.001, 0.1]     67    0.183060\n",
              "1     (0.1, 0.2]    169    0.461749\n",
              "2     (0.2, 0.3]     40    0.109290\n",
              "3     (0.3, 0.4]      4    0.010929\n",
              "4     (0.4, 0.5]     10    0.027322\n",
              "5     (0.5, 0.6]      7    0.019126\n",
              "6     (0.6, 0.7]      5    0.013661\n",
              "7     (0.7, 0.8]     11    0.030055\n",
              "8     (0.8, 0.9]     20    0.054645\n",
              "9     (0.9, 1.0]     33    0.090164"
            ]
          },
          "execution_count": 61,
          "metadata": {},
          "output_type": "execute_result"
        }
      ],
      "source": [
        "azd_col_nan_bins = azdias_nans.NaNportions.value_counts(bins=np.linspace(0, 1, 11), sort=False)\n",
        "\n",
        "azd_col_nan_bins = azd_col_nan_bins.rename_axis(\"Bins\").reset_index(name=\"Count\")\n",
        "\n",
        "azd_col_nan_bins[\"ColPortion\"] = azd_col_nan_bins.Count / azdias.shape[1]\n",
        "\n",
        "azd_col_nan_bins"
      ]
    },
    {
      "cell_type": "code",
      "execution_count": 62,
      "metadata": {
        "colab": {
          "base_uri": "https://localhost:8080/"
        },
        "id": "evEpfSVv1VPW",
        "outputId": "a521969c-f6da-4c4c-8c90-5ab83f98dcca"
      },
      "outputs": [
        {
          "data": {
            "text/plain": [
              "Count         276.000000\n",
              "ColPortion      0.754098\n",
              "dtype: float64"
            ]
          },
          "execution_count": 62,
          "metadata": {},
          "output_type": "execute_result"
        }
      ],
      "source": [
        "azd_col_nan_bins.loc[:2,].sum()"
      ]
    },
    {
      "cell_type": "markdown",
      "metadata": {
        "id": "FWAnwTMKRbRI"
      },
      "source": [
        "* `CUSTOMERS`"
      ]
    },
    {
      "cell_type": "code",
      "execution_count": 63,
      "metadata": {
        "colab": {
          "base_uri": "https://localhost:8080/",
          "height": 359
        },
        "id": "UzJoHJdiL6Tg",
        "outputId": "ac396487-90e9-4abd-a336-2db43fcb56c7"
      },
      "outputs": [
        {
          "data": {
            "text/html": [
              "<div>\n",
              "<style scoped>\n",
              "    .dataframe tbody tr th:only-of-type {\n",
              "        vertical-align: middle;\n",
              "    }\n",
              "\n",
              "    .dataframe tbody tr th {\n",
              "        vertical-align: top;\n",
              "    }\n",
              "\n",
              "    .dataframe thead th {\n",
              "        text-align: right;\n",
              "    }\n",
              "</style>\n",
              "<table border=\"1\" class=\"dataframe\">\n",
              "  <thead>\n",
              "    <tr style=\"text-align: right;\">\n",
              "      <th></th>\n",
              "      <th>Bins</th>\n",
              "      <th>Count</th>\n",
              "      <th>ColPortion</th>\n",
              "    </tr>\n",
              "  </thead>\n",
              "  <tbody>\n",
              "    <tr>\n",
              "      <th>0</th>\n",
              "      <td>(-0.001, 0.1]</td>\n",
              "      <td>59</td>\n",
              "      <td>0.159892</td>\n",
              "    </tr>\n",
              "    <tr>\n",
              "      <th>1</th>\n",
              "      <td>(0.1, 0.2]</td>\n",
              "      <td>0</td>\n",
              "      <td>0.000000</td>\n",
              "    </tr>\n",
              "    <tr>\n",
              "      <th>2</th>\n",
              "      <td>(0.2, 0.3]</td>\n",
              "      <td>176</td>\n",
              "      <td>0.476965</td>\n",
              "    </tr>\n",
              "    <tr>\n",
              "      <th>3</th>\n",
              "      <td>(0.3, 0.4]</td>\n",
              "      <td>40</td>\n",
              "      <td>0.108401</td>\n",
              "    </tr>\n",
              "    <tr>\n",
              "      <th>4</th>\n",
              "      <td>(0.4, 0.5]</td>\n",
              "      <td>20</td>\n",
              "      <td>0.054201</td>\n",
              "    </tr>\n",
              "    <tr>\n",
              "      <th>5</th>\n",
              "      <td>(0.5, 0.6]</td>\n",
              "      <td>10</td>\n",
              "      <td>0.027100</td>\n",
              "    </tr>\n",
              "    <tr>\n",
              "      <th>6</th>\n",
              "      <td>(0.6, 0.7]</td>\n",
              "      <td>8</td>\n",
              "      <td>0.021680</td>\n",
              "    </tr>\n",
              "    <tr>\n",
              "      <th>7</th>\n",
              "      <td>(0.7, 0.8]</td>\n",
              "      <td>9</td>\n",
              "      <td>0.024390</td>\n",
              "    </tr>\n",
              "    <tr>\n",
              "      <th>8</th>\n",
              "      <td>(0.8, 0.9]</td>\n",
              "      <td>18</td>\n",
              "      <td>0.048780</td>\n",
              "    </tr>\n",
              "    <tr>\n",
              "      <th>9</th>\n",
              "      <td>(0.9, 1.0]</td>\n",
              "      <td>29</td>\n",
              "      <td>0.078591</td>\n",
              "    </tr>\n",
              "  </tbody>\n",
              "</table>\n",
              "</div>"
            ],
            "text/plain": [
              "            Bins  Count  ColPortion\n",
              "0  (-0.001, 0.1]     59    0.159892\n",
              "1     (0.1, 0.2]      0    0.000000\n",
              "2     (0.2, 0.3]    176    0.476965\n",
              "3     (0.3, 0.4]     40    0.108401\n",
              "4     (0.4, 0.5]     20    0.054201\n",
              "5     (0.5, 0.6]     10    0.027100\n",
              "6     (0.6, 0.7]      8    0.021680\n",
              "7     (0.7, 0.8]      9    0.024390\n",
              "8     (0.8, 0.9]     18    0.048780\n",
              "9     (0.9, 1.0]     29    0.078591"
            ]
          },
          "execution_count": 63,
          "metadata": {},
          "output_type": "execute_result"
        }
      ],
      "source": [
        "cus_col_nan_bins = cus_df_nans.NaNportions.value_counts(bins=np.linspace(0, 1, 11), sort=False)\n",
        "\n",
        "cus_col_nan_bins = cus_col_nan_bins.rename_axis(\"Bins\").reset_index(name=\"Count\")\n",
        "\n",
        "cus_col_nan_bins[\"ColPortion\"] = cus_col_nan_bins.Count / custrs.shape[1]\n",
        "\n",
        "cus_col_nan_bins"
      ]
    },
    {
      "cell_type": "code",
      "execution_count": 64,
      "metadata": {
        "colab": {
          "base_uri": "https://localhost:8080/"
        },
        "id": "f-weU28oQdYi",
        "outputId": "dbb96c02-c6fc-4610-d87c-fb612e1db6da"
      },
      "outputs": [
        {
          "data": {
            "text/plain": [
              "Count         235.000000\n",
              "ColPortion      0.636856\n",
              "dtype: float64"
            ]
          },
          "execution_count": 64,
          "metadata": {},
          "output_type": "execute_result"
        }
      ],
      "source": [
        "cus_col_nan_bins.loc[:2,].sum()"
      ]
    },
    {
      "cell_type": "markdown",
      "metadata": {
        "id": "r8mPD3c3RiBE"
      },
      "source": [
        "####Format data for plotting\n",
        "\n",
        "We need to convert the dataframe to [long-form](http://seaborn.pydata.org/tutorial/data_structure.html#long-form-vs-wide-form-data) to use the `hue` argument in `sns.barplot` to plot the data."
      ]
    },
    {
      "cell_type": "code",
      "execution_count": 65,
      "metadata": {
        "colab": {
          "base_uri": "https://localhost:8080/",
          "height": 204
        },
        "id": "d2NL0Nk_MZsD",
        "outputId": "64cae28a-9ad6-4b88-aaef-e9e02f9cbaa7"
      },
      "outputs": [
        {
          "data": {
            "text/html": [
              "<div>\n",
              "<style scoped>\n",
              "    .dataframe tbody tr th:only-of-type {\n",
              "        vertical-align: middle;\n",
              "    }\n",
              "\n",
              "    .dataframe tbody tr th {\n",
              "        vertical-align: top;\n",
              "    }\n",
              "\n",
              "    .dataframe thead th {\n",
              "        text-align: right;\n",
              "    }\n",
              "</style>\n",
              "<table border=\"1\" class=\"dataframe\">\n",
              "  <thead>\n",
              "    <tr style=\"text-align: right;\">\n",
              "      <th></th>\n",
              "      <th>Bins</th>\n",
              "      <th>Count_azd</th>\n",
              "      <th>ColPortion_azd</th>\n",
              "      <th>Count_cus</th>\n",
              "      <th>ColPortion_cus</th>\n",
              "    </tr>\n",
              "  </thead>\n",
              "  <tbody>\n",
              "    <tr>\n",
              "      <th>0</th>\n",
              "      <td>(-0.001, 0.1]</td>\n",
              "      <td>67</td>\n",
              "      <td>0.183060</td>\n",
              "      <td>59</td>\n",
              "      <td>0.159892</td>\n",
              "    </tr>\n",
              "    <tr>\n",
              "      <th>1</th>\n",
              "      <td>(0.1, 0.2]</td>\n",
              "      <td>169</td>\n",
              "      <td>0.461749</td>\n",
              "      <td>0</td>\n",
              "      <td>0.000000</td>\n",
              "    </tr>\n",
              "    <tr>\n",
              "      <th>2</th>\n",
              "      <td>(0.2, 0.3]</td>\n",
              "      <td>40</td>\n",
              "      <td>0.109290</td>\n",
              "      <td>176</td>\n",
              "      <td>0.476965</td>\n",
              "    </tr>\n",
              "    <tr>\n",
              "      <th>3</th>\n",
              "      <td>(0.3, 0.4]</td>\n",
              "      <td>4</td>\n",
              "      <td>0.010929</td>\n",
              "      <td>40</td>\n",
              "      <td>0.108401</td>\n",
              "    </tr>\n",
              "    <tr>\n",
              "      <th>4</th>\n",
              "      <td>(0.4, 0.5]</td>\n",
              "      <td>10</td>\n",
              "      <td>0.027322</td>\n",
              "      <td>20</td>\n",
              "      <td>0.054201</td>\n",
              "    </tr>\n",
              "  </tbody>\n",
              "</table>\n",
              "</div>"
            ],
            "text/plain": [
              "            Bins  Count_azd  ColPortion_azd  Count_cus  ColPortion_cus\n",
              "0  (-0.001, 0.1]         67        0.183060         59        0.159892\n",
              "1     (0.1, 0.2]        169        0.461749          0        0.000000\n",
              "2     (0.2, 0.3]         40        0.109290        176        0.476965\n",
              "3     (0.3, 0.4]          4        0.010929         40        0.108401\n",
              "4     (0.4, 0.5]         10        0.027322         20        0.054201"
            ]
          },
          "execution_count": 65,
          "metadata": {},
          "output_type": "execute_result"
        }
      ],
      "source": [
        "merge_col_nan_bins = pd.merge(azd_col_nan_bins, cus_col_nan_bins, on='Bins', suffixes=(\"_azd\", \"_cus\"))\n",
        "\n",
        "merge_col_nan_bins.head()"
      ]
    },
    {
      "cell_type": "code",
      "execution_count": 66,
      "metadata": {
        "colab": {
          "base_uri": "https://localhost:8080/",
          "height": 204
        },
        "id": "cPFgga5kNuuK",
        "outputId": "2a71a636-a373-4d31-fc6e-a8820fc68a50"
      },
      "outputs": [
        {
          "data": {
            "text/html": [
              "<div>\n",
              "<style scoped>\n",
              "    .dataframe tbody tr th:only-of-type {\n",
              "        vertical-align: middle;\n",
              "    }\n",
              "\n",
              "    .dataframe tbody tr th {\n",
              "        vertical-align: top;\n",
              "    }\n",
              "\n",
              "    .dataframe thead th {\n",
              "        text-align: right;\n",
              "    }\n",
              "</style>\n",
              "<table border=\"1\" class=\"dataframe\">\n",
              "  <thead>\n",
              "    <tr style=\"text-align: right;\">\n",
              "      <th></th>\n",
              "      <th>Bins</th>\n",
              "      <th>variable</th>\n",
              "      <th>value</th>\n",
              "    </tr>\n",
              "  </thead>\n",
              "  <tbody>\n",
              "    <tr>\n",
              "      <th>0</th>\n",
              "      <td>(-0.001, 0.1]</td>\n",
              "      <td>ColPortion_azd</td>\n",
              "      <td>0.183060</td>\n",
              "    </tr>\n",
              "    <tr>\n",
              "      <th>1</th>\n",
              "      <td>(0.1, 0.2]</td>\n",
              "      <td>ColPortion_azd</td>\n",
              "      <td>0.461749</td>\n",
              "    </tr>\n",
              "    <tr>\n",
              "      <th>2</th>\n",
              "      <td>(0.2, 0.3]</td>\n",
              "      <td>ColPortion_azd</td>\n",
              "      <td>0.109290</td>\n",
              "    </tr>\n",
              "    <tr>\n",
              "      <th>3</th>\n",
              "      <td>(0.3, 0.4]</td>\n",
              "      <td>ColPortion_azd</td>\n",
              "      <td>0.010929</td>\n",
              "    </tr>\n",
              "    <tr>\n",
              "      <th>4</th>\n",
              "      <td>(0.4, 0.5]</td>\n",
              "      <td>ColPortion_azd</td>\n",
              "      <td>0.027322</td>\n",
              "    </tr>\n",
              "  </tbody>\n",
              "</table>\n",
              "</div>"
            ],
            "text/plain": [
              "            Bins        variable     value\n",
              "0  (-0.001, 0.1]  ColPortion_azd  0.183060\n",
              "1     (0.1, 0.2]  ColPortion_azd  0.461749\n",
              "2     (0.2, 0.3]  ColPortion_azd  0.109290\n",
              "3     (0.3, 0.4]  ColPortion_azd  0.010929\n",
              "4     (0.4, 0.5]  ColPortion_azd  0.027322"
            ]
          },
          "execution_count": 66,
          "metadata": {},
          "output_type": "execute_result"
        }
      ],
      "source": [
        "cols_nan_portns_melt = merge_col_nan_bins[\n",
        "                                          ['Bins', 'ColPortion_azd', 'ColPortion_cus']\n",
        "                                         ].melt(id_vars=('Bins'))\n",
        "cols_nan_portns_melt.head()"
      ]
    },
    {
      "cell_type": "code",
      "execution_count": 70,
      "metadata": {
        "colab": {
          "base_uri": "https://localhost:8080/",
          "height": 513
        },
        "id": "Gdjv9iEg10f9",
        "outputId": "80dabb5e-a599-4612-b1a3-e1b188a59be3"
      },
      "outputs": [
        {
          "data": {
            "image/png": "[encoded data removed]",
            "text/plain": [
              "<Figure size 864x576 with 1 Axes>"
            ]
          },
          "metadata": {},
          "output_type": "display_data"
        }
      ],
      "source": [
        "with sns.axes_style(\"whitegrid\"):\n",
        "    plt.figure(figsize=(12,8))\n",
        "    sns.barplot(data=cols_nan_portns_melt, x=\"value\", y=\"Bins\", hue=\"variable\", palette=\"Blues_d\").set(title='[AZDIAS, CUSTOMERS] Columns portions per NaN bin')"
      ]
    },
    {
      "cell_type": "markdown",
      "metadata": {
        "id": "4cKl8oIKIEsw"
      },
      "source": [
        "###Rows NaNs analysis\n",
        "\n",
        "* Identify missing values per row as percentage (portions).\n",
        "* Drop rows with all NaNs (zero rows will be droppped):"
      ]
    },
    {
      "cell_type": "code",
      "execution_count": 71,
      "metadata": {
        "id": "yU-jD-FHmHD0"
      },
      "outputs": [],
      "source": [
        "def rows_nans_info(df, cols=None):\n",
        "    \"\"\"Return a new dataframe with NaNs summary per row of the input df\n",
        "\n",
        "    Creates and returns a new dataframe with three columns that correspond to\n",
        "    the rows of the input dataframe, the NaN counts per row\n",
        "    and portion of NaNs per row.\n",
        "\n",
        "    Args:\n",
        "        df (pd.DataFrame): The input dataframe to process.\n",
        "        cols (tuple): 3 elements tuple with the names of the three columns in the\n",
        "        output dataframe. If left None the three default names ('Rows',\n",
        "        'NaNcounts', 'NaNportions') will be used.\n",
        "    \n",
        "    Returns:\n",
        "        A new dataframe with three columns providing counts and portions of NaNs\n",
        "        per row in the input df. Examle:\n",
        "\n",
        "            Rows    NaNcounts\tNaNportions\n",
        "        0\t0\t    685843\t    0.769554\n",
        "        1\t1       73499\t    0.082470\n",
        "        2\t2\t    310267\t    0.348137\n",
        "        3\t3\t    810163\t    0.909048\n",
        "        4\t4       861722\t    0.966900\n",
        "    \"\"\"\n",
        "    cols = cols or ('Rows', 'NaNcounts', 'NaNportions')\n",
        "    new_df = df.isna().sum(axis=1).rename_axis(cols[0]).reset_index(name=cols[1])\n",
        "    new_df[cols[2]] = new_df[cols[1]] / df.shape[1]\n",
        "\n",
        "    print(\"Average NaNs per row: \", round(new_df[cols[2]].mean(), 4))\n",
        "    print(\"Max NaNs per row: \", round(new_df[cols[2]].max(), 4))\n",
        "    print(\"Min NaNs per row: \", round(new_df[cols[2]].min(), 4))\n",
        "\n",
        "    return new_df"
      ]
    },
    {
      "cell_type": "markdown",
      "metadata": {
        "id": "rwGZI1TiuVwX"
      },
      "source": [
        "* `AZDIAS`"
      ]
    },
    {
      "cell_type": "code",
      "execution_count": 72,
      "metadata": {
        "colab": {
          "base_uri": "https://localhost:8080/"
        },
        "id": "XQH1JJQhpAqB",
        "outputId": "d3e238a0-2120-4f11-edea-6fa6232ea102"
      },
      "outputs": [
        {
          "name": "stdout",
          "output_type": "stream",
          "text": [
            "Average NaNs per row:  0.2798\n",
            "Max NaNs per row:  0.8579\n",
            "Min NaNs per row:  0.0738\n"
          ]
        },
        {
          "data": {
            "text/plain": [
              "count    200000.000000\n",
              "mean          0.279800\n",
              "std           0.197866\n",
              "min           0.073770\n",
              "25%           0.183060\n",
              "50%           0.213115\n",
              "75%           0.243169\n",
              "max           0.857923\n",
              "Name: NaNportions, dtype: float64"
            ]
          },
          "execution_count": 72,
          "metadata": {},
          "output_type": "execute_result"
        }
      ],
      "source": [
        "azdias_row_nans = rows_nans_info(azdias)\n",
        "\n",
        "azdias_row_nans.NaNportions.describe()"
      ]
    },
    {
      "cell_type": "markdown",
      "metadata": {
        "id": "R9OlKWVFuZby"
      },
      "source": [
        "* `CUSTOMERS`"
      ]
    },
    {
      "cell_type": "code",
      "execution_count": 73,
      "metadata": {
        "colab": {
          "base_uri": "https://localhost:8080/"
        },
        "id": "T4Ge91SCldMK",
        "outputId": "d4a9f5e8-fdd6-4afd-c453-659d74b0b654"
      },
      "outputs": [
        {
          "name": "stdout",
          "output_type": "stream",
          "text": [
            "Average NaNs per row:  0.3553\n",
            "Max NaNs per row:  0.8537\n",
            "Min NaNs per row:  0.0759\n"
          ]
        },
        {
          "data": {
            "text/plain": [
              "count    150000.000000\n",
              "mean          0.355295\n",
              "std           0.287496\n",
              "min           0.075881\n",
              "25%           0.165312\n",
              "50%           0.195122\n",
              "75%           0.745257\n",
              "max           0.853659\n",
              "Name: NaNportions, dtype: float64"
            ]
          },
          "execution_count": 73,
          "metadata": {},
          "output_type": "execute_result"
        }
      ],
      "source": [
        "custrs_row_nans = rows_nans_info(custrs)\n",
        "\n",
        "custrs_row_nans.NaNportions.describe()"
      ]
    },
    {
      "cell_type": "markdown",
      "metadata": {
        "id": "9hFDrCkIrquH"
      },
      "source": [
        "There is on average a 28% missing values per row in `AZDIAS` and around 35% NaNs per row in `CUSTOMERS`."
      ]
    },
    {
      "cell_type": "code",
      "execution_count": 75,
      "metadata": {
        "colab": {
          "base_uri": "https://localhost:8080/",
          "height": 513
        },
        "id": "Hu35Ukta5tHV",
        "outputId": "f3b8759e-6aee-42f1-d2e6-727e8bd0415e"
      },
      "outputs": [
        {
          "data": {
            "image/png": "[encoded data removed]",
            "text/plain": [
              "<Figure size 1152x576 with 2 Axes>"
            ]
          },
          "metadata": {},
          "output_type": "display_data"
        }
      ],
      "source": [
        "with sns.axes_style(\"whitegrid\"):\n",
        "    fig, ax = plt.subplots(1, 2, figsize=(16,8))\n",
        "    sns.histplot(ax=ax[0], data=azdias_row_nans, x=\"NaNportions\", bins=np.linspace(0, 1, 11)).set(title='[AZDIAS] Row counts per NaN portions')\n",
        "    sns.histplot(ax=ax[1], data=custrs_row_nans, x=\"NaNportions\", bins=np.linspace(0, 1, 11)).set(title='[CUSTOMERS] Row counts per NaN portions')"
      ]
    },
    {
      "cell_type": "markdown",
      "metadata": {
        "id": "PH4GtlQA8Uap"
      },
      "source": [
        "As seen both datasets have most rows with missing values in the range 10% - 30% per row."
      ]
    },
    {
      "cell_type": "markdown",
      "metadata": {
        "id": "4s8zwqfUptnq"
      },
      "source": [
        "* `AZDIAS`"
      ]
    },
    {
      "cell_type": "code",
      "execution_count": 76,
      "metadata": {
        "colab": {
          "base_uri": "https://localhost:8080/",
          "height": 359
        },
        "id": "ooDvb_K7lTBj",
        "outputId": "635419da-e8af-460d-eac1-e97456892d80"
      },
      "outputs": [
        {
          "data": {
            "text/html": [
              "<div>\n",
              "<style scoped>\n",
              "    .dataframe tbody tr th:only-of-type {\n",
              "        vertical-align: middle;\n",
              "    }\n",
              "\n",
              "    .dataframe tbody tr th {\n",
              "        vertical-align: top;\n",
              "    }\n",
              "\n",
              "    .dataframe thead th {\n",
              "        text-align: right;\n",
              "    }\n",
              "</style>\n",
              "<table border=\"1\" class=\"dataframe\">\n",
              "  <thead>\n",
              "    <tr style=\"text-align: right;\">\n",
              "      <th></th>\n",
              "      <th>Bins</th>\n",
              "      <th>Count</th>\n",
              "      <th>RowPortion</th>\n",
              "    </tr>\n",
              "  </thead>\n",
              "  <tbody>\n",
              "    <tr>\n",
              "      <th>0</th>\n",
              "      <td>(-0.001, 0.1]</td>\n",
              "      <td>170</td>\n",
              "      <td>0.000850</td>\n",
              "    </tr>\n",
              "    <tr>\n",
              "      <th>1</th>\n",
              "      <td>(0.1, 0.2]</td>\n",
              "      <td>77776</td>\n",
              "      <td>0.388880</td>\n",
              "    </tr>\n",
              "    <tr>\n",
              "      <th>2</th>\n",
              "      <td>(0.2, 0.3]</td>\n",
              "      <td>87739</td>\n",
              "      <td>0.438695</td>\n",
              "    </tr>\n",
              "    <tr>\n",
              "      <th>3</th>\n",
              "      <td>(0.3, 0.4]</td>\n",
              "      <td>10002</td>\n",
              "      <td>0.050010</td>\n",
              "    </tr>\n",
              "    <tr>\n",
              "      <th>4</th>\n",
              "      <td>(0.4, 0.5]</td>\n",
              "      <td>774</td>\n",
              "      <td>0.003870</td>\n",
              "    </tr>\n",
              "    <tr>\n",
              "      <th>5</th>\n",
              "      <td>(0.5, 0.6]</td>\n",
              "      <td>1070</td>\n",
              "      <td>0.005350</td>\n",
              "    </tr>\n",
              "    <tr>\n",
              "      <th>6</th>\n",
              "      <td>(0.6, 0.7]</td>\n",
              "      <td>1341</td>\n",
              "      <td>0.006705</td>\n",
              "    </tr>\n",
              "    <tr>\n",
              "      <th>7</th>\n",
              "      <td>(0.7, 0.8]</td>\n",
              "      <td>4420</td>\n",
              "      <td>0.022100</td>\n",
              "    </tr>\n",
              "    <tr>\n",
              "      <th>8</th>\n",
              "      <td>(0.8, 0.9]</td>\n",
              "      <td>16708</td>\n",
              "      <td>0.083540</td>\n",
              "    </tr>\n",
              "    <tr>\n",
              "      <th>9</th>\n",
              "      <td>(0.9, 1.0]</td>\n",
              "      <td>0</td>\n",
              "      <td>0.000000</td>\n",
              "    </tr>\n",
              "  </tbody>\n",
              "</table>\n",
              "</div>"
            ],
            "text/plain": [
              "            Bins  Count  RowPortion\n",
              "0  (-0.001, 0.1]    170    0.000850\n",
              "1     (0.1, 0.2]  77776    0.388880\n",
              "2     (0.2, 0.3]  87739    0.438695\n",
              "3     (0.3, 0.4]  10002    0.050010\n",
              "4     (0.4, 0.5]    774    0.003870\n",
              "5     (0.5, 0.6]   1070    0.005350\n",
              "6     (0.6, 0.7]   1341    0.006705\n",
              "7     (0.7, 0.8]   4420    0.022100\n",
              "8     (0.8, 0.9]  16708    0.083540\n",
              "9     (0.9, 1.0]      0    0.000000"
            ]
          },
          "execution_count": 76,
          "metadata": {},
          "output_type": "execute_result"
        }
      ],
      "source": [
        "azd_row_nan_bins = azdias_row_nans.NaNportions.value_counts(bins=np.linspace(0, 1, 11), sort=False)\n",
        "\n",
        "azd_row_nan_bins = azd_row_nan_bins.rename_axis(\"Bins\").reset_index(name=\"Count\")\n",
        "\n",
        "azd_row_nan_bins[\"RowPortion\"] = azd_row_nan_bins.Count / azdias.shape[0]\n",
        "\n",
        "azd_row_nan_bins"
      ]
    },
    {
      "cell_type": "code",
      "execution_count": 77,
      "metadata": {
        "colab": {
          "base_uri": "https://localhost:8080/"
        },
        "id": "YmmRkr6dzV3D",
        "outputId": "03e5831e-bd83-49d3-cc7c-0d2e250c1f72"
      },
      "outputs": [
        {
          "data": {
            "text/plain": [
              "Count         165685.000000\n",
              "RowPortion         0.828425\n",
              "dtype: float64"
            ]
          },
          "execution_count": 77,
          "metadata": {},
          "output_type": "execute_result"
        }
      ],
      "source": [
        "# 20% NaN counts and dataset poriton - AZDIAS\n",
        "azd_row_nan_bins.loc[:2,].sum()"
      ]
    },
    {
      "cell_type": "markdown",
      "metadata": {
        "id": "MTaGrnrTqPMG"
      },
      "source": [
        "* `CUSTOMERS`"
      ]
    },
    {
      "cell_type": "code",
      "execution_count": 78,
      "metadata": {
        "colab": {
          "base_uri": "https://localhost:8080/",
          "height": 359
        },
        "id": "YkUdfIzLp7wl",
        "outputId": "80186ae4-ee7e-4ce8-9806-f671709e9a92"
      },
      "outputs": [
        {
          "data": {
            "text/html": [
              "<div>\n",
              "<style scoped>\n",
              "    .dataframe tbody tr th:only-of-type {\n",
              "        vertical-align: middle;\n",
              "    }\n",
              "\n",
              "    .dataframe tbody tr th {\n",
              "        vertical-align: top;\n",
              "    }\n",
              "\n",
              "    .dataframe thead th {\n",
              "        text-align: right;\n",
              "    }\n",
              "</style>\n",
              "<table border=\"1\" class=\"dataframe\">\n",
              "  <thead>\n",
              "    <tr style=\"text-align: right;\">\n",
              "      <th></th>\n",
              "      <th>Bins</th>\n",
              "      <th>Count</th>\n",
              "      <th>RowPortion</th>\n",
              "    </tr>\n",
              "  </thead>\n",
              "  <tbody>\n",
              "    <tr>\n",
              "      <th>0</th>\n",
              "      <td>(-0.001, 0.1]</td>\n",
              "      <td>261</td>\n",
              "      <td>0.001740</td>\n",
              "    </tr>\n",
              "    <tr>\n",
              "      <th>1</th>\n",
              "      <td>(0.1, 0.2]</td>\n",
              "      <td>80790</td>\n",
              "      <td>0.538600</td>\n",
              "    </tr>\n",
              "    <tr>\n",
              "      <th>2</th>\n",
              "      <td>(0.2, 0.3]</td>\n",
              "      <td>24415</td>\n",
              "      <td>0.162767</td>\n",
              "    </tr>\n",
              "    <tr>\n",
              "      <th>3</th>\n",
              "      <td>(0.3, 0.4]</td>\n",
              "      <td>4394</td>\n",
              "      <td>0.029293</td>\n",
              "    </tr>\n",
              "    <tr>\n",
              "      <th>4</th>\n",
              "      <td>(0.4, 0.5]</td>\n",
              "      <td>241</td>\n",
              "      <td>0.001607</td>\n",
              "    </tr>\n",
              "    <tr>\n",
              "      <th>5</th>\n",
              "      <td>(0.5, 0.6]</td>\n",
              "      <td>255</td>\n",
              "      <td>0.001700</td>\n",
              "    </tr>\n",
              "    <tr>\n",
              "      <th>6</th>\n",
              "      <td>(0.6, 0.7]</td>\n",
              "      <td>806</td>\n",
              "      <td>0.005373</td>\n",
              "    </tr>\n",
              "    <tr>\n",
              "      <th>7</th>\n",
              "      <td>(0.7, 0.8]</td>\n",
              "      <td>2389</td>\n",
              "      <td>0.015927</td>\n",
              "    </tr>\n",
              "    <tr>\n",
              "      <th>8</th>\n",
              "      <td>(0.8, 0.9]</td>\n",
              "      <td>36449</td>\n",
              "      <td>0.242993</td>\n",
              "    </tr>\n",
              "    <tr>\n",
              "      <th>9</th>\n",
              "      <td>(0.9, 1.0]</td>\n",
              "      <td>0</td>\n",
              "      <td>0.000000</td>\n",
              "    </tr>\n",
              "  </tbody>\n",
              "</table>\n",
              "</div>"
            ],
            "text/plain": [
              "            Bins  Count  RowPortion\n",
              "0  (-0.001, 0.1]    261    0.001740\n",
              "1     (0.1, 0.2]  80790    0.538600\n",
              "2     (0.2, 0.3]  24415    0.162767\n",
              "3     (0.3, 0.4]   4394    0.029293\n",
              "4     (0.4, 0.5]    241    0.001607\n",
              "5     (0.5, 0.6]    255    0.001700\n",
              "6     (0.6, 0.7]    806    0.005373\n",
              "7     (0.7, 0.8]   2389    0.015927\n",
              "8     (0.8, 0.9]  36449    0.242993\n",
              "9     (0.9, 1.0]      0    0.000000"
            ]
          },
          "execution_count": 78,
          "metadata": {},
          "output_type": "execute_result"
        }
      ],
      "source": [
        "cus_row_nan_bins = custrs_row_nans.NaNportions.value_counts(bins=np.linspace(0, 1, 11), sort=False)\n",
        "\n",
        "cus_row_nan_bins = cus_row_nan_bins.rename_axis(\"Bins\").reset_index(name=\"Count\")\n",
        "\n",
        "cus_row_nan_bins[\"RowPortion\"] = cus_row_nan_bins.Count / custrs.shape[0]\n",
        "\n",
        "cus_row_nan_bins"
      ]
    },
    {
      "cell_type": "code",
      "execution_count": 79,
      "metadata": {
        "colab": {
          "base_uri": "https://localhost:8080/"
        },
        "id": "6QjGUX2JgA9d",
        "outputId": "88789a9d-e7c6-4240-a718-cf88aed521f2"
      },
      "outputs": [
        {
          "data": {
            "text/plain": [
              "Count         105466.000000\n",
              "RowPortion         0.703107\n",
              "dtype: float64"
            ]
          },
          "execution_count": 79,
          "metadata": {},
          "output_type": "execute_result"
        }
      ],
      "source": [
        "# 20% NaN counts and dataset poriton - CUSTOMERS\n",
        "cus_row_nan_bins.loc[:2,].sum()"
      ]
    },
    {
      "cell_type": "markdown",
      "metadata": {
        "id": "GkEPSY3ksGEo"
      },
      "source": [
        "####Format data in long-form for plotting with `sns.barplot`. "
      ]
    },
    {
      "cell_type": "code",
      "execution_count": 80,
      "metadata": {
        "colab": {
          "base_uri": "https://localhost:8080/",
          "height": 204
        },
        "id": "Pxev9AVQqbIS",
        "outputId": "c6b5a0cd-681c-4acb-c8dc-6417dc734274"
      },
      "outputs": [
        {
          "data": {
            "text/html": [
              "<div>\n",
              "<style scoped>\n",
              "    .dataframe tbody tr th:only-of-type {\n",
              "        vertical-align: middle;\n",
              "    }\n",
              "\n",
              "    .dataframe tbody tr th {\n",
              "        vertical-align: top;\n",
              "    }\n",
              "\n",
              "    .dataframe thead th {\n",
              "        text-align: right;\n",
              "    }\n",
              "</style>\n",
              "<table border=\"1\" class=\"dataframe\">\n",
              "  <thead>\n",
              "    <tr style=\"text-align: right;\">\n",
              "      <th></th>\n",
              "      <th>Bins</th>\n",
              "      <th>variable</th>\n",
              "      <th>value</th>\n",
              "    </tr>\n",
              "  </thead>\n",
              "  <tbody>\n",
              "    <tr>\n",
              "      <th>0</th>\n",
              "      <td>(-0.001, 0.1]</td>\n",
              "      <td>RowPortion_azd</td>\n",
              "      <td>0.000850</td>\n",
              "    </tr>\n",
              "    <tr>\n",
              "      <th>1</th>\n",
              "      <td>(0.1, 0.2]</td>\n",
              "      <td>RowPortion_azd</td>\n",
              "      <td>0.388880</td>\n",
              "    </tr>\n",
              "    <tr>\n",
              "      <th>2</th>\n",
              "      <td>(0.2, 0.3]</td>\n",
              "      <td>RowPortion_azd</td>\n",
              "      <td>0.438695</td>\n",
              "    </tr>\n",
              "    <tr>\n",
              "      <th>3</th>\n",
              "      <td>(0.3, 0.4]</td>\n",
              "      <td>RowPortion_azd</td>\n",
              "      <td>0.050010</td>\n",
              "    </tr>\n",
              "    <tr>\n",
              "      <th>4</th>\n",
              "      <td>(0.4, 0.5]</td>\n",
              "      <td>RowPortion_azd</td>\n",
              "      <td>0.003870</td>\n",
              "    </tr>\n",
              "  </tbody>\n",
              "</table>\n",
              "</div>"
            ],
            "text/plain": [
              "            Bins        variable     value\n",
              "0  (-0.001, 0.1]  RowPortion_azd  0.000850\n",
              "1     (0.1, 0.2]  RowPortion_azd  0.388880\n",
              "2     (0.2, 0.3]  RowPortion_azd  0.438695\n",
              "3     (0.3, 0.4]  RowPortion_azd  0.050010\n",
              "4     (0.4, 0.5]  RowPortion_azd  0.003870"
            ]
          },
          "execution_count": 80,
          "metadata": {},
          "output_type": "execute_result"
        }
      ],
      "source": [
        "merge_row_nan_bins = pd.merge(azd_row_nan_bins, cus_row_nan_bins,\n",
        "                              on='Bins', suffixes=(\"_azd\", \"_cus\"))\n",
        "\n",
        "rows_nan_portns_melt = merge_row_nan_bins[\n",
        "                                          ['Bins', 'RowPortion_azd', 'RowPortion_cus']\n",
        "                                         ].melt(id_vars=('Bins'))\n",
        "\n",
        "rows_nan_portns_melt.head()"
      ]
    },
    {
      "cell_type": "code",
      "execution_count": 81,
      "metadata": {
        "colab": {
          "base_uri": "https://localhost:8080/",
          "height": 513
        },
        "id": "267iYIqashPU",
        "outputId": "7bfb3557-e71b-4499-ae24-97c7bd10c8da"
      },
      "outputs": [
        {
          "data": {
            "image/png": "[encoded data removed]",
            "text/plain": [
              "<Figure size 864x576 with 1 Axes>"
            ]
          },
          "metadata": {},
          "output_type": "display_data"
        }
      ],
      "source": [
        "with sns.axes_style(\"whitegrid\"):\n",
        "    plt.figure(figsize=(12,8))\n",
        "    sns.barplot(data=rows_nan_portns_melt, x=\"value\", y=\"Bins\", hue=\"variable\", palette=\"Blues_d\").set(title='[AZDIAS, CUSTOMERS] Rows portions per NaN bin')"
      ]
    },
    {
      "cell_type": "markdown",
      "metadata": {
        "id": "Gxx6Eb3JzqYi"
      },
      "source": [
        "\n",
        "In both datasets most rows have NaNs in the range 10% - 30%.\n"
      ]
    },
    {
      "cell_type": "markdown",
      "metadata": {
        "id": "QRFY80lVsTbv"
      },
      "source": [
        "####Column type and exploration for the attributes with values range `'…'`\n",
        "\n",
        "Finally we have the special cases where values' pool was `'…'`, described with the `attrs_val_dict_any` dictionary mapping. These include a wide range of numerical values:"
      ]
    },
    {
      "cell_type": "markdown",
      "metadata": {
        "id": "IvFtJAUiisMf"
      },
      "source": [
        "* `AZDIAS`"
      ]
    },
    {
      "cell_type": "code",
      "execution_count": 82,
      "metadata": {
        "colab": {
          "base_uri": "https://localhost:8080/"
        },
        "id": "Nf8NKh-ipMPs",
        "outputId": "d384c0fd-7fee-4d95-bc41-8da68912dac5"
      },
      "outputs": [
        {
          "data": {
            "text/plain": [
              "ANZ_HAUSHALTE_AKTIV    float64\n",
              "ANZ_HH_TITEL           float64\n",
              "ANZ_PERSONEN           float64\n",
              "ANZ_TITEL              float64\n",
              "GEBURTSJAHR            float64\n",
              "KBA13_ANZAHL_PKW       float64\n",
              "MIN_GEBAEUDEJAHR       float64\n",
              "dtype: object"
            ]
          },
          "execution_count": 82,
          "metadata": {},
          "output_type": "execute_result"
        }
      ],
      "source": [
        "# Check `attrs_val_dict_any` special cases types:\n",
        "azdias.loc[:, attrs_val_dict_any.keys()].dtypes"
      ]
    },
    {
      "cell_type": "code",
      "execution_count": 83,
      "metadata": {
        "colab": {
          "base_uri": "https://localhost:8080/",
          "height": 297
        },
        "id": "P52gpw_Jtn7Q",
        "outputId": "d0ab1adf-26af-4208-f6ac-de3fae1b7c03"
      },
      "outputs": [
        {
          "data": {
            "text/html": [
              "<div>\n",
              "<style scoped>\n",
              "    .dataframe tbody tr th:only-of-type {\n",
              "        vertical-align: middle;\n",
              "    }\n",
              "\n",
              "    .dataframe tbody tr th {\n",
              "        vertical-align: top;\n",
              "    }\n",
              "\n",
              "    .dataframe thead th {\n",
              "        text-align: right;\n",
              "    }\n",
              "</style>\n",
              "<table border=\"1\" class=\"dataframe\">\n",
              "  <thead>\n",
              "    <tr style=\"text-align: right;\">\n",
              "      <th></th>\n",
              "      <th>ANZ_HAUSHALTE_AKTIV</th>\n",
              "      <th>ANZ_HH_TITEL</th>\n",
              "      <th>ANZ_PERSONEN</th>\n",
              "      <th>ANZ_TITEL</th>\n",
              "      <th>GEBURTSJAHR</th>\n",
              "      <th>KBA13_ANZAHL_PKW</th>\n",
              "      <th>MIN_GEBAEUDEJAHR</th>\n",
              "    </tr>\n",
              "  </thead>\n",
              "  <tbody>\n",
              "    <tr>\n",
              "      <th>count</th>\n",
              "      <td>177706.000000</td>\n",
              "      <td>5458.000000</td>\n",
              "      <td>175774.000000</td>\n",
              "      <td>691.000000</td>\n",
              "      <td>111962.000000</td>\n",
              "      <td>176269.000000</td>\n",
              "      <td>179151.000000</td>\n",
              "    </tr>\n",
              "    <tr>\n",
              "      <th>mean</th>\n",
              "      <td>8.416373</td>\n",
              "      <td>1.368450</td>\n",
              "      <td>1.800693</td>\n",
              "      <td>1.073806</td>\n",
              "      <td>1967.145264</td>\n",
              "      <td>617.631852</td>\n",
              "      <td>1993.299262</td>\n",
              "    </tr>\n",
              "    <tr>\n",
              "      <th>std</th>\n",
              "      <td>16.032139</td>\n",
              "      <td>1.424545</td>\n",
              "      <td>1.123983</td>\n",
              "      <td>0.282935</td>\n",
              "      <td>17.858062</td>\n",
              "      <td>338.716225</td>\n",
              "      <td>3.375281</td>\n",
              "    </tr>\n",
              "    <tr>\n",
              "      <th>min</th>\n",
              "      <td>1.000000</td>\n",
              "      <td>1.000000</td>\n",
              "      <td>1.000000</td>\n",
              "      <td>1.000000</td>\n",
              "      <td>1900.000000</td>\n",
              "      <td>1.000000</td>\n",
              "      <td>1985.000000</td>\n",
              "    </tr>\n",
              "    <tr>\n",
              "      <th>25%</th>\n",
              "      <td>2.000000</td>\n",
              "      <td>1.000000</td>\n",
              "      <td>1.000000</td>\n",
              "      <td>1.000000</td>\n",
              "      <td>1955.000000</td>\n",
              "      <td>381.000000</td>\n",
              "      <td>1992.000000</td>\n",
              "    </tr>\n",
              "    <tr>\n",
              "      <th>50%</th>\n",
              "      <td>4.000000</td>\n",
              "      <td>1.000000</td>\n",
              "      <td>1.000000</td>\n",
              "      <td>1.000000</td>\n",
              "      <td>1968.000000</td>\n",
              "      <td>547.000000</td>\n",
              "      <td>1992.000000</td>\n",
              "    </tr>\n",
              "    <tr>\n",
              "      <th>75%</th>\n",
              "      <td>10.000000</td>\n",
              "      <td>1.000000</td>\n",
              "      <td>2.000000</td>\n",
              "      <td>1.000000</td>\n",
              "      <td>1981.000000</td>\n",
              "      <td>777.000000</td>\n",
              "      <td>1993.000000</td>\n",
              "    </tr>\n",
              "    <tr>\n",
              "      <th>max</th>\n",
              "      <td>523.000000</td>\n",
              "      <td>23.000000</td>\n",
              "      <td>40.000000</td>\n",
              "      <td>3.000000</td>\n",
              "      <td>2017.000000</td>\n",
              "      <td>2300.000000</td>\n",
              "      <td>2016.000000</td>\n",
              "    </tr>\n",
              "  </tbody>\n",
              "</table>\n",
              "</div>"
            ],
            "text/plain": [
              "       ANZ_HAUSHALTE_AKTIV  ANZ_HH_TITEL  ...  KBA13_ANZAHL_PKW  MIN_GEBAEUDEJAHR\n",
              "count        177706.000000   5458.000000  ...     176269.000000     179151.000000\n",
              "mean              8.416373      1.368450  ...        617.631852       1993.299262\n",
              "std              16.032139      1.424545  ...        338.716225          3.375281\n",
              "min               1.000000      1.000000  ...          1.000000       1985.000000\n",
              "25%               2.000000      1.000000  ...        381.000000       1992.000000\n",
              "50%               4.000000      1.000000  ...        547.000000       1992.000000\n",
              "75%              10.000000      1.000000  ...        777.000000       1993.000000\n",
              "max             523.000000     23.000000  ...       2300.000000       2016.000000\n",
              "\n",
              "[8 rows x 7 columns]"
            ]
          },
          "execution_count": 83,
          "metadata": {},
          "output_type": "execute_result"
        }
      ],
      "source": [
        "azdias.loc[:, attrs_val_dict_any.keys()].describe()"
      ]
    },
    {
      "cell_type": "markdown",
      "metadata": {
        "id": "xgnuwrZEwsCn"
      },
      "source": [
        "We may observe that values for the above attributes look acceptable."
      ]
    },
    {
      "cell_type": "code",
      "execution_count": 84,
      "metadata": {
        "colab": {
          "base_uri": "https://localhost:8080/"
        },
        "id": "RA1in0-vxcGA",
        "outputId": "b790db0f-3353-406c-ea40-78f6b3b1cc11"
      },
      "outputs": [
        {
          "data": {
            "text/plain": [
              "ANZ_HAUSHALTE_AKTIV     250\n",
              "ANZ_HH_TITEL             18\n",
              "ANZ_PERSONEN             18\n",
              "ANZ_TITEL                 3\n",
              "GEBURTSJAHR             115\n",
              "KBA13_ANZAHL_PKW       1255\n",
              "MIN_GEBAEUDEJAHR         32\n",
              "dtype: int64"
            ]
          },
          "execution_count": 84,
          "metadata": {},
          "output_type": "execute_result"
        }
      ],
      "source": [
        "# Count unique values per attribute (column)\n",
        "azdias.loc[:, attrs_val_dict_any.keys()].nunique()"
      ]
    },
    {
      "cell_type": "code",
      "execution_count": 85,
      "metadata": {
        "colab": {
          "base_uri": "https://localhost:8080/"
        },
        "id": "kvr5HOBQymPd",
        "outputId": "758ce41f-8a80-4f87-ef60-67e68f2850ea"
      },
      "outputs": [
        {
          "data": {
            "text/plain": [
              "ANZ_HAUSHALTE_AKTIV    [1.0, 40.0, 4.0, 7.0, 6.0, nan, 2.0, 5.0, 9.0,...\n",
              "ANZ_HH_TITEL           [nan, 1.0, 2.0, 8.0, 3.0, 4.0, 6.0, 13.0, 7.0,...\n",
              "ANZ_PERSONEN           [4.0, nan, 1.0, 2.0, 3.0, 5.0, 6.0, 7.0, 10.0,...\n",
              "ANZ_TITEL                                           [nan, 1.0, 2.0, 3.0]\n",
              "GEBURTSJAHR            [1994.0, 1921.0, nan, 2011.0, 1969.0, 1981.0, ...\n",
              "KBA13_ANZAHL_PKW       [546.0, 311.0, 945.0, 482.0, 125.0, nan, 371.0...\n",
              "MIN_GEBAEUDEJAHR       [1992.0, nan, 1997.0, 2009.0, 1996.0, 1988.0, ...\n",
              "dtype: object"
            ]
          },
          "execution_count": 85,
          "metadata": {},
          "output_type": "execute_result"
        }
      ],
      "source": [
        "# Discrete unique values per column\n",
        "azdias.loc[:, attrs_val_dict_any.keys()].apply(lambda col: col.unique())"
      ]
    },
    {
      "cell_type": "markdown",
      "metadata": {
        "id": "-cDc1oZjiwx0"
      },
      "source": [
        "* `CUSTOMERS`"
      ]
    },
    {
      "cell_type": "code",
      "execution_count": 86,
      "metadata": {
        "colab": {
          "base_uri": "https://localhost:8080/"
        },
        "id": "99JzwJ8Piy-k",
        "outputId": "df2f04f4-30f9-449a-ee76-47f085fb07df"
      },
      "outputs": [
        {
          "data": {
            "text/plain": [
              "ANZ_HAUSHALTE_AKTIV    float64\n",
              "ANZ_HH_TITEL           float64\n",
              "ANZ_PERSONEN           float64\n",
              "ANZ_TITEL              float64\n",
              "GEBURTSJAHR            float64\n",
              "KBA13_ANZAHL_PKW       float64\n",
              "MIN_GEBAEUDEJAHR       float64\n",
              "dtype: object"
            ]
          },
          "execution_count": 86,
          "metadata": {},
          "output_type": "execute_result"
        }
      ],
      "source": [
        "# Check `attrs_val_dict_any` special cases types:\n",
        "custrs.loc[:, attrs_val_dict_any.keys()].dtypes"
      ]
    },
    {
      "cell_type": "code",
      "execution_count": 88,
      "metadata": {
        "colab": {
          "base_uri": "https://localhost:8080/",
          "height": 297
        },
        "id": "zRayo-nki8df",
        "outputId": "aa8c0721-6a1c-4d77-d57e-00e161035fcc"
      },
      "outputs": [
        {
          "data": {
            "text/html": [
              "<div>\n",
              "<style scoped>\n",
              "    .dataframe tbody tr th:only-of-type {\n",
              "        vertical-align: middle;\n",
              "    }\n",
              "\n",
              "    .dataframe tbody tr th {\n",
              "        vertical-align: top;\n",
              "    }\n",
              "\n",
              "    .dataframe thead th {\n",
              "        text-align: right;\n",
              "    }\n",
              "</style>\n",
              "<table border=\"1\" class=\"dataframe\">\n",
              "  <thead>\n",
              "    <tr style=\"text-align: right;\">\n",
              "      <th></th>\n",
              "      <th>ANZ_HAUSHALTE_AKTIV</th>\n",
              "      <th>ANZ_HH_TITEL</th>\n",
              "      <th>ANZ_PERSONEN</th>\n",
              "      <th>ANZ_TITEL</th>\n",
              "      <th>GEBURTSJAHR</th>\n",
              "      <th>KBA13_ANZAHL_PKW</th>\n",
              "      <th>MIN_GEBAEUDEJAHR</th>\n",
              "    </tr>\n",
              "  </thead>\n",
              "  <tbody>\n",
              "    <tr>\n",
              "      <th>count</th>\n",
              "      <td>109061.000000</td>\n",
              "      <td>4806.00000</td>\n",
              "      <td>108008.000000</td>\n",
              "      <td>2153.000000</td>\n",
              "      <td>77250.000000</td>\n",
              "      <td>109969.000000</td>\n",
              "      <td>110987.000000</td>\n",
              "    </tr>\n",
              "    <tr>\n",
              "      <th>mean</th>\n",
              "      <td>5.071694</td>\n",
              "      <td>1.55722</td>\n",
              "      <td>2.385749</td>\n",
              "      <td>1.080353</td>\n",
              "      <td>1949.782861</td>\n",
              "      <td>667.147232</td>\n",
              "      <td>1993.047618</td>\n",
              "    </tr>\n",
              "    <tr>\n",
              "      <th>std</th>\n",
              "      <td>14.578718</td>\n",
              "      <td>2.15419</td>\n",
              "      <td>1.324750</td>\n",
              "      <td>0.283613</td>\n",
              "      <td>14.939949</td>\n",
              "      <td>340.677636</td>\n",
              "      <td>3.056307</td>\n",
              "    </tr>\n",
              "    <tr>\n",
              "      <th>min</th>\n",
              "      <td>1.000000</td>\n",
              "      <td>1.00000</td>\n",
              "      <td>1.000000</td>\n",
              "      <td>1.000000</td>\n",
              "      <td>1900.000000</td>\n",
              "      <td>5.000000</td>\n",
              "      <td>1985.000000</td>\n",
              "    </tr>\n",
              "    <tr>\n",
              "      <th>25%</th>\n",
              "      <td>1.000000</td>\n",
              "      <td>1.00000</td>\n",
              "      <td>1.000000</td>\n",
              "      <td>1.000000</td>\n",
              "      <td>1939.000000</td>\n",
              "      <td>430.000000</td>\n",
              "      <td>1992.000000</td>\n",
              "    </tr>\n",
              "    <tr>\n",
              "      <th>50%</th>\n",
              "      <td>1.000000</td>\n",
              "      <td>1.00000</td>\n",
              "      <td>2.000000</td>\n",
              "      <td>1.000000</td>\n",
              "      <td>1948.000000</td>\n",
              "      <td>593.000000</td>\n",
              "      <td>1992.000000</td>\n",
              "    </tr>\n",
              "    <tr>\n",
              "      <th>75%</th>\n",
              "      <td>4.000000</td>\n",
              "      <td>1.00000</td>\n",
              "      <td>3.000000</td>\n",
              "      <td>1.000000</td>\n",
              "      <td>1960.000000</td>\n",
              "      <td>828.000000</td>\n",
              "      <td>1992.000000</td>\n",
              "    </tr>\n",
              "    <tr>\n",
              "      <th>max</th>\n",
              "      <td>523.000000</td>\n",
              "      <td>23.00000</td>\n",
              "      <td>21.000000</td>\n",
              "      <td>3.000000</td>\n",
              "      <td>2017.000000</td>\n",
              "      <td>2300.000000</td>\n",
              "      <td>2016.000000</td>\n",
              "    </tr>\n",
              "  </tbody>\n",
              "</table>\n",
              "</div>"
            ],
            "text/plain": [
              "       ANZ_HAUSHALTE_AKTIV  ANZ_HH_TITEL  ...  KBA13_ANZAHL_PKW  MIN_GEBAEUDEJAHR\n",
              "count        109061.000000    4806.00000  ...     109969.000000     110987.000000\n",
              "mean              5.071694       1.55722  ...        667.147232       1993.047618\n",
              "std              14.578718       2.15419  ...        340.677636          3.056307\n",
              "min               1.000000       1.00000  ...          5.000000       1985.000000\n",
              "25%               1.000000       1.00000  ...        430.000000       1992.000000\n",
              "50%               1.000000       1.00000  ...        593.000000       1992.000000\n",
              "75%               4.000000       1.00000  ...        828.000000       1992.000000\n",
              "max             523.000000      23.00000  ...       2300.000000       2016.000000\n",
              "\n",
              "[8 rows x 7 columns]"
            ]
          },
          "execution_count": 88,
          "metadata": {},
          "output_type": "execute_result"
        }
      ],
      "source": [
        "custrs.loc[:, attrs_val_dict_any.keys()].describe()"
      ]
    },
    {
      "cell_type": "code",
      "execution_count": 87,
      "metadata": {
        "colab": {
          "base_uri": "https://localhost:8080/"
        },
        "id": "4po6xQp_jG06",
        "outputId": "bfb1a195-7af0-4c5d-c9f2-32cfb1a2d34f"
      },
      "outputs": [
        {
          "data": {
            "text/plain": [
              "ANZ_HAUSHALTE_AKTIV     208\n",
              "ANZ_HH_TITEL             19\n",
              "ANZ_PERSONEN             17\n",
              "ANZ_TITEL                 3\n",
              "GEBURTSJAHR             110\n",
              "KBA13_ANZAHL_PKW       1248\n",
              "MIN_GEBAEUDEJAHR         32\n",
              "dtype: int64"
            ]
          },
          "execution_count": 87,
          "metadata": {},
          "output_type": "execute_result"
        }
      ],
      "source": [
        "# Count unique values per attribute (column)\n",
        "custrs.loc[:, attrs_val_dict_any.keys()].nunique()"
      ]
    },
    {
      "cell_type": "code",
      "execution_count": 89,
      "metadata": {
        "colab": {
          "base_uri": "https://localhost:8080/"
        },
        "id": "vS1isDPOjLXn",
        "outputId": "7598a1fe-db44-4241-e918-2d61368d9b3b"
      },
      "outputs": [
        {
          "data": {
            "text/plain": [
              "ANZ_HAUSHALTE_AKTIV    [nan, 8.0, 7.0, 1.0, 6.0, 74.0, 9.0, 2.0, 12.0...\n",
              "ANZ_HH_TITEL           [nan, 2.0, 4.0, 1.0, 6.0, 5.0, 20.0, 9.0, 3.0,...\n",
              "ANZ_PERSONEN           [nan, 2.0, 4.0, 1.0, 3.0, 5.0, 6.0, 7.0, 8.0, ...\n",
              "ANZ_TITEL                                           [nan, 1.0, 2.0, 3.0]\n",
              "GEBURTSJAHR            [nan, 1960.0, 1975.0, 1914.0, 1959.0, 1943.0, ...\n",
              "KBA13_ANZAHL_PKW       [nan, 240.0, 755.0, 513.0, 1167.0, 714.0, 177....\n",
              "MIN_GEBAEUDEJAHR       [nan, 1992.0, 1994.0, 1995.0, 1997.0, 2001.0, ...\n",
              "dtype: object"
            ]
          },
          "execution_count": 89,
          "metadata": {},
          "output_type": "execute_result"
        }
      ],
      "source": [
        "# Discrete unique values per column\n",
        "custrs.loc[:, attrs_val_dict_any.keys()].apply(lambda col: col.unique())"
      ]
    },
    {
      "cell_type": "markdown",
      "metadata": {
        "id": "JHl1KCtMkkhp"
      },
      "source": [
        "## Identifing (if any) columns to drop\n",
        "\n",
        "At this point we will proceed concatenating the two samples in a single dataframe, creating a new feature `TARGET` that will be `1` for customers and `-1` for unknown.\n",
        "\n",
        "This will combine attribute characteristics from both datasets and help us make decisions best on both samples.\n",
        "\n",
        "First let us check if there are any common user IDs in LNR colums:"
      ]
    },
    {
      "cell_type": "code",
      "execution_count": 90,
      "metadata": {
        "colab": {
          "base_uri": "https://localhost:8080/"
        },
        "id": "alC6YufSIpVe",
        "outputId": "fcc70423-bc6a-42ab-b77e-cefd0915b052"
      },
      "outputs": [
        {
          "data": {
            "text/plain": [
              "array([], dtype=int64)"
            ]
          },
          "execution_count": 90,
          "metadata": {},
          "output_type": "execute_result"
        }
      ],
      "source": [
        "np.intersect1d(azdias.LNR.values, custrs.LNR.values)"
      ]
    },
    {
      "cell_type": "markdown",
      "metadata": {
        "id": "4nTnKw9QKdrG"
      },
      "source": [
        "Concatenate the dataframes:"
      ]
    },
    {
      "cell_type": "code",
      "execution_count": 91,
      "metadata": {
        "colab": {
          "base_uri": "https://localhost:8080/"
        },
        "id": "HXPVl039KibG",
        "outputId": "76151260-6d9b-4a90-dcea-70f82b8c96ed"
      },
      "outputs": [
        {
          "data": {
            "text/plain": [
              "(350000, 365)"
            ]
          },
          "execution_count": 91,
          "metadata": {},
          "output_type": "execute_result"
        }
      ],
      "source": [
        "# Create a new dataframe from `azdias` and `customers` dataframes creating a `target` attribute:\n",
        "df_train = pd.concat([azdias.assign(TARGET=-1),\n",
        "                      custrs.drop(columns=[\"CUSTOMER_GROUP\", \"ONLINE_PURCHASE\", \"PRODUCT_GROUP\"])\n",
        "                      .assign(TARGET=1)])\n",
        "\n",
        "# Shuffle dataframe\n",
        "df_train = df_train.sample(frac=1).reset_index(drop=True)\n",
        "\n",
        "# Keep \"LNR\" IDs\n",
        "clientIDs = df_train[\"LNR\"]\n",
        "\n",
        "# Remove \"LNR\" and \"EINGEFUEGT_AM\" columns which are client IDs and entry datetimes\n",
        "df_train.drop(columns=[\"LNR\", \"EINGEFUEGT_AM\"], inplace=True)\n",
        "\n",
        "df_train.shape"
      ]
    },
    {
      "cell_type": "code",
      "execution_count": 92,
      "metadata": {
        "colab": {
          "base_uri": "https://localhost:8080/"
        },
        "id": "0NUYUSt2MuLt",
        "outputId": "765da9b4-59bd-4eab-fa2c-f1429b86d323"
      },
      "outputs": [
        {
          "data": {
            "text/plain": [
              "float64     357\n",
              "int64         5\n",
              "category      1\n",
              "category      1\n",
              "category      1\n",
              "dtype: int64"
            ]
          },
          "execution_count": 92,
          "metadata": {},
          "output_type": "execute_result"
        }
      ],
      "source": [
        "df_train.dtypes.value_counts()"
      ]
    },
    {
      "cell_type": "code",
      "execution_count": 93,
      "metadata": {
        "id": "AQQalTZFe7Dx"
      },
      "outputs": [],
      "source": [
        "# Convert float columns to int.\n",
        "df_train_int_cols = df_train.select_dtypes(include=['float64']).fillna(-1.0).astype(int)\n",
        "df_train.loc[:, df_train_int_cols.columns] = df_train_int_cols"
      ]
    },
    {
      "cell_type": "code",
      "execution_count": 94,
      "metadata": {
        "colab": {
          "base_uri": "https://localhost:8080/"
        },
        "id": "4eIj7QSkfg91",
        "outputId": "1fe16052-1884-49d2-ae7e-d8b08e6868bb"
      },
      "outputs": [
        {
          "data": {
            "text/plain": [
              "int64       362\n",
              "category      1\n",
              "category      1\n",
              "category      1\n",
              "dtype: int64"
            ]
          },
          "execution_count": 94,
          "metadata": {},
          "output_type": "execute_result"
        }
      ],
      "source": [
        "df_train.dtypes.value_counts()"
      ]
    },
    {
      "cell_type": "markdown",
      "metadata": {
        "id": "zFbsHASkJbQM"
      },
      "source": [
        "### One-hot encoding\n",
        "\n",
        "One-hot encode categorical attributes `CAMEO_DEU_2015, D19_LETZTER_KAUF_BRANCHE, OST_WEST_KZ`."
      ]
    },
    {
      "cell_type": "code",
      "execution_count": 95,
      "metadata": {
        "colab": {
          "base_uri": "https://localhost:8080/",
          "height": 204
        },
        "id": "KJF4WWxnN1iq",
        "outputId": "ccf42652-85a9-4dbc-b15a-36395a0d4ffc"
      },
      "outputs": [
        {
          "data": {
            "text/html": [
              "<div>\n",
              "<style scoped>\n",
              "    .dataframe tbody tr th:only-of-type {\n",
              "        vertical-align: middle;\n",
              "    }\n",
              "\n",
              "    .dataframe tbody tr th {\n",
              "        vertical-align: top;\n",
              "    }\n",
              "\n",
              "    .dataframe thead th {\n",
              "        text-align: right;\n",
              "    }\n",
              "</style>\n",
              "<table border=\"1\" class=\"dataframe\">\n",
              "  <thead>\n",
              "    <tr style=\"text-align: right;\">\n",
              "      <th></th>\n",
              "      <th>CAMEO_DEU_2015</th>\n",
              "      <th>D19_LETZTER_KAUF_BRANCHE</th>\n",
              "      <th>OST_WEST_KZ</th>\n",
              "    </tr>\n",
              "  </thead>\n",
              "  <tbody>\n",
              "    <tr>\n",
              "      <th>0</th>\n",
              "      <td>7A</td>\n",
              "      <td>D19_ENERGIE</td>\n",
              "      <td>O</td>\n",
              "    </tr>\n",
              "    <tr>\n",
              "      <th>1</th>\n",
              "      <td>7A</td>\n",
              "      <td>D19_UNBEKANNT</td>\n",
              "      <td>O</td>\n",
              "    </tr>\n",
              "    <tr>\n",
              "      <th>2</th>\n",
              "      <td>4A</td>\n",
              "      <td>D19_HAUS_DEKO</td>\n",
              "      <td>W</td>\n",
              "    </tr>\n",
              "    <tr>\n",
              "      <th>3</th>\n",
              "      <td>2D</td>\n",
              "      <td>D19_SONSTIGE</td>\n",
              "      <td>W</td>\n",
              "    </tr>\n",
              "    <tr>\n",
              "      <th>4</th>\n",
              "      <td>1A</td>\n",
              "      <td>NaN</td>\n",
              "      <td>O</td>\n",
              "    </tr>\n",
              "  </tbody>\n",
              "</table>\n",
              "</div>"
            ],
            "text/plain": [
              "  CAMEO_DEU_2015 D19_LETZTER_KAUF_BRANCHE OST_WEST_KZ\n",
              "0             7A              D19_ENERGIE           O\n",
              "1             7A            D19_UNBEKANNT           O\n",
              "2             4A            D19_HAUS_DEKO           W\n",
              "3             2D             D19_SONSTIGE           W\n",
              "4             1A                      NaN           O"
            ]
          },
          "execution_count": 95,
          "metadata": {},
          "output_type": "execute_result"
        }
      ],
      "source": [
        "df_train.select_dtypes(include='category').head()"
      ]
    },
    {
      "cell_type": "code",
      "execution_count": 96,
      "metadata": {
        "colab": {
          "base_uri": "https://localhost:8080/"
        },
        "id": "zgX9vrcnkoW1",
        "outputId": "fe6814ca-e149-4b2a-eb8c-5c5b940d2fef"
      },
      "outputs": [
        {
          "data": {
            "text/plain": [
              "(350000, 443)"
            ]
          },
          "execution_count": 96,
          "metadata": {},
          "output_type": "execute_result"
        }
      ],
      "source": [
        "df_train = pd.get_dummies(df_train)\n",
        "# azd_cp = pd.get_dummies(azdias)\n",
        "# cus_cp = pd.get_dummies(custrs)\n",
        "\n",
        "df_train.shape"
      ]
    },
    {
      "cell_type": "code",
      "execution_count": 97,
      "metadata": {
        "id": "9cAHUnhslCwk"
      },
      "outputs": [],
      "source": [
        "# Match the columns in the dataframes\n",
        "# azd_cp, cus_cp = azd_cp.align(cus_cp, join = 'inner', axis = 1)\n",
        "# print('Azdias copy shape: ', azd_cp.shape)\n",
        "# print('Customers copy shape: ', cus_cp.shape)"
      ]
    },
    {
      "cell_type": "code",
      "execution_count": 98,
      "metadata": {
        "id": "KLuhfp1Ylr8r"
      },
      "outputs": [],
      "source": [
        "# Remove \"LNR\" and \"EINGEFUEGT_AM\" columns which are client IDs and entry datetimes\n",
        "\n",
        "# azd_cp.drop(columns=[\"LNR\", \"EINGEFUEGT_AM\"], errors='ignore', inplace=True)\n",
        "# cus_cp.drop(columns=[\"LNR\", \"EINGEFUEGT_AM\"], errors='ignore', inplace=True)\n",
        "\n",
        "# azd_cp.shape, cus_cp.shape"
      ]
    },
    {
      "cell_type": "markdown",
      "metadata": {
        "id": "zRiU-CQLosIP"
      },
      "source": [
        "irrelevant features, highly correlated features, and missing values can prevent the model from learning and decrease generalization performance on the testing data"
      ]
    },
    {
      "cell_type": "markdown",
      "metadata": {
        "id": "x6zhEN80ow9m"
      },
      "source": [
        "## Feature selection to keep only the most useful attributes\n",
        "\n",
        "* Start with **collinear** attributes\n",
        "(Ref: https://chrisalbon.com/code/machine_learning/feature_selection/drop_highly_correlated_features/)"
      ]
    },
    {
      "cell_type": "markdown",
      "metadata": {
        "id": "CYq3EONpwRSG"
      },
      "source": [
        "Calculate correlation on a stratified sample of the data, since `azdias` dataframe is large enough that notebook runs out of memory while calculating the correlation matrix."
      ]
    },
    {
      "cell_type": "code",
      "execution_count": 99,
      "metadata": {
        "id": "SqpHOJZx23Ef"
      },
      "outputs": [],
      "source": [
        "def get_stratified_samples(df, fracs=np.array([0.2, 0.8])):\n",
        "    \"\"\"Split an input df into two stratified sub-sets of sizes indicated\n",
        "    by the fracs array.\n",
        "    \"\"\"\n",
        "    # shuffle input df\n",
        "    df_ = df.sample(frac=1) \n",
        "    # split into 2 parts, return df_smpl_a, df_smpl_b\n",
        "    return np.array_split(df_, (fracs[:-1].cumsum() * len(df_)).astype(int))\n",
        "\n",
        "# azd_cp_smpl_a, azd_cp_smpl_b = get_stratified_samples(azd_cp)\n",
        "\n",
        "# azd_cp_smpl_a.shape, azd_cp_smpl_b.shape"
      ]
    },
    {
      "cell_type": "code",
      "execution_count": 100,
      "metadata": {
        "id": "qXQ7xITAAIEy"
      },
      "outputs": [],
      "source": [
        "def drop_collinear_cols(df, threshold=0.95):\n",
        "    \"\"\"Ιdentifies the highly correlated variables based on the absolute\n",
        "    magnitude of the Pearson correlation coefficient being greater than threshold (0.9)\n",
        "\n",
        "    Args:\n",
        "        df (pd.Dataframe): Input dataframe to work on\n",
        "        threshold (float): threshold value above which the columns will selected\n",
        "    \n",
        "    Returns:\n",
        "        np.array of selected collumns based on the threshold value.\n",
        "    \"\"\"\n",
        "    # Calculate absolute value correlation matrix from the input df.\n",
        "    # corr_mat = df.corr().abs()\n",
        "    corr_mat = np.abs(np.corrcoef(df, rowvar=False))\n",
        "    # Convert to dataframe\n",
        "    corr_mat = pd.DataFrame(corr_mat, index=df.columns, columns=df.columns)\n",
        "    # Select upper triangle of correlation matrix\n",
        "    upr = corr_mat.where(np.triu(np.ones(corr_mat.shape), k=1).astype(np.bool))\n",
        "    # Find index of attribute columns with correlation greater than `threshold`\n",
        "    return np.array([c for c in upr.columns if any(upr[c] > threshold)])\n"
      ]
    },
    {
      "cell_type": "code",
      "execution_count": 101,
      "metadata": {
        "colab": {
          "base_uri": "https://localhost:8080/"
        },
        "id": "2QfKzZJGPor4",
        "outputId": "6813f7a0-20b7-4782-831a-aed96ce72655"
      },
      "outputs": [
        {
          "data": {
            "text/plain": [
              "(array(['ANZ_STATISTISCHE_HAUSHALTE', 'CAMEO_INTL_2015', 'KBA05_KRSHERST2',\n",
              "        'KBA05_KRSHERST3', 'KBA05_SEG2', 'KBA13_HALTER_30',\n",
              "        'KBA13_HALTER_40', 'KBA13_HALTER_55', 'KBA13_HALTER_66',\n",
              "        'KBA13_HERST_SONST', 'KBA13_KMH_250', 'KBA13_MERCEDES',\n",
              "        'KBA13_SEG_VAN', 'KBA13_VW', 'LP_FAMILIE_GROB',\n",
              "        'LP_LEBENSPHASE_FEIN', 'LP_LEBENSPHASE_GROB', 'LP_STATUS_GROB',\n",
              "        'PLZ8_BAUMAX', 'PLZ8_GBZ', 'PLZ8_HHZ'], dtype='<U26'), 21)"
            ]
          },
          "execution_count": 101,
          "metadata": {},
          "output_type": "execute_result"
        }
      ],
      "source": [
        "# Find attribute columns with correlation greater than 0.95\n",
        "to_drop = drop_collinear_cols(df_train)\n",
        "\n",
        "to_drop, len(to_drop)"
      ]
    },
    {
      "cell_type": "code",
      "execution_count": 102,
      "metadata": {
        "id": "YVjSQO6xHpdK"
      },
      "outputs": [],
      "source": [
        "# Find attribute columns with correlation greater than 0.95\n",
        "# to_drop_azd = drop_collinear_cols(azd_cp_smpl_a)\n",
        "\n",
        "# to_drop_azd, len(to_drop_azd)"
      ]
    },
    {
      "cell_type": "markdown",
      "metadata": {
        "id": "58j18dCQnyWK"
      },
      "source": [
        "We will do the same in the `CUSTOMERS` dataset to compare the attributes identified for dropping."
      ]
    },
    {
      "cell_type": "code",
      "execution_count": null,
      "metadata": {
        "id": "om1xmrLIntb1"
      },
      "outputs": [],
      "source": [
        "# CUSTOMERS\n",
        "# cus_cp_smpl_a, cus_cp_smpl_b = get_stratified_samples(cus_cp)\n",
        "\n",
        "# cus_cp_smpl_a.shape, cus_cp_smpl_b.shape"
      ]
    },
    {
      "cell_type": "code",
      "execution_count": null,
      "metadata": {
        "id": "I6vMZYJRoWxA"
      },
      "outputs": [],
      "source": [
        "# Find attribute columns with correlation greater than 0.95\n",
        "# to_drop_cus = drop_collinear_cols(cus_cp_smpl_a)\n",
        "\n",
        "# to_drop_cus, len(to_drop_cus)"
      ]
    },
    {
      "cell_type": "markdown",
      "metadata": {
        "id": "jdECQI4SpZIG"
      },
      "source": [
        "Let's drop only the common ones identified in both datatsets' samples."
      ]
    },
    {
      "cell_type": "code",
      "execution_count": null,
      "metadata": {
        "id": "nHDTUk0NpXFZ"
      },
      "outputs": [],
      "source": [
        "# to_drop = set(to_drop_azd).intersection(to_drop_cus)\n",
        "# to_drop = np.intersect1d(to_drop_azd, to_drop_cus)\n",
        "\n",
        "# to_drop, len(to_drop)"
      ]
    },
    {
      "cell_type": "code",
      "execution_count": null,
      "metadata": {
        "id": "7NAJug2_hXmP"
      },
      "outputs": [],
      "source": [
        "# Clean up memory\n",
        "# del azd_cp, cus_cp, azd_cp_smpl_a, azd_cp_smpl_b, cus_cp_smpl_a, cus_cp_smpl_b\n",
        "# gc.collect()"
      ]
    },
    {
      "cell_type": "code",
      "execution_count": 103,
      "metadata": {
        "colab": {
          "base_uri": "https://localhost:8080/"
        },
        "id": "kmYZXXzGmpTa",
        "outputId": "3ff118c6-f449-47b1-ae6c-bc3b9c1f34c7"
      },
      "outputs": [
        {
          "data": {
            "text/plain": [
              "(350000, 422)"
            ]
          },
          "execution_count": 103,
          "metadata": {},
          "output_type": "execute_result"
        }
      ],
      "source": [
        "df_train.drop(columns=to_drop, inplace=True)\n",
        "\n",
        "df_train.shape"
      ]
    },
    {
      "cell_type": "markdown",
      "metadata": {
        "id": "KzBDP0AHnmA5"
      },
      "source": [
        "###Search more columns with high NaN ratio, check their significance.\n",
        "\n",
        "References:\n",
        "* https://www.kaggle.com/questions-and-answers/131935\n",
        "* https://stats.stackexchange.com/questions/221332/variance-of-a-distribution-of-multi-level-categorical-data\n",
        "\n",
        "Check attributes with NaN ratio more than **0.8**."
      ]
    },
    {
      "cell_type": "code",
      "execution_count": 104,
      "metadata": {
        "colab": {
          "base_uri": "https://localhost:8080/",
          "height": 470
        },
        "id": "dm8b90HXpw8l",
        "outputId": "bc1ffc5c-e255-4aa6-d047-e4180bceedcb"
      },
      "outputs": [
        {
          "name": "stdout",
          "output_type": "stream",
          "text": [
            "Average NaNs per column:  0.2611\n",
            "Max NaNs per column:  0.999\n",
            "Min NaNs per column:  0.0\n"
          ]
        },
        {
          "data": {
            "text/html": [
              "<div>\n",
              "<style scoped>\n",
              "    .dataframe tbody tr th:only-of-type {\n",
              "        vertical-align: middle;\n",
              "    }\n",
              "\n",
              "    .dataframe tbody tr th {\n",
              "        vertical-align: top;\n",
              "    }\n",
              "\n",
              "    .dataframe thead th {\n",
              "        text-align: right;\n",
              "    }\n",
              "</style>\n",
              "<table border=\"1\" class=\"dataframe\">\n",
              "  <thead>\n",
              "    <tr style=\"text-align: right;\">\n",
              "      <th></th>\n",
              "      <th>Columns</th>\n",
              "      <th>NaNcounts</th>\n",
              "      <th>NaNportions</th>\n",
              "    </tr>\n",
              "  </thead>\n",
              "  <tbody>\n",
              "    <tr>\n",
              "      <th>0</th>\n",
              "      <td>AGER_TYP</td>\n",
              "      <td>229566</td>\n",
              "      <td>0.655903</td>\n",
              "    </tr>\n",
              "    <tr>\n",
              "      <th>1</th>\n",
              "      <td>AKT_DAT_KL</td>\n",
              "      <td>52875</td>\n",
              "      <td>0.151071</td>\n",
              "    </tr>\n",
              "    <tr>\n",
              "      <th>2</th>\n",
              "      <td>ALTER_HH</td>\n",
              "      <td>123536</td>\n",
              "      <td>0.352960</td>\n",
              "    </tr>\n",
              "    <tr>\n",
              "      <th>3</th>\n",
              "      <td>ALTER_KIND1</td>\n",
              "      <td>322454</td>\n",
              "      <td>0.921297</td>\n",
              "    </tr>\n",
              "    <tr>\n",
              "      <th>4</th>\n",
              "      <td>ALTER_KIND2</td>\n",
              "      <td>339395</td>\n",
              "      <td>0.969700</td>\n",
              "    </tr>\n",
              "    <tr>\n",
              "      <th>...</th>\n",
              "      <td>...</td>\n",
              "      <td>...</td>\n",
              "      <td>...</td>\n",
              "    </tr>\n",
              "    <tr>\n",
              "      <th>417</th>\n",
              "      <td>D19_LETZTER_KAUF_BRANCHE_D19_VERSICHERUNGEN</td>\n",
              "      <td>0</td>\n",
              "      <td>0.000000</td>\n",
              "    </tr>\n",
              "    <tr>\n",
              "      <th>418</th>\n",
              "      <td>D19_LETZTER_KAUF_BRANCHE_D19_VOLLSORTIMENT</td>\n",
              "      <td>0</td>\n",
              "      <td>0.000000</td>\n",
              "    </tr>\n",
              "    <tr>\n",
              "      <th>419</th>\n",
              "      <td>D19_LETZTER_KAUF_BRANCHE_D19_WEIN_FEINKOST</td>\n",
              "      <td>0</td>\n",
              "      <td>0.000000</td>\n",
              "    </tr>\n",
              "    <tr>\n",
              "      <th>420</th>\n",
              "      <td>OST_WEST_KZ_O</td>\n",
              "      <td>0</td>\n",
              "      <td>0.000000</td>\n",
              "    </tr>\n",
              "    <tr>\n",
              "      <th>421</th>\n",
              "      <td>OST_WEST_KZ_W</td>\n",
              "      <td>0</td>\n",
              "      <td>0.000000</td>\n",
              "    </tr>\n",
              "  </tbody>\n",
              "</table>\n",
              "<p>422 rows × 3 columns</p>\n",
              "</div>"
            ],
            "text/plain": [
              "                                         Columns  NaNcounts  NaNportions\n",
              "0                                       AGER_TYP     229566     0.655903\n",
              "1                                     AKT_DAT_KL      52875     0.151071\n",
              "2                                       ALTER_HH     123536     0.352960\n",
              "3                                    ALTER_KIND1     322454     0.921297\n",
              "4                                    ALTER_KIND2     339395     0.969700\n",
              "..                                           ...        ...          ...\n",
              "417  D19_LETZTER_KAUF_BRANCHE_D19_VERSICHERUNGEN          0     0.000000\n",
              "418   D19_LETZTER_KAUF_BRANCHE_D19_VOLLSORTIMENT          0     0.000000\n",
              "419   D19_LETZTER_KAUF_BRANCHE_D19_WEIN_FEINKOST          0     0.000000\n",
              "420                                OST_WEST_KZ_O          0     0.000000\n",
              "421                                OST_WEST_KZ_W          0     0.000000\n",
              "\n",
              "[422 rows x 3 columns]"
            ]
          },
          "execution_count": 104,
          "metadata": {},
          "output_type": "execute_result"
        }
      ],
      "source": [
        "df_train_nans = cols_nans_info(df_train.replace(-1, np.NaN))\n",
        "\n",
        "df_train_nans"
      ]
    },
    {
      "cell_type": "code",
      "execution_count": 105,
      "metadata": {
        "colab": {
          "base_uri": "https://localhost:8080/"
        },
        "id": "McGEhcx9qskK",
        "outputId": "8f94ee14-e15e-4155-8cdd-52273c0bf294"
      },
      "outputs": [
        {
          "data": {
            "text/plain": [
              "(array(['ALTER_KIND1', 'ALTER_KIND2', 'ALTER_KIND3', 'ALTER_KIND4',\n",
              "        'ANZ_HH_TITEL', 'ANZ_KINDER', 'ANZ_TITEL', 'D19_BANKEN_ANZ_12',\n",
              "        'D19_BANKEN_ANZ_24', 'D19_BANKEN_DIREKT', 'D19_BANKEN_GROSS',\n",
              "        'D19_BANKEN_LOKAL', 'D19_BANKEN_ONLINE_QUOTE_12',\n",
              "        'D19_BANKEN_REST', 'D19_BEKLEIDUNG_GEH', 'D19_BILDUNG',\n",
              "        'D19_BIO_OEKO', 'D19_DIGIT_SERV', 'D19_DROGERIEARTIKEL',\n",
              "        'D19_ENERGIE', 'D19_FREIZEIT', 'D19_GARTEN', 'D19_HANDWERK',\n",
              "        'D19_KINDERARTIKEL', 'D19_LEBENSMITTEL', 'D19_NAHRUNGSERGAENZUNG',\n",
              "        'D19_RATGEBER', 'D19_SAMMELARTIKEL', 'D19_SCHUHE',\n",
              "        'D19_TELKO_ANZ_12', 'D19_TELKO_ANZ_24', 'D19_TELKO_MOBILE',\n",
              "        'D19_TELKO_ONLINE_QUOTE_12', 'D19_TELKO_REST', 'D19_TIERARTIKEL',\n",
              "        'D19_VERSAND_REST', 'D19_VERSI_ANZ_12', 'D19_VERSI_ANZ_24',\n",
              "        'D19_VERSI_ONLINE_QUOTE_12', 'D19_WEIN_FEINKOST', 'HH_DELTA_FLAG',\n",
              "        'KBA05_ANTG4', 'KBA05_SEG6', 'KONSUMZELLE', 'SOHO_KZ', 'TITEL_KZ',\n",
              "        'UNGLEICHENN_FLAG'], dtype=object), 47)"
            ]
          },
          "execution_count": 105,
          "metadata": {},
          "output_type": "execute_result"
        }
      ],
      "source": [
        "# Select the columns with NaNs more than 80% to check for variabiltiy\n",
        "df_train_nans_gt80 = df_train_nans.loc[(df_train_nans[\"NaNportions\"] > .8), \"Columns\"].values\n",
        "\n",
        "df_train_nans_gt80, df_train_nans_gt80.size"
      ]
    },
    {
      "cell_type": "code",
      "execution_count": null,
      "metadata": {
        "id": "vfDykwJfjqnj"
      },
      "outputs": [],
      "source": [
        "# Select the columns with NaNs more than 80% to check for variabiltiy\n",
        "# azdias_nans_gt80 = azdias_nans.loc[(azdias_nans[\"NaNportions\"] > .8), \"Columns\"].values\n",
        "\n",
        "# azdias_nans_gt80, azdias_nans_gt80.size"
      ]
    },
    {
      "cell_type": "code",
      "execution_count": null,
      "metadata": {
        "id": "WI7wAAqKnunN"
      },
      "outputs": [],
      "source": [
        "# cus_nans_gt80 = cus_df_nans.loc[(cus_df_nans[\"NaNportions\"] > .8), \"Columns\"].values\n",
        "\n",
        "# cus_nans_gt80, cus_nans_gt80.size"
      ]
    },
    {
      "cell_type": "code",
      "execution_count": null,
      "metadata": {
        "id": "cSLca6-EBWGj"
      },
      "outputs": [],
      "source": [
        "# Filter `azdias` dataset to select the above columns only.\n",
        "# azdias.filter(azdias_nans_gt80).dtypes.value_counts()"
      ]
    },
    {
      "cell_type": "code",
      "execution_count": 106,
      "metadata": {
        "colab": {
          "base_uri": "https://localhost:8080/"
        },
        "id": "pZi7T3KkrFUC",
        "outputId": "26ad5e8f-5d30-49c8-d346-b6d0ee5697e1"
      },
      "outputs": [
        {
          "data": {
            "text/plain": [
              "int64    47\n",
              "dtype: int64"
            ]
          },
          "execution_count": 106,
          "metadata": {},
          "output_type": "execute_result"
        }
      ],
      "source": [
        "df_train.filter(df_train_nans_gt80).dtypes.value_counts()"
      ]
    },
    {
      "cell_type": "markdown",
      "metadata": {
        "id": "MicCKx4VRw4y"
      },
      "source": [
        "We will calculate the **entropy** on the above (ordinal variables) as a measure of the amount of information in a categorical variable. We will attempt to identify columns with little to no information at all.\n",
        "\n",
        "To do this we will create a function to calculate the entropy in a given column."
      ]
    },
    {
      "cell_type": "code",
      "execution_count": 107,
      "metadata": {
        "id": "wzGWpU4AH3mu"
      },
      "outputs": [],
      "source": [
        "def get_entropy(labels):\n",
        "    \"\"\"Calculate the entropy of a data series.\n",
        "\n",
        "    Calculate the entropy based on Shannon's entropy (log2).\n",
        "    Scipy entropy() will normalize values' frequencies if\n",
        "    they don’t sum to 1.\n",
        "\n",
        "    Args:\n",
        "        labels (pd.Series): pandas Series to calculate entropy\n",
        "    \n",
        "    Returns:\n",
        "        ent: The calculated entropy of the input labels\n",
        "    \"\"\"\n",
        "    # get values' frequencies\n",
        "    vals_freq = labels.value_counts(sort=False)\n",
        "    ent = entropy(vals_freq, base=2)\n",
        "    \n",
        "    return ent"
      ]
    },
    {
      "cell_type": "markdown",
      "metadata": {
        "id": "ELI9YWHMxsqq"
      },
      "source": [
        "A mapping of attribute names (columns) and entropy can be created. This will allow us to decide if we should drop some more columns with high percentage of NaNs that also offer little to no information."
      ]
    },
    {
      "cell_type": "code",
      "execution_count": 108,
      "metadata": {
        "id": "WLMdidX3Ty4J"
      },
      "outputs": [],
      "source": [
        "def drop_nan_cols(df, df_nans_cols, nan_thres=.8, use_entropy=True, ent_thres=1.0):\n",
        "    \"\"\"Get df columns with higher NaN percent than  nan_thres (> 80%) and return\n",
        "    the ones with entropy < ent_thres. If use_entropy=False return all columns\n",
        "    with NaN portion higher than nan_thres.\n",
        "\n",
        "    Returns:\n",
        "        drop_cols (np.array): Highr percentage NaN columns list (with low entropy)\n",
        "        ent (dict): Mapping of attributes names with entropy values for selected\n",
        "        columns range (or None if entropy not used). \n",
        "    \"\"\"\n",
        "    # Select the columns with NaNs more than nan_thres to check for variabiltiy\n",
        "    df_nans_cols_gt80 = df_nans_cols.loc[(df_nans_cols[\"NaNportions\"] > nan_thres),\n",
        "                                         \"Columns\"].values\n",
        "    # Filter the dataset to select the above columns only.\n",
        "    df_var_nan80 = df.filter(df_nans_cols_gt80)\n",
        "    drop_cols = df_var_nan80.values\n",
        "    ent = None\n",
        "    if use_entropy:\n",
        "        # Calculate entropy & create maping\n",
        "        ent = {i: round(get_entropy(df_var_nan80[i]), 4) for i in df_var_nan80}\n",
        "        # From the dictionary we will select the columns with entropy less than ent_thres\n",
        "        df_ent_drop = [i for i in ent if ent[i] < ent_thres]\n",
        "        drop_cols = np.array(df_ent_drop)\n",
        "\n",
        "    return drop_cols, ent\n"
      ]
    },
    {
      "cell_type": "code",
      "execution_count": 109,
      "metadata": {
        "colab": {
          "base_uri": "https://localhost:8080/"
        },
        "id": "mW5cyXyssQV7",
        "outputId": "87828d73-57a4-44c0-96c6-b275f8da91fd"
      },
      "outputs": [
        {
          "data": {
            "text/plain": [
              "(array(['ALTER_KIND1', 'ALTER_KIND2', 'ALTER_KIND3', 'ALTER_KIND4',\n",
              "        'ANZ_HH_TITEL', 'ANZ_KINDER', 'ANZ_TITEL', 'D19_BANKEN_ANZ_12',\n",
              "        'D19_BANKEN_ANZ_24', 'D19_BANKEN_DIREKT', 'D19_BANKEN_GROSS',\n",
              "        'D19_BANKEN_LOKAL', 'D19_BANKEN_ONLINE_QUOTE_12',\n",
              "        'D19_BANKEN_REST', 'D19_BEKLEIDUNG_GEH', 'D19_BILDUNG',\n",
              "        'D19_BIO_OEKO', 'D19_DIGIT_SERV', 'D19_DROGERIEARTIKEL',\n",
              "        'D19_ENERGIE', 'D19_FREIZEIT', 'D19_GARTEN', 'D19_HANDWERK',\n",
              "        'D19_LEBENSMITTEL', 'D19_NAHRUNGSERGAENZUNG', 'D19_RATGEBER',\n",
              "        'D19_SAMMELARTIKEL', 'D19_SCHUHE', 'D19_TELKO_ANZ_12',\n",
              "        'D19_TELKO_ANZ_24', 'D19_TELKO_MOBILE',\n",
              "        'D19_TELKO_ONLINE_QUOTE_12', 'D19_TELKO_REST', 'D19_TIERARTIKEL',\n",
              "        'D19_VERSI_ANZ_12', 'D19_VERSI_ANZ_24',\n",
              "        'D19_VERSI_ONLINE_QUOTE_12', 'D19_WEIN_FEINKOST', 'HH_DELTA_FLAG',\n",
              "        'KBA05_ANTG4', 'KBA05_SEG6', 'KONSUMZELLE', 'SOHO_KZ', 'TITEL_KZ',\n",
              "        'UNGLEICHENN_FLAG'], dtype='<U26'), 45)"
            ]
          },
          "execution_count": 109,
          "metadata": {},
          "output_type": "execute_result"
        }
      ],
      "source": [
        "# Get df_train columns with higher NaN percent (> 80%) and return the ones with entropy < 1.0\n",
        "df_train_ent_drop, df_train_var_nan80_ent = drop_nan_cols(df_train, df_train_nans)\n",
        "\n",
        "df_train_ent_drop, len(df_train_ent_drop)"
      ]
    },
    {
      "cell_type": "code",
      "execution_count": null,
      "metadata": {
        "id": "6WruJ3bYHhHp"
      },
      "outputs": [],
      "source": [
        "# Get azdias columns with higher NaN percent (> 80%) and return the ones with entropy < 1.0\n",
        "# azd_ent_drop, azdias_var_nan80_ent = drop_nan_cols(azdias, azdias_nans)\n",
        "\n",
        "# azd_ent_drop, len(azd_ent_drop)"
      ]
    },
    {
      "cell_type": "markdown",
      "metadata": {
        "id": "G5TpONZDQbJX"
      },
      "source": [
        "Check if there are any attributes in common with the ones selected with the correlation matrix method (`to_drop`)"
      ]
    },
    {
      "cell_type": "code",
      "execution_count": null,
      "metadata": {
        "id": "gcOK0ah-QB4b"
      },
      "outputs": [],
      "source": [
        "# np.intersect1d(np.array(to_drop), azdias_nans_gt80)"
      ]
    },
    {
      "cell_type": "code",
      "execution_count": null,
      "metadata": {
        "id": "Xo3igWGRNDw3"
      },
      "outputs": [],
      "source": [
        "# np.intersect1d(to_drop, azd_ent_drop)"
      ]
    },
    {
      "cell_type": "code",
      "execution_count": 110,
      "metadata": {
        "colab": {
          "base_uri": "https://localhost:8080/",
          "height": 204
        },
        "id": "yi7Pq2d4vF6m",
        "outputId": "9aa60316-e66c-4738-9831-87714ac208c6"
      },
      "outputs": [
        {
          "data": {
            "text/html": [
              "<div>\n",
              "<style scoped>\n",
              "    .dataframe tbody tr th:only-of-type {\n",
              "        vertical-align: middle;\n",
              "    }\n",
              "\n",
              "    .dataframe tbody tr th {\n",
              "        vertical-align: top;\n",
              "    }\n",
              "\n",
              "    .dataframe thead th {\n",
              "        text-align: right;\n",
              "    }\n",
              "</style>\n",
              "<table border=\"1\" class=\"dataframe\">\n",
              "  <thead>\n",
              "    <tr style=\"text-align: right;\">\n",
              "      <th></th>\n",
              "      <th>Attributes</th>\n",
              "      <th>Entropy</th>\n",
              "      <th>NaNportions</th>\n",
              "    </tr>\n",
              "  </thead>\n",
              "  <tbody>\n",
              "    <tr>\n",
              "      <th>23</th>\n",
              "      <td>D19_KINDERARTIKEL</td>\n",
              "      <td>1.0211</td>\n",
              "      <td>0.823531</td>\n",
              "    </tr>\n",
              "    <tr>\n",
              "      <th>35</th>\n",
              "      <td>D19_VERSAND_REST</td>\n",
              "      <td>1.0083</td>\n",
              "      <td>0.831686</td>\n",
              "    </tr>\n",
              "    <tr>\n",
              "      <th>18</th>\n",
              "      <td>D19_DROGERIEARTIKEL</td>\n",
              "      <td>0.9862</td>\n",
              "      <td>0.847686</td>\n",
              "    </tr>\n",
              "    <tr>\n",
              "      <th>9</th>\n",
              "      <td>D19_BANKEN_DIREKT</td>\n",
              "      <td>0.9778</td>\n",
              "      <td>0.840603</td>\n",
              "    </tr>\n",
              "    <tr>\n",
              "      <th>31</th>\n",
              "      <td>D19_TELKO_MOBILE</td>\n",
              "      <td>0.9472</td>\n",
              "      <td>0.822240</td>\n",
              "    </tr>\n",
              "  </tbody>\n",
              "</table>\n",
              "</div>"
            ],
            "text/plain": [
              "             Attributes  Entropy  NaNportions\n",
              "23    D19_KINDERARTIKEL   1.0211     0.823531\n",
              "35     D19_VERSAND_REST   1.0083     0.831686\n",
              "18  D19_DROGERIEARTIKEL   0.9862     0.847686\n",
              "9     D19_BANKEN_DIREKT   0.9778     0.840603\n",
              "31     D19_TELKO_MOBILE   0.9472     0.822240"
            ]
          },
          "execution_count": 110,
          "metadata": {},
          "output_type": "execute_result"
        }
      ],
      "source": [
        "# Create plot data, in a new df get 'Attributes', 'Entropy' and \"NaNportions\"\n",
        "plt_data = pd.DataFrame(df_train_var_nan80_ent.items(), columns=['Attributes', 'Entropy'])\n",
        "\n",
        "# Get NaN portions for the attributes with NaNs more than 80%\n",
        "plt_data[\"NaNportions\"] = df_train_nans.loc[df_train_nans[\"Columns\"]\n",
        "                                            .isin(df_train_nans_gt80),\"NaNportions\"].values\n",
        "\n",
        "# Sort by `Entropy` values\n",
        "plt_data.sort_values(\"Entropy\", ascending=False, inplace=True)\n",
        "\n",
        "plt_data.head()"
      ]
    },
    {
      "cell_type": "code",
      "execution_count": null,
      "metadata": {
        "id": "Cerzhlp7lYFU"
      },
      "outputs": [],
      "source": [
        "# Create plot data, in a new df get 'Attributes', 'Entropy' and \"NaNportions\"\n",
        "# plt_data = pd.DataFrame(azdias_var_nan80_ent.items(), columns=['Attributes', 'Entropy'])\n",
        "\n",
        "# Get NaN portions for the attributes with NaNs more than 80%\n",
        "# plt_data[\"NaNportions\"] = azdias_nans.loc[azdias_nans[\"Columns\"].isin(azdias_nans_gt80), \"NaNportions\"].values\n",
        "\n",
        "# Sort by `Entropy` values\n",
        "# plt_data.sort_values(\"Entropy\", ascending=False, inplace=True)\n",
        "\n",
        "# plt_data.head()"
      ]
    },
    {
      "cell_type": "code",
      "execution_count": 112,
      "metadata": {
        "colab": {
          "base_uri": "https://localhost:8080/",
          "height": 873
        },
        "id": "HxjUUuTbBamP",
        "outputId": "42ac4187-16af-4e72-8bf5-5b8992f83fb4"
      },
      "outputs": [
        {
          "data": {
            "image/png": "[encoded data removed]",
            "text/plain": [
              "<Figure size 1440x864 with 2 Axes>"
            ]
          },
          "metadata": {},
          "output_type": "display_data"
        }
      ],
      "source": [
        "# Let's visualize the results\n",
        "with sns.axes_style(\"whitegrid\"):\n",
        "    fig, ax = plt.subplots(1, 2, figsize=(20,12), sharey=True)\n",
        "    sns.barplot(ax=ax[0], data=plt_data, x='Entropy', y='Attributes', color='royalblue').set(\n",
        "        title='[AZDIAS] Entropy for high percentage (> 0.8) NaN attributes')\n",
        "    sns.barplot(ax=ax[1], data=plt_data, x='NaNportions', y='Attributes', color='cornflowerblue').set(\n",
        "        title='[AZDIAS] Attributes NaN portions (0.8 min)', xlim=(0.8,1.0))\n",
        "    fig.tight_layout()\n"
      ]
    },
    {
      "cell_type": "markdown",
      "metadata": {
        "id": "EajCR8mE2NBO"
      },
      "source": [
        "Plots show that some of the attributes found with the lowest entropy also have a high number of NaNs. Checking entropy as a measure of information per column will allow us to drop those columns with high percentage of NaNs, with more confidence than just choosing to drop columns above a high NaN percentage threshold."
      ]
    },
    {
      "cell_type": "markdown",
      "metadata": {
        "id": "x53vxMzraOo3"
      },
      "source": [
        "###Drop previously identified attributes\n",
        "\n",
        "* Drop collinear attributes in `to_drop` array.\n",
        "* Drop attributes in `azd_ent_drop` with NaNs more than 80%, also identified with the lowest entropy among the rest with such high NaN percentage.\n",
        "* Drop `CUSTOMERS` specific attributes (`'CUSTOMER_GROUP', 'ONLINE_PURCHASE', and 'PRODUCT_GROUP'`).\n",
        "* Drop the datetime `EINGEFUEGT_AM`."
      ]
    },
    {
      "cell_type": "code",
      "execution_count": 113,
      "metadata": {
        "colab": {
          "base_uri": "https://localhost:8080/"
        },
        "id": "aRzwWxQEwr4m",
        "outputId": "f3f8f41f-f05b-42e7-a018-49391cfcdedd"
      },
      "outputs": [
        {
          "data": {
            "text/plain": [
              "(350000, 377)"
            ]
          },
          "execution_count": 113,
          "metadata": {},
          "output_type": "execute_result"
        }
      ],
      "source": [
        "df_train.drop(columns=df_train_ent_drop, inplace=True)\n",
        "\n",
        "df_train.shape"
      ]
    },
    {
      "cell_type": "markdown",
      "metadata": {
        "id": "SMkE0JZEUu14"
      },
      "source": [
        "At this point all the previous steps can be aggregated in a single function to help us manipulate datasets in the following steps. We will include `zero_imp_attrs` as an optional parameter that will be used in following analysis (in parts 2 and 3)."
      ]
    },
    {
      "cell_type": "code",
      "execution_count": 114,
      "metadata": {
        "id": "XiU8dBOGWgn3"
      },
      "outputs": [],
      "source": [
        "def wrangle_df(df, val_pools, common_attrs, replace_nan, zero_imp_attrs=None):\n",
        "    \"\"\"Clean and fix an input demographics dataframe for this project.\n",
        "\n",
        "    This function is for cleaning and fixing datasets for this project. It\n",
        "    returns a clean dataframe with several columns dropped based on identified\n",
        "    NaNs, entropy and  collinearity. Additionally, value per column are checked\n",
        "    and replaced with NaNs if they fall outside an accepted values pool.\n",
        "\n",
        "    Args:\n",
        "        df (pd.Dataframe): Input demographics datafrme (The notebook crashes when\n",
        "            the entire `azdias` is loaded).\n",
        "        val_pools (dict): A dictionary with keys the attributes names and values\n",
        "            lists with the allowed values for each attribute. e.g.:\n",
        "            {'AGER_TYP': [nan, -1, 0, 1, 2, 3], ...}\n",
        "        common_attrs (np.array): Common attributes (attrs_common) between\n",
        "            demographic dataset and excel files. e.g.:\n",
        "            (array(['AKT_DAT_KL', 'ALTERSKATEGORIE_FEIN', ...)]\n",
        "        replace_nan (dict): Mapping of attributes and values to replace with NaNs\n",
        "            within each attribute. e.g. {'AGER_TYP': 9} will replace 9 in 'AGER_TYP'\n",
        "            with NaN.\n",
        "        zero_imp_attrs (array like or None): `zero_val_attrs` computed zero\n",
        "            importance attributes. If provided these will be dropped from the\n",
        "            input df.\n",
        "    \n",
        "    Returns:\n",
        "        df (pd.Dataframe): The cleaned and fixed df.\n",
        "    \"\"\"\n",
        "    # Keep \"LNR\" IDs\n",
        "    clientIDs = df[\"LNR\"]\n",
        "\n",
        "    # Drop `customer` specific attributes.\n",
        "    other_to_drop = np.array([\"CUSTOMER_GROUP\", \"ONLINE_PURCHASE\", \"PRODUCT_GROUP\"])\n",
        "\n",
        "    # Remove \"LNR\" and \"EINGEFUEGT_AM\" columns which are client IDs and entry datetimes\n",
        "    df.drop(columns=np.union1d([\"LNR\", \"EINGEFUEGT_AM\"], other_to_drop),\n",
        "            errors='ignore', inplace=True)\n",
        "\n",
        "    # find object columns\n",
        "    cat_cols = df.select_dtypes(include=object).columns.tolist()\n",
        "    # Convert to category columns\n",
        "    df[cat_cols] = df[cat_cols].astype('category')\n",
        "\n",
        "    # Replace unkown and specific values with NaNs\n",
        "    # for every key (attribute) in the dictionary created earlier\n",
        "    for k in val_pools:\n",
        "        # if the attribute is among the common ones\n",
        "        if k in common_attrs:\n",
        "            # select all those rows in the column that fall outside the attritbute's specified values pool and replace them with NaN.\n",
        "            df.loc[~df[k].isin(val_pools[k]), k] = np.NaN\n",
        "    # Use a dictionary mapping of attributes to replace value 9 (unknown) for NaN for specifc attributes.\n",
        "    df.replace(replace_nan, np.NaN, inplace=True)\n",
        "\n",
        "    # NaNs\n",
        "    # Total\n",
        "    print(\"Total df NaNs portion: \", round(df.isna().sum().sum() / df.size, 4))\n",
        "    # Columns\n",
        "    print(\"Column NaNs:\")\n",
        "    df_cols_nans = cols_nans_info(df)\n",
        "    # Rows\n",
        "    print(\"Row NaNs:\")\n",
        "    df_rows_nans = rows_nans_info(df)\n",
        "\n",
        "    # Convert float columns to int.\n",
        "    df_int_cols = df.select_dtypes(include=['float64']).fillna(-1.0).astype(int)\n",
        "    df.loc[:, df_int_cols.columns] = df_int_cols\n",
        "\n",
        "    # One-hot encoding, for ['CAMEO_DEU_2015', 'D19_LETZTER_KAUF_BRANCHE', 'OST_WEST_KZ']\n",
        "    df = pd.get_dummies(df)\n",
        "\n",
        "    # Create two stratified samples of the input dataframe.\n",
        "    # df_a, df_b = get_stratified_samples(df)\n",
        "\n",
        "    # Find attribute columns with correlation greater than 0.95 and drop them\n",
        "    corr_cols_to_drop = drop_collinear_cols(df)\n",
        "    df.drop(columns=corr_cols_to_drop, inplace=True)\n",
        "\n",
        "    # Select the columns with NaNs more than 80% and with entropy less than 1.0.\n",
        "    df_ent_drop, ent = drop_nan_cols(df, df_cols_nans)\n",
        "    \n",
        "    # Drop above selected NaN attributes and supplied zero importance attributes.\n",
        "    zero_imp_drop = zero_imp_attrs or []\n",
        "    df.drop(columns=np.union1d(df_ent_drop, zero_imp_drop),\n",
        "            errors='ignore', inplace=True)\n",
        "\n",
        "    return df.assign(LNR=clientIDs.values)"
      ]
    },
    {
      "cell_type": "markdown",
      "metadata": {
        "id": "tPec3toZbUG4"
      },
      "source": [
        "## Part 1: Customer Segmentation Report\n",
        "\n",
        "The main bulk of your analysis will come in this part of the project. Here, you should use unsupervised learning techniques to describe the relationship between the demographics of the company's existing customers and the general population of Germany. By the end of this part, you should be able to describe parts of the general population that are more likely to be part of the mail-order company's main customer base, and which parts of the general population are less so."
      ]
    },
    {
      "cell_type": "markdown",
      "metadata": {
        "id": "LIwQiNEUfgV9"
      },
      "source": [
        "> The goal of unsupervised learning is to find the underlying structure of dataset, group that data according to similarities, and represent that dataset in a compressed format.\n",
        "\n",
        "The unsupervised learning algorithm can be further categorized into two types of problems:\n",
        "\n",
        "* **Clustering**: Clustering is a method of grouping the objects into clusters such that objects with most similarities remains into a group and has less or no similarities with the objects of another group. Cluster analysis finds the commonalities between the data objects and categorizes them as per the presence and absence of those commonalities.\n",
        "\n",
        "* **Association**: An association rule is an unsupervised learning method which is used for finding the relationships between variables in the large database. It determines the set of items that occurs together in the dataset. Association rule makes marketing strategy more effective. Such as people who buy X item (suppose a bread) are also tend to purchase Y (Butter/Jam) item. A typical example of Association rule is Market Basket Analysis.\n",
        "\n",
        "Ref: https://www.javatpoint.com/unsupervised-machine-learning\n",
        "\n",
        "Popular unsupervised learning algorithms:\n",
        "\n",
        "* K-means clustering\n",
        "* KNN (k-nearest neighbors)\n",
        "* Hierarchal clustering\n",
        "* Anomaly detection\n",
        "* Neural Networks\n",
        "* Principle Component Analysis\n",
        "* Independent Component Analysis\n",
        "* Apriori algorithm\n",
        "* Singular value decomposition"
      ]
    },
    {
      "cell_type": "markdown",
      "metadata": {
        "id": "f1LcAm_yEXSP"
      },
      "source": [
        "### Clustering with Mini Batch K-Means\n",
        "\n",
        "We will choose the KMeans algorithm for data clustering, because it is a general-purpose clustering algorithm with even cluster sizes and has good scalability for very large samples. We will specifically use the [MiniBatch code](https://scikit-learn.org/stable/modules/clustering.html#mini-batch-kmeans), a variant of the KMeans algorithm which uses mini-batches to reduce the computation time.\n",
        "\n",
        "The K-means algorithm aims to choose centroids that minimise the inertia, or within-cluster sum-of-squares criterion. However, inertia is not a normalized metric, becoming a drawback for the use of KMeans. To overcome this it is usual practice to run a dimensionality reduction algorithm such as Principal component analysis (PCA) prior to k-means clustering."
      ]
    },
    {
      "cell_type": "code",
      "execution_count": 118,
      "metadata": {
        "colab": {
          "base_uri": "https://localhost:8080/"
        },
        "id": "Zt9ip_ofKaIQ",
        "outputId": "4c7d8439-7e51-4b02-fb2f-875ebf485744"
      },
      "outputs": [
        {
          "data": {
            "text/plain": [
              "Pipeline(memory=None,\n",
              "         steps=[('simpleimputer',\n",
              "                 SimpleImputer(add_indicator=False, copy=True, fill_value=-9999,\n",
              "                               missing_values=-1, strategy='constant',\n",
              "                               verbose=0)),\n",
              "                ('pca',\n",
              "                 PCA(copy=True, iterated_power='auto', n_components=0.9,\n",
              "                     random_state=None, svd_solver='auto', tol=0.0,\n",
              "                     whiten=False))],\n",
              "         verbose=False)"
            ]
          },
          "execution_count": 118,
          "metadata": {},
          "output_type": "execute_result"
        }
      ],
      "source": [
        "# Create train and target sets.\n",
        "train = df_train.drop(columns=[\"TARGET\"])\n",
        "target = df_train[\"TARGET\"]\n",
        "\n",
        "# Create a simple pipeline initially replace -1 (missing values) with a large negative,\n",
        "# before applying PCA on the data.\n",
        "pca_pipeline = make_pipeline(SimpleImputer(missing_values=-1,\n",
        "                                           strategy='constant',\n",
        "                                           fill_value=-9999),\n",
        "                             PCA(n_components=.9))\n",
        "\n",
        "# Fit the model with train and apply the dimensionality reduction on train data\n",
        "train = pca_pipeline.fit_transform(train)\n",
        "# Get the percentage of variance explained by each of the selected components\n",
        "pca_expl_var = pca_pipeline.named_steps.pca.explained_variance_ratio_\n",
        "\n",
        "pca_expl_var, pca_expl_var.size"
      ]
    },
    {
      "cell_type": "markdown",
      "metadata": {
        "id": "IWjaMv-Ogazw"
      },
      "source": [
        "So, these components account for 0.9 explained variance ratio (the amount of variance that needs to be explained is greater than the percentage specified by n_components):"
      ]
    },
    {
      "cell_type": "code",
      "execution_count": 122,
      "metadata": {
        "colab": {
          "base_uri": "https://localhost:8080/"
        },
        "id": "KQx_ih9qgOyX",
        "outputId": "7543118a-6ba5-429a-99e5-b3529a9f7a5d"
      },
      "outputs": [
        {
          "data": {
            "text/plain": [
              "0.90081898485945"
            ]
          },
          "execution_count": 122,
          "metadata": {},
          "output_type": "execute_result"
        }
      ],
      "source": [
        "pca_expl_var.sum()"
      ]
    },
    {
      "cell_type": "code",
      "execution_count": 123,
      "metadata": {
        "colab": {
          "base_uri": "https://localhost:8080/"
        },
        "id": "SaJWjWoWjy9S",
        "outputId": "a50f58a1-a265-4d8f-c4df-f6da32d89511"
      },
      "outputs": [
        {
          "data": {
            "text/plain": [
              "array([31188876.53215628,  8154963.86198775,  7955259.1411843 ,\n",
              "        4908444.55992346,  4509538.5767873 ,  4064005.16922919,\n",
              "        3611209.44450028,  3383389.75985485,  2999025.352915  ,\n",
              "        2938134.27013436,  2848614.50106357,  2640328.19156654,\n",
              "        2495293.55461396,  2489017.56313834,  2467161.84850968,\n",
              "        2448520.56423288,  2429304.79086858,  2365487.6000086 ,\n",
              "        2333423.20297853,  2305875.09512135,  2294697.75891205,\n",
              "        2232432.10191991,  2217051.24539753,  2198333.65953005,\n",
              "        2182175.74295729,  2163934.4577492 ,  2137805.14451717,\n",
              "        2107725.79455275,  2101834.26498169,  2084542.22058734,\n",
              "        2069977.2762956 ,  2051725.65052598,  2041018.93863813,\n",
              "        2027413.14529376,  2016357.64345456,  1996198.95525285])"
            ]
          },
          "execution_count": 123,
          "metadata": {},
          "output_type": "execute_result"
        }
      ],
      "source": [
        "# Singular values corresponding to each of the selected components\n",
        "pca_pipeline.named_steps.pca.singular_values_"
      ]
    },
    {
      "cell_type": "code",
      "execution_count": 120,
      "metadata": {
        "colab": {
          "base_uri": "https://localhost:8080/"
        },
        "id": "lm8X4s5dbUG5",
        "outputId": "b9bc953f-2f84-43a0-ae25-4e6a645a9a72"
      },
      "outputs": [
        {
          "data": {
            "text/plain": [
              "(350000, 376)"
            ]
          },
          "execution_count": 120,
          "metadata": {},
          "output_type": "execute_result"
        }
      ],
      "source": [
        "# Create train and target sets.\n",
        "train = df_train.drop(columns=[\"TARGET\"]).replace()\n",
        "target = df_train[\"TARGET\"]\n",
        "\n",
        "train.shape"
      ]
    },
    {
      "cell_type": "markdown",
      "metadata": {
        "id": "FY1qWIaGIAb1"
      },
      "source": [
        "### Clustering with feature contribution from LightGBM\n",
        "\n",
        "Ref: https://towardsdatascience.com/applying-a-clustering-algorithm-to-feature-contribution-3c649ab0ca17"
      ]
    },
    {
      "cell_type": "code",
      "execution_count": 121,
      "metadata": {
        "colab": {
          "base_uri": "https://localhost:8080/"
        },
        "id": "Q7Ngyu1WpWY9",
        "outputId": "542ed7e7-8b24-449a-e65a-2328534256b0"
      },
      "outputs": [
        {
          "name": "stderr",
          "output_type": "stream",
          "text": [
            "/usr/local/lib/python3.7/dist-packages/lightgbm/engine.py:118: UserWarning: Found `n_estimators` in params. Will use it instead of argument\n",
            "  warnings.warn(\"Found `{}` in params. Will use it instead of argument\".format(alias))\n"
          ]
        },
        {
          "data": {
            "text/plain": [
              "array([[ 0.        ,  0.00282226,  0.        , ...,  0.        ,\n",
              "         0.        , -0.14285714],\n",
              "       [ 0.        ,  0.00282226,  0.        , ...,  0.        ,\n",
              "         0.        , -0.14285714],\n",
              "       [ 0.        , -0.01014295,  0.        , ...,  0.        ,\n",
              "         0.        , -0.14285714],\n",
              "       ...,\n",
              "       [ 0.        ,  0.0075933 ,  0.        , ...,  0.        ,\n",
              "         0.        , -0.14285714],\n",
              "       [ 0.        ,  0.00282226,  0.        , ...,  0.        ,\n",
              "         0.        , -0.14285714],\n",
              "       [ 0.        ,  0.00282226,  0.        , ...,  0.        ,\n",
              "         0.        , -0.14285714]])"
            ]
          },
          "execution_count": 121,
          "metadata": {},
          "output_type": "execute_result"
        }
      ],
      "source": [
        "#we create a basic lightGBM model we'll be using for our analysis:\n",
        "X_train_feat = lgb.Dataset(train, target)\n",
        "parameters = {\n",
        "    \"n_estimators\": 3,\n",
        "    \"max_depth\":3,\n",
        "    \"random_state\": 43\n",
        "}\n",
        "\n",
        "#we train our model\n",
        "basic_model = lgb.train(parameters, train_set=X_train_feat)\n",
        "\n",
        "#We create a contributions table\n",
        "contributions = basic_model.predict(train, pred_contrib=True)\n",
        "\n",
        "contributions"
      ]
    },
    {
      "cell_type": "code",
      "execution_count": 122,
      "metadata": {
        "colab": {
          "base_uri": "https://localhost:8080/",
          "height": 253
        },
        "id": "tomF2VceqGb6",
        "outputId": "e7468268-8ad8-4fe2-bdf3-0510c97d17de"
      },
      "outputs": [
        {
          "data": {
            "text/html": [
              "<div>\n",
              "<style scoped>\n",
              "    .dataframe tbody tr th:only-of-type {\n",
              "        vertical-align: middle;\n",
              "    }\n",
              "\n",
              "    .dataframe tbody tr th {\n",
              "        vertical-align: top;\n",
              "    }\n",
              "\n",
              "    .dataframe thead th {\n",
              "        text-align: right;\n",
              "    }\n",
              "</style>\n",
              "<table border=\"1\" class=\"dataframe\">\n",
              "  <thead>\n",
              "    <tr style=\"text-align: right;\">\n",
              "      <th></th>\n",
              "      <th>AGER_TYP</th>\n",
              "      <th>AKT_DAT_KL</th>\n",
              "      <th>ALTER_HH</th>\n",
              "      <th>ALTERSKATEGORIE_FEIN</th>\n",
              "      <th>ANZ_HAUSHALTE_AKTIV</th>\n",
              "      <th>ANZ_PERSONEN</th>\n",
              "      <th>ARBEIT</th>\n",
              "      <th>BALLRAUM</th>\n",
              "      <th>CAMEO_DEUG_2015</th>\n",
              "      <th>CJT_GESAMTTYP</th>\n",
              "      <th>CJT_KATALOGNUTZER</th>\n",
              "      <th>CJT_TYP_1</th>\n",
              "      <th>CJT_TYP_2</th>\n",
              "      <th>CJT_TYP_3</th>\n",
              "      <th>CJT_TYP_4</th>\n",
              "      <th>CJT_TYP_5</th>\n",
              "      <th>CJT_TYP_6</th>\n",
              "      <th>D19_BANKEN_DATUM</th>\n",
              "      <th>D19_BANKEN_OFFLINE_DATUM</th>\n",
              "      <th>D19_BANKEN_ONLINE_DATUM</th>\n",
              "      <th>D19_BEKLEIDUNG_REST</th>\n",
              "      <th>D19_BUCH_CD</th>\n",
              "      <th>D19_GESAMT_ANZ_12</th>\n",
              "      <th>D19_GESAMT_ANZ_24</th>\n",
              "      <th>D19_GESAMT_DATUM</th>\n",
              "      <th>D19_GESAMT_OFFLINE_DATUM</th>\n",
              "      <th>D19_GESAMT_ONLINE_DATUM</th>\n",
              "      <th>D19_GESAMT_ONLINE_QUOTE_12</th>\n",
              "      <th>D19_HAUS_DEKO</th>\n",
              "      <th>D19_KINDERARTIKEL</th>\n",
              "      <th>D19_KONSUMTYP</th>\n",
              "      <th>D19_KONSUMTYP_MAX</th>\n",
              "      <th>D19_KOSMETIK</th>\n",
              "      <th>D19_LOTTO</th>\n",
              "      <th>D19_REISEN</th>\n",
              "      <th>D19_SONSTIGE</th>\n",
              "      <th>D19_SOZIALES</th>\n",
              "      <th>D19_TECHNIK</th>\n",
              "      <th>D19_TELKO_DATUM</th>\n",
              "      <th>D19_TELKO_OFFLINE_DATUM</th>\n",
              "      <th>...</th>\n",
              "      <th>CAMEO_DEU_2015_9C</th>\n",
              "      <th>CAMEO_DEU_2015_9D</th>\n",
              "      <th>CAMEO_DEU_2015_9E</th>\n",
              "      <th>D19_LETZTER_KAUF_BRANCHE_D19_BANKEN_DIREKT</th>\n",
              "      <th>D19_LETZTER_KAUF_BRANCHE_D19_BANKEN_GROSS</th>\n",
              "      <th>D19_LETZTER_KAUF_BRANCHE_D19_BANKEN_LOKAL</th>\n",
              "      <th>D19_LETZTER_KAUF_BRANCHE_D19_BANKEN_REST</th>\n",
              "      <th>D19_LETZTER_KAUF_BRANCHE_D19_BEKLEIDUNG_GEH</th>\n",
              "      <th>D19_LETZTER_KAUF_BRANCHE_D19_BEKLEIDUNG_REST</th>\n",
              "      <th>D19_LETZTER_KAUF_BRANCHE_D19_BILDUNG</th>\n",
              "      <th>D19_LETZTER_KAUF_BRANCHE_D19_BIO_OEKO</th>\n",
              "      <th>D19_LETZTER_KAUF_BRANCHE_D19_BUCH_CD</th>\n",
              "      <th>D19_LETZTER_KAUF_BRANCHE_D19_DIGIT_SERV</th>\n",
              "      <th>D19_LETZTER_KAUF_BRANCHE_D19_DROGERIEARTIKEL</th>\n",
              "      <th>D19_LETZTER_KAUF_BRANCHE_D19_ENERGIE</th>\n",
              "      <th>D19_LETZTER_KAUF_BRANCHE_D19_FREIZEIT</th>\n",
              "      <th>D19_LETZTER_KAUF_BRANCHE_D19_GARTEN</th>\n",
              "      <th>D19_LETZTER_KAUF_BRANCHE_D19_HANDWERK</th>\n",
              "      <th>D19_LETZTER_KAUF_BRANCHE_D19_HAUS_DEKO</th>\n",
              "      <th>D19_LETZTER_KAUF_BRANCHE_D19_KINDERARTIKEL</th>\n",
              "      <th>D19_LETZTER_KAUF_BRANCHE_D19_KOSMETIK</th>\n",
              "      <th>D19_LETZTER_KAUF_BRANCHE_D19_LEBENSMITTEL</th>\n",
              "      <th>D19_LETZTER_KAUF_BRANCHE_D19_LOTTO</th>\n",
              "      <th>D19_LETZTER_KAUF_BRANCHE_D19_NAHRUNGSERGAENZUNG</th>\n",
              "      <th>D19_LETZTER_KAUF_BRANCHE_D19_RATGEBER</th>\n",
              "      <th>D19_LETZTER_KAUF_BRANCHE_D19_REISEN</th>\n",
              "      <th>D19_LETZTER_KAUF_BRANCHE_D19_SAMMELARTIKEL</th>\n",
              "      <th>D19_LETZTER_KAUF_BRANCHE_D19_SCHUHE</th>\n",
              "      <th>D19_LETZTER_KAUF_BRANCHE_D19_SONSTIGE</th>\n",
              "      <th>D19_LETZTER_KAUF_BRANCHE_D19_TECHNIK</th>\n",
              "      <th>D19_LETZTER_KAUF_BRANCHE_D19_TELKO_MOBILE</th>\n",
              "      <th>D19_LETZTER_KAUF_BRANCHE_D19_TELKO_REST</th>\n",
              "      <th>D19_LETZTER_KAUF_BRANCHE_D19_TIERARTIKEL</th>\n",
              "      <th>D19_LETZTER_KAUF_BRANCHE_D19_UNBEKANNT</th>\n",
              "      <th>D19_LETZTER_KAUF_BRANCHE_D19_VERSAND_REST</th>\n",
              "      <th>D19_LETZTER_KAUF_BRANCHE_D19_VERSICHERUNGEN</th>\n",
              "      <th>D19_LETZTER_KAUF_BRANCHE_D19_VOLLSORTIMENT</th>\n",
              "      <th>D19_LETZTER_KAUF_BRANCHE_D19_WEIN_FEINKOST</th>\n",
              "      <th>OST_WEST_KZ_O</th>\n",
              "      <th>OST_WEST_KZ_W</th>\n",
              "    </tr>\n",
              "  </thead>\n",
              "  <tbody>\n",
              "    <tr>\n",
              "      <th>0</th>\n",
              "      <td>0.0</td>\n",
              "      <td>0.002822</td>\n",
              "      <td>0.0</td>\n",
              "      <td>0.000117</td>\n",
              "      <td>0.0</td>\n",
              "      <td>0.0</td>\n",
              "      <td>0.0</td>\n",
              "      <td>0.0</td>\n",
              "      <td>0.0</td>\n",
              "      <td>0.0</td>\n",
              "      <td>0.0</td>\n",
              "      <td>-0.007696</td>\n",
              "      <td>0.0</td>\n",
              "      <td>0.0</td>\n",
              "      <td>0.0</td>\n",
              "      <td>0.000625</td>\n",
              "      <td>-0.003660</td>\n",
              "      <td>0.0</td>\n",
              "      <td>0.0</td>\n",
              "      <td>0.0</td>\n",
              "      <td>0.0</td>\n",
              "      <td>0.0</td>\n",
              "      <td>0.0</td>\n",
              "      <td>0.0</td>\n",
              "      <td>0.0</td>\n",
              "      <td>0.0</td>\n",
              "      <td>0.0</td>\n",
              "      <td>0.0</td>\n",
              "      <td>0.0</td>\n",
              "      <td>0.0</td>\n",
              "      <td>0.0</td>\n",
              "      <td>0.0</td>\n",
              "      <td>0.0</td>\n",
              "      <td>0.0</td>\n",
              "      <td>0.0</td>\n",
              "      <td>0.0</td>\n",
              "      <td>-0.002349</td>\n",
              "      <td>0.0</td>\n",
              "      <td>0.0</td>\n",
              "      <td>0.0</td>\n",
              "      <td>...</td>\n",
              "      <td>0.0</td>\n",
              "      <td>0.0</td>\n",
              "      <td>0.0</td>\n",
              "      <td>0.0</td>\n",
              "      <td>0.0</td>\n",
              "      <td>0.0</td>\n",
              "      <td>0.0</td>\n",
              "      <td>0.0</td>\n",
              "      <td>0.0</td>\n",
              "      <td>0.0</td>\n",
              "      <td>0.0</td>\n",
              "      <td>0.0</td>\n",
              "      <td>0.0</td>\n",
              "      <td>0.0</td>\n",
              "      <td>0.0</td>\n",
              "      <td>0.0</td>\n",
              "      <td>0.0</td>\n",
              "      <td>0.0</td>\n",
              "      <td>0.0</td>\n",
              "      <td>0.0</td>\n",
              "      <td>0.0</td>\n",
              "      <td>0.0</td>\n",
              "      <td>0.0</td>\n",
              "      <td>0.0</td>\n",
              "      <td>0.0</td>\n",
              "      <td>0.0</td>\n",
              "      <td>0.0</td>\n",
              "      <td>0.0</td>\n",
              "      <td>0.0</td>\n",
              "      <td>0.0</td>\n",
              "      <td>0.0</td>\n",
              "      <td>0.0</td>\n",
              "      <td>0.0</td>\n",
              "      <td>0.0</td>\n",
              "      <td>0.0</td>\n",
              "      <td>0.0</td>\n",
              "      <td>0.0</td>\n",
              "      <td>0.0</td>\n",
              "      <td>0.0</td>\n",
              "      <td>0.0</td>\n",
              "    </tr>\n",
              "    <tr>\n",
              "      <th>1</th>\n",
              "      <td>0.0</td>\n",
              "      <td>0.002822</td>\n",
              "      <td>0.0</td>\n",
              "      <td>0.000607</td>\n",
              "      <td>0.0</td>\n",
              "      <td>0.0</td>\n",
              "      <td>0.0</td>\n",
              "      <td>0.0</td>\n",
              "      <td>0.0</td>\n",
              "      <td>0.0</td>\n",
              "      <td>0.0</td>\n",
              "      <td>0.002005</td>\n",
              "      <td>0.0</td>\n",
              "      <td>0.0</td>\n",
              "      <td>0.0</td>\n",
              "      <td>0.000625</td>\n",
              "      <td>0.000555</td>\n",
              "      <td>0.0</td>\n",
              "      <td>0.0</td>\n",
              "      <td>0.0</td>\n",
              "      <td>0.0</td>\n",
              "      <td>0.0</td>\n",
              "      <td>0.0</td>\n",
              "      <td>0.0</td>\n",
              "      <td>0.0</td>\n",
              "      <td>0.0</td>\n",
              "      <td>0.0</td>\n",
              "      <td>0.0</td>\n",
              "      <td>0.0</td>\n",
              "      <td>0.0</td>\n",
              "      <td>0.0</td>\n",
              "      <td>0.0</td>\n",
              "      <td>0.0</td>\n",
              "      <td>0.0</td>\n",
              "      <td>0.0</td>\n",
              "      <td>0.0</td>\n",
              "      <td>0.279647</td>\n",
              "      <td>0.0</td>\n",
              "      <td>0.0</td>\n",
              "      <td>0.0</td>\n",
              "      <td>...</td>\n",
              "      <td>0.0</td>\n",
              "      <td>0.0</td>\n",
              "      <td>0.0</td>\n",
              "      <td>0.0</td>\n",
              "      <td>0.0</td>\n",
              "      <td>0.0</td>\n",
              "      <td>0.0</td>\n",
              "      <td>0.0</td>\n",
              "      <td>0.0</td>\n",
              "      <td>0.0</td>\n",
              "      <td>0.0</td>\n",
              "      <td>0.0</td>\n",
              "      <td>0.0</td>\n",
              "      <td>0.0</td>\n",
              "      <td>0.0</td>\n",
              "      <td>0.0</td>\n",
              "      <td>0.0</td>\n",
              "      <td>0.0</td>\n",
              "      <td>0.0</td>\n",
              "      <td>0.0</td>\n",
              "      <td>0.0</td>\n",
              "      <td>0.0</td>\n",
              "      <td>0.0</td>\n",
              "      <td>0.0</td>\n",
              "      <td>0.0</td>\n",
              "      <td>0.0</td>\n",
              "      <td>0.0</td>\n",
              "      <td>0.0</td>\n",
              "      <td>0.0</td>\n",
              "      <td>0.0</td>\n",
              "      <td>0.0</td>\n",
              "      <td>0.0</td>\n",
              "      <td>0.0</td>\n",
              "      <td>0.0</td>\n",
              "      <td>0.0</td>\n",
              "      <td>0.0</td>\n",
              "      <td>0.0</td>\n",
              "      <td>0.0</td>\n",
              "      <td>0.0</td>\n",
              "      <td>0.0</td>\n",
              "    </tr>\n",
              "    <tr>\n",
              "      <th>2</th>\n",
              "      <td>0.0</td>\n",
              "      <td>-0.010143</td>\n",
              "      <td>0.0</td>\n",
              "      <td>0.000117</td>\n",
              "      <td>0.0</td>\n",
              "      <td>0.0</td>\n",
              "      <td>0.0</td>\n",
              "      <td>0.0</td>\n",
              "      <td>0.0</td>\n",
              "      <td>0.0</td>\n",
              "      <td>0.0</td>\n",
              "      <td>-0.000794</td>\n",
              "      <td>0.0</td>\n",
              "      <td>0.0</td>\n",
              "      <td>0.0</td>\n",
              "      <td>-0.007160</td>\n",
              "      <td>-0.006488</td>\n",
              "      <td>0.0</td>\n",
              "      <td>0.0</td>\n",
              "      <td>0.0</td>\n",
              "      <td>0.0</td>\n",
              "      <td>0.0</td>\n",
              "      <td>0.0</td>\n",
              "      <td>0.0</td>\n",
              "      <td>0.0</td>\n",
              "      <td>0.0</td>\n",
              "      <td>0.0</td>\n",
              "      <td>0.0</td>\n",
              "      <td>0.0</td>\n",
              "      <td>0.0</td>\n",
              "      <td>0.0</td>\n",
              "      <td>0.0</td>\n",
              "      <td>0.0</td>\n",
              "      <td>0.0</td>\n",
              "      <td>0.0</td>\n",
              "      <td>0.0</td>\n",
              "      <td>-0.120570</td>\n",
              "      <td>0.0</td>\n",
              "      <td>0.0</td>\n",
              "      <td>0.0</td>\n",
              "      <td>...</td>\n",
              "      <td>0.0</td>\n",
              "      <td>0.0</td>\n",
              "      <td>0.0</td>\n",
              "      <td>0.0</td>\n",
              "      <td>0.0</td>\n",
              "      <td>0.0</td>\n",
              "      <td>0.0</td>\n",
              "      <td>0.0</td>\n",
              "      <td>0.0</td>\n",
              "      <td>0.0</td>\n",
              "      <td>0.0</td>\n",
              "      <td>0.0</td>\n",
              "      <td>0.0</td>\n",
              "      <td>0.0</td>\n",
              "      <td>0.0</td>\n",
              "      <td>0.0</td>\n",
              "      <td>0.0</td>\n",
              "      <td>0.0</td>\n",
              "      <td>0.0</td>\n",
              "      <td>0.0</td>\n",
              "      <td>0.0</td>\n",
              "      <td>0.0</td>\n",
              "      <td>0.0</td>\n",
              "      <td>0.0</td>\n",
              "      <td>0.0</td>\n",
              "      <td>0.0</td>\n",
              "      <td>0.0</td>\n",
              "      <td>0.0</td>\n",
              "      <td>0.0</td>\n",
              "      <td>0.0</td>\n",
              "      <td>0.0</td>\n",
              "      <td>0.0</td>\n",
              "      <td>0.0</td>\n",
              "      <td>0.0</td>\n",
              "      <td>0.0</td>\n",
              "      <td>0.0</td>\n",
              "      <td>0.0</td>\n",
              "      <td>0.0</td>\n",
              "      <td>0.0</td>\n",
              "      <td>0.0</td>\n",
              "    </tr>\n",
              "    <tr>\n",
              "      <th>3</th>\n",
              "      <td>0.0</td>\n",
              "      <td>0.002822</td>\n",
              "      <td>0.0</td>\n",
              "      <td>0.000607</td>\n",
              "      <td>0.0</td>\n",
              "      <td>0.0</td>\n",
              "      <td>0.0</td>\n",
              "      <td>0.0</td>\n",
              "      <td>0.0</td>\n",
              "      <td>0.0</td>\n",
              "      <td>0.0</td>\n",
              "      <td>-0.000794</td>\n",
              "      <td>0.0</td>\n",
              "      <td>0.0</td>\n",
              "      <td>0.0</td>\n",
              "      <td>-0.004039</td>\n",
              "      <td>-0.003660</td>\n",
              "      <td>0.0</td>\n",
              "      <td>0.0</td>\n",
              "      <td>0.0</td>\n",
              "      <td>0.0</td>\n",
              "      <td>0.0</td>\n",
              "      <td>0.0</td>\n",
              "      <td>0.0</td>\n",
              "      <td>0.0</td>\n",
              "      <td>0.0</td>\n",
              "      <td>0.0</td>\n",
              "      <td>0.0</td>\n",
              "      <td>0.0</td>\n",
              "      <td>0.0</td>\n",
              "      <td>0.0</td>\n",
              "      <td>0.0</td>\n",
              "      <td>0.0</td>\n",
              "      <td>0.0</td>\n",
              "      <td>0.0</td>\n",
              "      <td>0.0</td>\n",
              "      <td>0.286885</td>\n",
              "      <td>0.0</td>\n",
              "      <td>0.0</td>\n",
              "      <td>0.0</td>\n",
              "      <td>...</td>\n",
              "      <td>0.0</td>\n",
              "      <td>0.0</td>\n",
              "      <td>0.0</td>\n",
              "      <td>0.0</td>\n",
              "      <td>0.0</td>\n",
              "      <td>0.0</td>\n",
              "      <td>0.0</td>\n",
              "      <td>0.0</td>\n",
              "      <td>0.0</td>\n",
              "      <td>0.0</td>\n",
              "      <td>0.0</td>\n",
              "      <td>0.0</td>\n",
              "      <td>0.0</td>\n",
              "      <td>0.0</td>\n",
              "      <td>0.0</td>\n",
              "      <td>0.0</td>\n",
              "      <td>0.0</td>\n",
              "      <td>0.0</td>\n",
              "      <td>0.0</td>\n",
              "      <td>0.0</td>\n",
              "      <td>0.0</td>\n",
              "      <td>0.0</td>\n",
              "      <td>0.0</td>\n",
              "      <td>0.0</td>\n",
              "      <td>0.0</td>\n",
              "      <td>0.0</td>\n",
              "      <td>0.0</td>\n",
              "      <td>0.0</td>\n",
              "      <td>0.0</td>\n",
              "      <td>0.0</td>\n",
              "      <td>0.0</td>\n",
              "      <td>0.0</td>\n",
              "      <td>0.0</td>\n",
              "      <td>0.0</td>\n",
              "      <td>0.0</td>\n",
              "      <td>0.0</td>\n",
              "      <td>0.0</td>\n",
              "      <td>0.0</td>\n",
              "      <td>0.0</td>\n",
              "      <td>0.0</td>\n",
              "    </tr>\n",
              "    <tr>\n",
              "      <th>4</th>\n",
              "      <td>0.0</td>\n",
              "      <td>0.007593</td>\n",
              "      <td>0.0</td>\n",
              "      <td>0.000117</td>\n",
              "      <td>0.0</td>\n",
              "      <td>0.0</td>\n",
              "      <td>0.0</td>\n",
              "      <td>0.0</td>\n",
              "      <td>0.0</td>\n",
              "      <td>0.0</td>\n",
              "      <td>0.0</td>\n",
              "      <td>0.002005</td>\n",
              "      <td>0.0</td>\n",
              "      <td>0.0</td>\n",
              "      <td>0.0</td>\n",
              "      <td>0.001108</td>\n",
              "      <td>0.000983</td>\n",
              "      <td>0.0</td>\n",
              "      <td>0.0</td>\n",
              "      <td>0.0</td>\n",
              "      <td>0.0</td>\n",
              "      <td>0.0</td>\n",
              "      <td>0.0</td>\n",
              "      <td>0.0</td>\n",
              "      <td>0.0</td>\n",
              "      <td>0.0</td>\n",
              "      <td>0.0</td>\n",
              "      <td>0.0</td>\n",
              "      <td>0.0</td>\n",
              "      <td>0.0</td>\n",
              "      <td>0.0</td>\n",
              "      <td>0.0</td>\n",
              "      <td>0.0</td>\n",
              "      <td>0.0</td>\n",
              "      <td>0.0</td>\n",
              "      <td>0.0</td>\n",
              "      <td>-0.107202</td>\n",
              "      <td>0.0</td>\n",
              "      <td>0.0</td>\n",
              "      <td>0.0</td>\n",
              "      <td>...</td>\n",
              "      <td>0.0</td>\n",
              "      <td>0.0</td>\n",
              "      <td>0.0</td>\n",
              "      <td>0.0</td>\n",
              "      <td>0.0</td>\n",
              "      <td>0.0</td>\n",
              "      <td>0.0</td>\n",
              "      <td>0.0</td>\n",
              "      <td>0.0</td>\n",
              "      <td>0.0</td>\n",
              "      <td>0.0</td>\n",
              "      <td>0.0</td>\n",
              "      <td>0.0</td>\n",
              "      <td>0.0</td>\n",
              "      <td>0.0</td>\n",
              "      <td>0.0</td>\n",
              "      <td>0.0</td>\n",
              "      <td>0.0</td>\n",
              "      <td>0.0</td>\n",
              "      <td>0.0</td>\n",
              "      <td>0.0</td>\n",
              "      <td>0.0</td>\n",
              "      <td>0.0</td>\n",
              "      <td>0.0</td>\n",
              "      <td>0.0</td>\n",
              "      <td>0.0</td>\n",
              "      <td>0.0</td>\n",
              "      <td>0.0</td>\n",
              "      <td>0.0</td>\n",
              "      <td>0.0</td>\n",
              "      <td>0.0</td>\n",
              "      <td>0.0</td>\n",
              "      <td>0.0</td>\n",
              "      <td>0.0</td>\n",
              "      <td>0.0</td>\n",
              "      <td>0.0</td>\n",
              "      <td>0.0</td>\n",
              "      <td>0.0</td>\n",
              "      <td>0.0</td>\n",
              "      <td>0.0</td>\n",
              "    </tr>\n",
              "  </tbody>\n",
              "</table>\n",
              "<p>5 rows × 376 columns</p>\n",
              "</div>"
            ],
            "text/plain": [
              "   AGER_TYP  AKT_DAT_KL  ...  OST_WEST_KZ_O  OST_WEST_KZ_W\n",
              "0       0.0    0.002822  ...            0.0            0.0\n",
              "1       0.0    0.002822  ...            0.0            0.0\n",
              "2       0.0   -0.010143  ...            0.0            0.0\n",
              "3       0.0    0.002822  ...            0.0            0.0\n",
              "4       0.0    0.007593  ...            0.0            0.0\n",
              "\n",
              "[5 rows x 376 columns]"
            ]
          },
          "execution_count": 122,
          "metadata": {},
          "output_type": "execute_result"
        }
      ],
      "source": [
        "df_contributions = pd.DataFrame(contributions, columns=train.columns.tolist()+[\"expected_value\"]).drop(columns='expected_value')\n",
        "\n",
        "df_contributions.head()"
      ]
    },
    {
      "cell_type": "code",
      "execution_count": 123,
      "metadata": {
        "id": "wVsPZ7MQri8U"
      },
      "outputs": [],
      "source": [
        "from sklearn.cluster import KMeans\n",
        "\n",
        "#in this exercize we'll be creating 20 clusters. \n",
        "kmeans = KMeans(n_clusters=20, random_state=0).fit(df_contributions)\n",
        "\n",
        "# We'll then proceed to create the dataframe we'll be using in our analysis. \n",
        "# I would like to use the original train dataset for this (use feature values instead of contribution values ),\n",
        "# and add columsn for target, prediction and KMeans cluster group. \n",
        "\n",
        "train[\"PREDICTION\"] = basic_model.predict(train, predict_proba=True)\n",
        "train['TARGET'] = target\n",
        "train[\"KMEANS_CLUSTER\"]= kmeans.predict(df_contributions)\n",
        "train['DIFF'] = train['TARGET']-train['PREDICTION']"
      ]
    },
    {
      "cell_type": "code",
      "execution_count": 125,
      "metadata": {
        "colab": {
          "base_uri": "https://localhost:8080/",
          "height": 204
        },
        "id": "KQvSkuHFDt-Y",
        "outputId": "3ce1cdd6-472f-4bb5-813f-9df6fcadbb76"
      },
      "outputs": [
        {
          "data": {
            "text/html": [
              "<div>\n",
              "<style scoped>\n",
              "    .dataframe tbody tr th:only-of-type {\n",
              "        vertical-align: middle;\n",
              "    }\n",
              "\n",
              "    .dataframe tbody tr th {\n",
              "        vertical-align: top;\n",
              "    }\n",
              "\n",
              "    .dataframe thead th {\n",
              "        text-align: right;\n",
              "    }\n",
              "</style>\n",
              "<table border=\"1\" class=\"dataframe\">\n",
              "  <thead>\n",
              "    <tr style=\"text-align: right;\">\n",
              "      <th></th>\n",
              "      <th>OST_WEST_KZ_W</th>\n",
              "      <th>PREDICTION</th>\n",
              "      <th>TARGET</th>\n",
              "      <th>KMEANS_CLUSTER</th>\n",
              "      <th>DIFF</th>\n",
              "    </tr>\n",
              "  </thead>\n",
              "  <tbody>\n",
              "    <tr>\n",
              "      <th>0</th>\n",
              "      <td>1</td>\n",
              "      <td>-0.209357</td>\n",
              "      <td>-1</td>\n",
              "      <td>13</td>\n",
              "      <td>-0.790643</td>\n",
              "    </tr>\n",
              "    <tr>\n",
              "      <th>1</th>\n",
              "      <td>1</td>\n",
              "      <td>0.134688</td>\n",
              "      <td>1</td>\n",
              "      <td>1</td>\n",
              "      <td>0.865312</td>\n",
              "    </tr>\n",
              "    <tr>\n",
              "      <th>2</th>\n",
              "      <td>0</td>\n",
              "      <td>-0.343546</td>\n",
              "      <td>-1</td>\n",
              "      <td>6</td>\n",
              "      <td>-0.656454</td>\n",
              "    </tr>\n",
              "    <tr>\n",
              "      <th>3</th>\n",
              "      <td>1</td>\n",
              "      <td>0.134688</td>\n",
              "      <td>1</td>\n",
              "      <td>1</td>\n",
              "      <td>0.865312</td>\n",
              "    </tr>\n",
              "    <tr>\n",
              "      <th>4</th>\n",
              "      <td>0</td>\n",
              "      <td>-0.258939</td>\n",
              "      <td>-1</td>\n",
              "      <td>0</td>\n",
              "      <td>-0.741061</td>\n",
              "    </tr>\n",
              "  </tbody>\n",
              "</table>\n",
              "</div>"
            ],
            "text/plain": [
              "   OST_WEST_KZ_W  PREDICTION  TARGET  KMEANS_CLUSTER      DIFF\n",
              "0              1   -0.209357      -1              13 -0.790643\n",
              "1              1    0.134688       1               1  0.865312\n",
              "2              0   -0.343546      -1               6 -0.656454\n",
              "3              1    0.134688       1               1  0.865312\n",
              "4              0   -0.258939      -1               0 -0.741061"
            ]
          },
          "execution_count": 125,
          "metadata": {},
          "output_type": "execute_result"
        }
      ],
      "source": [
        "train.iloc[:, -5:].head()"
      ]
    },
    {
      "cell_type": "code",
      "execution_count": 128,
      "metadata": {
        "colab": {
          "base_uri": "https://localhost:8080/",
          "height": 253
        },
        "id": "PyCv5v3QEKya",
        "outputId": "6330e665-1ff0-4d0b-e9f7-d883da68beda"
      },
      "outputs": [
        {
          "data": {
            "text/html": [
              "<div>\n",
              "<style scoped>\n",
              "    .dataframe tbody tr th:only-of-type {\n",
              "        vertical-align: middle;\n",
              "    }\n",
              "\n",
              "    .dataframe tbody tr th {\n",
              "        vertical-align: top;\n",
              "    }\n",
              "\n",
              "    .dataframe thead th {\n",
              "        text-align: right;\n",
              "    }\n",
              "</style>\n",
              "<table border=\"1\" class=\"dataframe\">\n",
              "  <thead>\n",
              "    <tr style=\"text-align: right;\">\n",
              "      <th></th>\n",
              "      <th>AGER_TYP</th>\n",
              "      <th>AKT_DAT_KL</th>\n",
              "      <th>ALTER_HH</th>\n",
              "      <th>ALTERSKATEGORIE_FEIN</th>\n",
              "      <th>ANZ_HAUSHALTE_AKTIV</th>\n",
              "      <th>ANZ_PERSONEN</th>\n",
              "      <th>ARBEIT</th>\n",
              "      <th>BALLRAUM</th>\n",
              "      <th>CAMEO_DEUG_2015</th>\n",
              "      <th>CJT_GESAMTTYP</th>\n",
              "      <th>CJT_KATALOGNUTZER</th>\n",
              "      <th>CJT_TYP_1</th>\n",
              "      <th>CJT_TYP_2</th>\n",
              "      <th>CJT_TYP_3</th>\n",
              "      <th>CJT_TYP_4</th>\n",
              "      <th>CJT_TYP_5</th>\n",
              "      <th>CJT_TYP_6</th>\n",
              "      <th>D19_BANKEN_DATUM</th>\n",
              "      <th>D19_BANKEN_OFFLINE_DATUM</th>\n",
              "      <th>D19_BANKEN_ONLINE_DATUM</th>\n",
              "      <th>D19_BEKLEIDUNG_REST</th>\n",
              "      <th>D19_BUCH_CD</th>\n",
              "      <th>D19_GESAMT_ANZ_12</th>\n",
              "      <th>D19_GESAMT_ANZ_24</th>\n",
              "      <th>D19_GESAMT_DATUM</th>\n",
              "      <th>D19_GESAMT_OFFLINE_DATUM</th>\n",
              "      <th>D19_GESAMT_ONLINE_DATUM</th>\n",
              "      <th>D19_GESAMT_ONLINE_QUOTE_12</th>\n",
              "      <th>D19_HAUS_DEKO</th>\n",
              "      <th>D19_KINDERARTIKEL</th>\n",
              "      <th>D19_KONSUMTYP</th>\n",
              "      <th>D19_KONSUMTYP_MAX</th>\n",
              "      <th>D19_KOSMETIK</th>\n",
              "      <th>D19_LOTTO</th>\n",
              "      <th>D19_REISEN</th>\n",
              "      <th>D19_SONSTIGE</th>\n",
              "      <th>D19_SOZIALES</th>\n",
              "      <th>D19_TECHNIK</th>\n",
              "      <th>D19_TELKO_DATUM</th>\n",
              "      <th>D19_TELKO_OFFLINE_DATUM</th>\n",
              "      <th>...</th>\n",
              "      <th>CAMEO_DEU_2015_9D</th>\n",
              "      <th>CAMEO_DEU_2015_9E</th>\n",
              "      <th>D19_LETZTER_KAUF_BRANCHE_D19_BANKEN_DIREKT</th>\n",
              "      <th>D19_LETZTER_KAUF_BRANCHE_D19_BANKEN_GROSS</th>\n",
              "      <th>D19_LETZTER_KAUF_BRANCHE_D19_BANKEN_LOKAL</th>\n",
              "      <th>D19_LETZTER_KAUF_BRANCHE_D19_BANKEN_REST</th>\n",
              "      <th>D19_LETZTER_KAUF_BRANCHE_D19_BEKLEIDUNG_GEH</th>\n",
              "      <th>D19_LETZTER_KAUF_BRANCHE_D19_BEKLEIDUNG_REST</th>\n",
              "      <th>D19_LETZTER_KAUF_BRANCHE_D19_BILDUNG</th>\n",
              "      <th>D19_LETZTER_KAUF_BRANCHE_D19_BIO_OEKO</th>\n",
              "      <th>D19_LETZTER_KAUF_BRANCHE_D19_BUCH_CD</th>\n",
              "      <th>D19_LETZTER_KAUF_BRANCHE_D19_DIGIT_SERV</th>\n",
              "      <th>D19_LETZTER_KAUF_BRANCHE_D19_DROGERIEARTIKEL</th>\n",
              "      <th>D19_LETZTER_KAUF_BRANCHE_D19_ENERGIE</th>\n",
              "      <th>D19_LETZTER_KAUF_BRANCHE_D19_FREIZEIT</th>\n",
              "      <th>D19_LETZTER_KAUF_BRANCHE_D19_GARTEN</th>\n",
              "      <th>D19_LETZTER_KAUF_BRANCHE_D19_HANDWERK</th>\n",
              "      <th>D19_LETZTER_KAUF_BRANCHE_D19_HAUS_DEKO</th>\n",
              "      <th>D19_LETZTER_KAUF_BRANCHE_D19_KINDERARTIKEL</th>\n",
              "      <th>D19_LETZTER_KAUF_BRANCHE_D19_KOSMETIK</th>\n",
              "      <th>D19_LETZTER_KAUF_BRANCHE_D19_LEBENSMITTEL</th>\n",
              "      <th>D19_LETZTER_KAUF_BRANCHE_D19_LOTTO</th>\n",
              "      <th>D19_LETZTER_KAUF_BRANCHE_D19_NAHRUNGSERGAENZUNG</th>\n",
              "      <th>D19_LETZTER_KAUF_BRANCHE_D19_RATGEBER</th>\n",
              "      <th>D19_LETZTER_KAUF_BRANCHE_D19_REISEN</th>\n",
              "      <th>D19_LETZTER_KAUF_BRANCHE_D19_SAMMELARTIKEL</th>\n",
              "      <th>D19_LETZTER_KAUF_BRANCHE_D19_SCHUHE</th>\n",
              "      <th>D19_LETZTER_KAUF_BRANCHE_D19_SONSTIGE</th>\n",
              "      <th>D19_LETZTER_KAUF_BRANCHE_D19_TECHNIK</th>\n",
              "      <th>D19_LETZTER_KAUF_BRANCHE_D19_TELKO_MOBILE</th>\n",
              "      <th>D19_LETZTER_KAUF_BRANCHE_D19_TELKO_REST</th>\n",
              "      <th>D19_LETZTER_KAUF_BRANCHE_D19_TIERARTIKEL</th>\n",
              "      <th>D19_LETZTER_KAUF_BRANCHE_D19_UNBEKANNT</th>\n",
              "      <th>D19_LETZTER_KAUF_BRANCHE_D19_VERSAND_REST</th>\n",
              "      <th>D19_LETZTER_KAUF_BRANCHE_D19_VERSICHERUNGEN</th>\n",
              "      <th>D19_LETZTER_KAUF_BRANCHE_D19_VOLLSORTIMENT</th>\n",
              "      <th>D19_LETZTER_KAUF_BRANCHE_D19_WEIN_FEINKOST</th>\n",
              "      <th>OST_WEST_KZ_O</th>\n",
              "      <th>OST_WEST_KZ_W</th>\n",
              "      <th>cluster</th>\n",
              "    </tr>\n",
              "  </thead>\n",
              "  <tbody>\n",
              "    <tr>\n",
              "      <th>0</th>\n",
              "      <td>0.0</td>\n",
              "      <td>0.003810</td>\n",
              "      <td>0.0</td>\n",
              "      <td>0.000117</td>\n",
              "      <td>0.0</td>\n",
              "      <td>0.0</td>\n",
              "      <td>0.0</td>\n",
              "      <td>0.0</td>\n",
              "      <td>0.0</td>\n",
              "      <td>0.0</td>\n",
              "      <td>0.0</td>\n",
              "      <td>0.000776</td>\n",
              "      <td>0.0</td>\n",
              "      <td>0.0</td>\n",
              "      <td>0.0</td>\n",
              "      <td>0.001070</td>\n",
              "      <td>0.000462</td>\n",
              "      <td>0.0</td>\n",
              "      <td>0.0</td>\n",
              "      <td>0.0</td>\n",
              "      <td>0.0</td>\n",
              "      <td>0.0</td>\n",
              "      <td>0.0</td>\n",
              "      <td>0.0</td>\n",
              "      <td>0.0</td>\n",
              "      <td>0.0</td>\n",
              "      <td>0.0</td>\n",
              "      <td>0.0</td>\n",
              "      <td>0.0</td>\n",
              "      <td>0.0</td>\n",
              "      <td>0.0</td>\n",
              "      <td>0.0</td>\n",
              "      <td>0.0</td>\n",
              "      <td>0.0</td>\n",
              "      <td>0.0</td>\n",
              "      <td>0.0</td>\n",
              "      <td>-0.107141</td>\n",
              "      <td>0.0</td>\n",
              "      <td>0.0</td>\n",
              "      <td>0.0</td>\n",
              "      <td>...</td>\n",
              "      <td>0.0</td>\n",
              "      <td>0.0</td>\n",
              "      <td>0.0</td>\n",
              "      <td>0.0</td>\n",
              "      <td>0.0</td>\n",
              "      <td>0.0</td>\n",
              "      <td>0.0</td>\n",
              "      <td>0.0</td>\n",
              "      <td>0.0</td>\n",
              "      <td>0.0</td>\n",
              "      <td>0.0</td>\n",
              "      <td>0.0</td>\n",
              "      <td>0.0</td>\n",
              "      <td>0.0</td>\n",
              "      <td>0.0</td>\n",
              "      <td>0.0</td>\n",
              "      <td>0.0</td>\n",
              "      <td>0.0</td>\n",
              "      <td>0.0</td>\n",
              "      <td>0.0</td>\n",
              "      <td>0.0</td>\n",
              "      <td>0.0</td>\n",
              "      <td>0.0</td>\n",
              "      <td>0.0</td>\n",
              "      <td>0.0</td>\n",
              "      <td>0.0</td>\n",
              "      <td>0.0</td>\n",
              "      <td>0.0</td>\n",
              "      <td>0.0</td>\n",
              "      <td>0.0</td>\n",
              "      <td>0.0</td>\n",
              "      <td>0.0</td>\n",
              "      <td>0.0</td>\n",
              "      <td>0.0</td>\n",
              "      <td>0.0</td>\n",
              "      <td>0.0</td>\n",
              "      <td>0.0</td>\n",
              "      <td>0.0</td>\n",
              "      <td>0.0</td>\n",
              "      <td>0</td>\n",
              "    </tr>\n",
              "    <tr>\n",
              "      <th>1</th>\n",
              "      <td>0.0</td>\n",
              "      <td>0.002585</td>\n",
              "      <td>0.0</td>\n",
              "      <td>0.000607</td>\n",
              "      <td>0.0</td>\n",
              "      <td>0.0</td>\n",
              "      <td>0.0</td>\n",
              "      <td>0.0</td>\n",
              "      <td>0.0</td>\n",
              "      <td>0.0</td>\n",
              "      <td>0.0</td>\n",
              "      <td>0.000636</td>\n",
              "      <td>0.0</td>\n",
              "      <td>0.0</td>\n",
              "      <td>0.0</td>\n",
              "      <td>-0.000684</td>\n",
              "      <td>-0.000566</td>\n",
              "      <td>0.0</td>\n",
              "      <td>0.0</td>\n",
              "      <td>0.0</td>\n",
              "      <td>0.0</td>\n",
              "      <td>0.0</td>\n",
              "      <td>0.0</td>\n",
              "      <td>0.0</td>\n",
              "      <td>0.0</td>\n",
              "      <td>0.0</td>\n",
              "      <td>0.0</td>\n",
              "      <td>0.0</td>\n",
              "      <td>0.0</td>\n",
              "      <td>0.0</td>\n",
              "      <td>0.0</td>\n",
              "      <td>0.0</td>\n",
              "      <td>0.0</td>\n",
              "      <td>0.0</td>\n",
              "      <td>0.0</td>\n",
              "      <td>0.0</td>\n",
              "      <td>0.282103</td>\n",
              "      <td>0.0</td>\n",
              "      <td>0.0</td>\n",
              "      <td>0.0</td>\n",
              "      <td>...</td>\n",
              "      <td>0.0</td>\n",
              "      <td>0.0</td>\n",
              "      <td>0.0</td>\n",
              "      <td>0.0</td>\n",
              "      <td>0.0</td>\n",
              "      <td>0.0</td>\n",
              "      <td>0.0</td>\n",
              "      <td>0.0</td>\n",
              "      <td>0.0</td>\n",
              "      <td>0.0</td>\n",
              "      <td>0.0</td>\n",
              "      <td>0.0</td>\n",
              "      <td>0.0</td>\n",
              "      <td>0.0</td>\n",
              "      <td>0.0</td>\n",
              "      <td>0.0</td>\n",
              "      <td>0.0</td>\n",
              "      <td>0.0</td>\n",
              "      <td>0.0</td>\n",
              "      <td>0.0</td>\n",
              "      <td>0.0</td>\n",
              "      <td>0.0</td>\n",
              "      <td>0.0</td>\n",
              "      <td>0.0</td>\n",
              "      <td>0.0</td>\n",
              "      <td>0.0</td>\n",
              "      <td>0.0</td>\n",
              "      <td>0.0</td>\n",
              "      <td>0.0</td>\n",
              "      <td>0.0</td>\n",
              "      <td>0.0</td>\n",
              "      <td>0.0</td>\n",
              "      <td>0.0</td>\n",
              "      <td>0.0</td>\n",
              "      <td>0.0</td>\n",
              "      <td>0.0</td>\n",
              "      <td>0.0</td>\n",
              "      <td>0.0</td>\n",
              "      <td>0.0</td>\n",
              "      <td>1</td>\n",
              "    </tr>\n",
              "    <tr>\n",
              "      <th>2</th>\n",
              "      <td>0.0</td>\n",
              "      <td>0.003022</td>\n",
              "      <td>0.0</td>\n",
              "      <td>0.000117</td>\n",
              "      <td>0.0</td>\n",
              "      <td>0.0</td>\n",
              "      <td>0.0</td>\n",
              "      <td>0.0</td>\n",
              "      <td>0.0</td>\n",
              "      <td>0.0</td>\n",
              "      <td>0.0</td>\n",
              "      <td>-0.000595</td>\n",
              "      <td>0.0</td>\n",
              "      <td>0.0</td>\n",
              "      <td>0.0</td>\n",
              "      <td>0.006492</td>\n",
              "      <td>0.004709</td>\n",
              "      <td>0.0</td>\n",
              "      <td>0.0</td>\n",
              "      <td>0.0</td>\n",
              "      <td>0.0</td>\n",
              "      <td>0.0</td>\n",
              "      <td>0.0</td>\n",
              "      <td>0.0</td>\n",
              "      <td>0.0</td>\n",
              "      <td>0.0</td>\n",
              "      <td>0.0</td>\n",
              "      <td>0.0</td>\n",
              "      <td>0.0</td>\n",
              "      <td>0.0</td>\n",
              "      <td>0.0</td>\n",
              "      <td>0.0</td>\n",
              "      <td>0.0</td>\n",
              "      <td>0.0</td>\n",
              "      <td>0.0</td>\n",
              "      <td>0.0</td>\n",
              "      <td>-0.044477</td>\n",
              "      <td>0.0</td>\n",
              "      <td>0.0</td>\n",
              "      <td>0.0</td>\n",
              "      <td>...</td>\n",
              "      <td>0.0</td>\n",
              "      <td>0.0</td>\n",
              "      <td>0.0</td>\n",
              "      <td>0.0</td>\n",
              "      <td>0.0</td>\n",
              "      <td>0.0</td>\n",
              "      <td>0.0</td>\n",
              "      <td>0.0</td>\n",
              "      <td>0.0</td>\n",
              "      <td>0.0</td>\n",
              "      <td>0.0</td>\n",
              "      <td>0.0</td>\n",
              "      <td>0.0</td>\n",
              "      <td>0.0</td>\n",
              "      <td>0.0</td>\n",
              "      <td>0.0</td>\n",
              "      <td>0.0</td>\n",
              "      <td>0.0</td>\n",
              "      <td>0.0</td>\n",
              "      <td>0.0</td>\n",
              "      <td>0.0</td>\n",
              "      <td>0.0</td>\n",
              "      <td>0.0</td>\n",
              "      <td>0.0</td>\n",
              "      <td>0.0</td>\n",
              "      <td>0.0</td>\n",
              "      <td>0.0</td>\n",
              "      <td>0.0</td>\n",
              "      <td>0.0</td>\n",
              "      <td>0.0</td>\n",
              "      <td>0.0</td>\n",
              "      <td>0.0</td>\n",
              "      <td>0.0</td>\n",
              "      <td>0.0</td>\n",
              "      <td>0.0</td>\n",
              "      <td>0.0</td>\n",
              "      <td>0.0</td>\n",
              "      <td>0.0</td>\n",
              "      <td>0.0</td>\n",
              "      <td>2</td>\n",
              "    </tr>\n",
              "    <tr>\n",
              "      <th>3</th>\n",
              "      <td>0.0</td>\n",
              "      <td>0.002036</td>\n",
              "      <td>0.0</td>\n",
              "      <td>0.000114</td>\n",
              "      <td>0.0</td>\n",
              "      <td>0.0</td>\n",
              "      <td>0.0</td>\n",
              "      <td>0.0</td>\n",
              "      <td>0.0</td>\n",
              "      <td>0.0</td>\n",
              "      <td>0.0</td>\n",
              "      <td>-0.007696</td>\n",
              "      <td>0.0</td>\n",
              "      <td>0.0</td>\n",
              "      <td>0.0</td>\n",
              "      <td>-0.001801</td>\n",
              "      <td>-0.001655</td>\n",
              "      <td>0.0</td>\n",
              "      <td>0.0</td>\n",
              "      <td>0.0</td>\n",
              "      <td>0.0</td>\n",
              "      <td>0.0</td>\n",
              "      <td>0.0</td>\n",
              "      <td>0.0</td>\n",
              "      <td>0.0</td>\n",
              "      <td>0.0</td>\n",
              "      <td>0.0</td>\n",
              "      <td>0.0</td>\n",
              "      <td>0.0</td>\n",
              "      <td>0.0</td>\n",
              "      <td>0.0</td>\n",
              "      <td>0.0</td>\n",
              "      <td>0.0</td>\n",
              "      <td>0.0</td>\n",
              "      <td>0.0</td>\n",
              "      <td>0.0</td>\n",
              "      <td>0.024381</td>\n",
              "      <td>0.0</td>\n",
              "      <td>0.0</td>\n",
              "      <td>0.0</td>\n",
              "      <td>...</td>\n",
              "      <td>0.0</td>\n",
              "      <td>0.0</td>\n",
              "      <td>0.0</td>\n",
              "      <td>0.0</td>\n",
              "      <td>0.0</td>\n",
              "      <td>0.0</td>\n",
              "      <td>0.0</td>\n",
              "      <td>0.0</td>\n",
              "      <td>0.0</td>\n",
              "      <td>0.0</td>\n",
              "      <td>0.0</td>\n",
              "      <td>0.0</td>\n",
              "      <td>0.0</td>\n",
              "      <td>0.0</td>\n",
              "      <td>0.0</td>\n",
              "      <td>0.0</td>\n",
              "      <td>0.0</td>\n",
              "      <td>0.0</td>\n",
              "      <td>0.0</td>\n",
              "      <td>0.0</td>\n",
              "      <td>0.0</td>\n",
              "      <td>0.0</td>\n",
              "      <td>0.0</td>\n",
              "      <td>0.0</td>\n",
              "      <td>0.0</td>\n",
              "      <td>0.0</td>\n",
              "      <td>0.0</td>\n",
              "      <td>0.0</td>\n",
              "      <td>0.0</td>\n",
              "      <td>0.0</td>\n",
              "      <td>0.0</td>\n",
              "      <td>0.0</td>\n",
              "      <td>0.0</td>\n",
              "      <td>0.0</td>\n",
              "      <td>0.0</td>\n",
              "      <td>0.0</td>\n",
              "      <td>0.0</td>\n",
              "      <td>0.0</td>\n",
              "      <td>0.0</td>\n",
              "      <td>3</td>\n",
              "    </tr>\n",
              "    <tr>\n",
              "      <th>4</th>\n",
              "      <td>0.0</td>\n",
              "      <td>-0.010143</td>\n",
              "      <td>0.0</td>\n",
              "      <td>-0.002222</td>\n",
              "      <td>0.0</td>\n",
              "      <td>0.0</td>\n",
              "      <td>0.0</td>\n",
              "      <td>0.0</td>\n",
              "      <td>0.0</td>\n",
              "      <td>0.0</td>\n",
              "      <td>0.0</td>\n",
              "      <td>-0.000788</td>\n",
              "      <td>0.0</td>\n",
              "      <td>0.0</td>\n",
              "      <td>0.0</td>\n",
              "      <td>-0.006991</td>\n",
              "      <td>-0.006240</td>\n",
              "      <td>0.0</td>\n",
              "      <td>0.0</td>\n",
              "      <td>0.0</td>\n",
              "      <td>0.0</td>\n",
              "      <td>0.0</td>\n",
              "      <td>0.0</td>\n",
              "      <td>0.0</td>\n",
              "      <td>0.0</td>\n",
              "      <td>0.0</td>\n",
              "      <td>0.0</td>\n",
              "      <td>0.0</td>\n",
              "      <td>0.0</td>\n",
              "      <td>0.0</td>\n",
              "      <td>0.0</td>\n",
              "      <td>0.0</td>\n",
              "      <td>0.0</td>\n",
              "      <td>0.0</td>\n",
              "      <td>0.0</td>\n",
              "      <td>0.0</td>\n",
              "      <td>-0.105317</td>\n",
              "      <td>0.0</td>\n",
              "      <td>0.0</td>\n",
              "      <td>0.0</td>\n",
              "      <td>...</td>\n",
              "      <td>0.0</td>\n",
              "      <td>0.0</td>\n",
              "      <td>0.0</td>\n",
              "      <td>0.0</td>\n",
              "      <td>0.0</td>\n",
              "      <td>0.0</td>\n",
              "      <td>0.0</td>\n",
              "      <td>0.0</td>\n",
              "      <td>0.0</td>\n",
              "      <td>0.0</td>\n",
              "      <td>0.0</td>\n",
              "      <td>0.0</td>\n",
              "      <td>0.0</td>\n",
              "      <td>0.0</td>\n",
              "      <td>0.0</td>\n",
              "      <td>0.0</td>\n",
              "      <td>0.0</td>\n",
              "      <td>0.0</td>\n",
              "      <td>0.0</td>\n",
              "      <td>0.0</td>\n",
              "      <td>0.0</td>\n",
              "      <td>0.0</td>\n",
              "      <td>0.0</td>\n",
              "      <td>0.0</td>\n",
              "      <td>0.0</td>\n",
              "      <td>0.0</td>\n",
              "      <td>0.0</td>\n",
              "      <td>0.0</td>\n",
              "      <td>0.0</td>\n",
              "      <td>0.0</td>\n",
              "      <td>0.0</td>\n",
              "      <td>0.0</td>\n",
              "      <td>0.0</td>\n",
              "      <td>0.0</td>\n",
              "      <td>0.0</td>\n",
              "      <td>0.0</td>\n",
              "      <td>0.0</td>\n",
              "      <td>0.0</td>\n",
              "      <td>0.0</td>\n",
              "      <td>4</td>\n",
              "    </tr>\n",
              "  </tbody>\n",
              "</table>\n",
              "<p>5 rows × 377 columns</p>\n",
              "</div>"
            ],
            "text/plain": [
              "   AGER_TYP  AKT_DAT_KL  ALTER_HH  ...  OST_WEST_KZ_O  OST_WEST_KZ_W  cluster\n",
              "0       0.0    0.003810       0.0  ...            0.0            0.0        0\n",
              "1       0.0    0.002585       0.0  ...            0.0            0.0        1\n",
              "2       0.0    0.003022       0.0  ...            0.0            0.0        2\n",
              "3       0.0    0.002036       0.0  ...            0.0            0.0        3\n",
              "4       0.0   -0.010143       0.0  ...            0.0            0.0        4\n",
              "\n",
              "[5 rows x 377 columns]"
            ]
          },
          "execution_count": 128,
          "metadata": {},
          "output_type": "execute_result"
        }
      ],
      "source": [
        "centers_explained = pd.DataFrame(kmeans.cluster_centers_, columns=train.drop(columns=[\"PREDICTION\", \"TARGET\", \"KMEANS_CLUSTER\", \"DIFF\"]).columns.tolist())\n",
        "centers_explained['cluster'] = centers_explained.index\n",
        "\n",
        "centers_explained.head()"
      ]
    },
    {
      "cell_type": "markdown",
      "metadata": {
        "id": "r0jeGIZHFcFy"
      },
      "source": [
        "It becomes clear that the features that define each cluster really are the non-zero ones."
      ]
    },
    {
      "cell_type": "code",
      "execution_count": 131,
      "metadata": {
        "colab": {
          "base_uri": "https://localhost:8080/",
          "height": 700
        },
        "id": "HoX2YN1tFwOH",
        "outputId": "e3cd3d29-fe1e-41f7-f093-5ee628b84309"
      },
      "outputs": [
        {
          "data": {
            "text/html": [
              "<div>\n",
              "<style scoped>\n",
              "    .dataframe tbody tr th:only-of-type {\n",
              "        vertical-align: middle;\n",
              "    }\n",
              "\n",
              "    .dataframe tbody tr th {\n",
              "        vertical-align: top;\n",
              "    }\n",
              "\n",
              "    .dataframe thead th {\n",
              "        text-align: right;\n",
              "    }\n",
              "</style>\n",
              "<table border=\"1\" class=\"dataframe\">\n",
              "  <thead>\n",
              "    <tr style=\"text-align: right;\">\n",
              "      <th></th>\n",
              "      <th>PREDICTION</th>\n",
              "      <th>TARGET</th>\n",
              "      <th>DIFF</th>\n",
              "    </tr>\n",
              "    <tr>\n",
              "      <th>KMEANS_CLUSTER</th>\n",
              "      <th></th>\n",
              "      <th></th>\n",
              "      <th></th>\n",
              "    </tr>\n",
              "  </thead>\n",
              "  <tbody>\n",
              "    <tr>\n",
              "      <th>0</th>\n",
              "      <td>-0.264102</td>\n",
              "      <td>-0.488310</td>\n",
              "      <td>-0.224208</td>\n",
              "    </tr>\n",
              "    <tr>\n",
              "      <th>1</th>\n",
              "      <td>0.134688</td>\n",
              "      <td>0.892947</td>\n",
              "      <td>0.758259</td>\n",
              "    </tr>\n",
              "    <tr>\n",
              "      <th>2</th>\n",
              "      <td>0.038443</td>\n",
              "      <td>0.672948</td>\n",
              "      <td>0.634505</td>\n",
              "    </tr>\n",
              "    <tr>\n",
              "      <th>3</th>\n",
              "      <td>-0.151096</td>\n",
              "      <td>-0.277995</td>\n",
              "      <td>-0.126899</td>\n",
              "    </tr>\n",
              "    <tr>\n",
              "      <th>4</th>\n",
              "      <td>-0.343546</td>\n",
              "      <td>-0.972984</td>\n",
              "      <td>-0.629438</td>\n",
              "    </tr>\n",
              "    <tr>\n",
              "      <th>5</th>\n",
              "      <td>-0.197870</td>\n",
              "      <td>-0.610559</td>\n",
              "      <td>-0.412689</td>\n",
              "    </tr>\n",
              "    <tr>\n",
              "      <th>6</th>\n",
              "      <td>-0.343546</td>\n",
              "      <td>-0.923785</td>\n",
              "      <td>-0.580239</td>\n",
              "    </tr>\n",
              "    <tr>\n",
              "      <th>7</th>\n",
              "      <td>-0.327743</td>\n",
              "      <td>-0.696765</td>\n",
              "      <td>-0.369022</td>\n",
              "    </tr>\n",
              "    <tr>\n",
              "      <th>8</th>\n",
              "      <td>0.134688</td>\n",
              "      <td>0.865483</td>\n",
              "      <td>0.730795</td>\n",
              "    </tr>\n",
              "    <tr>\n",
              "      <th>9</th>\n",
              "      <td>-0.102549</td>\n",
              "      <td>0.136301</td>\n",
              "      <td>0.238850</td>\n",
              "    </tr>\n",
              "    <tr>\n",
              "      <th>10</th>\n",
              "      <td>-0.024917</td>\n",
              "      <td>0.062049</td>\n",
              "      <td>0.086966</td>\n",
              "    </tr>\n",
              "    <tr>\n",
              "      <th>11</th>\n",
              "      <td>-0.319343</td>\n",
              "      <td>-0.874684</td>\n",
              "      <td>-0.555341</td>\n",
              "    </tr>\n",
              "    <tr>\n",
              "      <th>12</th>\n",
              "      <td>-0.263201</td>\n",
              "      <td>-0.560489</td>\n",
              "      <td>-0.297288</td>\n",
              "    </tr>\n",
              "    <tr>\n",
              "      <th>13</th>\n",
              "      <td>-0.208968</td>\n",
              "      <td>-0.639814</td>\n",
              "      <td>-0.430846</td>\n",
              "    </tr>\n",
              "    <tr>\n",
              "      <th>14</th>\n",
              "      <td>0.038242</td>\n",
              "      <td>0.489758</td>\n",
              "      <td>0.451516</td>\n",
              "    </tr>\n",
              "    <tr>\n",
              "      <th>15</th>\n",
              "      <td>-0.319343</td>\n",
              "      <td>-0.727717</td>\n",
              "      <td>-0.408374</td>\n",
              "    </tr>\n",
              "    <tr>\n",
              "      <th>16</th>\n",
              "      <td>-0.113531</td>\n",
              "      <td>-0.233360</td>\n",
              "      <td>-0.119829</td>\n",
              "    </tr>\n",
              "    <tr>\n",
              "      <th>17</th>\n",
              "      <td>-0.151096</td>\n",
              "      <td>-0.135595</td>\n",
              "      <td>0.015501</td>\n",
              "    </tr>\n",
              "    <tr>\n",
              "      <th>18</th>\n",
              "      <td>-0.055705</td>\n",
              "      <td>0.555988</td>\n",
              "      <td>0.611693</td>\n",
              "    </tr>\n",
              "    <tr>\n",
              "      <th>19</th>\n",
              "      <td>-0.034372</td>\n",
              "      <td>0.644231</td>\n",
              "      <td>0.678603</td>\n",
              "    </tr>\n",
              "  </tbody>\n",
              "</table>\n",
              "</div>"
            ],
            "text/plain": [
              "                PREDICTION    TARGET      DIFF\n",
              "KMEANS_CLUSTER                                \n",
              "0                -0.264102 -0.488310 -0.224208\n",
              "1                 0.134688  0.892947  0.758259\n",
              "2                 0.038443  0.672948  0.634505\n",
              "3                -0.151096 -0.277995 -0.126899\n",
              "4                -0.343546 -0.972984 -0.629438\n",
              "5                -0.197870 -0.610559 -0.412689\n",
              "6                -0.343546 -0.923785 -0.580239\n",
              "7                -0.327743 -0.696765 -0.369022\n",
              "8                 0.134688  0.865483  0.730795\n",
              "9                -0.102549  0.136301  0.238850\n",
              "10               -0.024917  0.062049  0.086966\n",
              "11               -0.319343 -0.874684 -0.555341\n",
              "12               -0.263201 -0.560489 -0.297288\n",
              "13               -0.208968 -0.639814 -0.430846\n",
              "14                0.038242  0.489758  0.451516\n",
              "15               -0.319343 -0.727717 -0.408374\n",
              "16               -0.113531 -0.233360 -0.119829\n",
              "17               -0.151096 -0.135595  0.015501\n",
              "18               -0.055705  0.555988  0.611693\n",
              "19               -0.034372  0.644231  0.678603"
            ]
          },
          "execution_count": 131,
          "metadata": {},
          "output_type": "execute_result"
        }
      ],
      "source": [
        "train.groupby(\"KMEANS_CLUSTER\")[[\"PREDICTION\", \"TARGET\", \"DIFF\"]].mean()"
      ]
    },
    {
      "cell_type": "markdown",
      "metadata": {
        "id": "Fn4tF2BpHKB_"
      },
      "source": [
        "By looking at the target and prediction of each of these groups we can start better understanding which types of observations are the ones the model finds easier or more difficult to predict.\n",
        "\n",
        "If we group the train data in accordance with each cluster, we can see which clusters are easier for the model to predict based on the existing difference between its target value and prediction value. "
      ]
    },
    {
      "cell_type": "markdown",
      "metadata": {
        "id": "pMAzv8ftZANv"
      },
      "source": [
        "###Feature selection using [**LightGBM**](https://lightgbm.readthedocs.io/en/latest/index.html), a gradient boosting framework that uses tree based learning algorithms.\n",
        "\n",
        "We will use **feature importances** of a LightGBM model with a threshold value to remove attributes not considered important by the model. We will achieve this by removing all zero importance features (as computed by LightGBM) from the model.\n",
        "\n",
        "The evaluation metric we will use is ROC_AUC_SCORE:\n",
        "\n",
        "An ROC curve (receiver operating characteristic curve) is a graph showing the performance of a classification model at all classification thresholds. This curve plots two parameters:\n",
        "\n",
        "* True Positive Rate\n",
        "* False Positive Rate\n",
        "\n",
        "AUC measures the entire two-dimensional area underneath the entire ROC curve  from (0,0) to (1,1). AUC provides an aggregate measure of performance across all possible classification thresholds.\n",
        "\n",
        "* AUC is scale-invariant. It measures how well predictions are ranked, rather than their absolute values.\n",
        "* AUC is classification-threshold-invariant. It measures the quality of the model's predictions irrespective of what classification threshold is chosen.\n",
        "\n",
        "We will use [LGBMClassifier](https://lightgbm.readthedocs.io/en/latest/pythonapi/lightgbm.LGBMClassifier.html), a Gradient Boosted Model from the LightGBM library to assess feature importances."
      ]
    },
    {
      "cell_type": "markdown",
      "metadata": {
        "id": "hXtxtxpXPtHZ"
      },
      "source": [
        "LGB plotting and interpretation:\n",
        "* https://stackoverflow.com/questions/61862597/how-to-get-variance-explained-of-features-for-lightgbm-best_iter\n",
        "* https://stackoverflow.com/questions/53413701/feature-importance-using-lightgbm"
      ]
    },
    {
      "cell_type": "markdown",
      "metadata": {
        "id": "CwP5cRnJMAXY"
      },
      "source": [
        "###KFOLDS\n",
        "\n",
        "* https://scikit-learn.org/stable/modules/cross_validation.html#k-fold"
      ]
    },
    {
      "cell_type": "code",
      "execution_count": 120,
      "metadata": {
        "id": "LX6VQw07sV-B"
      },
      "outputs": [],
      "source": [
        "# Create a new dataframe from `azdias` and `customers` dataframes creating a `target` attribute:\n",
        "# df_lgb = pd.concat([azdias.assign(TARGET=0), custrs.assign(TARGET=1)])\n",
        "\n",
        "# Shuffle dataframe\n",
        "# df_lgb = df_lgb.sample(frac=1).reset_index(drop=True)\n",
        "\n",
        "# df_lgb.shape"
      ]
    },
    {
      "cell_type": "code",
      "execution_count": 121,
      "metadata": {
        "id": "UecfAB9ZVcmc"
      },
      "outputs": [],
      "source": [
        "# Check dtypes\n",
        "# df_lgb.dtypes.value_counts()"
      ]
    },
    {
      "cell_type": "code",
      "execution_count": 122,
      "metadata": {
        "id": "jfRIGoci1FLI"
      },
      "outputs": [],
      "source": [
        "# One-hot encoding, for ['CAMEO_DEU_2015', 'D19_LETZTER_KAUF_BRANCHE', 'OST_WEST_KZ']\n",
        "# df_lgb = pd.get_dummies(df_lgb)\n",
        "\n",
        "# Convert ordinal attributes to dtype `category`.\n",
        "# converted_cat = floats_to_cat(df_lgb, cat_attrs)\n",
        "# df_lgb.loc[:, converted_cat.columns] = converted_cat\n",
        "\n",
        "# Create train and target sets.\n",
        "# train = df_lgb.drop(columns=[\"LNR\", \"EINGEFUEGT_AM\", \"TARGET\"])\n",
        "# target = df_lgb[\"TARGET\"]\n",
        "# clientIDs = df_lgb[\"LNR\"]\n",
        "\n",
        "# Clean up\n",
        "# del df_lgb\n",
        "# gc.collect()\n",
        "\n",
        "# train.shape"
      ]
    },
    {
      "cell_type": "code",
      "execution_count": 123,
      "metadata": {
        "colab": {
          "base_uri": "https://localhost:8080/"
        },
        "id": "aUXgIBU9zJCF",
        "outputId": "5b53b863-dfec-4b16-c152-0efb57212823"
      },
      "outputs": [
        {
          "data": {
            "text/plain": [
              "(350000, 376)"
            ]
          },
          "execution_count": 123,
          "metadata": {},
          "output_type": "execute_result"
        }
      ],
      "source": [
        "# Create train and target sets.\n",
        "train = df_train.drop(columns=[\"TARGET\"])\n",
        "target = df_train[\"TARGET\"]\n",
        "\n",
        "train.shape"
      ]
    },
    {
      "cell_type": "code",
      "execution_count": 124,
      "metadata": {
        "id": "z1_0eBDElVaY"
      },
      "outputs": [],
      "source": [
        "# Initialize an empty array to hold feature importances of size equal to current attributes size\n",
        "attrib_imp = np.zeros(train.shape[1])\n",
        "\n",
        "# Create the model with hyperparameters:\n",
        "clf_params = {\n",
        "        'boosting_type': 'goss',\n",
        "        'n_estimators': 10000,\n",
        "        'objective': 'binary',\n",
        "        'class_weight': 'balanced',\n",
        "    }\n",
        "# Initialize the model\n",
        "clf = lgb.LGBMClassifier(**clf_params)"
      ]
    },
    {
      "cell_type": "code",
      "execution_count": 125,
      "metadata": {
        "colab": {
          "base_uri": "https://localhost:8080/"
        },
        "id": "gM48zdN-lii1",
        "outputId": "56af5796-4b66-4dfe-d3ae-efd7a6eb6acd"
      },
      "outputs": [
        {
          "name": "stdout",
          "output_type": "stream",
          "text": [
            "Training until validation scores don't improve for 100 rounds.\n",
            "[200]\tvalid_0's auc: 0.934055\tvalid_0's binary_logloss: 0.32636\n",
            "Early stopping, best iteration is:\n",
            "[135]\tvalid_0's auc: 0.934344\tvalid_0's binary_logloss: 0.325826\n",
            "Training until validation scores don't improve for 100 rounds.\n",
            "[200]\tvalid_0's auc: 0.934253\tvalid_0's binary_logloss: 0.325352\n",
            "Early stopping, best iteration is:\n",
            "[157]\tvalid_0's auc: 0.934544\tvalid_0's binary_logloss: 0.324741\n"
          ]
        }
      ],
      "source": [
        "# Try to avoid overfitting by fitting the model twice\n",
        "for i in range(2):\n",
        "    # Split into training and validation sets\n",
        "    train_X, test_X, train_y, test_y = train_test_split(train, target, test_size=.25, random_state=i)\n",
        "    # Fit the model using early stopping\n",
        "    clf.fit(train_X, train_y,\n",
        "            early_stopping_rounds=100,\n",
        "            eval_set=[(test_X, test_y)], \n",
        "            eval_metric='auc',\n",
        "            verbose = 200)\n",
        "    # Get the feature importances\n",
        "    attrib_imp += clf.feature_importances_"
      ]
    },
    {
      "cell_type": "code",
      "execution_count": 126,
      "metadata": {
        "colab": {
          "base_uri": "https://localhost:8080/",
          "height": 204
        },
        "id": "oyqAA3YGq_Xh",
        "outputId": "0f615c44-edab-4393-f827-c8d55db86903"
      },
      "outputs": [
        {
          "data": {
            "text/html": [
              "<div>\n",
              "<style scoped>\n",
              "    .dataframe tbody tr th:only-of-type {\n",
              "        vertical-align: middle;\n",
              "    }\n",
              "\n",
              "    .dataframe tbody tr th {\n",
              "        vertical-align: top;\n",
              "    }\n",
              "\n",
              "    .dataframe thead th {\n",
              "        text-align: right;\n",
              "    }\n",
              "</style>\n",
              "<table border=\"1\" class=\"dataframe\">\n",
              "  <thead>\n",
              "    <tr style=\"text-align: right;\">\n",
              "      <th></th>\n",
              "      <th>attribute</th>\n",
              "      <th>importance</th>\n",
              "    </tr>\n",
              "  </thead>\n",
              "  <tbody>\n",
              "    <tr>\n",
              "      <th>36</th>\n",
              "      <td>D19_SOZIALES</td>\n",
              "      <td>158.0</td>\n",
              "    </tr>\n",
              "    <tr>\n",
              "      <th>245</th>\n",
              "      <td>LP_FAMILIE_FEIN</td>\n",
              "      <td>136.5</td>\n",
              "    </tr>\n",
              "    <tr>\n",
              "      <th>1</th>\n",
              "      <td>AKT_DAT_KL</td>\n",
              "      <td>123.0</td>\n",
              "    </tr>\n",
              "    <tr>\n",
              "      <th>67</th>\n",
              "      <td>GEBURTSJAHR</td>\n",
              "      <td>83.0</td>\n",
              "    </tr>\n",
              "    <tr>\n",
              "      <th>3</th>\n",
              "      <td>ALTERSKATEGORIE_FEIN</td>\n",
              "      <td>81.0</td>\n",
              "    </tr>\n",
              "  </tbody>\n",
              "</table>\n",
              "</div>"
            ],
            "text/plain": [
              "                attribute  importance\n",
              "36           D19_SOZIALES       158.0\n",
              "245       LP_FAMILIE_FEIN       136.5\n",
              "1              AKT_DAT_KL       123.0\n",
              "67            GEBURTSJAHR        83.0\n",
              "3    ALTERSKATEGORIE_FEIN        81.0"
            ]
          },
          "execution_count": 126,
          "metadata": {},
          "output_type": "execute_result"
        }
      ],
      "source": [
        "# We have to take the average of the two itterations for the  feature_importances\n",
        "attrib_imp = attrib_imp / 2\n",
        "# Create dataframe with attribute importances.\n",
        "attrib_imp = pd.DataFrame({'attribute': list(train.columns), 'importance': attrib_imp}).sort_values('importance', ascending = False)\n",
        "\n",
        "attrib_imp.head()"
      ]
    },
    {
      "cell_type": "code",
      "execution_count": 127,
      "metadata": {
        "colab": {
          "base_uri": "https://localhost:8080/",
          "height": 300
        },
        "id": "aIHvKjvx7lWa",
        "outputId": "f3925ff2-4cc1-4410-cca2-9c3736fa7f90"
      },
      "outputs": [
        {
          "name": "stdout",
          "output_type": "stream",
          "text": [
            "Number of attributes with zero importance:  3\n",
            "-------------------------\n"
          ]
        },
        {
          "data": {
            "text/html": [
              "<div>\n",
              "<style scoped>\n",
              "    .dataframe tbody tr th:only-of-type {\n",
              "        vertical-align: middle;\n",
              "    }\n",
              "\n",
              "    .dataframe tbody tr th {\n",
              "        vertical-align: top;\n",
              "    }\n",
              "\n",
              "    .dataframe thead th {\n",
              "        text-align: right;\n",
              "    }\n",
              "</style>\n",
              "<table border=\"1\" class=\"dataframe\">\n",
              "  <thead>\n",
              "    <tr style=\"text-align: right;\">\n",
              "      <th></th>\n",
              "      <th>attribute</th>\n",
              "      <th>importance</th>\n",
              "    </tr>\n",
              "  </thead>\n",
              "  <tbody>\n",
              "    <tr>\n",
              "      <th>353</th>\n",
              "      <td>D19_LETZTER_KAUF_BRANCHE_D19_HANDWERK</td>\n",
              "      <td>0.5</td>\n",
              "    </tr>\n",
              "    <tr>\n",
              "      <th>342</th>\n",
              "      <td>D19_LETZTER_KAUF_BRANCHE_D19_BANKEN_REST</td>\n",
              "      <td>0.5</td>\n",
              "    </tr>\n",
              "    <tr>\n",
              "      <th>348</th>\n",
              "      <td>D19_LETZTER_KAUF_BRANCHE_D19_DIGIT_SERV</td>\n",
              "      <td>0.5</td>\n",
              "    </tr>\n",
              "    <tr>\n",
              "      <th>309</th>\n",
              "      <td>CAMEO_DEU_2015_4B</td>\n",
              "      <td>0.5</td>\n",
              "    </tr>\n",
              "    <tr>\n",
              "      <th>366</th>\n",
              "      <td>D19_LETZTER_KAUF_BRANCHE_D19_TELKO_MOBILE</td>\n",
              "      <td>0.0</td>\n",
              "    </tr>\n",
              "    <tr>\n",
              "      <th>356</th>\n",
              "      <td>D19_LETZTER_KAUF_BRANCHE_D19_KOSMETIK</td>\n",
              "      <td>0.0</td>\n",
              "    </tr>\n",
              "    <tr>\n",
              "      <th>324</th>\n",
              "      <td>CAMEO_DEU_2015_6F</td>\n",
              "      <td>0.0</td>\n",
              "    </tr>\n",
              "  </tbody>\n",
              "</table>\n",
              "</div>"
            ],
            "text/plain": [
              "                                     attribute  importance\n",
              "353      D19_LETZTER_KAUF_BRANCHE_D19_HANDWERK         0.5\n",
              "342   D19_LETZTER_KAUF_BRANCHE_D19_BANKEN_REST         0.5\n",
              "348    D19_LETZTER_KAUF_BRANCHE_D19_DIGIT_SERV         0.5\n",
              "309                          CAMEO_DEU_2015_4B         0.5\n",
              "366  D19_LETZTER_KAUF_BRANCHE_D19_TELKO_MOBILE         0.0\n",
              "356      D19_LETZTER_KAUF_BRANCHE_D19_KOSMETIK         0.0\n",
              "324                          CAMEO_DEU_2015_6F         0.0"
            ]
          },
          "execution_count": 127,
          "metadata": {},
          "output_type": "execute_result"
        }
      ],
      "source": [
        "# Find all the attributes with zero values importance\n",
        "zero_val_attrs = attrib_imp[attrib_imp['importance'] == 0.0]['attribute'].tolist()\n",
        "\n",
        "print('Number of attributes with zero importance: ', len(zero_val_attrs))\n",
        "print(25*'-')\n",
        "attrib_imp.tail(7)"
      ]
    },
    {
      "cell_type": "code",
      "execution_count": 128,
      "metadata": {
        "id": "50_ehhGnC5bB"
      },
      "outputs": [],
      "source": [
        "def plot_attr_imp(df, n_attrs=20, thres=0.9, fig_size=(16, 8)):\n",
        "    \"\"\"Plots n_attrs most important features and the cumulative importance of\n",
        "    attributes.Prints the number of features needed to reach the threshold of\n",
        "    cumulative importance.\n",
        "    \n",
        "    Args:\n",
        "        df (pd.DataFrame): A dataframe of attribute importances.\n",
        "            Columns must be `attribute` and `importance`.\n",
        "        n_attrs (int): Number of attributes to plot.\n",
        "        thres (float): Plot information about cumulative importances above `thres`.\n",
        "        fig_size (tuple of int): Figue size for the combined plot.\n",
        "        \n",
        "    Returns:\n",
        "        df (pd.DataFrame): A dataframe ordered by attribute importances with a\n",
        "            normalized column (sums to 1) and a cumulative importance column.\n",
        "    \"\"\"\n",
        "    # Sort features according to importance\n",
        "    df = df.sort_values('importance', ascending=False).reset_index()\n",
        "    # Normalize the feature importances to add up to one\n",
        "    df['imp_norm'] = df['importance'].div(df['importance'].sum())\n",
        "    df['cumul_imp'] = df['imp_norm'].cumsum()\n",
        "\n",
        "    imp_attrs = df[df['cumul_imp'] < thres]['cumul_imp'].count()\n",
        "    print('\\n%d features provide cumulative importance almost %0.2f\\n' % (imp_attrs, thres))\n",
        "\n",
        "    # with sns.axes_style(\"whitegrid\"), sns.plotting_context(\"notebook\", font_scale=1.5):\n",
        "    with sns.axes_style(\"whitegrid\"):\n",
        "        fig, ax = plt.subplots(1, 2, figsize=fig_size)\n",
        "        # Horizontal bar plot of attribute importances\n",
        "        a = sns.barplot(ax=ax[0], data=df.head(n_attrs), x='imp_norm', y='attribute', color='royalblue')\n",
        "        a.set(title='Attribute importances',\n",
        "              xlabel='Importance (normalized)')\n",
        "        # Cumulative importance plot\n",
        "        b = sns.lineplot(ax=ax[1], data=df['cumul_imp'], color='r')\n",
        "        b.set(title='Cumulative attribute importance',\n",
        "              xlabel='Number of attributes',\n",
        "              ylabel='Cumulative importance (normalized)')\n",
        "        b.axhline(thres, linestyle='--', color='#cfcfcf', lw=2, alpha=0.75)\n",
        "        b.axvline(imp_attrs, linestyle='--', color='#cfcfcf', lw=2, alpha=0.75)\n",
        "        fig.tight_layout()\n",
        "        # fig.savefig('lgbm_importances-01.png', transparent=False)\n",
        "\n",
        "    return df"
      ]
    },
    {
      "cell_type": "code",
      "execution_count": 129,
      "metadata": {
        "colab": {
          "base_uri": "https://localhost:8080/",
          "height": 636
        },
        "id": "m6WQcZ6KGLeX",
        "outputId": "220dc794-696c-4060-8168-ea7cbf542246"
      },
      "outputs": [
        {
          "name": "stdout",
          "output_type": "stream",
          "text": [
            "\n",
            "227 features provide cumulative importance almost 0.90\n",
            "\n"
          ]
        },
        {
          "data": {
            "image/png": "[encoded data removed]",
            "text/plain": [
              "<Figure size 1152x576 with 2 Axes>"
            ]
          },
          "metadata": {},
          "output_type": "display_data"
        }
      ],
      "source": [
        "norm_attrib_imp = plot_attr_imp(attrib_imp)"
      ]
    },
    {
      "cell_type": "code",
      "execution_count": 130,
      "metadata": {
        "id": "tMA2KKrTtZYU"
      },
      "outputs": [],
      "source": [
        "# def plotImp(model, X , num = 20, fig_size = (40, 20)):\n",
        "#     feature_imp = pd.DataFrame({'Value':model.feature_importance(),'Feature':X.columns})\n",
        "#     plt.figure(figsize=fig_size)\n",
        "#     sns.set(font_scale = 5)\n",
        "#     sns.barplot(x=\"Value\", y=\"Feature\", data=feature_imp.sort_values(by=\"Value\", \n",
        "#                                                         ascending=False)[0:num])\n",
        "#     plt.title('LightGBM Features (avg over folds)')\n",
        "#     plt.tight_layout()\n",
        "#     plt.savefig('lgbm_importances-01.png')\n",
        "#     plt.show()"
      ]
    },
    {
      "cell_type": "markdown",
      "metadata": {
        "id": "FTx88Csk_6Vk"
      },
      "source": [
        "Let's remove the attributes, `zero_val_attrs` that have zero importance."
      ]
    },
    {
      "cell_type": "code",
      "execution_count": 131,
      "metadata": {
        "colab": {
          "base_uri": "https://localhost:8080/"
        },
        "id": "eTCI5x5w_7U8",
        "outputId": "f7c2ff1f-11fe-4e0d-834b-8663a382ada2"
      },
      "outputs": [
        {
          "data": {
            "text/plain": [
              "(350000, 373)"
            ]
          },
          "execution_count": 131,
          "metadata": {},
          "output_type": "execute_result"
        }
      ],
      "source": [
        "train.drop(columns=zero_val_attrs, inplace=True)\n",
        "\n",
        "train.shape"
      ]
    },
    {
      "cell_type": "code",
      "execution_count": 132,
      "metadata": {
        "id": "o_MxuQHuC_sk"
      },
      "outputs": [],
      "source": [
        "def get_zero_imp_attrs(train, target, model_params, iters=2):\n",
        "    \"\"\"Compute zero importance attributes in a training dataset based on the \n",
        "    feature importances from a gradient boosting model (eg. LGBMClassifier). \n",
        "    \n",
        "    Args:\n",
        "        train (pd.DataFrame): Training features dataframe\n",
        "        target (pd.Series): Labels for the training data\n",
        "        model_params (dict): parameters for the classifier.\n",
        "        iters (int): Number of cross validation splits to use for determining\n",
        "            feature importances.\n",
        "    \n",
        "    Returns:\n",
        "        zero_imp (list): Attributes with zero importance.\n",
        "        importances (pd.DataFrame): Dataframe containing attributes with computed\n",
        "            importances.\n",
        "    \"\"\"\n",
        "    # Initialize an empty array to hold feature importances\n",
        "    importances = np.zeros(train.shape[1])\n",
        "    # Create the model with several hyperparameters\n",
        "    clf = lgb.LGBMClassifier(**model_params)\n",
        "    \n",
        "    # Fit the model multiple times to avoid overfitting\n",
        "    for i in range(iters):\n",
        "        # Split into training and validation set\n",
        "        train_features, test_features, train_y, valid_y = \\\n",
        "        train_test_split(train, target, test_size=0.25, random_state=i)\n",
        "        # Train using early stopping\n",
        "        clf.fit(train_features, train_y,\n",
        "                eval_metric='auc',\n",
        "                eval_set=[(test_features, valid_y)], \n",
        "                early_stopping_rounds=100,\n",
        "                verbose = 200)\n",
        "        # Get feature importances\n",
        "        importances += clf.feature_importances_ / iters\n",
        "    \n",
        "    importances = pd.DataFrame(\n",
        "        {'attribute': list(train.columns), 'importance': importances}\n",
        "        ).sort_values('importance', ascending=False)\n",
        "    \n",
        "    # Identify the attributes with zero importance\n",
        "    zero_imp = importances[importances['importance'] == 0.0]['attribute'].tolist()\n",
        "    print('\\nNumber of attributes with zero importance: ', len(zero_imp))\n",
        "    \n",
        "    return zero_imp, importances"
      ]
    },
    {
      "cell_type": "markdown",
      "metadata": {
        "id": "zZtNmn3fHCRT"
      },
      "source": [
        "Having removed all zero importance attributes we identified, let us check once more the dataset for feature importance. We should not expect to have any more attributes with zero importance."
      ]
    },
    {
      "cell_type": "code",
      "execution_count": 133,
      "metadata": {
        "colab": {
          "base_uri": "https://localhost:8080/"
        },
        "id": "GwKywo0nDkcL",
        "outputId": "40bf8a49-c0cd-451d-80ff-ba3d65439787"
      },
      "outputs": [
        {
          "name": "stdout",
          "output_type": "stream",
          "text": [
            "Training until validation scores don't improve for 100 rounds.\n",
            "[200]\tvalid_0's auc: 0.934055\tvalid_0's binary_logloss: 0.32636\n",
            "Early stopping, best iteration is:\n",
            "[135]\tvalid_0's auc: 0.934344\tvalid_0's binary_logloss: 0.325826\n",
            "Training until validation scores don't improve for 100 rounds.\n",
            "[200]\tvalid_0's auc: 0.934538\tvalid_0's binary_logloss: 0.324648\n",
            "Early stopping, best iteration is:\n",
            "[180]\tvalid_0's auc: 0.934594\tvalid_0's binary_logloss: 0.324583\n",
            "\n",
            "Number of attributes with zero importance:  0\n"
          ]
        }
      ],
      "source": [
        "zero_val_attrs_ii, attrib_imp_ii = get_zero_imp_attrs(train, target, clf_params)"
      ]
    },
    {
      "cell_type": "markdown",
      "metadata": {
        "id": "a6h0xT0PIEtn"
      },
      "source": [
        "We will plot the results of this second operation increasing the threshold for cumulative importance value to `0.95`, to include a higher number of attributes."
      ]
    },
    {
      "cell_type": "code",
      "execution_count": 134,
      "metadata": {
        "colab": {
          "base_uri": "https://localhost:8080/",
          "height": 636
        },
        "id": "BkxepXGwG9-3",
        "outputId": "38c3e881-819a-4296-c1d2-7a156aa0b845"
      },
      "outputs": [
        {
          "name": "stdout",
          "output_type": "stream",
          "text": [
            "\n",
            "273 features provide cumulative importance almost 0.95\n",
            "\n"
          ]
        },
        {
          "data": {
            "image/png": "[encoded data removed]",
            "text/plain": [
              "<Figure size 1152x576 with 2 Axes>"
            ]
          },
          "metadata": {},
          "output_type": "display_data"
        }
      ],
      "source": [
        "# Define cumulative importance threshold\n",
        "cumul_imp_thres = .95\n",
        "\n",
        "# Plot and get the normalized cumulative importances.\n",
        "norm_attrib_imp_ii = plot_attr_imp(attrib_imp_ii, thres=cumul_imp_thres)"
      ]
    },
    {
      "cell_type": "markdown",
      "metadata": {
        "id": "CzEWtrGTLyod"
      },
      "source": [
        "We will keep the `cumul_imp_thres` to `0.95` and create a list of attributes to keep, `attrs_to_keep`, based on this. We can then create an even smaller dataset."
      ]
    },
    {
      "cell_type": "code",
      "execution_count": 135,
      "metadata": {
        "id": "IMguCYURIjga"
      },
      "outputs": [],
      "source": [
        "# Extract the attributes to keep (the oners < .95 cumulative importance)\n",
        "attrs_to_keep_ii = norm_attrib_imp_ii[norm_attrib_imp_ii['cumul_imp'] < cumul_imp_thres]['attribute'].tolist()\n",
        "\n",
        "# Create new datasets with even less attributes than `train`.\n",
        "train_ii = train[attrs_to_keep_ii]\n",
        "# Add the `target` column.\n",
        "train_ii = train_ii.assign(TARGET=target.values)\n",
        "# Add the `LNR` column.\n",
        "train_ii = train_ii.assign(LNR=clientIDs.values)"
      ]
    },
    {
      "cell_type": "code",
      "execution_count": 136,
      "metadata": {
        "id": "YOVaJbDAJbd-"
      },
      "outputs": [],
      "source": [
        "train_ii_file = '/content/drive/MyDrive/workspace/arvato_data/train_ii.csv' if IN_COLAB else 'train_ii.csv'\n",
        "# Write to csv file.\n",
        "train_ii.to_csv(train_ii_file, index=False)"
      ]
    },
    {
      "cell_type": "markdown",
      "metadata": {
        "id": "jgkdFmhNSU4N"
      },
      "source": [
        "So, from feature selection using gradient boosting model we may keep:\n",
        "\n",
        "* `zero_val_attrs`, the list that contains all attributes identified with zero importance.\n",
        "* `attrs_to_keep_ii`, a list that contains a smaller subset of non zero importance attributes reaching 0.95 cumulative importance.\n",
        "\n",
        "We may test the above to other sample sub-sets. If it turns out that the feature selection works well we can also use the model above for making predictions in later steps.\n",
        "\n",
        "For this we will create a couple more functions to help us through the steps."
      ]
    },
    {
      "cell_type": "code",
      "execution_count": 140,
      "metadata": {
        "id": "zd97F3Sqay3m"
      },
      "outputs": [],
      "source": [
        "def lgb_model(features_labels_split, cat_cols=None, n_folds=5):\n",
        "    \"\"\"Train and test a light gradient boosting model using\n",
        "    cross validation with KFold splits. \n",
        "    \n",
        "    Args:\n",
        "        features_labels_split (list): List containing train-test split of inputs.\n",
        "            Either [X_train, X_test, y_train, y_test] or [features, test_features]\n",
        "            features will be pd.DataFrame of training features to use for training\n",
        "            a model. Must include the `RESPONSE` column.\n",
        "            test_features will be pd.DataFrame of testing features to use for\n",
        "            making predictions with the model.\n",
        "        cat_cols (None or np.array or list): An array containing categorical features.\n",
        "        n_folds (int, default = 5): number of folds to use for cross validation.\n",
        "        \n",
        "    Returns:\n",
        "        submission (pd.DataFrame): dataframe with `LNR` and `RESPONSE`\n",
        "            probabilities predicted by the model.\n",
        "        attrib_imp (pd.DataFrame): dataframe with the feature\n",
        "            importances from the model.\n",
        "        valid_metrics (pd.DataFrame): dataframe with training and validation\n",
        "            metrics (ROC AUC) for each fold and overall.\n",
        "    \n",
        "    Ref: https://www.kaggle.com/willkoehrsen/introduction-to-feature-selection#Remove-Collinear-Variables\n",
        "    \"\"\"\n",
        "    # Differentiate assignments according to input (length=4 -> train_test_split)\n",
        "    if len(features_labels_split) == 4:\n",
        "        features, test_features, labels, test_labels = features_labels_split\n",
        "        is_submission = False\n",
        "    else:\n",
        "        features, test_features = features_labels_split\n",
        "        # Extract the labels for training\n",
        "        labels = features['RESPONSE']\n",
        "        is_submission = True\n",
        "    \n",
        "    # Extract the client IDs\n",
        "    train_ids = features['LNR']\n",
        "    test_ids = test_features['LNR']\n",
        "    # Drop the client IDs and datetimes\n",
        "    features.drop(columns=['LNR', 'EINGEFUEGT_AM', 'RESPONSE'], errors='ignore', inplace=True)\n",
        "    test_features.drop(columns=['LNR', 'EINGEFUEGT_AM'], errors='ignore', inplace=True)\n",
        "    \n",
        "    # Specify the categorical features from supplied list else 'auto' define it.\n",
        "    # cat_indices = np.intersect1d(features.columns.values, cat_cols) if cat_cols is not None else 'auto'\n",
        "        \n",
        "    print('\\nTraining Data Shape: ', features.shape)\n",
        "    print('Testing Data Shape: ', test_features.shape)\n",
        "    \n",
        "    # Extract feature names\n",
        "    feature_names = features.columns.tolist()\n",
        "    \n",
        "    # Convert to np arrays\n",
        "    features = features.to_numpy()\n",
        "    test_features = test_features.to_numpy()\n",
        "    \n",
        "    # Empty array for feature importances\n",
        "    feature_importance_values = np.zeros(len(feature_names))\n",
        "    # Empty array for test predictions\n",
        "    test_predictions = np.zeros(test_features.shape[0])\n",
        "    # Empty array for out of fold validation predictions\n",
        "    out_of_fold = np.zeros(features.shape[0])\n",
        "    \n",
        "    # Create the kfold object\n",
        "    print(\"Creating KFold object\")\n",
        "    folds = KFold(n_splits=n_folds)\n",
        "    \n",
        "    # Lists for recording validation and training scores\n",
        "    train_scores = []\n",
        "    test_scores = []\n",
        "\n",
        "    lgbm_params = {\n",
        "        'boosting_type': 'goss',\n",
        "        'learning_rate': 0.05,\n",
        "        'n_estimators': 10000,\n",
        "        'objective': 'binary',\n",
        "        'class_weight': 'balanced',\n",
        "        'reg_alpha': 0.1,\n",
        "        'reg_lambda': 0.1,\n",
        "        'random_state': 67,\n",
        "        'n_jobs': -1,\n",
        "    }\n",
        "\n",
        "    print(\"\\nStarting fold iterations\")\n",
        "    print(25*'-')\n",
        "    # Iterate through folds\n",
        "    for train_idx, val_idx in folds.split(features):\n",
        "        # Training data for the fold\n",
        "        fold_train_X, fold_train_y = features[train_idx], labels.iloc[train_idx] # (features[train_idx], labels.iloc[train_idx]) if not is_submission else (features[train_idx], labels[train_idx])\n",
        "        # Validation data for the fold\n",
        "        fold_test_X, fold_test_y = features[val_idx], labels.iloc[val_idx]  # (features[val_idx], labels.iloc[val_idx]) if not is_submission else (features[val_idx], labels[val_idx])\n",
        "        # Create the model\n",
        "        lgbm_clf = lgb.LGBMClassifier(**lgbm_params)\n",
        "        # Train the model\n",
        "        lgbm_clf.fit(\n",
        "            fold_train_X, fold_train_y,\n",
        "            eval_metric='auc',\n",
        "            eval_set=[(fold_test_X, fold_test_y), (fold_train_X, fold_train_y)],\n",
        "            eval_names=['test', 'train'],\n",
        "            early_stopping_rounds=100,\n",
        "            verbose = 200\n",
        "        )\n",
        "        # Keep the best iteration\n",
        "        best_iter = lgbm_clf.best_iteration_\n",
        "        # Extract and keep feature importances\n",
        "        feature_importance_values += lgbm_clf.feature_importances_ / folds.n_splits\n",
        "        # Make predictions using these importances\n",
        "        test_predictions += lgbm_clf.predict_proba(test_features, num_iteration=best_iter)[:, 1] / folds.n_splits\n",
        "        # Record the out of fold predictions\n",
        "        out_of_fold[val_idx] = lgbm_clf.predict_proba(fold_test_X, num_iteration=best_iter)[:, 1]\n",
        "        # Record the best score\n",
        "        train_scores.append(lgbm_clf.best_score_['train']['auc'])\n",
        "        test_scores.append(lgbm_clf.best_score_['test']['auc'])\n",
        "        # Clean up memory\n",
        "        del lgbm_clf, fold_train_X, fold_test_X, fold_train_y, fold_test_y\n",
        "        gc.collect()\n",
        "\n",
        "    print(25*'-')\n",
        "    print(\"Creating output\")    \n",
        "    # Make the submission dataframe\n",
        "    submission = pd.DataFrame({'LNR': test_ids, 'RESPONSE': test_predictions})\n",
        "    \n",
        "    # Make the feature importance dataframe\n",
        "    attrib_imp = pd.DataFrame({'feature': feature_names, 'importance': feature_importance_values})\n",
        "    \n",
        "    # Overall validation score\n",
        "    test_auc = roc_auc_score(labels, out_of_fold)\n",
        "    \n",
        "    # Add the overall scores to the metrics\n",
        "    test_scores.append(test_auc)\n",
        "    train_scores.append(np.mean(train_scores))\n",
        "    \n",
        "    # Needed for creating dataframe of validation scores\n",
        "    fold_names = list(range(n_folds))\n",
        "    fold_names.append('overall')\n",
        "    \n",
        "    # Dataframe of validation scores\n",
        "    metrics = pd.DataFrame({'fold': fold_names,\n",
        "                            'train': train_scores,\n",
        "                            'test': test_scores}) \n",
        "    \n",
        "    return submission, attrib_imp, metrics"
      ]
    },
    {
      "cell_type": "code",
      "execution_count": 124,
      "metadata": {
        "colab": {
          "base_uri": "https://localhost:8080/"
        },
        "id": "Npns7YOxdb7J",
        "outputId": "7bf73d1f-d5c8-4a85-f63a-41189d7966a0"
      },
      "outputs": [
        {
          "name": "stderr",
          "output_type": "stream",
          "text": [
            "/usr/local/lib/python3.7/dist-packages/pandas/core/frame.py:4174: SettingWithCopyWarning: \n",
            "A value is trying to be set on a copy of a slice from a DataFrame\n",
            "\n",
            "See the caveats in the documentation: https://pandas.pydata.org/pandas-docs/stable/user_guide/indexing.html#returning-a-view-versus-a-copy\n",
            "  errors=errors,\n"
          ]
        },
        {
          "name": "stdout",
          "output_type": "stream",
          "text": [
            "\n",
            "Training Data Shape:  (262500, 372)\n",
            "Testing Data Shape:  (87500, 372)\n",
            "Creating KFold object\n",
            "\n",
            "Starting fold iterations\n",
            "-------------------------\n",
            "Training until validation scores don't improve for 100 rounds.\n",
            "[200]\ttrain's auc: 0.939956\ttrain's binary_logloss: 0.313164\ttest's auc: 0.936076\ttest's binary_logloss: 0.321932\n",
            "[400]\ttrain's auc: 0.946835\ttrain's binary_logloss: 0.296843\ttest's auc: 0.936843\ttest's binary_logloss: 0.319634\n",
            "Early stopping, best iteration is:\n",
            "[409]\ttrain's auc: 0.94707\ttrain's binary_logloss: 0.296235\ttest's auc: 0.936914\ttest's binary_logloss: 0.319521\n",
            "Training until validation scores don't improve for 100 rounds.\n",
            "[200]\ttrain's auc: 0.940778\ttrain's binary_logloss: 0.311296\ttest's auc: 0.933203\ttest's binary_logloss: 0.328089\n",
            "[400]\ttrain's auc: 0.94749\ttrain's binary_logloss: 0.295064\ttest's auc: 0.933923\ttest's binary_logloss: 0.326161\n",
            "Early stopping, best iteration is:\n",
            "[364]\ttrain's auc: 0.946405\ttrain's binary_logloss: 0.297629\ttest's auc: 0.933954\ttest's binary_logloss: 0.326165\n",
            "Training until validation scores don't improve for 100 rounds.\n",
            "[200]\ttrain's auc: 0.940804\ttrain's binary_logloss: 0.311219\ttest's auc: 0.933462\ttest's binary_logloss: 0.327507\n",
            "[400]\ttrain's auc: 0.947464\ttrain's binary_logloss: 0.295149\ttest's auc: 0.933967\ttest's binary_logloss: 0.325884\n",
            "[600]\ttrain's auc: 0.952917\ttrain's binary_logloss: 0.281529\ttest's auc: 0.934076\ttest's binary_logloss: 0.32543\n",
            "Early stopping, best iteration is:\n",
            "[514]\ttrain's auc: 0.950649\ttrain's binary_logloss: 0.287205\ttest's auc: 0.934106\ttest's binary_logloss: 0.325535\n",
            "Training until validation scores don't improve for 100 rounds.\n",
            "[200]\ttrain's auc: 0.940417\ttrain's binary_logloss: 0.312146\ttest's auc: 0.934914\ttest's binary_logloss: 0.324213\n",
            "[400]\ttrain's auc: 0.947182\ttrain's binary_logloss: 0.295939\ttest's auc: 0.935599\ttest's binary_logloss: 0.322395\n",
            "Early stopping, best iteration is:\n",
            "[401]\ttrain's auc: 0.947212\ttrain's binary_logloss: 0.295872\ttest's auc: 0.9356\ttest's binary_logloss: 0.322384\n",
            "Training until validation scores don't improve for 100 rounds.\n",
            "[200]\ttrain's auc: 0.940316\ttrain's binary_logloss: 0.312516\ttest's auc: 0.93597\ttest's binary_logloss: 0.322128\n",
            "[400]\ttrain's auc: 0.946973\ttrain's binary_logloss: 0.296551\ttest's auc: 0.936589\ttest's binary_logloss: 0.320104\n",
            "Early stopping, best iteration is:\n",
            "[496]\ttrain's auc: 0.949676\ttrain's binary_logloss: 0.289891\ttest's auc: 0.93669\ttest's binary_logloss: 0.319738\n",
            "-------------------------\n",
            "Creating output\n"
          ]
        }
      ],
      "source": [
        "# Add the `LNR` column.\n",
        "train = train.assign(LNR=clientIDs.values)\n",
        "\n",
        "submit_i, attrib_imp_i, metrics_i = lgb_model(train_test_split(train, target, stratify=target, test_size=.25))"
      ]
    },
    {
      "cell_type": "code",
      "execution_count": 125,
      "metadata": {
        "colab": {
          "base_uri": "https://localhost:8080/",
          "height": 235
        },
        "id": "lxLjBQ4UmCRX",
        "outputId": "046ad745-1589-4a9e-a0e9-a86832ef3617"
      },
      "outputs": [
        {
          "data": {
            "text/html": [
              "<div>\n",
              "<style scoped>\n",
              "    .dataframe tbody tr th:only-of-type {\n",
              "        vertical-align: middle;\n",
              "    }\n",
              "\n",
              "    .dataframe tbody tr th {\n",
              "        vertical-align: top;\n",
              "    }\n",
              "\n",
              "    .dataframe thead th {\n",
              "        text-align: right;\n",
              "    }\n",
              "</style>\n",
              "<table border=\"1\" class=\"dataframe\">\n",
              "  <thead>\n",
              "    <tr style=\"text-align: right;\">\n",
              "      <th></th>\n",
              "      <th>fold</th>\n",
              "      <th>train</th>\n",
              "      <th>test</th>\n",
              "    </tr>\n",
              "  </thead>\n",
              "  <tbody>\n",
              "    <tr>\n",
              "      <th>0</th>\n",
              "      <td>0</td>\n",
              "      <td>0.947070</td>\n",
              "      <td>0.936914</td>\n",
              "    </tr>\n",
              "    <tr>\n",
              "      <th>1</th>\n",
              "      <td>1</td>\n",
              "      <td>0.946405</td>\n",
              "      <td>0.933954</td>\n",
              "    </tr>\n",
              "    <tr>\n",
              "      <th>2</th>\n",
              "      <td>2</td>\n",
              "      <td>0.950649</td>\n",
              "      <td>0.934106</td>\n",
              "    </tr>\n",
              "    <tr>\n",
              "      <th>3</th>\n",
              "      <td>3</td>\n",
              "      <td>0.947212</td>\n",
              "      <td>0.935600</td>\n",
              "    </tr>\n",
              "    <tr>\n",
              "      <th>4</th>\n",
              "      <td>4</td>\n",
              "      <td>0.949676</td>\n",
              "      <td>0.936690</td>\n",
              "    </tr>\n",
              "    <tr>\n",
              "      <th>5</th>\n",
              "      <td>overall</td>\n",
              "      <td>0.948202</td>\n",
              "      <td>0.935415</td>\n",
              "    </tr>\n",
              "  </tbody>\n",
              "</table>\n",
              "</div>"
            ],
            "text/plain": [
              "      fold     train      test\n",
              "0        0  0.947070  0.936914\n",
              "1        1  0.946405  0.933954\n",
              "2        2  0.950649  0.934106\n",
              "3        3  0.947212  0.935600\n",
              "4        4  0.949676  0.936690\n",
              "5  overall  0.948202  0.935415"
            ]
          },
          "execution_count": 125,
          "metadata": {},
          "output_type": "execute_result"
        }
      ],
      "source": [
        "metrics_i"
      ]
    },
    {
      "cell_type": "code",
      "execution_count": null,
      "metadata": {
        "id": "b33C4jsCdyGd"
      },
      "outputs": [],
      "source": [
        "# Clean up memory\n",
        "# del train, target\n",
        "# gc.collect()"
      ]
    },
    {
      "cell_type": "code",
      "execution_count": 150,
      "metadata": {
        "colab": {
          "base_uri": "https://localhost:8080/"
        },
        "id": "PDy3ig8iAPVM",
        "outputId": "33ac1ba8-8874-458a-fea7-0b80a5bed15e"
      },
      "outputs": [
        {
          "name": "stderr",
          "output_type": "stream",
          "text": [
            "/usr/local/lib/python3.7/dist-packages/pandas/core/frame.py:4174: SettingWithCopyWarning: \n",
            "A value is trying to be set on a copy of a slice from a DataFrame\n",
            "\n",
            "See the caveats in the documentation: https://pandas.pydata.org/pandas-docs/stable/user_guide/indexing.html#returning-a-view-versus-a-copy\n",
            "  errors=errors,\n"
          ]
        },
        {
          "name": "stdout",
          "output_type": "stream",
          "text": [
            "\n",
            "Training Data Shape:  (262500, 273)\n",
            "Testing Data Shape:  (87500, 273)\n",
            "Creating KFold object\n",
            "\n",
            "Starting fold iterations\n",
            "-------------------------\n",
            "Training until validation scores don't improve for 100 rounds.\n",
            "[200]\ttrain's auc: 0.940344\ttrain's binary_logloss: 0.312394\ttest's auc: 0.936696\ttest's binary_logloss: 0.320446\n",
            "[400]\ttrain's auc: 0.947038\ttrain's binary_logloss: 0.296107\ttest's auc: 0.937402\ttest's binary_logloss: 0.318321\n",
            "[600]\ttrain's auc: 0.952429\ttrain's binary_logloss: 0.282769\ttest's auc: 0.937466\ttest's binary_logloss: 0.317689\n",
            "Early stopping, best iteration is:\n",
            "[509]\ttrain's auc: 0.950096\ttrain's binary_logloss: 0.288604\ttest's auc: 0.937584\ttest's binary_logloss: 0.317671\n",
            "Training until validation scores don't improve for 100 rounds.\n",
            "[200]\ttrain's auc: 0.940613\ttrain's binary_logloss: 0.311527\ttest's auc: 0.934979\ttest's binary_logloss: 0.32442\n",
            "[400]\ttrain's auc: 0.947227\ttrain's binary_logloss: 0.29561\ttest's auc: 0.935531\ttest's binary_logloss: 0.322643\n",
            "Early stopping, best iteration is:\n",
            "[477]\ttrain's auc: 0.949419\ttrain's binary_logloss: 0.290195\ttest's auc: 0.935651\ttest's binary_logloss: 0.322437\n",
            "Training until validation scores don't improve for 100 rounds.\n",
            "[200]\ttrain's auc: 0.940735\ttrain's binary_logloss: 0.311244\ttest's auc: 0.934669\ttest's binary_logloss: 0.324951\n",
            "[400]\ttrain's auc: 0.947398\ttrain's binary_logloss: 0.295195\ttest's auc: 0.935304\ttest's binary_logloss: 0.322922\n",
            "Early stopping, best iteration is:\n",
            "[485]\ttrain's auc: 0.949841\ttrain's binary_logloss: 0.289275\ttest's auc: 0.935481\ttest's binary_logloss: 0.322445\n",
            "Training until validation scores don't improve for 100 rounds.\n",
            "[200]\ttrain's auc: 0.940845\ttrain's binary_logloss: 0.311224\ttest's auc: 0.934851\ttest's binary_logloss: 0.323995\n",
            "[400]\ttrain's auc: 0.947435\ttrain's binary_logloss: 0.295175\ttest's auc: 0.935287\ttest's binary_logloss: 0.322347\n",
            "Early stopping, best iteration is:\n",
            "[481]\ttrain's auc: 0.949679\ttrain's binary_logloss: 0.289547\ttest's auc: 0.935345\ttest's binary_logloss: 0.322273\n",
            "Training until validation scores don't improve for 100 rounds.\n",
            "[200]\ttrain's auc: 0.941061\ttrain's binary_logloss: 0.310637\ttest's auc: 0.93356\ttest's binary_logloss: 0.327909\n",
            "[400]\ttrain's auc: 0.947624\ttrain's binary_logloss: 0.294659\ttest's auc: 0.934035\ttest's binary_logloss: 0.326296\n",
            "Early stopping, best iteration is:\n",
            "[333]\ttrain's auc: 0.945635\ttrain's binary_logloss: 0.299565\ttest's auc: 0.93414\ttest's binary_logloss: 0.326279\n",
            "-------------------------\n",
            "Creating output\n"
          ]
        }
      ],
      "source": [
        "# Test the smaller dataset with 0.95 features to keep\n",
        "target_ii = train_ii['TARGET']\n",
        "train_ii = train_ii.drop(columns=['TARGET'])\n",
        "\n",
        "submit_ii, attrib_imp_ii, metrics_ii = lgb_model(train_test_split(train_ii, target_ii, stratify=target_ii, test_size=.25))"
      ]
    },
    {
      "cell_type": "code",
      "execution_count": 151,
      "metadata": {
        "colab": {
          "base_uri": "https://localhost:8080/",
          "height": 235
        },
        "id": "LPfIpUuNGnZl",
        "outputId": "5f2a2a0a-baa0-4e6d-a045-88a627c93745"
      },
      "outputs": [
        {
          "data": {
            "text/html": [
              "<div>\n",
              "<style scoped>\n",
              "    .dataframe tbody tr th:only-of-type {\n",
              "        vertical-align: middle;\n",
              "    }\n",
              "\n",
              "    .dataframe tbody tr th {\n",
              "        vertical-align: top;\n",
              "    }\n",
              "\n",
              "    .dataframe thead th {\n",
              "        text-align: right;\n",
              "    }\n",
              "</style>\n",
              "<table border=\"1\" class=\"dataframe\">\n",
              "  <thead>\n",
              "    <tr style=\"text-align: right;\">\n",
              "      <th></th>\n",
              "      <th>fold</th>\n",
              "      <th>train</th>\n",
              "      <th>test</th>\n",
              "    </tr>\n",
              "  </thead>\n",
              "  <tbody>\n",
              "    <tr>\n",
              "      <th>0</th>\n",
              "      <td>0</td>\n",
              "      <td>0.950096</td>\n",
              "      <td>0.937584</td>\n",
              "    </tr>\n",
              "    <tr>\n",
              "      <th>1</th>\n",
              "      <td>1</td>\n",
              "      <td>0.949419</td>\n",
              "      <td>0.935651</td>\n",
              "    </tr>\n",
              "    <tr>\n",
              "      <th>2</th>\n",
              "      <td>2</td>\n",
              "      <td>0.949841</td>\n",
              "      <td>0.935481</td>\n",
              "    </tr>\n",
              "    <tr>\n",
              "      <th>3</th>\n",
              "      <td>3</td>\n",
              "      <td>0.949679</td>\n",
              "      <td>0.935345</td>\n",
              "    </tr>\n",
              "    <tr>\n",
              "      <th>4</th>\n",
              "      <td>4</td>\n",
              "      <td>0.945635</td>\n",
              "      <td>0.934140</td>\n",
              "    </tr>\n",
              "    <tr>\n",
              "      <th>5</th>\n",
              "      <td>overall</td>\n",
              "      <td>0.948934</td>\n",
              "      <td>0.935579</td>\n",
              "    </tr>\n",
              "  </tbody>\n",
              "</table>\n",
              "</div>"
            ],
            "text/plain": [
              "      fold     train      test\n",
              "0        0  0.950096  0.937584\n",
              "1        1  0.949419  0.935651\n",
              "2        2  0.949841  0.935481\n",
              "3        3  0.949679  0.935345\n",
              "4        4  0.945635  0.934140\n",
              "5  overall  0.948934  0.935579"
            ]
          },
          "execution_count": 151,
          "metadata": {},
          "output_type": "execute_result"
        }
      ],
      "source": [
        "metrics_ii"
      ]
    },
    {
      "cell_type": "code",
      "execution_count": null,
      "metadata": {
        "id": "1_YCpG-ieCWn"
      },
      "outputs": [],
      "source": [
        "# Clean up memory\n",
        "# del train_ii, target_ii\n",
        "# gc.collect()"
      ]
    },
    {
      "cell_type": "markdown",
      "metadata": {
        "id": "s61WnK25Gsmh"
      },
      "source": [
        "We can observe that using 273 attributes (selected using features importance) or 0.95 cumulative feature importance can provide almost the same results as when testing with 372 attributes or 1.0 cumulative features importance."
      ]
    },
    {
      "cell_type": "code",
      "execution_count": 157,
      "metadata": {
        "id": "5CyCdSdG5Jn_"
      },
      "outputs": [],
      "source": [
        "def create_train_test(dfs, read_csv_kwargs, wrangle_args, train_test_args):\n",
        "    \"\"\"Get sample data from two similar demographic type datesets. One dataset\n",
        "    contains verified entries while the other not. `Target` columns are created\n",
        "    and added to the datasets which concatanated and cleaned. Returns train,\n",
        "    target sets split.\n",
        "\n",
        "    Args:\n",
        "        dfs (dict): dictionary of the form: {'filename': 'sample_size'}\n",
        "        read_csv_kwargs (dict): `read_csv` parameters dictionary\n",
        "        wrangle_args (tuple): `wrangle_df` function parameters tuple\n",
        "        train_test_args (dict): scikit's `train_test_split` parameters dictionary\n",
        "\n",
        "    Returns:\n",
        "        List containing train-test split of concatenated input dataframes. (As\n",
        "        in https://scikit-learn.org/stable/modules/generated/sklearn.model_selection.train_test_split.html)\n",
        "    \"\"\"\n",
        "    # 1. Read samples and wrangle data\n",
        "    df_s = {}\n",
        "    for k in dfs:\n",
        "        print(\"Loading samples from [\" + k.upper() + \"]\")\n",
        "        df_s[k] = get_df_sample(dfs[k][1], None, dfs[k][0], **read_csv_kwargs)\n",
        "        # df_s[k] = wrangle_df(df_s[k], *wrangle_args)\n",
        "        \n",
        "    # 2. Create a new df concatenating the dfs also creating a `target` attribute \"customer\"\n",
        "    df_ = pd.concat([df_s[k].assign(RESPONSE=1 if k == 'customers' else 0) for k in df_s])\n",
        "    df_ = wrangle_df(df_, *wrangle_args)\n",
        "    print(25*\"-\")\n",
        "\n",
        "    # 3. One-hot encoding\n",
        "    # df_ = pd.get_dummies(df_)\n",
        "\n",
        "    # 4. Create train, target\n",
        "    X = df_.drop(columns=\"RESPONSE\")\n",
        "    y = df_[\"RESPONSE\"]\n",
        "\n",
        "    # Split into training and larger test sets (data will be shuffled by default)\n",
        "    return train_test_split(X, y, stratify=y, **train_test_args)\n",
        "\n",
        "# dfs dictionary of the form: {'filename': 'sample_size'}, use 4:1 azdias:customers\n",
        "dfs_comb = {\n",
        "    'azdias': (azdias_file, 400000),\n",
        "    'customers': (customers_file, 100000),\n",
        "}\n",
        "\n",
        "# `read_csv` parameters dictionary (use the one from the begining of notebook)\n",
        "\n",
        "# `wrangle_df` parameters tuple\n",
        "wrangle_args = [\n",
        "    attrs_val_pools,\n",
        "    attrs_common,\n",
        "    replace9_nan_dict,\n",
        "    zero_val_attrs\n",
        "]\n",
        "# wrangle_args = (attrs_val_pools, attrs_common, replace9_nan_dict)\n",
        "\n",
        "# `train_test_split` parameters dictionary\n",
        "train_test_args = {\n",
        "    'test_size': .25,\n",
        "    'random_state': 67,\n",
        "}"
      ]
    },
    {
      "cell_type": "code",
      "execution_count": null,
      "metadata": {
        "id": "DVeO1HV--qKm"
      },
      "outputs": [],
      "source": [
        "# Get an initial train-test split 75-25.\n",
        "# X_train, X_test, y_train, y_test = create_train_test(dfs_comb, read_csv_kwargs, wrangle_args, train_test_args)\n",
        "# train_test_dfs = create_train_test(dfs_comb, read_csv_kwargs, wrangle_args)"
      ]
    },
    {
      "cell_type": "code",
      "execution_count": null,
      "metadata": {
        "colab": {
          "base_uri": "https://localhost:8080/"
        },
        "id": "a7gptt76-QZV",
        "outputId": "6911900a-7399-4c24-d7af-902faa083ccb"
      },
      "outputs": [
        {
          "name": "stdout",
          "output_type": "stream",
          "text": [
            "Dataframe [AZDIAS]\n",
            "-------------------------\n",
            "Dataframe [CUSTOMERS]\n",
            "-------------------------\n",
            "Total df NaNs portion:  0.2991\n",
            "Column NaNs:\n",
            "Average NaNs per column:  0.2991\n",
            "Max NaNs per column:  0.9991\n",
            "Min NaNs per column:  0.0\n",
            "Row NaNs:\n",
            "Average NaNs per row:  0.2991\n",
            "Max NaNs per row:  0.8568\n",
            "Min NaNs per row:  0.0676\n",
            "Training Data Shape:  (375000, 414)\n",
            "Testing Data Shape:  (125000, 414)\n",
            "Creating KFold object\n",
            "\n",
            "Starting fold iterations\n",
            "-------------------------\n",
            "Training until validation scores don't improve for 100 rounds.\n",
            "[200]\ttrain's binary_logloss: 0.309627\ttrain's auc: 0.941341\ttest's binary_logloss: 0.323476\ttest's auc: 0.934835\n",
            "Early stopping, best iteration is:\n",
            "[291]\ttrain's binary_logloss: 0.301538\ttrain's auc: 0.944707\ttest's binary_logloss: 0.321153\ttest's auc: 0.935277\n",
            "Training until validation scores don't improve for 100 rounds.\n",
            "[200]\ttrain's binary_logloss: 0.310373\ttrain's auc: 0.94107\ttest's binary_logloss: 0.321067\ttest's auc: 0.935676\n",
            "Early stopping, best iteration is:\n",
            "[295]\ttrain's binary_logloss: 0.30191\ttrain's auc: 0.944542\ttest's binary_logloss: 0.318313\ttest's auc: 0.936141\n",
            "Training until validation scores don't improve for 100 rounds.\n",
            "[200]\ttrain's binary_logloss: 0.310393\ttrain's auc: 0.941077\ttest's binary_logloss: 0.322864\ttest's auc: 0.935708\n",
            "[400]\ttrain's binary_logloss: 0.293781\ttrain's auc: 0.947923\ttest's binary_logloss: 0.318856\ttest's auc: 0.935928\n",
            "Early stopping, best iteration is:\n",
            "[423]\ttrain's binary_logloss: 0.291978\ttrain's auc: 0.948661\ttest's binary_logloss: 0.318343\ttest's auc: 0.935984\n",
            "Training until validation scores don't improve for 100 rounds.\n",
            "[200]\ttrain's binary_logloss: 0.309715\ttrain's auc: 0.941399\ttest's binary_logloss: 0.323127\ttest's auc: 0.935042\n",
            "[400]\ttrain's binary_logloss: 0.293215\ttrain's auc: 0.948118\ttest's binary_logloss: 0.318888\ttest's auc: 0.935385\n",
            "Early stopping, best iteration is:\n",
            "[447]\ttrain's binary_logloss: 0.289661\ttrain's auc: 0.949549\ttest's binary_logloss: 0.318279\ttest's auc: 0.935476\n",
            "Training until validation scores don't improve for 100 rounds.\n",
            "[200]\ttrain's binary_logloss: 0.309698\ttrain's auc: 0.941374\ttest's binary_logloss: 0.322991\ttest's auc: 0.934301\n",
            "[400]\ttrain's binary_logloss: 0.293131\ttrain's auc: 0.94813\ttest's binary_logloss: 0.318747\ttest's auc: 0.934948\n",
            "[600]\ttrain's binary_logloss: 0.278729\ttrain's auc: 0.953819\ttest's binary_logloss: 0.315427\ttest's auc: 0.935007\n",
            "Early stopping, best iteration is:\n",
            "[510]\ttrain's binary_logloss: 0.284902\ttrain's auc: 0.951411\ttest's binary_logloss: 0.316721\ttest's auc: 0.935166\n",
            "-------------------------\n",
            "Creating output\n"
          ]
        }
      ],
      "source": [
        "# submit, attrib_imp, metrics = lgb_model(create_train_test(dfs_comb, read_csv_kwargs, wrangle_args, train_test_args), cat_attrs)\n",
        "submit, attrib_imp, metrics = lgb_model(create_train_test(dfs_comb, read_csv_kwargs, wrangle_args, train_test_args))"
      ]
    },
    {
      "cell_type": "code",
      "execution_count": null,
      "metadata": {
        "colab": {
          "base_uri": "https://localhost:8080/",
          "height": 235
        },
        "id": "vRTcYbAJ9qFy",
        "outputId": "ea3fc423-95a0-4b5a-8b6c-f0021997f44b"
      },
      "outputs": [
        {
          "data": {
            "text/html": [
              "<div>\n",
              "<style scoped>\n",
              "    .dataframe tbody tr th:only-of-type {\n",
              "        vertical-align: middle;\n",
              "    }\n",
              "\n",
              "    .dataframe tbody tr th {\n",
              "        vertical-align: top;\n",
              "    }\n",
              "\n",
              "    .dataframe thead th {\n",
              "        text-align: right;\n",
              "    }\n",
              "</style>\n",
              "<table border=\"1\" class=\"dataframe\">\n",
              "  <thead>\n",
              "    <tr style=\"text-align: right;\">\n",
              "      <th></th>\n",
              "      <th>fold</th>\n",
              "      <th>train</th>\n",
              "      <th>test</th>\n",
              "    </tr>\n",
              "  </thead>\n",
              "  <tbody>\n",
              "    <tr>\n",
              "      <th>0</th>\n",
              "      <td>0</td>\n",
              "      <td>0.944707</td>\n",
              "      <td>0.935277</td>\n",
              "    </tr>\n",
              "    <tr>\n",
              "      <th>1</th>\n",
              "      <td>1</td>\n",
              "      <td>0.944542</td>\n",
              "      <td>0.936141</td>\n",
              "    </tr>\n",
              "    <tr>\n",
              "      <th>2</th>\n",
              "      <td>2</td>\n",
              "      <td>0.948661</td>\n",
              "      <td>0.935984</td>\n",
              "    </tr>\n",
              "    <tr>\n",
              "      <th>3</th>\n",
              "      <td>3</td>\n",
              "      <td>0.949549</td>\n",
              "      <td>0.935476</td>\n",
              "    </tr>\n",
              "    <tr>\n",
              "      <th>4</th>\n",
              "      <td>4</td>\n",
              "      <td>0.951411</td>\n",
              "      <td>0.935166</td>\n",
              "    </tr>\n",
              "    <tr>\n",
              "      <th>5</th>\n",
              "      <td>overall</td>\n",
              "      <td>0.947774</td>\n",
              "      <td>0.935556</td>\n",
              "    </tr>\n",
              "  </tbody>\n",
              "</table>\n",
              "</div>"
            ],
            "text/plain": [
              "      fold     train      test\n",
              "0        0  0.944707  0.935277\n",
              "1        1  0.944542  0.936141\n",
              "2        2  0.948661  0.935984\n",
              "3        3  0.949549  0.935476\n",
              "4        4  0.951411  0.935166\n",
              "5  overall  0.947774  0.935556"
            ]
          },
          "execution_count": 113,
          "metadata": {},
          "output_type": "execute_result"
        }
      ],
      "source": [
        "metrics"
      ]
    },
    {
      "cell_type": "code",
      "execution_count": null,
      "metadata": {
        "colab": {
          "base_uri": "https://localhost:8080/",
          "height": 514
        },
        "id": "aAFdjI9cAEIg",
        "outputId": "07476be6-4848-4ec5-dbf6-25a5ddb48e75"
      },
      "outputs": [
        {
          "data": {
            "text/html": [
              "<div>\n",
              "<style scoped>\n",
              "    .dataframe tbody tr th:only-of-type {\n",
              "        vertical-align: middle;\n",
              "    }\n",
              "\n",
              "    .dataframe tbody tr th {\n",
              "        vertical-align: top;\n",
              "    }\n",
              "\n",
              "    .dataframe thead th {\n",
              "        text-align: right;\n",
              "    }\n",
              "</style>\n",
              "<table border=\"1\" class=\"dataframe\">\n",
              "  <thead>\n",
              "    <tr style=\"text-align: right;\">\n",
              "      <th></th>\n",
              "      <th>feature</th>\n",
              "      <th>importance</th>\n",
              "    </tr>\n",
              "  </thead>\n",
              "  <tbody>\n",
              "    <tr>\n",
              "      <th>357</th>\n",
              "      <td>CAMEO_DEU_2015_6A</td>\n",
              "      <td>1.2</td>\n",
              "    </tr>\n",
              "    <tr>\n",
              "      <th>356</th>\n",
              "      <td>CAMEO_DEU_2015_5F</td>\n",
              "      <td>1.0</td>\n",
              "    </tr>\n",
              "    <tr>\n",
              "      <th>391</th>\n",
              "      <td>D19_LETZTER_KAUF_BRANCHE_D19_HANDWERK</td>\n",
              "      <td>1.0</td>\n",
              "    </tr>\n",
              "    <tr>\n",
              "      <th>386</th>\n",
              "      <td>D19_LETZTER_KAUF_BRANCHE_D19_DIGIT_SERV</td>\n",
              "      <td>1.0</td>\n",
              "    </tr>\n",
              "    <tr>\n",
              "      <th>377</th>\n",
              "      <td>D19_LETZTER_KAUF_BRANCHE_D19_BANKEN_DIREKT</td>\n",
              "      <td>0.8</td>\n",
              "    </tr>\n",
              "    <tr>\n",
              "      <th>374</th>\n",
              "      <td>CAMEO_DEU_2015_9C</td>\n",
              "      <td>0.8</td>\n",
              "    </tr>\n",
              "    <tr>\n",
              "      <th>343</th>\n",
              "      <td>CAMEO_DEU_2015_3B</td>\n",
              "      <td>0.6</td>\n",
              "    </tr>\n",
              "    <tr>\n",
              "      <th>393</th>\n",
              "      <td>D19_LETZTER_KAUF_BRANCHE_D19_KINDERARTIKEL</td>\n",
              "      <td>0.6</td>\n",
              "    </tr>\n",
              "    <tr>\n",
              "      <th>342</th>\n",
              "      <td>CAMEO_DEU_2015_3A</td>\n",
              "      <td>0.6</td>\n",
              "    </tr>\n",
              "    <tr>\n",
              "      <th>403</th>\n",
              "      <td>D19_LETZTER_KAUF_BRANCHE_D19_TECHNIK</td>\n",
              "      <td>0.4</td>\n",
              "    </tr>\n",
              "    <tr>\n",
              "      <th>406</th>\n",
              "      <td>D19_LETZTER_KAUF_BRANCHE_D19_TIERARTIKEL</td>\n",
              "      <td>0.4</td>\n",
              "    </tr>\n",
              "    <tr>\n",
              "      <th>394</th>\n",
              "      <td>D19_LETZTER_KAUF_BRANCHE_D19_KOSMETIK</td>\n",
              "      <td>0.4</td>\n",
              "    </tr>\n",
              "    <tr>\n",
              "      <th>83</th>\n",
              "      <td>DSL_FLAG</td>\n",
              "      <td>0.4</td>\n",
              "    </tr>\n",
              "    <tr>\n",
              "      <th>390</th>\n",
              "      <td>D19_LETZTER_KAUF_BRANCHE_D19_GARTEN</td>\n",
              "      <td>0.4</td>\n",
              "    </tr>\n",
              "    <tr>\n",
              "      <th>366</th>\n",
              "      <td>CAMEO_DEU_2015_7D</td>\n",
              "      <td>0.0</td>\n",
              "    </tr>\n",
              "  </tbody>\n",
              "</table>\n",
              "</div>"
            ],
            "text/plain": [
              "                                        feature  importance\n",
              "357                           CAMEO_DEU_2015_6A         1.2\n",
              "356                           CAMEO_DEU_2015_5F         1.0\n",
              "391       D19_LETZTER_KAUF_BRANCHE_D19_HANDWERK         1.0\n",
              "386     D19_LETZTER_KAUF_BRANCHE_D19_DIGIT_SERV         1.0\n",
              "377  D19_LETZTER_KAUF_BRANCHE_D19_BANKEN_DIREKT         0.8\n",
              "374                           CAMEO_DEU_2015_9C         0.8\n",
              "343                           CAMEO_DEU_2015_3B         0.6\n",
              "393  D19_LETZTER_KAUF_BRANCHE_D19_KINDERARTIKEL         0.6\n",
              "342                           CAMEO_DEU_2015_3A         0.6\n",
              "403        D19_LETZTER_KAUF_BRANCHE_D19_TECHNIK         0.4\n",
              "406    D19_LETZTER_KAUF_BRANCHE_D19_TIERARTIKEL         0.4\n",
              "394       D19_LETZTER_KAUF_BRANCHE_D19_KOSMETIK         0.4\n",
              "83                                     DSL_FLAG         0.4\n",
              "390         D19_LETZTER_KAUF_BRANCHE_D19_GARTEN         0.4\n",
              "366                           CAMEO_DEU_2015_7D         0.0"
            ]
          },
          "execution_count": 118,
          "metadata": {},
          "output_type": "execute_result"
        }
      ],
      "source": [
        "attrib_imp.sort_values(by='importance', ascending=False).tail(15)"
      ]
    },
    {
      "cell_type": "markdown",
      "metadata": {
        "id": "38O2YOgGbUG5"
      },
      "source": [
        "## Part 2: Supervised Learning Model\n",
        "\n",
        "Now that you've found which parts of the population are more likely to be customers of the mail-order company, it's time to build a prediction model. Each of the rows in the \"MAILOUT\" data files represents an individual that was targeted for a mailout campaign. Ideally, we should be able to use the demographic information from each individual to decide whether or not it will be worth it to include that person in the campaign.\n",
        "\n",
        "The \"MAILOUT\" data has been split into two approximately equal parts, each with almost 43 000 data rows. In this part, you can verify your model with the \"TRAIN\" partition, which includes a column, \"RESPONSE\", that states whether or not a person became a customer of the company following the campaign. In the next part, you'll need to create predictions on the \"TEST\" partition, where the \"RESPONSE\" column has been withheld."
      ]
    },
    {
      "cell_type": "code",
      "execution_count": 164,
      "metadata": {
        "colab": {
          "base_uri": "https://localhost:8080/"
        },
        "id": "elzZ61pJbUG5",
        "outputId": "f7bcaf33-25f7-41c7-cf9e-920dc87e9dbf"
      },
      "outputs": [
        {
          "data": {
            "text/plain": [
              "(42962, 367)"
            ]
          },
          "execution_count": 164,
          "metadata": {},
          "output_type": "execute_result"
        }
      ],
      "source": [
        "# mailout_train = pd.read_csv(mailout_train_file, sep=';')\n",
        "mailout_train = pd.read_csv(mailout_train_file, sep=';', na_values=na_tupl, parse_dates=['EINGEFUEGT_AM'])\n",
        "mailout_train.shape"
      ]
    },
    {
      "cell_type": "code",
      "execution_count": 128,
      "metadata": {
        "colab": {
          "base_uri": "https://localhost:8080/",
          "height": 567
        },
        "id": "3foim1ATUftm",
        "outputId": "559b4f84-be64-4409-8972-c7a9a2ac223a"
      },
      "outputs": [
        {
          "data": {
            "text/plain": [
              "<seaborn.axisgrid.PairGrid at 0x7fd613571f50>"
            ]
          },
          "execution_count": 128,
          "metadata": {},
          "output_type": "execute_result"
        },
        {
          "data": {
            "image/png": "[encoded data removed]",
            "text/plain": [
              "<Figure size 601.125x540 with 12 Axes>"
            ]
          },
          "metadata": {
            "needs_background": "light"
          },
          "output_type": "display_data"
        }
      ],
      "source": [
        "# sns.pairplot(mailout_train.iloc[:, -4:], hue='RESPONSE')"
      ]
    },
    {
      "cell_type": "code",
      "execution_count": 142,
      "metadata": {
        "colab": {
          "base_uri": "https://localhost:8080/"
        },
        "id": "8bInVqwF1Mr4",
        "outputId": "931faeb3-fc6c-4753-a1e4-61e5baf3e854"
      },
      "outputs": [
        {
          "data": {
            "text/plain": [
              "float64           321\n",
              "int64              42\n",
              "object              3\n",
              "datetime64[ns]      1\n",
              "dtype: int64"
            ]
          },
          "execution_count": 142,
          "metadata": {},
          "output_type": "execute_result"
        }
      ],
      "source": [
        "mailout_train.dtypes.value_counts()"
      ]
    },
    {
      "cell_type": "code",
      "execution_count": 129,
      "metadata": {
        "colab": {
          "base_uri": "https://localhost:8080/",
          "height": 253
        },
        "id": "U5-2fQfiyORa",
        "outputId": "4e8cb28d-f153-4815-c73e-5ad2d03cc8df"
      },
      "outputs": [
        {
          "data": {
            "text/html": [
              "<div>\n",
              "<style scoped>\n",
              "    .dataframe tbody tr th:only-of-type {\n",
              "        vertical-align: middle;\n",
              "    }\n",
              "\n",
              "    .dataframe tbody tr th {\n",
              "        vertical-align: top;\n",
              "    }\n",
              "\n",
              "    .dataframe thead th {\n",
              "        text-align: right;\n",
              "    }\n",
              "</style>\n",
              "<table border=\"1\" class=\"dataframe\">\n",
              "  <thead>\n",
              "    <tr style=\"text-align: right;\">\n",
              "      <th></th>\n",
              "      <th>LNR</th>\n",
              "      <th>AGER_TYP</th>\n",
              "      <th>AKT_DAT_KL</th>\n",
              "      <th>ALTER_HH</th>\n",
              "      <th>ALTER_KIND1</th>\n",
              "      <th>ALTER_KIND2</th>\n",
              "      <th>ALTER_KIND3</th>\n",
              "      <th>ALTER_KIND4</th>\n",
              "      <th>ALTERSKATEGORIE_FEIN</th>\n",
              "      <th>ANZ_HAUSHALTE_AKTIV</th>\n",
              "      <th>ANZ_HH_TITEL</th>\n",
              "      <th>ANZ_KINDER</th>\n",
              "      <th>ANZ_PERSONEN</th>\n",
              "      <th>ANZ_STATISTISCHE_HAUSHALTE</th>\n",
              "      <th>ANZ_TITEL</th>\n",
              "      <th>ARBEIT</th>\n",
              "      <th>BALLRAUM</th>\n",
              "      <th>CAMEO_DEU_2015</th>\n",
              "      <th>CAMEO_DEUG_2015</th>\n",
              "      <th>CAMEO_INTL_2015</th>\n",
              "      <th>CJT_GESAMTTYP</th>\n",
              "      <th>CJT_KATALOGNUTZER</th>\n",
              "      <th>CJT_TYP_1</th>\n",
              "      <th>CJT_TYP_2</th>\n",
              "      <th>CJT_TYP_3</th>\n",
              "      <th>CJT_TYP_4</th>\n",
              "      <th>CJT_TYP_5</th>\n",
              "      <th>CJT_TYP_6</th>\n",
              "      <th>D19_BANKEN_ANZ_12</th>\n",
              "      <th>D19_BANKEN_ANZ_24</th>\n",
              "      <th>D19_BANKEN_DATUM</th>\n",
              "      <th>D19_BANKEN_DIREKT</th>\n",
              "      <th>D19_BANKEN_GROSS</th>\n",
              "      <th>D19_BANKEN_LOKAL</th>\n",
              "      <th>D19_BANKEN_OFFLINE_DATUM</th>\n",
              "      <th>D19_BANKEN_ONLINE_DATUM</th>\n",
              "      <th>D19_BANKEN_ONLINE_QUOTE_12</th>\n",
              "      <th>D19_BANKEN_REST</th>\n",
              "      <th>D19_BEKLEIDUNG_GEH</th>\n",
              "      <th>D19_BEKLEIDUNG_REST</th>\n",
              "      <th>...</th>\n",
              "      <th>RELAT_AB</th>\n",
              "      <th>RETOURTYP_BK_S</th>\n",
              "      <th>RT_KEIN_ANREIZ</th>\n",
              "      <th>RT_SCHNAEPPCHEN</th>\n",
              "      <th>RT_UEBERGROESSE</th>\n",
              "      <th>SEMIO_DOM</th>\n",
              "      <th>SEMIO_ERL</th>\n",
              "      <th>SEMIO_FAM</th>\n",
              "      <th>SEMIO_KAEM</th>\n",
              "      <th>SEMIO_KRIT</th>\n",
              "      <th>SEMIO_KULT</th>\n",
              "      <th>SEMIO_LUST</th>\n",
              "      <th>SEMIO_MAT</th>\n",
              "      <th>SEMIO_PFLICHT</th>\n",
              "      <th>SEMIO_RAT</th>\n",
              "      <th>SEMIO_REL</th>\n",
              "      <th>SEMIO_SOZ</th>\n",
              "      <th>SEMIO_TRADV</th>\n",
              "      <th>SEMIO_VERT</th>\n",
              "      <th>SHOPPER_TYP</th>\n",
              "      <th>SOHO_KZ</th>\n",
              "      <th>STRUKTURTYP</th>\n",
              "      <th>TITEL_KZ</th>\n",
              "      <th>UMFELD_ALT</th>\n",
              "      <th>UMFELD_JUNG</th>\n",
              "      <th>UNGLEICHENN_FLAG</th>\n",
              "      <th>VERDICHTUNGSRAUM</th>\n",
              "      <th>VERS_TYP</th>\n",
              "      <th>VHA</th>\n",
              "      <th>VHN</th>\n",
              "      <th>VK_DHT4A</th>\n",
              "      <th>VK_DISTANZ</th>\n",
              "      <th>VK_ZG11</th>\n",
              "      <th>W_KEIT_KIND_HH</th>\n",
              "      <th>WOHNDAUER_2008</th>\n",
              "      <th>WOHNLAGE</th>\n",
              "      <th>ZABEOTYP</th>\n",
              "      <th>RESPONSE</th>\n",
              "      <th>ANREDE_KZ</th>\n",
              "      <th>ALTERSKATEGORIE_GROB</th>\n",
              "    </tr>\n",
              "  </thead>\n",
              "  <tbody>\n",
              "    <tr>\n",
              "      <th>0</th>\n",
              "      <td>1763</td>\n",
              "      <td>2.0</td>\n",
              "      <td>1.0</td>\n",
              "      <td>8.0</td>\n",
              "      <td>NaN</td>\n",
              "      <td>NaN</td>\n",
              "      <td>NaN</td>\n",
              "      <td>NaN</td>\n",
              "      <td>8.0</td>\n",
              "      <td>15.0</td>\n",
              "      <td>NaN</td>\n",
              "      <td>NaN</td>\n",
              "      <td>1.0</td>\n",
              "      <td>13.0</td>\n",
              "      <td>NaN</td>\n",
              "      <td>3.0</td>\n",
              "      <td>5.0</td>\n",
              "      <td>5D</td>\n",
              "      <td>5.0</td>\n",
              "      <td>34.0</td>\n",
              "      <td>2.0</td>\n",
              "      <td>5.0</td>\n",
              "      <td>2.0</td>\n",
              "      <td>2.0</td>\n",
              "      <td>5.0</td>\n",
              "      <td>5.0</td>\n",
              "      <td>5.0</td>\n",
              "      <td>5.0</td>\n",
              "      <td>NaN</td>\n",
              "      <td>NaN</td>\n",
              "      <td>10</td>\n",
              "      <td>NaN</td>\n",
              "      <td>NaN</td>\n",
              "      <td>NaN</td>\n",
              "      <td>10</td>\n",
              "      <td>10</td>\n",
              "      <td>NaN</td>\n",
              "      <td>NaN</td>\n",
              "      <td>NaN</td>\n",
              "      <td>NaN</td>\n",
              "      <td>...</td>\n",
              "      <td>5.0</td>\n",
              "      <td>5.0</td>\n",
              "      <td>2.0</td>\n",
              "      <td>5.0</td>\n",
              "      <td>1.0</td>\n",
              "      <td>6</td>\n",
              "      <td>7</td>\n",
              "      <td>2</td>\n",
              "      <td>6</td>\n",
              "      <td>6</td>\n",
              "      <td>1</td>\n",
              "      <td>7</td>\n",
              "      <td>1</td>\n",
              "      <td>3</td>\n",
              "      <td>2</td>\n",
              "      <td>1</td>\n",
              "      <td>5</td>\n",
              "      <td>1</td>\n",
              "      <td>3</td>\n",
              "      <td>3.0</td>\n",
              "      <td>NaN</td>\n",
              "      <td>3.0</td>\n",
              "      <td>NaN</td>\n",
              "      <td>2.0</td>\n",
              "      <td>4.0</td>\n",
              "      <td>NaN</td>\n",
              "      <td>4.0</td>\n",
              "      <td>2.0</td>\n",
              "      <td>1.0</td>\n",
              "      <td>2.0</td>\n",
              "      <td>5.0</td>\n",
              "      <td>2.0</td>\n",
              "      <td>1.0</td>\n",
              "      <td>6.0</td>\n",
              "      <td>9.0</td>\n",
              "      <td>3.0</td>\n",
              "      <td>3</td>\n",
              "      <td>NaN</td>\n",
              "      <td>2</td>\n",
              "      <td>4</td>\n",
              "    </tr>\n",
              "    <tr>\n",
              "      <th>1</th>\n",
              "      <td>1771</td>\n",
              "      <td>1.0</td>\n",
              "      <td>4.0</td>\n",
              "      <td>13.0</td>\n",
              "      <td>NaN</td>\n",
              "      <td>NaN</td>\n",
              "      <td>NaN</td>\n",
              "      <td>NaN</td>\n",
              "      <td>13.0</td>\n",
              "      <td>1.0</td>\n",
              "      <td>NaN</td>\n",
              "      <td>NaN</td>\n",
              "      <td>2.0</td>\n",
              "      <td>1.0</td>\n",
              "      <td>NaN</td>\n",
              "      <td>2.0</td>\n",
              "      <td>5.0</td>\n",
              "      <td>5B</td>\n",
              "      <td>5.0</td>\n",
              "      <td>32.0</td>\n",
              "      <td>2.0</td>\n",
              "      <td>2.0</td>\n",
              "      <td>2.0</td>\n",
              "      <td>2.0</td>\n",
              "      <td>4.0</td>\n",
              "      <td>3.0</td>\n",
              "      <td>5.0</td>\n",
              "      <td>4.0</td>\n",
              "      <td>1.0</td>\n",
              "      <td>1.0</td>\n",
              "      <td>5</td>\n",
              "      <td>NaN</td>\n",
              "      <td>NaN</td>\n",
              "      <td>3.0</td>\n",
              "      <td>10</td>\n",
              "      <td>10</td>\n",
              "      <td>NaN</td>\n",
              "      <td>NaN</td>\n",
              "      <td>NaN</td>\n",
              "      <td>6.0</td>\n",
              "      <td>...</td>\n",
              "      <td>1.0</td>\n",
              "      <td>2.0</td>\n",
              "      <td>3.0</td>\n",
              "      <td>1.0</td>\n",
              "      <td>3.0</td>\n",
              "      <td>6</td>\n",
              "      <td>6</td>\n",
              "      <td>1</td>\n",
              "      <td>5</td>\n",
              "      <td>6</td>\n",
              "      <td>3</td>\n",
              "      <td>6</td>\n",
              "      <td>5</td>\n",
              "      <td>5</td>\n",
              "      <td>4</td>\n",
              "      <td>3</td>\n",
              "      <td>1</td>\n",
              "      <td>3</td>\n",
              "      <td>4</td>\n",
              "      <td>2.0</td>\n",
              "      <td>NaN</td>\n",
              "      <td>1.0</td>\n",
              "      <td>NaN</td>\n",
              "      <td>2.0</td>\n",
              "      <td>5.0</td>\n",
              "      <td>NaN</td>\n",
              "      <td>NaN</td>\n",
              "      <td>1.0</td>\n",
              "      <td>1.0</td>\n",
              "      <td>3.0</td>\n",
              "      <td>1.0</td>\n",
              "      <td>2.0</td>\n",
              "      <td>1.0</td>\n",
              "      <td>4.0</td>\n",
              "      <td>9.0</td>\n",
              "      <td>7.0</td>\n",
              "      <td>1</td>\n",
              "      <td>NaN</td>\n",
              "      <td>2</td>\n",
              "      <td>3</td>\n",
              "    </tr>\n",
              "    <tr>\n",
              "      <th>2</th>\n",
              "      <td>1776</td>\n",
              "      <td>1.0</td>\n",
              "      <td>1.0</td>\n",
              "      <td>9.0</td>\n",
              "      <td>NaN</td>\n",
              "      <td>NaN</td>\n",
              "      <td>NaN</td>\n",
              "      <td>NaN</td>\n",
              "      <td>7.0</td>\n",
              "      <td>NaN</td>\n",
              "      <td>NaN</td>\n",
              "      <td>NaN</td>\n",
              "      <td>NaN</td>\n",
              "      <td>1.0</td>\n",
              "      <td>NaN</td>\n",
              "      <td>4.0</td>\n",
              "      <td>1.0</td>\n",
              "      <td>2D</td>\n",
              "      <td>2.0</td>\n",
              "      <td>14.0</td>\n",
              "      <td>4.0</td>\n",
              "      <td>5.0</td>\n",
              "      <td>1.0</td>\n",
              "      <td>1.0</td>\n",
              "      <td>5.0</td>\n",
              "      <td>5.0</td>\n",
              "      <td>5.0</td>\n",
              "      <td>5.0</td>\n",
              "      <td>NaN</td>\n",
              "      <td>1.0</td>\n",
              "      <td>7</td>\n",
              "      <td>NaN</td>\n",
              "      <td>NaN</td>\n",
              "      <td>NaN</td>\n",
              "      <td>10</td>\n",
              "      <td>7</td>\n",
              "      <td>NaN</td>\n",
              "      <td>5.0</td>\n",
              "      <td>NaN</td>\n",
              "      <td>NaN</td>\n",
              "      <td>...</td>\n",
              "      <td>4.0</td>\n",
              "      <td>3.0</td>\n",
              "      <td>1.0</td>\n",
              "      <td>5.0</td>\n",
              "      <td>2.0</td>\n",
              "      <td>3</td>\n",
              "      <td>3</td>\n",
              "      <td>4</td>\n",
              "      <td>1</td>\n",
              "      <td>3</td>\n",
              "      <td>4</td>\n",
              "      <td>7</td>\n",
              "      <td>6</td>\n",
              "      <td>1</td>\n",
              "      <td>1</td>\n",
              "      <td>5</td>\n",
              "      <td>3</td>\n",
              "      <td>1</td>\n",
              "      <td>7</td>\n",
              "      <td>3.0</td>\n",
              "      <td>NaN</td>\n",
              "      <td>3.0</td>\n",
              "      <td>NaN</td>\n",
              "      <td>1.0</td>\n",
              "      <td>5.0</td>\n",
              "      <td>NaN</td>\n",
              "      <td>10.0</td>\n",
              "      <td>1.0</td>\n",
              "      <td>4.0</td>\n",
              "      <td>1.0</td>\n",
              "      <td>6.0</td>\n",
              "      <td>4.0</td>\n",
              "      <td>2.0</td>\n",
              "      <td>NaN</td>\n",
              "      <td>9.0</td>\n",
              "      <td>2.0</td>\n",
              "      <td>3</td>\n",
              "      <td>NaN</td>\n",
              "      <td>1</td>\n",
              "      <td>4</td>\n",
              "    </tr>\n",
              "    <tr>\n",
              "      <th>3</th>\n",
              "      <td>1460</td>\n",
              "      <td>2.0</td>\n",
              "      <td>1.0</td>\n",
              "      <td>6.0</td>\n",
              "      <td>NaN</td>\n",
              "      <td>NaN</td>\n",
              "      <td>NaN</td>\n",
              "      <td>NaN</td>\n",
              "      <td>6.0</td>\n",
              "      <td>4.0</td>\n",
              "      <td>NaN</td>\n",
              "      <td>NaN</td>\n",
              "      <td>2.0</td>\n",
              "      <td>4.0</td>\n",
              "      <td>NaN</td>\n",
              "      <td>4.0</td>\n",
              "      <td>2.0</td>\n",
              "      <td>2D</td>\n",
              "      <td>2.0</td>\n",
              "      <td>14.0</td>\n",
              "      <td>2.0</td>\n",
              "      <td>5.0</td>\n",
              "      <td>2.0</td>\n",
              "      <td>2.0</td>\n",
              "      <td>5.0</td>\n",
              "      <td>5.0</td>\n",
              "      <td>5.0</td>\n",
              "      <td>4.0</td>\n",
              "      <td>NaN</td>\n",
              "      <td>NaN</td>\n",
              "      <td>10</td>\n",
              "      <td>NaN</td>\n",
              "      <td>NaN</td>\n",
              "      <td>NaN</td>\n",
              "      <td>10</td>\n",
              "      <td>10</td>\n",
              "      <td>NaN</td>\n",
              "      <td>NaN</td>\n",
              "      <td>NaN</td>\n",
              "      <td>6.0</td>\n",
              "      <td>...</td>\n",
              "      <td>3.0</td>\n",
              "      <td>5.0</td>\n",
              "      <td>2.0</td>\n",
              "      <td>5.0</td>\n",
              "      <td>1.0</td>\n",
              "      <td>5</td>\n",
              "      <td>7</td>\n",
              "      <td>1</td>\n",
              "      <td>6</td>\n",
              "      <td>7</td>\n",
              "      <td>1</td>\n",
              "      <td>7</td>\n",
              "      <td>1</td>\n",
              "      <td>4</td>\n",
              "      <td>2</td>\n",
              "      <td>2</td>\n",
              "      <td>5</td>\n",
              "      <td>3</td>\n",
              "      <td>2</td>\n",
              "      <td>1.0</td>\n",
              "      <td>NaN</td>\n",
              "      <td>3.0</td>\n",
              "      <td>NaN</td>\n",
              "      <td>3.0</td>\n",
              "      <td>5.0</td>\n",
              "      <td>NaN</td>\n",
              "      <td>5.0</td>\n",
              "      <td>2.0</td>\n",
              "      <td>1.0</td>\n",
              "      <td>4.0</td>\n",
              "      <td>8.0</td>\n",
              "      <td>11.0</td>\n",
              "      <td>11.0</td>\n",
              "      <td>6.0</td>\n",
              "      <td>9.0</td>\n",
              "      <td>1.0</td>\n",
              "      <td>3</td>\n",
              "      <td>NaN</td>\n",
              "      <td>2</td>\n",
              "      <td>4</td>\n",
              "    </tr>\n",
              "    <tr>\n",
              "      <th>4</th>\n",
              "      <td>1783</td>\n",
              "      <td>2.0</td>\n",
              "      <td>1.0</td>\n",
              "      <td>9.0</td>\n",
              "      <td>NaN</td>\n",
              "      <td>NaN</td>\n",
              "      <td>NaN</td>\n",
              "      <td>NaN</td>\n",
              "      <td>9.0</td>\n",
              "      <td>53.0</td>\n",
              "      <td>NaN</td>\n",
              "      <td>NaN</td>\n",
              "      <td>1.0</td>\n",
              "      <td>44.0</td>\n",
              "      <td>NaN</td>\n",
              "      <td>3.0</td>\n",
              "      <td>4.0</td>\n",
              "      <td>7B</td>\n",
              "      <td>7.0</td>\n",
              "      <td>41.0</td>\n",
              "      <td>6.0</td>\n",
              "      <td>5.0</td>\n",
              "      <td>1.0</td>\n",
              "      <td>2.0</td>\n",
              "      <td>5.0</td>\n",
              "      <td>5.0</td>\n",
              "      <td>5.0</td>\n",
              "      <td>5.0</td>\n",
              "      <td>NaN</td>\n",
              "      <td>NaN</td>\n",
              "      <td>10</td>\n",
              "      <td>NaN</td>\n",
              "      <td>NaN</td>\n",
              "      <td>NaN</td>\n",
              "      <td>10</td>\n",
              "      <td>10</td>\n",
              "      <td>NaN</td>\n",
              "      <td>NaN</td>\n",
              "      <td>5.0</td>\n",
              "      <td>NaN</td>\n",
              "      <td>...</td>\n",
              "      <td>3.0</td>\n",
              "      <td>5.0</td>\n",
              "      <td>1.0</td>\n",
              "      <td>5.0</td>\n",
              "      <td>1.0</td>\n",
              "      <td>5</td>\n",
              "      <td>4</td>\n",
              "      <td>6</td>\n",
              "      <td>2</td>\n",
              "      <td>5</td>\n",
              "      <td>5</td>\n",
              "      <td>6</td>\n",
              "      <td>6</td>\n",
              "      <td>4</td>\n",
              "      <td>5</td>\n",
              "      <td>4</td>\n",
              "      <td>6</td>\n",
              "      <td>2</td>\n",
              "      <td>7</td>\n",
              "      <td>1.0</td>\n",
              "      <td>NaN</td>\n",
              "      <td>3.0</td>\n",
              "      <td>NaN</td>\n",
              "      <td>2.0</td>\n",
              "      <td>5.0</td>\n",
              "      <td>NaN</td>\n",
              "      <td>4.0</td>\n",
              "      <td>1.0</td>\n",
              "      <td>NaN</td>\n",
              "      <td>4.0</td>\n",
              "      <td>2.0</td>\n",
              "      <td>2.0</td>\n",
              "      <td>1.0</td>\n",
              "      <td>6.0</td>\n",
              "      <td>9.0</td>\n",
              "      <td>3.0</td>\n",
              "      <td>3</td>\n",
              "      <td>NaN</td>\n",
              "      <td>1</td>\n",
              "      <td>3</td>\n",
              "    </tr>\n",
              "  </tbody>\n",
              "</table>\n",
              "<p>5 rows × 367 columns</p>\n",
              "</div>"
            ],
            "text/plain": [
              "    LNR  AGER_TYP  AKT_DAT_KL  ...  RESPONSE  ANREDE_KZ  ALTERSKATEGORIE_GROB\n",
              "0  1763       2.0         1.0  ...       NaN          2                     4\n",
              "1  1771       1.0         4.0  ...       NaN          2                     3\n",
              "2  1776       1.0         1.0  ...       NaN          1                     4\n",
              "3  1460       2.0         1.0  ...       NaN          2                     4\n",
              "4  1783       2.0         1.0  ...       NaN          1                     3\n",
              "\n",
              "[5 rows x 367 columns]"
            ]
          },
          "execution_count": 129,
          "metadata": {},
          "output_type": "execute_result"
        }
      ],
      "source": [
        "mailout_train.head()"
      ]
    },
    {
      "cell_type": "code",
      "execution_count": 154,
      "metadata": {
        "id": "ub9lBpldpX_L"
      },
      "outputs": [],
      "source": [
        "y = mailout_train['RESPONSE']\n",
        "X = mailout_train.drop(columns=['LNR', 'RESPONSE', 'EINGEFUEGT_AM'])"
      ]
    },
    {
      "cell_type": "code",
      "execution_count": 131,
      "metadata": {
        "colab": {
          "base_uri": "https://localhost:8080/"
        },
        "id": "3uy3vUZUbUG6",
        "outputId": "6d5fafcb-23ae-4175-ce2d-97205f0580aa"
      },
      "outputs": [
        {
          "data": {
            "text/plain": [
              "NaN    42430\n",
              "1.0      532\n",
              "Name: RESPONSE, dtype: int64"
            ]
          },
          "execution_count": 131,
          "metadata": {},
          "output_type": "execute_result"
        }
      ],
      "source": [
        "y.value_counts(dropna=False)"
      ]
    },
    {
      "cell_type": "markdown",
      "metadata": {
        "id": "guexXUC5wsnF"
      },
      "source": [
        "We see that there is a large class **imbalance** in the dataset. There are a lot of individuals that did not respond to the mail campaign."
      ]
    },
    {
      "cell_type": "code",
      "execution_count": 132,
      "metadata": {
        "colab": {
          "base_uri": "https://localhost:8080/",
          "height": 350
        },
        "id": "3a2Ii-_zqCmx",
        "outputId": "316c1750-be2e-49d1-bcc1-9ee79f3d0dee"
      },
      "outputs": [
        {
          "data": {
            "image/png": "[encoded data removed]",
            "text/plain": [
              "<Figure size 360x360 with 1 Axes>"
            ]
          },
          "metadata": {},
          "output_type": "display_data"
        }
      ],
      "source": [
        "with sns.axes_style(\"whitegrid\"):\n",
        "    plt.figure(figsize=(5,5))\n",
        "    ax1 = sns.countplot(x=y.fillna(-1))\n",
        "    ax1.set(xticks=range(2),\n",
        "            xticklabels=['Missing', 'Customers'],\n",
        "            title='Responses counts')"
      ]
    },
    {
      "cell_type": "code",
      "execution_count": 155,
      "metadata": {
        "colab": {
          "base_uri": "https://localhost:8080/"
        },
        "id": "EgutYuZM2u9p",
        "outputId": "b19499cc-829e-46cc-e6f9-e2a2368f953e"
      },
      "outputs": [
        {
          "name": "stdout",
          "output_type": "stream",
          "text": [
            "Total df NaNs portion:  0.3064\n",
            "Column NaNs:\n",
            "Average NaNs per column:  0.3064\n",
            "Max NaNs per column:  0.9991\n",
            "Min NaNs per column:  0.0\n",
            "Row NaNs:\n",
            "Average NaNs per row:  0.3064\n",
            "Max NaNs per row:  0.8462\n",
            "Min NaNs per row:  0.0714\n"
          ]
        },
        {
          "data": {
            "text/plain": [
              "(42962, 402)"
            ]
          },
          "execution_count": 155,
          "metadata": {},
          "output_type": "execute_result"
        }
      ],
      "source": [
        "X = wrangle_df(X, *wrangle_args)\n",
        "X = pd.get_dummies(X)\n",
        "\n",
        "X.shape"
      ]
    },
    {
      "cell_type": "markdown",
      "metadata": {
        "id": "rycrvhFAbUG6"
      },
      "source": [
        "## Part 3: Kaggle Competition\n",
        "\n",
        "Now that you've created a model to predict which individuals are most likely to respond to a mailout campaign, it's time to test that model in competition through Kaggle. If you click on the link [here](http://www.kaggle.com/t/21e6d45d4c574c7fa2d868f0e8c83140), you'll be taken to the competition page where, if you have a Kaggle account, you can enter.\n",
        "\n",
        "Your entry to the competition should be a CSV file with two columns. The first column should be a copy of \"LNR\", which acts as an ID number for each individual in the \"TEST\" partition. The second column, \"RESPONSE\", should be some measure of how likely each individual became a customer – this might not be a straightforward probability. As you should have found in Part 2, there is a large output class imbalance, where most individuals did not respond to the mailout. Thus, predicting individual classes and using accuracy does not seem to be an appropriate performance evaluation method. Instead, the competition will be using AUC to evaluate performance. The exact values of the \"RESPONSE\" column do not matter as much: only that the higher values try to capture as many of the actual customers as possible, early in the ROC curve sweep."
      ]
    },
    {
      "cell_type": "code",
      "execution_count": 180,
      "metadata": {
        "id": "SDhQXEzEHP-P"
      },
      "outputs": [],
      "source": [
        "def kaggle_submit(filename, message, competition, data):\n",
        "    \"\"\"Prepare data, export to csv file and submit to kaggle competition.\n",
        "    Args:\n",
        "        filename (srt): name of the csv file to submit and write to\n",
        "        message (srt): message related to submission\n",
        "        competition (srt): the name of kaggle competition to submit \n",
        "        data (pd.DataFrame): submission dataframe of the form e.g.\n",
        "        {\"LNR\": pd.Series, \"RESPONSE\": pd.Series}\n",
        "    Returns:\n",
        "        (str): Submission request response\n",
        "    \"\"\"\n",
        "    # kaggle competition: udacity-arvato-identify-customers\n",
        "    # Kaggle competition invitation: http://www.kaggle.com/t/21e6d45d4c574c7fa2d868f0e8c83140\n",
        "    kg_api = KaggleApi()\n",
        "    kg_api.authenticate()\n",
        "\n",
        "    data.to_csv(filename, index=False)\n",
        "\n",
        "    return kg_api.competition_submit(filename, message, competition)\n",
        "\n",
        "# kaggle_submit(kg_submission + \"lgbm_test.csv\", kg_competition, 'lgbm 1st submission', data)"
      ]
    },
    {
      "cell_type": "code",
      "execution_count": 165,
      "metadata": {
        "colab": {
          "base_uri": "https://localhost:8080/"
        },
        "id": "yuGsuMO6bUG6",
        "outputId": "648d7cbf-0f37-4a1c-c3b1-1fd39019de0d"
      },
      "outputs": [
        {
          "data": {
            "text/plain": [
              "(42833, 366)"
            ]
          },
          "execution_count": 165,
          "metadata": {},
          "output_type": "execute_result"
        }
      ],
      "source": [
        "#mailout_test = pd.read_csv(mailout_test_file, sep=';') \n",
        "mailout_test = pd.read_csv(mailout_test_file, sep=';', na_values=na_tupl, parse_dates=['EINGEFUEGT_AM'])\n",
        "mailout_test.shape"
      ]
    },
    {
      "cell_type": "code",
      "execution_count": 166,
      "metadata": {
        "colab": {
          "base_uri": "https://localhost:8080/"
        },
        "id": "lRS3VIPoKeDY",
        "outputId": "c5e8699e-de7e-453c-d41f-b52a141dd0cf"
      },
      "outputs": [
        {
          "data": {
            "text/plain": [
              "(42962, 366)"
            ]
          },
          "execution_count": 166,
          "metadata": {},
          "output_type": "execute_result"
        }
      ],
      "source": [
        "# Hold RESPONSE values separately\n",
        "target_mailout = mailout_train['RESPONSE'].fillna(-1)\n",
        "mailout_train.drop(columns=['RESPONSE'], inplace=True)\n",
        "\n",
        "mailout_train.shape"
      ]
    },
    {
      "cell_type": "code",
      "execution_count": 167,
      "metadata": {
        "colab": {
          "base_uri": "https://localhost:8080/"
        },
        "id": "3DLSx-CGQpxa",
        "outputId": "13a1f740-8ff1-4c4d-f796-ee20671fa27c"
      },
      "outputs": [
        {
          "name": "stdout",
          "output_type": "stream",
          "text": [
            "Total df NaNs portion:  0.3064\n",
            "Column NaNs:\n",
            "Average NaNs per column:  0.3064\n",
            "Max NaNs per column:  0.9991\n",
            "Min NaNs per column:  0.0\n",
            "Row NaNs:\n",
            "Average NaNs per row:  0.3064\n",
            "Max NaNs per row:  0.8462\n",
            "Min NaNs per row:  0.0714\n",
            "Total df NaNs portion:  0.3048\n",
            "Column NaNs:\n",
            "Average NaNs per column:  0.3048\n",
            "Max NaNs per column:  0.9991\n",
            "Min NaNs per column:  0.0\n",
            "Row NaNs:\n",
            "Average NaNs per row:  0.3048\n",
            "Max NaNs per row:  0.8599\n",
            "Min NaNs per row:  0.0742\n"
          ]
        }
      ],
      "source": [
        "# Clean - fix both datasets.\n",
        "mailout_train = wrangle_df(mailout_train, *wrangle_args)\n",
        "mailout_test = wrangle_df(mailout_test, *wrangle_args)\n",
        "\n",
        "mailout_train.shape, mailout_test.shape"
      ]
    },
    {
      "cell_type": "code",
      "execution_count": 169,
      "metadata": {
        "colab": {
          "base_uri": "https://localhost:8080/"
        },
        "id": "Ou2XknY6L40H",
        "outputId": "93b5d575-d343-4cdb-a36f-12784252701c"
      },
      "outputs": [
        {
          "data": {
            "text/plain": [
              "((42962, 374), (42833, 373))"
            ]
          },
          "execution_count": 169,
          "metadata": {},
          "output_type": "execute_result"
        }
      ],
      "source": [
        "# Put the RESPONSE column back in the train set.\n",
        "mailout_train = mailout_train.assign(RESPONSE=target_mailout.values)\n",
        "\n",
        "mailout_train.shape, mailout_test.shape"
      ]
    },
    {
      "cell_type": "code",
      "execution_count": 181,
      "metadata": {
        "colab": {
          "base_uri": "https://localhost:8080/"
        },
        "id": "dvlV7gj7RzoD",
        "outputId": "80a2fd06-dcb2-40ef-e031-d23805404b06"
      },
      "outputs": [
        {
          "data": {
            "text/plain": [
              "(False, True)"
            ]
          },
          "execution_count": 181,
          "metadata": {},
          "output_type": "execute_result"
        }
      ],
      "source": [
        "# Check there are no NaNs and no infinites\n",
        "np.any(np.isnan(mailout_test)), np.all(np.isfinite(mailout_test))"
      ]
    },
    {
      "cell_type": "code",
      "execution_count": 174,
      "metadata": {
        "colab": {
          "base_uri": "https://localhost:8080/"
        },
        "id": "iau2mjtvT16h",
        "outputId": "cd896ecf-1df2-4f60-e3ad-db06b044efec"
      },
      "outputs": [
        {
          "name": "stdout",
          "output_type": "stream",
          "text": [
            "\n",
            "Training Data Shape:  (42962, 372)\n",
            "Testing Data Shape:  (42833, 372)\n",
            "Creating KFold object\n",
            "\n",
            "Starting fold iterations\n",
            "-------------------------\n",
            "Training until validation scores don't improve for 100 rounds.\n",
            "Early stopping, best iteration is:\n",
            "[22]\ttrain's auc: 0.919237\ttrain's binary_logloss: 0.46447\ttest's auc: 0.73748\ttest's binary_logloss: 0.490246\n",
            "Training until validation scores don't improve for 100 rounds.\n",
            "Early stopping, best iteration is:\n",
            "[29]\ttrain's auc: 0.934931\ttrain's binary_logloss: 0.432102\ttest's auc: 0.762564\ttest's binary_logloss: 0.469827\n",
            "Training until validation scores don't improve for 100 rounds.\n",
            "Early stopping, best iteration is:\n",
            "[14]\ttrain's auc: 0.882147\ttrain's binary_logloss: 0.527281\ttest's auc: 0.785709\ttest's binary_logloss: 0.537272\n",
            "Training until validation scores don't improve for 100 rounds.\n",
            "Early stopping, best iteration is:\n",
            "[52]\ttrain's auc: 0.961309\ttrain's binary_logloss: 0.351395\ttest's auc: 0.76429\ttest's binary_logloss: 0.389077\n",
            "Training until validation scores don't improve for 100 rounds.\n",
            "Early stopping, best iteration is:\n",
            "[9]\ttrain's auc: 0.868793\ttrain's binary_logloss: 0.566164\ttest's auc: 0.757325\ttest's binary_logloss: 0.578581\n",
            "-------------------------\n",
            "Creating output\n"
          ]
        }
      ],
      "source": [
        "# Run the model\n",
        "submit_kg, attrib_imp_kg, metrics_kg = lgb_model([mailout_train, mailout_test])"
      ]
    },
    {
      "cell_type": "code",
      "execution_count": 175,
      "metadata": {
        "colab": {
          "base_uri": "https://localhost:8080/",
          "height": 235
        },
        "id": "fjxMsZF9iaR0",
        "outputId": "cfbd8ece-b987-45b4-a7ab-11cb0f744f5c"
      },
      "outputs": [
        {
          "data": {
            "text/html": [
              "<div>\n",
              "<style scoped>\n",
              "    .dataframe tbody tr th:only-of-type {\n",
              "        vertical-align: middle;\n",
              "    }\n",
              "\n",
              "    .dataframe tbody tr th {\n",
              "        vertical-align: top;\n",
              "    }\n",
              "\n",
              "    .dataframe thead th {\n",
              "        text-align: right;\n",
              "    }\n",
              "</style>\n",
              "<table border=\"1\" class=\"dataframe\">\n",
              "  <thead>\n",
              "    <tr style=\"text-align: right;\">\n",
              "      <th></th>\n",
              "      <th>fold</th>\n",
              "      <th>train</th>\n",
              "      <th>test</th>\n",
              "    </tr>\n",
              "  </thead>\n",
              "  <tbody>\n",
              "    <tr>\n",
              "      <th>0</th>\n",
              "      <td>0</td>\n",
              "      <td>0.919237</td>\n",
              "      <td>0.737480</td>\n",
              "    </tr>\n",
              "    <tr>\n",
              "      <th>1</th>\n",
              "      <td>1</td>\n",
              "      <td>0.934931</td>\n",
              "      <td>0.762564</td>\n",
              "    </tr>\n",
              "    <tr>\n",
              "      <th>2</th>\n",
              "      <td>2</td>\n",
              "      <td>0.882147</td>\n",
              "      <td>0.785709</td>\n",
              "    </tr>\n",
              "    <tr>\n",
              "      <th>3</th>\n",
              "      <td>3</td>\n",
              "      <td>0.961309</td>\n",
              "      <td>0.764290</td>\n",
              "    </tr>\n",
              "    <tr>\n",
              "      <th>4</th>\n",
              "      <td>4</td>\n",
              "      <td>0.868793</td>\n",
              "      <td>0.757325</td>\n",
              "    </tr>\n",
              "    <tr>\n",
              "      <th>5</th>\n",
              "      <td>overall</td>\n",
              "      <td>0.913284</td>\n",
              "      <td>0.757234</td>\n",
              "    </tr>\n",
              "  </tbody>\n",
              "</table>\n",
              "</div>"
            ],
            "text/plain": [
              "      fold     train      test\n",
              "0        0  0.919237  0.737480\n",
              "1        1  0.934931  0.762564\n",
              "2        2  0.882147  0.785709\n",
              "3        3  0.961309  0.764290\n",
              "4        4  0.868793  0.757325\n",
              "5  overall  0.913284  0.757234"
            ]
          },
          "execution_count": 175,
          "metadata": {},
          "output_type": "execute_result"
        }
      ],
      "source": [
        "metrics_kg"
      ]
    },
    {
      "cell_type": "code",
      "execution_count": 178,
      "metadata": {
        "colab": {
          "base_uri": "https://localhost:8080/",
          "height": 204
        },
        "id": "zRsjqFuDjOUV",
        "outputId": "76c69469-978d-48cb-ed2e-4a5599245e81"
      },
      "outputs": [
        {
          "data": {
            "text/html": [
              "<div>\n",
              "<style scoped>\n",
              "    .dataframe tbody tr th:only-of-type {\n",
              "        vertical-align: middle;\n",
              "    }\n",
              "\n",
              "    .dataframe tbody tr th {\n",
              "        vertical-align: top;\n",
              "    }\n",
              "\n",
              "    .dataframe thead th {\n",
              "        text-align: right;\n",
              "    }\n",
              "</style>\n",
              "<table border=\"1\" class=\"dataframe\">\n",
              "  <thead>\n",
              "    <tr style=\"text-align: right;\">\n",
              "      <th></th>\n",
              "      <th>feature</th>\n",
              "      <th>importance</th>\n",
              "    </tr>\n",
              "  </thead>\n",
              "  <tbody>\n",
              "    <tr>\n",
              "      <th>40</th>\n",
              "      <td>D19_SOZIALES</td>\n",
              "      <td>51.0</td>\n",
              "    </tr>\n",
              "    <tr>\n",
              "      <th>57</th>\n",
              "      <td>EINGEZOGENAM_HH_JAHR</td>\n",
              "      <td>21.6</td>\n",
              "    </tr>\n",
              "    <tr>\n",
              "      <th>137</th>\n",
              "      <td>KBA13_ALTERHALTER_30</td>\n",
              "      <td>13.8</td>\n",
              "    </tr>\n",
              "    <tr>\n",
              "      <th>145</th>\n",
              "      <td>KBA13_ANZAHL_PKW</td>\n",
              "      <td>11.4</td>\n",
              "    </tr>\n",
              "    <tr>\n",
              "      <th>70</th>\n",
              "      <td>GEBURTSJAHR</td>\n",
              "      <td>10.2</td>\n",
              "    </tr>\n",
              "  </tbody>\n",
              "</table>\n",
              "</div>"
            ],
            "text/plain": [
              "                  feature  importance\n",
              "40           D19_SOZIALES        51.0\n",
              "57   EINGEZOGENAM_HH_JAHR        21.6\n",
              "137  KBA13_ALTERHALTER_30        13.8\n",
              "145      KBA13_ANZAHL_PKW        11.4\n",
              "70            GEBURTSJAHR        10.2"
            ]
          },
          "execution_count": 178,
          "metadata": {},
          "output_type": "execute_result"
        }
      ],
      "source": [
        "attrib_imp_kg.sort_values(by='importance', ascending=False).head()"
      ]
    },
    {
      "cell_type": "code",
      "execution_count": 182,
      "metadata": {
        "colab": {
          "base_uri": "https://localhost:8080/",
          "height": 493
        },
        "id": "CeTpW-y_jHV6",
        "outputId": "a60b7e7e-ce55-466c-911b-3a3f06bec310"
      },
      "outputs": [
        {
          "ename": "ApiException",
          "evalue": "ignored",
          "output_type": "error",
          "traceback": [
            "\u001b[0;31m---------------------------------------------------------------------------\u001b[0m",
            "\u001b[0;31mApiException\u001b[0m                              Traceback (most recent call last)",
            "\u001b[0;32m<ipython-input-182-bb3ee4edac08>\u001b[0m in \u001b[0;36m<module>\u001b[0;34m()\u001b[0m\n\u001b[1;32m      1\u001b[0m \u001b[0;31m# Submit to Kaggle competition\u001b[0m\u001b[0;34m\u001b[0m\u001b[0;34m\u001b[0m\u001b[0;34m\u001b[0m\u001b[0m\n\u001b[1;32m      2\u001b[0m \u001b[0mmsg\u001b[0m \u001b[0;34m=\u001b[0m \u001b[0;34m'LightGBM [31 leaves, -1 depth] all mailout data'\u001b[0m\u001b[0;34m\u001b[0m\u001b[0;34m\u001b[0m\u001b[0m\n\u001b[0;32m----> 3\u001b[0;31m \u001b[0mkaggle_submit\u001b[0m\u001b[0;34m(\u001b[0m\u001b[0mkg_submission\u001b[0m \u001b[0;34m+\u001b[0m \u001b[0;34m\"lgbm_test.csv\"\u001b[0m\u001b[0;34m,\u001b[0m \u001b[0mkg_competition\u001b[0m\u001b[0;34m,\u001b[0m \u001b[0mmsg\u001b[0m\u001b[0;34m,\u001b[0m \u001b[0msubmit_kg\u001b[0m\u001b[0;34m)\u001b[0m\u001b[0;34m\u001b[0m\u001b[0;34m\u001b[0m\u001b[0m\n\u001b[0m",
            "\u001b[0;32m<ipython-input-180-4a43c7e8c26e>\u001b[0m in \u001b[0;36mkaggle_submit\u001b[0;34m(filename, message, competition, data)\u001b[0m\n\u001b[1;32m     18\u001b[0m     \u001b[0mdata\u001b[0m\u001b[0;34m.\u001b[0m\u001b[0mto_csv\u001b[0m\u001b[0;34m(\u001b[0m\u001b[0mfilename\u001b[0m\u001b[0;34m,\u001b[0m \u001b[0mindex\u001b[0m\u001b[0;34m=\u001b[0m\u001b[0;32mFalse\u001b[0m\u001b[0;34m)\u001b[0m\u001b[0;34m\u001b[0m\u001b[0;34m\u001b[0m\u001b[0m\n\u001b[1;32m     19\u001b[0m \u001b[0;34m\u001b[0m\u001b[0m\n\u001b[0;32m---> 20\u001b[0;31m     \u001b[0;32mreturn\u001b[0m \u001b[0mkg_api\u001b[0m\u001b[0;34m.\u001b[0m\u001b[0mcompetition_submit\u001b[0m\u001b[0;34m(\u001b[0m\u001b[0mfilename\u001b[0m\u001b[0;34m,\u001b[0m \u001b[0mmessage\u001b[0m\u001b[0;34m,\u001b[0m \u001b[0mcompetition\u001b[0m\u001b[0;34m)\u001b[0m\u001b[0;34m\u001b[0m\u001b[0;34m\u001b[0m\u001b[0m\n\u001b[0m\u001b[1;32m     21\u001b[0m \u001b[0;34m\u001b[0m\u001b[0m\n\u001b[1;32m     22\u001b[0m \u001b[0;31m# kaggle_submit(kg_submission + \"lgbm_test\", kg_competition, 'lgbm 1st submission', )\u001b[0m\u001b[0;34m\u001b[0m\u001b[0;34m\u001b[0m\u001b[0;34m\u001b[0m\u001b[0m\n",
            "\u001b[0;32m/usr/local/lib/python3.7/dist-packages/kaggle/api/kaggle_api_extended.py\u001b[0m in \u001b[0;36mcompetition_submit\u001b[0;34m(self, file_name, message, competition, quiet)\u001b[0m\n\u001b[1;32m    512\u001b[0m                     \u001b[0mfile_name\u001b[0m\u001b[0;34m=\u001b[0m\u001b[0mos\u001b[0m\u001b[0;34m.\u001b[0m\u001b[0mpath\u001b[0m\u001b[0;34m.\u001b[0m\u001b[0mbasename\u001b[0m\u001b[0;34m(\u001b[0m\u001b[0mfile_name\u001b[0m\u001b[0;34m)\u001b[0m\u001b[0;34m,\u001b[0m\u001b[0;34m\u001b[0m\u001b[0;34m\u001b[0m\u001b[0m\n\u001b[1;32m    513\u001b[0m                     \u001b[0mcontent_length\u001b[0m\u001b[0;34m=\u001b[0m\u001b[0mos\u001b[0m\u001b[0;34m.\u001b[0m\u001b[0mpath\u001b[0m\u001b[0;34m.\u001b[0m\u001b[0mgetsize\u001b[0m\u001b[0;34m(\u001b[0m\u001b[0mfile_name\u001b[0m\u001b[0;34m)\u001b[0m\u001b[0;34m,\u001b[0m\u001b[0;34m\u001b[0m\u001b[0;34m\u001b[0m\u001b[0m\n\u001b[0;32m--> 514\u001b[0;31m                     last_modified_date_utc=int(os.path.getmtime(file_name))))\n\u001b[0m\u001b[1;32m    515\u001b[0m \u001b[0;34m\u001b[0m\u001b[0m\n\u001b[1;32m    516\u001b[0m             \u001b[0;31m# Temporary while new worker is gradually turned on.  'isComplete'\u001b[0m\u001b[0;34m\u001b[0m\u001b[0;34m\u001b[0m\u001b[0;34m\u001b[0m\u001b[0m\n",
            "\u001b[0;32m/usr/local/lib/python3.7/dist-packages/kaggle/api/kaggle_api.py\u001b[0m in \u001b[0;36mcompetitions_submissions_url_with_http_info\u001b[0;34m(self, id, content_length, last_modified_date_utc, **kwargs)\u001b[0m\n\u001b[1;32m   1058\u001b[0m             \u001b[0m_preload_content\u001b[0m\u001b[0;34m=\u001b[0m\u001b[0mparams\u001b[0m\u001b[0;34m.\u001b[0m\u001b[0mget\u001b[0m\u001b[0;34m(\u001b[0m\u001b[0;34m'_preload_content'\u001b[0m\u001b[0;34m,\u001b[0m \u001b[0;32mTrue\u001b[0m\u001b[0;34m)\u001b[0m\u001b[0;34m,\u001b[0m\u001b[0;34m\u001b[0m\u001b[0;34m\u001b[0m\u001b[0m\n\u001b[1;32m   1059\u001b[0m             \u001b[0m_request_timeout\u001b[0m\u001b[0;34m=\u001b[0m\u001b[0mparams\u001b[0m\u001b[0;34m.\u001b[0m\u001b[0mget\u001b[0m\u001b[0;34m(\u001b[0m\u001b[0;34m'_request_timeout'\u001b[0m\u001b[0;34m)\u001b[0m\u001b[0;34m,\u001b[0m\u001b[0;34m\u001b[0m\u001b[0;34m\u001b[0m\u001b[0m\n\u001b[0;32m-> 1060\u001b[0;31m             collection_formats=collection_formats)\n\u001b[0m\u001b[1;32m   1061\u001b[0m \u001b[0;34m\u001b[0m\u001b[0m\n\u001b[1;32m   1062\u001b[0m     \u001b[0;32mdef\u001b[0m \u001b[0mdatasets_create_new\u001b[0m\u001b[0;34m(\u001b[0m\u001b[0mself\u001b[0m\u001b[0;34m,\u001b[0m \u001b[0mdataset_new_request\u001b[0m\u001b[0;34m,\u001b[0m \u001b[0;34m**\u001b[0m\u001b[0mkwargs\u001b[0m\u001b[0;34m)\u001b[0m\u001b[0;34m:\u001b[0m  \u001b[0;31m# noqa: E501\u001b[0m\u001b[0;34m\u001b[0m\u001b[0;34m\u001b[0m\u001b[0m\n",
            "\u001b[0;32m/usr/local/lib/python3.7/dist-packages/kaggle/api_client.py\u001b[0m in \u001b[0;36mcall_api\u001b[0;34m(self, resource_path, method, path_params, query_params, header_params, body, post_params, files, response_type, auth_settings, async_req, _return_http_data_only, collection_formats, _preload_content, _request_timeout)\u001b[0m\n\u001b[1;32m    332\u001b[0m                                    \u001b[0mresponse_type\u001b[0m\u001b[0;34m,\u001b[0m \u001b[0mauth_settings\u001b[0m\u001b[0;34m,\u001b[0m\u001b[0;34m\u001b[0m\u001b[0;34m\u001b[0m\u001b[0m\n\u001b[1;32m    333\u001b[0m                                    \u001b[0m_return_http_data_only\u001b[0m\u001b[0;34m,\u001b[0m \u001b[0mcollection_formats\u001b[0m\u001b[0;34m,\u001b[0m\u001b[0;34m\u001b[0m\u001b[0;34m\u001b[0m\u001b[0m\n\u001b[0;32m--> 334\u001b[0;31m                                    _preload_content, _request_timeout)\n\u001b[0m\u001b[1;32m    335\u001b[0m         \u001b[0;32melse\u001b[0m\u001b[0;34m:\u001b[0m\u001b[0;34m\u001b[0m\u001b[0;34m\u001b[0m\u001b[0m\n\u001b[1;32m    336\u001b[0m             thread = self.pool.apply_async(self.__call_api, (resource_path,\n",
            "\u001b[0;32m/usr/local/lib/python3.7/dist-packages/kaggle/api_client.py\u001b[0m in \u001b[0;36m__call_api\u001b[0;34m(self, resource_path, method, path_params, query_params, header_params, body, post_params, files, response_type, auth_settings, _return_http_data_only, collection_formats, _preload_content, _request_timeout)\u001b[0m\n\u001b[1;32m    163\u001b[0m             \u001b[0mpost_params\u001b[0m\u001b[0;34m=\u001b[0m\u001b[0mpost_params\u001b[0m\u001b[0;34m,\u001b[0m \u001b[0mbody\u001b[0m\u001b[0;34m=\u001b[0m\u001b[0mbody\u001b[0m\u001b[0;34m,\u001b[0m\u001b[0;34m\u001b[0m\u001b[0;34m\u001b[0m\u001b[0m\n\u001b[1;32m    164\u001b[0m             \u001b[0m_preload_content\u001b[0m\u001b[0;34m=\u001b[0m\u001b[0m_preload_content\u001b[0m\u001b[0;34m,\u001b[0m\u001b[0;34m\u001b[0m\u001b[0;34m\u001b[0m\u001b[0m\n\u001b[0;32m--> 165\u001b[0;31m             _request_timeout=_request_timeout)\n\u001b[0m\u001b[1;32m    166\u001b[0m \u001b[0;34m\u001b[0m\u001b[0m\n\u001b[1;32m    167\u001b[0m         \u001b[0mself\u001b[0m\u001b[0;34m.\u001b[0m\u001b[0mlast_response\u001b[0m \u001b[0;34m=\u001b[0m \u001b[0mresponse_data\u001b[0m\u001b[0;34m\u001b[0m\u001b[0;34m\u001b[0m\u001b[0m\n",
            "\u001b[0;32m/usr/local/lib/python3.7/dist-packages/kaggle/api_client.py\u001b[0m in \u001b[0;36mrequest\u001b[0;34m(self, method, url, query_params, headers, post_params, body, _preload_content, _request_timeout)\u001b[0m\n\u001b[1;32m    375\u001b[0m                                          \u001b[0m_preload_content\u001b[0m\u001b[0;34m=\u001b[0m\u001b[0m_preload_content\u001b[0m\u001b[0;34m,\u001b[0m\u001b[0;34m\u001b[0m\u001b[0;34m\u001b[0m\u001b[0m\n\u001b[1;32m    376\u001b[0m                                          \u001b[0m_request_timeout\u001b[0m\u001b[0;34m=\u001b[0m\u001b[0m_request_timeout\u001b[0m\u001b[0;34m,\u001b[0m\u001b[0;34m\u001b[0m\u001b[0;34m\u001b[0m\u001b[0m\n\u001b[0;32m--> 377\u001b[0;31m                                          body=body)\n\u001b[0m\u001b[1;32m    378\u001b[0m         \u001b[0;32melif\u001b[0m \u001b[0mmethod\u001b[0m \u001b[0;34m==\u001b[0m \u001b[0;34m\"PUT\"\u001b[0m\u001b[0;34m:\u001b[0m\u001b[0;34m\u001b[0m\u001b[0;34m\u001b[0m\u001b[0m\n\u001b[1;32m    379\u001b[0m             return self.rest_client.PUT(url,\n",
            "\u001b[0;32m/usr/local/lib/python3.7/dist-packages/kaggle/rest.py\u001b[0m in \u001b[0;36mPOST\u001b[0;34m(self, url, headers, query_params, post_params, body, _preload_content, _request_timeout)\u001b[0m\n\u001b[1;32m    286\u001b[0m                             \u001b[0m_preload_content\u001b[0m\u001b[0;34m=\u001b[0m\u001b[0m_preload_content\u001b[0m\u001b[0;34m,\u001b[0m\u001b[0;34m\u001b[0m\u001b[0;34m\u001b[0m\u001b[0m\n\u001b[1;32m    287\u001b[0m                             \u001b[0m_request_timeout\u001b[0m\u001b[0;34m=\u001b[0m\u001b[0m_request_timeout\u001b[0m\u001b[0;34m,\u001b[0m\u001b[0;34m\u001b[0m\u001b[0;34m\u001b[0m\u001b[0m\n\u001b[0;32m--> 288\u001b[0;31m                             body=body)\n\u001b[0m\u001b[1;32m    289\u001b[0m \u001b[0;34m\u001b[0m\u001b[0m\n\u001b[1;32m    290\u001b[0m     def PUT(self, url, headers=None, query_params=None, post_params=None,\n",
            "\u001b[0;32m/usr/local/lib/python3.7/dist-packages/kaggle/rest.py\u001b[0m in \u001b[0;36mrequest\u001b[0;34m(self, method, url, query_params, headers, body, post_params, _preload_content, _request_timeout)\u001b[0m\n\u001b[1;32m    239\u001b[0m \u001b[0;34m\u001b[0m\u001b[0m\n\u001b[1;32m    240\u001b[0m         \u001b[0;32mif\u001b[0m \u001b[0;32mnot\u001b[0m \u001b[0;36m200\u001b[0m \u001b[0;34m<=\u001b[0m \u001b[0mr\u001b[0m\u001b[0;34m.\u001b[0m\u001b[0mstatus\u001b[0m \u001b[0;34m<=\u001b[0m \u001b[0;36m299\u001b[0m\u001b[0;34m:\u001b[0m\u001b[0;34m\u001b[0m\u001b[0;34m\u001b[0m\u001b[0m\n\u001b[0;32m--> 241\u001b[0;31m             \u001b[0;32mraise\u001b[0m \u001b[0mApiException\u001b[0m\u001b[0;34m(\u001b[0m\u001b[0mhttp_resp\u001b[0m\u001b[0;34m=\u001b[0m\u001b[0mr\u001b[0m\u001b[0;34m)\u001b[0m\u001b[0;34m\u001b[0m\u001b[0;34m\u001b[0m\u001b[0m\n\u001b[0m\u001b[1;32m    242\u001b[0m \u001b[0;34m\u001b[0m\u001b[0m\n\u001b[1;32m    243\u001b[0m         \u001b[0;32mreturn\u001b[0m \u001b[0mr\u001b[0m\u001b[0;34m\u001b[0m\u001b[0;34m\u001b[0m\u001b[0m\n",
            "\u001b[0;31mApiException\u001b[0m: (404)\nReason: Not Found\nHTTP response headers: HTTPHeaderDict({'Date': 'Thu, 04 Nov 2021 09:43:40 GMT', 'Content-Type': 'application/json', 'Transfer-Encoding': 'chunked', 'Set-Cookie': 'ka_sessionid=117e211a949cbe8b58e28f7bd99d0622; max-age=2626560; path=/, GCLB=CJeHxcaaoIOJmAE; path=/; HttpOnly', 'Vary': 'Accept-Encoding', 'Access-Control-Allow-Credentials': 'true', 'Turbolinks-Location': 'https://www.kaggle.com/api/v1/competitions/LightGBM%20%5B31%20leaves,%20-1%20depth%5D%20all%20mailout%20data/submissions/url/1081560/1636019021', 'X-Kaggle-MillisecondsElapsed': '14', 'X-Kaggle-RequestId': '2161563eec6950725cde23c824fcaaf6', 'X-Kaggle-ApiVersion': '1.5.12', 'X-Frame-Options': 'SAMEORIGIN', 'Strict-Transport-Security': 'max-age=63072000; includeSubDomains; preload', 'Content-Security-Policy': \"object-src 'none'; script-src 'nonce-MkokslP2kAiytuWjk57QWw==' 'report-sample' 'unsafe-inline' 'unsafe-eval' 'strict-dynamic' https: http:; frame-src 'self' https://www.kaggleusercontent.com https://www.youtube.com/embed/ https://polygraph-cool.github.io https://www.google.com/recaptcha/ https://form.jotform.com https://submit.jotform.us https://submit.jotformpro.com https://submit.jotform.com https://www.docdroid.com https://www.docdroid.net https://kaggle-static.storage.googleapis.com https://kaggle-static-staging.storage.googleapis.com https://kkb-dev.jupyter-proxy.kaggle.net https://kkb-staging.jupyter-proxy.kaggle.net https://kkb-production.jupyter-proxy.kaggle.net https://kkb-dev.firebaseapp.com ht...\nHTTP response body: {\"code\":404,\"message\":\"Not found\"}\n"
          ]
        }
      ],
      "source": [
        "# Submit to Kaggle competition\n",
        "msg = 'LightGBM [31 leaves, -1 depth] all mailout data'\n",
        "kaggle_submit(kg_submission + \"lgbm_test.csv\", kg_competition, msg, submit_kg)"
      ]
    }
  ],
  "metadata": {
    "colab": {
      "collapsed_sections": [],
      "name": "Copy of Arvato Project Workbook.ipynb",
      "provenance": []
    },
    "interpreter": {
      "hash": "a7e01aac2c9bcb8fe1e7851228a633d1435a51d01cb4372225780e1a41da0658"
    },
    "kernelspec": {
      "display_name": "Python 3.8.10 64-bit ('dsenv': conda)",
      "name": "python3"
    },
    "language_info": {
      "codemirror_mode": {
        "name": "ipython",
        "version": 3
      },
      "file_extension": ".py",
      "mimetype": "text/x-python",
      "name": "python",
      "nbconvert_exporter": "python",
      "pygments_lexer": "ipython3",
      "version": "3.8.10"
    }
  },
  "nbformat": 4,
  "nbformat_minor": 0
}
